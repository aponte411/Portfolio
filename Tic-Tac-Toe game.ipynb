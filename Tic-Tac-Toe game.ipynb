{
 "cells": [
  {
   "cell_type": "markdown",
   "metadata": {},
   "source": [
    "## Tic-tac-toe"
   ]
  },
  {
   "cell_type": "code",
   "execution_count": 153,
   "metadata": {},
   "outputs": [],
   "source": [
    "\n",
    "\n",
    "def display_board(board):\n",
    "    \"\"\"\n",
    "    This function will continuously display the board.\n",
    "    The input is a list with a length of 10 and indexes\n",
    "    0-9.\n",
    "    \"\"\"\n",
    "    clear_output()  # Remember, this only works in jupyter!\n",
    "    \n",
    "    print('   |   |')\n",
    "    print(' ' + board[7] + ' | ' + board[8] + ' | ' + board[9])\n",
    "    print('   |   |')\n",
    "    print('-----------')\n",
    "    print('   |   |')\n",
    "    print(' ' + board[4] + ' | ' + board[5] + ' | ' + board[6])\n",
    "    print('   |   |')\n",
    "    print('-----------')\n",
    "    print('   |   |')\n",
    "    print(' ' + board[1] + ' | ' + board[2] + ' | ' + board[3])\n",
    "    print('   |   |')   "
   ]
  },
  {
   "cell_type": "code",
   "execution_count": 106,
   "metadata": {},
   "outputs": [
    {
     "name": "stdout",
     "output_type": "stream",
     "text": [
      "X | O | X\n",
      "  |   |\n",
      "  |   |\n",
      "--------\n",
      "O | X | O\n",
      "  |   |\n",
      "  |   |\n",
      "--------\n",
      "X | O | X\n",
      "  |   |\n",
      "  |   |\n"
     ]
    }
   ],
   "source": [
    "test_board = ['#','X','O','X','O','X','O','X','O','X']\n",
    "display_board(test_board)"
   ]
  },
  {
   "cell_type": "code",
   "execution_count": 107,
   "metadata": {},
   "outputs": [],
   "source": [
    "def player_input():\n",
    "    \n",
    "    \"\"\" \n",
    "    This function will assign marker values to each player.\n",
    "    \"\"\"\n",
    "    \n",
    "    marker = \"\"\n",
    "    \n",
    "    # keep asking player 1 to pick 'x' or 'o'\n",
    "    \n",
    "    while marker != \"X\" and marker != \"O\":\n",
    "        # player 1 is choosing X or O\n",
    "        \n",
    "        marker = input(\"Player 1, choose X or O: \").upper()\n",
    "        \n",
    "    player1 = marker\n",
    "    \n",
    "    if player1 == \"X\":\n",
    "        player2 = \"O\"\n",
    "    else:\n",
    "        player2 = \"X\"\n",
    "        \n",
    "    return (player1, player2)\n",
    "        "
   ]
  },
  {
   "cell_type": "code",
   "execution_count": 108,
   "metadata": {},
   "outputs": [
    {
     "name": "stdout",
     "output_type": "stream",
     "text": [
      "Player 1, choose X or O: x\n"
     ]
    }
   ],
   "source": [
    "player1_marker, player2_marker = player_input()\n"
   ]
  },
  {
   "cell_type": "code",
   "execution_count": 109,
   "metadata": {},
   "outputs": [
    {
     "data": {
      "text/plain": [
       "'X'"
      ]
     },
     "execution_count": 109,
     "metadata": {},
     "output_type": "execute_result"
    }
   ],
   "source": [
    "player1_marker"
   ]
  },
  {
   "cell_type": "code",
   "execution_count": 110,
   "metadata": {},
   "outputs": [
    {
     "data": {
      "text/plain": [
       "'O'"
      ]
     },
     "execution_count": 110,
     "metadata": {},
     "output_type": "execute_result"
    }
   ],
   "source": [
    "player2_marker"
   ]
  },
  {
   "cell_type": "code",
   "execution_count": 118,
   "metadata": {},
   "outputs": [],
   "source": [
    "def place_marker(board, marker, position):\n",
    "    \"\"\" \n",
    "    This function places the players mark on his/hers desired position.\n",
    "    \"\"\"\n",
    "    board[position] = marker"
   ]
  },
  {
   "cell_type": "code",
   "execution_count": 112,
   "metadata": {},
   "outputs": [
    {
     "name": "stdout",
     "output_type": "stream",
     "text": [
      "X | $ | X\n",
      "  |   |\n",
      "  |   |\n",
      "--------\n",
      "O | X | O\n",
      "  |   |\n",
      "  |   |\n",
      "--------\n",
      "X | O | X\n",
      "  |   |\n",
      "  |   |\n"
     ]
    }
   ],
   "source": [
    "place_marker(test_board,'$',8)\n",
    "display_board(test_board)"
   ]
  },
  {
   "cell_type": "code",
   "execution_count": 119,
   "metadata": {},
   "outputs": [],
   "source": [
    "def win_check(board, mark):\n",
    "    \"\"\"\n",
    "    This function will check all rows, columns, and 2 diagonals\n",
    "    to see if anyone won.\n",
    "    \"\"\"\n",
    "    # all rows\n",
    "    # all columns\n",
    "    # 2 diagonals\n",
    "    \n",
    "    return ((board[7] == board[8] == board[9] == mark) or\n",
    "    (board[4] == board[5] == board[6] == mark) or\n",
    "    (board[1] == board[2] == board[3] == mark) or\n",
    "    (board[1] == board[4] == board[7] == mark) or\n",
    "    (board[2] == board[5] == board[8] == mark) or\n",
    "    (board[3] == board[6] == board[9] == mark) or\n",
    "    (board[1] == board[5] == board[9] == mark) or\n",
    "    (board[3] == board[5] == board[7] == mark))\n",
    "    \n",
    "    "
   ]
  },
  {
   "cell_type": "code",
   "execution_count": 117,
   "metadata": {},
   "outputs": [
    {
     "data": {
      "text/plain": [
       "True"
      ]
     },
     "execution_count": 117,
     "metadata": {},
     "output_type": "execute_result"
    }
   ],
   "source": [
    "win_check(test_board,'X')"
   ]
  },
  {
   "cell_type": "code",
   "execution_count": 125,
   "metadata": {},
   "outputs": [],
   "source": [
    "import numpy as np\n",
    "\n",
    "def choose_first():\n",
    "    \"\"\"\n",
    "    This function chooses which player will go first.\n",
    "    \"\"\"\n",
    "    \n",
    "    player = np.random.randint(2)\n",
    "    \n",
    "    if player == 0:\n",
    "        return \"Player 1\"\n",
    "    else:\n",
    "        return \"Player 2\""
   ]
  },
  {
   "cell_type": "code",
   "execution_count": 126,
   "metadata": {},
   "outputs": [
    {
     "data": {
      "text/plain": [
       "'Player 1'"
      ]
     },
     "execution_count": 126,
     "metadata": {},
     "output_type": "execute_result"
    }
   ],
   "source": [
    "choose_first()"
   ]
  },
  {
   "cell_type": "code",
   "execution_count": 127,
   "metadata": {},
   "outputs": [
    {
     "data": {
      "text/plain": [
       "'Player 2'"
      ]
     },
     "execution_count": 127,
     "metadata": {},
     "output_type": "execute_result"
    }
   ],
   "source": [
    "choose_first()"
   ]
  },
  {
   "cell_type": "code",
   "execution_count": 142,
   "metadata": {},
   "outputs": [],
   "source": [
    "def empty_space(board, position):\n",
    "    \"\"\"\n",
    "    This function tests whether the desired position on the board\n",
    "    is empty or not. It returns a boolean value.\n",
    "    \"\"\"\n",
    "    return board[position] == \" \""
   ]
  },
  {
   "cell_type": "code",
   "execution_count": 157,
   "metadata": {},
   "outputs": [],
   "source": [
    "def full_board_check(board):\n",
    "    \"\"\"\n",
    "    This function tests whether or not the board is full.\n",
    "    \"\"\"\n",
    "    \n",
    "    for i in range(1,10):\n",
    "        if empty_space(board, i):\n",
    "            return False\n",
    "    return True\n",
    "    "
   ]
  },
  {
   "cell_type": "code",
   "execution_count": 146,
   "metadata": {},
   "outputs": [],
   "source": [
    "def player_choice(board):\n",
    "    \n",
    "    choice = 0\n",
    "    \n",
    "    while choice not in list(range(1,10)) or not empty_space(board, choice):\n",
    "        \n",
    "        choice = int(input(\"Choose a position on the board (1-9): \"))\n",
    "        \n",
    "    return choice"
   ]
  },
  {
   "cell_type": "code",
   "execution_count": 137,
   "metadata": {},
   "outputs": [],
   "source": [
    "def replay():\n",
    "    return input(\"Do you want to play again? Yes or no?: \").lower().startswith(\"y\")"
   ]
  },
  {
   "cell_type": "code",
   "execution_count": 138,
   "metadata": {},
   "outputs": [
    {
     "name": "stdout",
     "output_type": "stream",
     "text": [
      "Do you want to play again? Yes or no?: no\n"
     ]
    },
    {
     "data": {
      "text/plain": [
       "False"
      ]
     },
     "execution_count": 138,
     "metadata": {},
     "output_type": "execute_result"
    }
   ],
   "source": [
    "replay()"
   ]
  },
  {
   "cell_type": "code",
   "execution_count": 139,
   "metadata": {},
   "outputs": [
    {
     "name": "stdout",
     "output_type": "stream",
     "text": [
      "Do you want to play again? Yes or no?: yes\n"
     ]
    },
    {
     "data": {
      "text/plain": [
       "True"
      ]
     },
     "execution_count": 139,
     "metadata": {},
     "output_type": "execute_result"
    }
   ],
   "source": [
    "replay()\n"
   ]
  },
  {
   "cell_type": "code",
   "execution_count": 155,
   "metadata": {},
   "outputs": [
    {
     "name": "stdout",
     "output_type": "stream",
     "text": [
      "   |   |\n",
      "   |   |  \n",
      "   |   |\n",
      "-----------\n",
      "   |   |\n",
      "   |   |  \n",
      "   |   |\n",
      "-----------\n",
      "   |   |\n",
      "   |   |  \n",
      "   |   |\n"
     ]
    }
   ],
   "source": [
    "display_board([\" \"]*10)"
   ]
  },
  {
   "cell_type": "code",
   "execution_count": 164,
   "metadata": {},
   "outputs": [
    {
     "name": "stdout",
     "output_type": "stream",
     "text": [
      "   |   |\n",
      " X | X | O\n",
      "   |   |\n",
      "-----------\n",
      "   |   |\n",
      "   | X |  \n",
      "   |   |\n",
      "-----------\n",
      "   |   |\n",
      " O | X | O\n",
      "   |   |\n",
      "PLAYER 2 WON!\n",
      "Do you want to play again? Yes or no?: no\n"
     ]
    }
   ],
   "source": [
    "print('Welcome to Tic Tac Toe!')\n",
    "        \n",
    "while True: \n",
    "    # set up board using empty strings\n",
    "    the_board = [\" \"]*10\n",
    "    # players choose their markers\n",
    "    player1_marker, player2_marker = player_input()\n",
    "    # chooses who goes first\n",
    "    turn = choose_first()\n",
    "    print(turn + \" will go first\")\n",
    "    # ask if they're ready to play\n",
    "    ready = input(\"Are you ready to play? Yes or no: \").lower()\n",
    "    if ready == \"yes\":\n",
    "        game_on = True\n",
    "    else:\n",
    "        game_on = False\n",
    "    \n",
    "    # game play\n",
    "    while game_on:\n",
    "        \n",
    "        if turn == \"Player 1\":\n",
    "            # player 1 play\n",
    "            # display the board\n",
    "            display_board(the_board)\n",
    "            \n",
    "            # player 1 chooses position\n",
    "            choice = player_choice(the_board)\n",
    "            \n",
    "            # place marker\n",
    "            place_marker(the_board, player1_marker, choice)\n",
    "            \n",
    "            # check if they won\n",
    "            if win_check(the_board, player1_marker):\n",
    "                display_board(the_board)\n",
    "                print(\"PLAYER 1 WON!\")\n",
    "                game_on = False\n",
    "            \n",
    "            # check if theres a tie\n",
    "            else: \n",
    "                if full_board_check(the_board): \n",
    "                    display_board(the_board)\n",
    "                    print(\"IT'S A TIE!\")\n",
    "                    break\n",
    "                # if no tie, or no win? pass to player 2\n",
    "                else: \n",
    "                    turn = \"Player 2\"\n",
    "        else:\n",
    "            # player 2 play\n",
    "            # display the board\n",
    "            display_board(the_board)\n",
    "            # player 2 chooses position\n",
    "            choice = player_choice(the_board)\n",
    "            # place marker\n",
    "            place_marker(the_board, player2_marker, choice)\n",
    "            \n",
    "            # check if they won\n",
    "            if win_check(the_board, player2_marker):\n",
    "                display_board(the_board)\n",
    "                print(\"PLAYER 2 WON!\")\n",
    "                game_on = False\n",
    "            \n",
    "            # check if theres a tie\n",
    "            else: \n",
    "                if full_board_check(the_board): \n",
    "                    display_board(the_board)\n",
    "                    print(\"IT'S A TIE!\")\n",
    "                    break\n",
    "                else: \n",
    "                    turn = \"Player 1\"\n",
    "            \n",
    "    \n",
    "    if not replay():\n",
    "        break "
   ]
  }
 ],
 "metadata": {
  "kernelspec": {
   "display_name": "Python 3",
   "language": "python",
   "name": "python3"
  },
  "language_info": {
   "codemirror_mode": {
    "name": "ipython",
    "version": 3
   },
   "file_extension": ".py",
   "mimetype": "text/x-python",
   "name": "python",
   "nbconvert_exporter": "python",
   "pygments_lexer": "ipython3",
   "version": "3.6.5"
  }
 },
 "nbformat": 4,
 "nbformat_minor": 1
}
