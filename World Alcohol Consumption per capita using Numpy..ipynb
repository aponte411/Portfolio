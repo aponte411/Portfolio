{
 "cells": [
  {
   "cell_type": "code",
   "execution_count": 89,
   "metadata": {},
   "outputs": [
    {
     "data": {
      "text/plain": [
       "[['Year', 'WHO region', 'Country', 'Beverage Types', 'Display Value'],\n",
       " ['1986', 'Western Pacific', 'Viet Nam', 'Wine', '0'],\n",
       " ['1986', 'Americas', 'Uruguay', 'Other', '0.5'],\n",
       " ['1985', 'Africa', \"Cte d'Ivoire\", 'Wine', '1.62'],\n",
       " ['1986', 'Americas', 'Colombia', 'Beer', '4.27']]"
      ]
     },
     "execution_count": 89,
     "metadata": {},
     "output_type": "execute_result"
    }
   ],
   "source": [
    "import csv\n",
    "f = open(\"world_alcohol.csv\", \"r\")\n",
    "data = list(csv.reader(f))\n",
    "data[:5]"
   ]
  },
  {
   "cell_type": "code",
   "execution_count": 90,
   "metadata": {},
   "outputs": [
    {
     "data": {
      "text/plain": [
       "['Year', 'WHO region', 'Country', 'Beverage Types', 'Display Value']"
      ]
     },
     "execution_count": 90,
     "metadata": {},
     "output_type": "execute_result"
    }
   ],
   "source": [
    "data[0]"
   ]
  },
  {
   "cell_type": "markdown",
   "metadata": {},
   "source": [
    "Each row specifies how many liters of a type of alcohol each citizen of a country drank in a given year. The first row shows how many liters of wine an average person in Vietnam drank in 1986. We have columns for:\n",
    "- year\n",
    "- 'WHO' region (the region in which the country is located)\n",
    "- country\n",
    "- beverage types (the type of beverage the data is for - e.g. 'Wine')\n",
    "- display value (the number of liters, on average, of the beverage type a citizen of the country drank in the given year)"
   ]
  },
  {
   "cell_type": "code",
   "execution_count": 91,
   "metadata": {},
   "outputs": [
    {
     "data": {
      "text/plain": [
       "{'1984', '1985', '1986', '1987', '1989', 'Year'}"
      ]
     },
     "execution_count": 91,
     "metadata": {},
     "output_type": "execute_result"
    }
   ],
   "source": [
    "years = [a[0] for a in data]\n",
    "years_set = set(years)\n",
    "years_set"
   ]
  },
  {
   "cell_type": "markdown",
   "metadata": {},
   "source": [
    "Were looking at alcohol consumption per capita between the years 1986 and 1989."
   ]
  },
  {
   "cell_type": "code",
   "execution_count": 92,
   "metadata": {
    "scrolled": true
   },
   "outputs": [
    {
     "data": {
      "text/plain": [
       "{'Africa',\n",
       " 'Americas',\n",
       " 'Eastern Mediterranean',\n",
       " 'Europe',\n",
       " 'South-East Asia',\n",
       " 'WHO region',\n",
       " 'Western Pacific'}"
      ]
     },
     "execution_count": 92,
     "metadata": {},
     "output_type": "execute_result"
    }
   ],
   "source": [
    "who_regions = [a[1] for a in data]\n",
    "who_regions_set = set(who_regions)\n",
    "who_regions_set"
   ]
  },
  {
   "cell_type": "markdown",
   "metadata": {},
   "source": [
    "In 6 different regions."
   ]
  },
  {
   "cell_type": "code",
   "execution_count": 93,
   "metadata": {},
   "outputs": [
    {
     "data": {
      "text/plain": [
       "{'Afghanistan',\n",
       " 'Albania',\n",
       " 'Algeria',\n",
       " 'Angola',\n",
       " 'Antigua and Barbuda',\n",
       " 'Argentina',\n",
       " 'Australia',\n",
       " 'Austria',\n",
       " 'Bahamas',\n",
       " 'Bahrain',\n",
       " 'Bangladesh',\n",
       " 'Belarus',\n",
       " 'Belgium',\n",
       " 'Belize',\n",
       " 'Benin',\n",
       " 'Bhutan',\n",
       " 'Bolivia (Plurinational State of)',\n",
       " 'Botswana',\n",
       " 'Brazil',\n",
       " 'Brunei Darussalam',\n",
       " 'Bulgaria',\n",
       " 'Burkina Faso',\n",
       " 'Burundi',\n",
       " 'Cabo Verde',\n",
       " 'Cambodia',\n",
       " 'Cameroon',\n",
       " 'Canada',\n",
       " 'Central African Republic',\n",
       " 'Chad',\n",
       " 'Chile',\n",
       " 'China',\n",
       " 'Colombia',\n",
       " 'Comoros',\n",
       " 'Congo',\n",
       " 'Costa Rica',\n",
       " 'Country',\n",
       " 'Croatia',\n",
       " \"Cte d'Ivoire\",\n",
       " 'Cuba',\n",
       " 'Cyprus',\n",
       " 'Czech Republic',\n",
       " \"Democratic People's Republic of Korea\",\n",
       " 'Democratic Republic of the Congo',\n",
       " 'Denmark',\n",
       " 'Djibouti',\n",
       " 'Dominican Republic',\n",
       " 'Ecuador',\n",
       " 'Egypt',\n",
       " 'El Salvador',\n",
       " 'Equatorial Guinea',\n",
       " 'Eritrea',\n",
       " 'Ethiopia',\n",
       " 'Fiji',\n",
       " 'Finland',\n",
       " 'France',\n",
       " 'Gabon',\n",
       " 'Gambia',\n",
       " 'Germany',\n",
       " 'Ghana',\n",
       " 'Greece',\n",
       " 'Guatemala',\n",
       " 'Guinea',\n",
       " 'Guinea-Bissau',\n",
       " 'Guyana',\n",
       " 'Haiti',\n",
       " 'Honduras',\n",
       " 'Hungary',\n",
       " 'Iceland',\n",
       " 'India',\n",
       " 'Indonesia',\n",
       " 'Iran (Islamic Republic of)',\n",
       " 'Iraq',\n",
       " 'Ireland',\n",
       " 'Israel',\n",
       " 'Italy',\n",
       " 'Jamaica',\n",
       " 'Japan',\n",
       " 'Jordan',\n",
       " 'Kenya',\n",
       " 'Kiribati',\n",
       " 'Kuwait',\n",
       " 'Kyrgyzstan',\n",
       " \"Lao People's Democratic Republic\",\n",
       " 'Latvia',\n",
       " 'Lebanon',\n",
       " 'Lesotho',\n",
       " 'Liberia',\n",
       " 'Libya',\n",
       " 'Lithuania',\n",
       " 'Luxembourg',\n",
       " 'Madagascar',\n",
       " 'Malawi',\n",
       " 'Malaysia',\n",
       " 'Mali',\n",
       " 'Malta',\n",
       " 'Mauritania',\n",
       " 'Mauritius',\n",
       " 'Mexico',\n",
       " 'Micronesia (Federated States of)',\n",
       " 'Mongolia',\n",
       " 'Morocco',\n",
       " 'Mozambique',\n",
       " 'Myanmar',\n",
       " 'Namibia',\n",
       " 'Nepal',\n",
       " 'Netherlands',\n",
       " 'New Zealand',\n",
       " 'Nicaragua',\n",
       " 'Niger',\n",
       " 'Nigeria',\n",
       " 'Norway',\n",
       " 'Oman',\n",
       " 'Pakistan',\n",
       " 'Panama',\n",
       " 'Papua New Guinea',\n",
       " 'Paraguay',\n",
       " 'Peru',\n",
       " 'Philippines',\n",
       " 'Poland',\n",
       " 'Portugal',\n",
       " 'Qatar',\n",
       " 'Republic of Korea',\n",
       " 'Romania',\n",
       " 'Russian Federation',\n",
       " 'Rwanda',\n",
       " 'Saint Kitts and Nevis',\n",
       " 'Saint Lucia',\n",
       " 'Samoa',\n",
       " 'Sao Tome and Principe',\n",
       " 'Saudi Arabia',\n",
       " 'Senegal',\n",
       " 'Seychelles',\n",
       " 'Sierra Leone',\n",
       " 'Singapore',\n",
       " 'Slovakia',\n",
       " 'Slovenia',\n",
       " 'Solomon Islands',\n",
       " 'Somalia',\n",
       " 'South Africa',\n",
       " 'Spain',\n",
       " 'Sri Lanka',\n",
       " 'Sudan',\n",
       " 'Suriname',\n",
       " 'Swaziland',\n",
       " 'Sweden',\n",
       " 'Switzerland',\n",
       " 'Syrian Arab Republic',\n",
       " 'Thailand',\n",
       " 'Togo',\n",
       " 'Trinidad and Tobago',\n",
       " 'Tunisia',\n",
       " 'Turkey',\n",
       " 'Uganda',\n",
       " 'Ukraine',\n",
       " 'United Arab Emirates',\n",
       " 'United Kingdom of Great Britain and Northern Ireland',\n",
       " 'United Republic of Tanzania',\n",
       " 'United States of America',\n",
       " 'Uruguay',\n",
       " 'Vanuatu',\n",
       " 'Venezuela (Bolivarian Republic of)',\n",
       " 'Viet Nam',\n",
       " 'Yemen',\n",
       " 'Zambia',\n",
       " 'Zimbabwe'}"
      ]
     },
     "execution_count": 93,
     "metadata": {},
     "output_type": "execute_result"
    }
   ],
   "source": [
    "countries = [a[2] for a in data]\n",
    "countries_set = set(countries)\n",
    "countries_set"
   ]
  },
  {
   "cell_type": "markdown",
   "metadata": {},
   "source": [
    "In 165 countries."
   ]
  },
  {
   "cell_type": "code",
   "execution_count": 94,
   "metadata": {},
   "outputs": [
    {
     "data": {
      "text/plain": [
       "{'Beer', 'Beverage Types', 'Other', 'Spirits', 'Wine'}"
      ]
     },
     "execution_count": 94,
     "metadata": {},
     "output_type": "execute_result"
    }
   ],
   "source": [
    "beverages = [a[3] for a in data]\n",
    "beverages_set = set(beverages)\n",
    "beverages_set"
   ]
  },
  {
   "cell_type": "markdown",
   "metadata": {},
   "source": [
    "Looking at 4 different beverage types."
   ]
  },
  {
   "cell_type": "code",
   "execution_count": 95,
   "metadata": {},
   "outputs": [
    {
     "name": "stdout",
     "output_type": "stream",
     "text": [
      "[['1986' 'Western Pacific' 'Viet Nam' 'Wine' '0']\n",
      " ['1986' 'Americas' 'Uruguay' 'Other' '0.5']\n",
      " ['1985' 'Africa' \"Cte d'Ivoire\" 'Wine' '1.62']\n",
      " ...\n",
      " ['1986' 'Europe' 'Switzerland' 'Spirits' '2.54']\n",
      " ['1987' 'Western Pacific' 'Papua New Guinea' 'Other' '0']\n",
      " ['1986' 'Africa' 'Swaziland' 'Other' '5.15']]\n"
     ]
    }
   ],
   "source": [
    "import numpy as np\n",
    "world_alcohol = np.genfromtxt(\"world_alcohol.csv\", delimiter=\",\", dtype=\"U75\", skip_header=1)\n",
    "print(world_alcohol)"
   ]
  },
  {
   "cell_type": "markdown",
   "metadata": {},
   "source": [
    "My first question is, what is the average alcohol consumption in liters? I can take the average of the 'display value' column, which specifies how many liters of a type of alcohol the average citizen, of a particular country, drank in a given year."
   ]
  },
  {
   "cell_type": "code",
   "execution_count": 96,
   "metadata": {
    "scrolled": false
   },
   "outputs": [],
   "source": [
    "# I first need to deal with some empty values in the alcohol_consumption column by relacing '' with 0, and then converting it to a float (integer)\n",
    "is_value_empty= world_alcohol[:,4] == ''\n",
    "world_alcohol[is_value_empty, 4] = 0"
   ]
  },
  {
   "cell_type": "code",
   "execution_count": 97,
   "metadata": {},
   "outputs": [],
   "source": [
    "# Converting alcohol_consumption column to float type. \n",
    "alcohol_comsumption = world_alcohol[:,4]\n",
    "alcohol_consumption = alcohol_comsumption.astype(float)"
   ]
  },
  {
   "cell_type": "code",
   "execution_count": 115,
   "metadata": {},
   "outputs": [
    {
     "data": {
      "text/plain": [
       "1.2001719373656738"
      ]
     },
     "execution_count": 115,
     "metadata": {},
     "output_type": "execute_result"
    }
   ],
   "source": [
    "average_consumption = np.mean(alcohol_consumption)\n",
    "average_consumption"
   ]
  },
  {
   "cell_type": "code",
   "execution_count": 116,
   "metadata": {},
   "outputs": [
    {
     "data": {
      "text/plain": [
       "0.21"
      ]
     },
     "execution_count": 116,
     "metadata": {},
     "output_type": "execute_result"
    }
   ],
   "source": [
    "median_consumption = np.median(alcohol_consumption)\n",
    "median_consumption"
   ]
  },
  {
   "cell_type": "code",
   "execution_count": 99,
   "metadata": {},
   "outputs": [
    {
     "data": {
      "text/plain": [
       "3908.96"
      ]
     },
     "execution_count": 99,
     "metadata": {},
     "output_type": "execute_result"
    }
   ],
   "source": [
    "total_consumption = alcohol_consumption.sum()\n",
    "total_consumption"
   ]
  },
  {
   "cell_type": "code",
   "execution_count": 100,
   "metadata": {},
   "outputs": [],
   "source": [
    "min_consumption = alcohol_consumption.min()\n",
    "max_consumption = alcohol_consumption.max()\n",
    "std_consumption = alcohol_consumption.std()"
   ]
  },
  {
   "cell_type": "code",
   "execution_count": 101,
   "metadata": {},
   "outputs": [
    {
     "data": {
      "text/plain": [
       "0.0"
      ]
     },
     "execution_count": 101,
     "metadata": {},
     "output_type": "execute_result"
    }
   ],
   "source": [
    "min_consumption"
   ]
  },
  {
   "cell_type": "code",
   "execution_count": 102,
   "metadata": {},
   "outputs": [
    {
     "data": {
      "text/plain": [
       "13.5"
      ]
     },
     "execution_count": 102,
     "metadata": {},
     "output_type": "execute_result"
    }
   ],
   "source": [
    "max_consumption"
   ]
  },
  {
   "cell_type": "code",
   "execution_count": 103,
   "metadata": {},
   "outputs": [
    {
     "data": {
      "text/plain": [
       "1.923231141558637"
      ]
     },
     "execution_count": 103,
     "metadata": {},
     "output_type": "execute_result"
    }
   ],
   "source": [
    "std_consumption"
   ]
  },
  {
   "cell_type": "raw",
   "metadata": {},
   "source": [
    "The average consumption is 1.2 liters."
   ]
  },
  {
   "cell_type": "markdown",
   "metadata": {},
   "source": [
    "How much did the USA drink in 1986?"
   ]
  },
  {
   "cell_type": "code",
   "execution_count": 104,
   "metadata": {},
   "outputs": [
    {
     "data": {
      "text/plain": [
       "9.73"
      ]
     },
     "execution_count": 104,
     "metadata": {},
     "output_type": "execute_result"
    }
   ],
   "source": [
    "is_usa_1986 = (world_alcohol[:,0] == '1986') & (world_alcohol[:,2] == 'United States of America')\n",
    "usa_1986 = world_alcohol[is_usa_1986, :]\n",
    "usa_alcohol = usa_1986[:,4]\n",
    "missing_string = usa_alcohol == ''\n",
    "usa_alcohol[missing_string] = '0'\n",
    "usa_alcohol = usa_alcohol.astype(float)\n",
    "total_usa_drinking = usa_alcohol.sum()\n",
    "total_usa_drinking"
   ]
  },
  {
   "cell_type": "markdown",
   "metadata": {},
   "source": [
    "In 1986, the average citizen of the United States of America drank 9.73 total liters of alcohol. "
   ]
  },
  {
   "cell_type": "markdown",
   "metadata": {},
   "source": [
    "Now I want to calculate the total consumption of each of the countries in a given year - starting with 1989. "
   ]
  },
  {
   "cell_type": "code",
   "execution_count": 105,
   "metadata": {},
   "outputs": [
    {
     "data": {
      "text/plain": [
       "{'Afghanistan': 0.0,\n",
       " 'Albania': 1.73,\n",
       " 'Algeria': 0.4,\n",
       " 'Angola': 2.28,\n",
       " 'Antigua and Barbuda': 4.69,\n",
       " 'Argentina': 10.82,\n",
       " 'Australia': 12.09,\n",
       " 'Austria': 13.9,\n",
       " 'Bahamas': 12.290000000000001,\n",
       " 'Bahrain': 4.89,\n",
       " 'Bangladesh': 0.0,\n",
       " 'Belarus': 7.9799999999999995,\n",
       " 'Belgium': 11.61,\n",
       " 'Belize': 0.0,\n",
       " 'Benin': 1.3800000000000001,\n",
       " 'Bhutan': 0.31,\n",
       " 'Bolivia (Plurinational State of)': 3.05,\n",
       " 'Botswana': 4.63,\n",
       " 'Brazil': 5.52,\n",
       " 'Brunei Darussalam': 2.7800000000000002,\n",
       " 'Bulgaria': 11.43,\n",
       " 'Burkina Faso': 3.99,\n",
       " 'Burundi': 8.159999999999998,\n",
       " 'Cabo Verde': 2.79,\n",
       " 'Cambodia': 0.33,\n",
       " 'Cameroon': 6.359999999999999,\n",
       " 'Canada': 9.0,\n",
       " 'Central African Republic': 2.5199999999999996,\n",
       " 'Chad': 0.30000000000000004,\n",
       " 'Chile': 8.649999999999999,\n",
       " 'China': 3.33,\n",
       " 'Colombia': 6.960000000000001,\n",
       " 'Comoros': 0.10999999999999999,\n",
       " 'Congo': 3.1500000000000004,\n",
       " 'Costa Rica': 5.3999999999999995,\n",
       " 'Country': 0.0,\n",
       " 'Croatia': 10.92,\n",
       " \"Cte d'Ivoire\": 2.2,\n",
       " 'Cuba': 4.37,\n",
       " 'Cyprus': 9.29,\n",
       " 'Czech Republic': 13.009999999999998,\n",
       " \"Democratic People's Republic of Korea\": 3.6799999999999997,\n",
       " 'Democratic Republic of the Congo': 1.92,\n",
       " 'Denmark': 11.649999999999999,\n",
       " 'Djibouti': 0.87,\n",
       " 'Dominican Republic': 4.53,\n",
       " 'Ecuador': 2.54,\n",
       " 'Egypt': 0.42000000000000004,\n",
       " 'El Salvador': 1.77,\n",
       " 'Equatorial Guinea': 6.49,\n",
       " 'Eritrea': 0.29,\n",
       " 'Ethiopia': 0.8600000000000001,\n",
       " 'Fiji': 1.9600000000000002,\n",
       " 'Finland': 9.419999999999998,\n",
       " 'France': 16.05,\n",
       " 'Gabon': 9.34,\n",
       " 'Gambia': 1.6300000000000001,\n",
       " 'Germany': 14.64,\n",
       " 'Ghana': 1.8599999999999999,\n",
       " 'Greece': 10.15,\n",
       " 'Guatemala': 2.47,\n",
       " 'Guinea': 0.21,\n",
       " 'Guinea-Bissau': 2.67,\n",
       " 'Guyana': 9.940000000000001,\n",
       " 'Haiti': 5.81,\n",
       " 'Honduras': 2.15,\n",
       " 'Hungary': 16.29,\n",
       " 'Iceland': 5.359999999999999,\n",
       " 'India': 1.66,\n",
       " 'Indonesia': 0.07,\n",
       " 'Iran (Islamic Republic of)': 0.0,\n",
       " 'Iraq': 0.75,\n",
       " 'Ireland': 11.79,\n",
       " 'Israel': 2.0300000000000002,\n",
       " 'Italy': 10.899999999999999,\n",
       " 'Jamaica': 3.03,\n",
       " 'Japan': 7.74,\n",
       " 'Jordan': 0.19,\n",
       " 'Kenya': 2.82,\n",
       " 'Kiribati': 0.48,\n",
       " 'Kuwait': 0.0,\n",
       " 'Kyrgyzstan': 4.279999999999999,\n",
       " \"Lao People's Democratic Republic\": 5.95,\n",
       " 'Latvia': 7.039999999999999,\n",
       " 'Lebanon': 3.94,\n",
       " 'Lesotho': 2.02,\n",
       " 'Liberia': 5.61,\n",
       " 'Libya': 0.0,\n",
       " 'Lithuania': 0.0,\n",
       " 'Luxembourg': 15.21,\n",
       " 'Madagascar': 1.38,\n",
       " 'Malawi': 1.02,\n",
       " 'Malaysia': 0.68,\n",
       " 'Mali': 0.6699999999999999,\n",
       " 'Malta': 7.13,\n",
       " 'Mauritania': 0.02,\n",
       " 'Mauritius': 3.54,\n",
       " 'Mexico': 5.1,\n",
       " 'Micronesia (Federated States of)': 0.0,\n",
       " 'Mongolia': 2.59,\n",
       " 'Morocco': 0.7,\n",
       " 'Mozambique': 0.39,\n",
       " 'Myanmar': 0.16,\n",
       " 'Namibia': 0.24,\n",
       " 'Nepal': 0.03,\n",
       " 'Netherlands': 10.030000000000001,\n",
       " 'New Zealand': 11.52,\n",
       " 'Nicaragua': 2.5,\n",
       " 'Niger': 0.11,\n",
       " 'Nigeria': 6.74,\n",
       " 'Norway': 5.08,\n",
       " 'Oman': 1.03,\n",
       " 'Pakistan': 0.02,\n",
       " 'Panama': 4.6000000000000005,\n",
       " 'Papua New Guinea': 1.1099999999999999,\n",
       " 'Paraguay': 6.51,\n",
       " 'Peru': 4.99,\n",
       " 'Philippines': 3.78,\n",
       " 'Poland': 9.33,\n",
       " 'Portugal': 15.350000000000001,\n",
       " 'Qatar': 1.4500000000000002,\n",
       " 'Republic of Korea': 9.620000000000001,\n",
       " 'Romania': 8.41,\n",
       " 'Russian Federation': 5.35,\n",
       " 'Rwanda': 7.549999999999999,\n",
       " 'Saint Kitts and Nevis': 4.65,\n",
       " 'Saint Lucia': 11.62,\n",
       " 'Samoa': 2.63,\n",
       " 'Sao Tome and Principe': 2.57,\n",
       " 'Saudi Arabia': 0.15,\n",
       " 'Senegal': 0.6100000000000001,\n",
       " 'Seychelles': 3.3000000000000003,\n",
       " 'Sierra Leone': 4.380000000000001,\n",
       " 'Singapore': 1.61,\n",
       " 'Slovakia': 12.700000000000001,\n",
       " 'Slovenia': 12.969999999999999,\n",
       " 'Solomon Islands': 0.5800000000000001,\n",
       " 'Somalia': 0.0,\n",
       " 'South Africa': 9.21,\n",
       " 'Spain': 13.280000000000001,\n",
       " 'Sri Lanka': 0.14,\n",
       " 'Sudan': 0.15,\n",
       " 'Suriname': 3.67,\n",
       " 'Swaziland': 6.68,\n",
       " 'Sweden': 7.47,\n",
       " 'Switzerland': 13.849999999999998,\n",
       " 'Syrian Arab Republic': 0.54,\n",
       " 'Thailand': 3.92,\n",
       " 'Togo': 2.2199999999999998,\n",
       " 'Trinidad and Tobago': 4.68,\n",
       " 'Tunisia': 0.95,\n",
       " 'Turkey': 0.72,\n",
       " 'Uganda': 7.8,\n",
       " 'Ukraine': 5.32,\n",
       " 'United Arab Emirates': 4.43,\n",
       " 'United Kingdom of Great Britain and Northern Ireland': 9.99,\n",
       " 'United Republic of Tanzania': 5.9,\n",
       " 'United States of America': 9.16,\n",
       " 'Uruguay': 7.4399999999999995,\n",
       " 'Vanuatu': 1.74,\n",
       " 'Venezuela (Bolivarian Republic of)': 7.87,\n",
       " 'Viet Nam': 0.16,\n",
       " 'Yemen': 0.2,\n",
       " 'Zambia': 3.37,\n",
       " 'Zimbabwe': 4.92}"
      ]
     },
     "execution_count": 105,
     "metadata": {},
     "output_type": "execute_result"
    }
   ],
   "source": [
    "# totals for each country in 1989\n",
    "totals_1989 = {}\n",
    "is_year = world_alcohol[:,0] == \"1989\"\n",
    "year = world_alcohol[is_year,:]\n",
    "\n",
    "for country in countries:\n",
    "    is_country = year[:,2] == country\n",
    "    country_consumption = year[is_country,:]\n",
    "    alcohol_column = country_consumption[:,4]\n",
    "    is_empty = alcohol_column == ''\n",
    "    alcohol_column[is_empty] = \"0\"\n",
    "    alcohol_column = alcohol_column.astype(float)\n",
    "    totals_1989[country] = alcohol_column.sum()\n",
    "totals_1989"
   ]
  },
  {
   "cell_type": "code",
   "execution_count": 106,
   "metadata": {},
   "outputs": [],
   "source": [
    "# totals for each country in 1988\n",
    "totals_1988 = {}\n",
    "is_year = world_alcohol[:,0] == \"1988\"\n",
    "year = world_alcohol[is_year,:]\n",
    "\n",
    "for country in countries:\n",
    "    is_country = year[:,2] == country\n",
    "    country_consumption = year[is_country,:]\n",
    "    alcohol_column = country_consumption[:,4]\n",
    "    is_empty = alcohol_column == ''\n",
    "    alcohol_column[is_empty] = \"0\"\n",
    "    alcohol_column = alcohol_column.astype(float)\n",
    "    totals_1988[country] = alcohol_column.sum()"
   ]
  },
  {
   "cell_type": "code",
   "execution_count": 107,
   "metadata": {},
   "outputs": [
    {
     "data": {
      "text/plain": [
       "{'Afghanistan': 0.0,\n",
       " 'Albania': 0.0,\n",
       " 'Algeria': 0.0,\n",
       " 'Angola': 0.0,\n",
       " 'Antigua and Barbuda': 0.0,\n",
       " 'Argentina': 0.0,\n",
       " 'Australia': 0.0,\n",
       " 'Austria': 0.0,\n",
       " 'Bahamas': 0.0,\n",
       " 'Bahrain': 0.0,\n",
       " 'Bangladesh': 0.0,\n",
       " 'Belarus': 0.0,\n",
       " 'Belgium': 0.0,\n",
       " 'Belize': 0.0,\n",
       " 'Benin': 0.0,\n",
       " 'Bhutan': 0.0,\n",
       " 'Bolivia (Plurinational State of)': 0.0,\n",
       " 'Botswana': 0.0,\n",
       " 'Brazil': 0.0,\n",
       " 'Brunei Darussalam': 0.0,\n",
       " 'Bulgaria': 0.0,\n",
       " 'Burkina Faso': 0.0,\n",
       " 'Burundi': 0.0,\n",
       " 'Cabo Verde': 0.0,\n",
       " 'Cambodia': 0.0,\n",
       " 'Cameroon': 0.0,\n",
       " 'Canada': 0.0,\n",
       " 'Central African Republic': 0.0,\n",
       " 'Chad': 0.0,\n",
       " 'Chile': 0.0,\n",
       " 'China': 0.0,\n",
       " 'Colombia': 0.0,\n",
       " 'Comoros': 0.0,\n",
       " 'Congo': 0.0,\n",
       " 'Costa Rica': 0.0,\n",
       " 'Country': 0.0,\n",
       " 'Croatia': 0.0,\n",
       " \"Cte d'Ivoire\": 0.0,\n",
       " 'Cuba': 0.0,\n",
       " 'Cyprus': 0.0,\n",
       " 'Czech Republic': 0.0,\n",
       " \"Democratic People's Republic of Korea\": 0.0,\n",
       " 'Democratic Republic of the Congo': 0.0,\n",
       " 'Denmark': 0.0,\n",
       " 'Djibouti': 0.0,\n",
       " 'Dominican Republic': 0.0,\n",
       " 'Ecuador': 0.0,\n",
       " 'Egypt': 0.0,\n",
       " 'El Salvador': 0.0,\n",
       " 'Equatorial Guinea': 0.0,\n",
       " 'Eritrea': 0.0,\n",
       " 'Ethiopia': 0.0,\n",
       " 'Fiji': 0.0,\n",
       " 'Finland': 0.0,\n",
       " 'France': 0.0,\n",
       " 'Gabon': 0.0,\n",
       " 'Gambia': 0.0,\n",
       " 'Germany': 0.0,\n",
       " 'Ghana': 0.0,\n",
       " 'Greece': 0.0,\n",
       " 'Guatemala': 0.0,\n",
       " 'Guinea': 0.0,\n",
       " 'Guinea-Bissau': 0.0,\n",
       " 'Guyana': 0.0,\n",
       " 'Haiti': 0.0,\n",
       " 'Honduras': 0.0,\n",
       " 'Hungary': 0.0,\n",
       " 'Iceland': 0.0,\n",
       " 'India': 0.0,\n",
       " 'Indonesia': 0.0,\n",
       " 'Iran (Islamic Republic of)': 0.0,\n",
       " 'Iraq': 0.0,\n",
       " 'Ireland': 0.0,\n",
       " 'Israel': 0.0,\n",
       " 'Italy': 0.0,\n",
       " 'Jamaica': 0.0,\n",
       " 'Japan': 0.0,\n",
       " 'Jordan': 0.0,\n",
       " 'Kenya': 0.0,\n",
       " 'Kiribati': 0.0,\n",
       " 'Kuwait': 0.0,\n",
       " 'Kyrgyzstan': 0.0,\n",
       " \"Lao People's Democratic Republic\": 0.0,\n",
       " 'Latvia': 0.0,\n",
       " 'Lebanon': 0.0,\n",
       " 'Lesotho': 0.0,\n",
       " 'Liberia': 0.0,\n",
       " 'Libya': 0.0,\n",
       " 'Lithuania': 0.0,\n",
       " 'Luxembourg': 0.0,\n",
       " 'Madagascar': 0.0,\n",
       " 'Malawi': 0.0,\n",
       " 'Malaysia': 0.0,\n",
       " 'Mali': 0.0,\n",
       " 'Malta': 0.0,\n",
       " 'Mauritania': 0.0,\n",
       " 'Mauritius': 0.0,\n",
       " 'Mexico': 0.0,\n",
       " 'Micronesia (Federated States of)': 0.0,\n",
       " 'Mongolia': 0.0,\n",
       " 'Morocco': 0.0,\n",
       " 'Mozambique': 0.0,\n",
       " 'Myanmar': 0.0,\n",
       " 'Namibia': 0.0,\n",
       " 'Nepal': 0.0,\n",
       " 'Netherlands': 0.0,\n",
       " 'New Zealand': 0.0,\n",
       " 'Nicaragua': 0.0,\n",
       " 'Niger': 0.0,\n",
       " 'Nigeria': 0.0,\n",
       " 'Norway': 0.0,\n",
       " 'Oman': 0.0,\n",
       " 'Pakistan': 0.0,\n",
       " 'Panama': 0.0,\n",
       " 'Papua New Guinea': 0.0,\n",
       " 'Paraguay': 0.0,\n",
       " 'Peru': 0.0,\n",
       " 'Philippines': 0.0,\n",
       " 'Poland': 0.0,\n",
       " 'Portugal': 0.0,\n",
       " 'Qatar': 0.0,\n",
       " 'Republic of Korea': 0.0,\n",
       " 'Romania': 0.0,\n",
       " 'Russian Federation': 0.0,\n",
       " 'Rwanda': 0.0,\n",
       " 'Saint Kitts and Nevis': 0.0,\n",
       " 'Saint Lucia': 0.0,\n",
       " 'Samoa': 0.0,\n",
       " 'Sao Tome and Principe': 0.0,\n",
       " 'Saudi Arabia': 0.0,\n",
       " 'Senegal': 0.0,\n",
       " 'Seychelles': 0.0,\n",
       " 'Sierra Leone': 0.0,\n",
       " 'Singapore': 0.0,\n",
       " 'Slovakia': 0.0,\n",
       " 'Slovenia': 0.0,\n",
       " 'Solomon Islands': 0.0,\n",
       " 'Somalia': 0.0,\n",
       " 'South Africa': 0.0,\n",
       " 'Spain': 0.0,\n",
       " 'Sri Lanka': 0.0,\n",
       " 'Sudan': 0.0,\n",
       " 'Suriname': 0.0,\n",
       " 'Swaziland': 0.0,\n",
       " 'Sweden': 0.0,\n",
       " 'Switzerland': 0.0,\n",
       " 'Syrian Arab Republic': 0.0,\n",
       " 'Thailand': 0.0,\n",
       " 'Togo': 0.0,\n",
       " 'Trinidad and Tobago': 0.0,\n",
       " 'Tunisia': 0.0,\n",
       " 'Turkey': 0.0,\n",
       " 'Uganda': 0.0,\n",
       " 'Ukraine': 0.0,\n",
       " 'United Arab Emirates': 0.0,\n",
       " 'United Kingdom of Great Britain and Northern Ireland': 0.0,\n",
       " 'United Republic of Tanzania': 0.0,\n",
       " 'United States of America': 0.0,\n",
       " 'Uruguay': 0.0,\n",
       " 'Vanuatu': 0.0,\n",
       " 'Venezuela (Bolivarian Republic of)': 0.0,\n",
       " 'Viet Nam': 0.0,\n",
       " 'Yemen': 0.0,\n",
       " 'Zambia': 0.0,\n",
       " 'Zimbabwe': 0.0}"
      ]
     },
     "execution_count": 107,
     "metadata": {},
     "output_type": "execute_result"
    }
   ],
   "source": [
    "totals_1988"
   ]
  },
  {
   "cell_type": "code",
   "execution_count": 108,
   "metadata": {},
   "outputs": [
    {
     "data": {
      "text/plain": [
       "{'Afghanistan': 0.0,\n",
       " 'Albania': 1.63,\n",
       " 'Algeria': 0.28,\n",
       " 'Angola': 1.6300000000000001,\n",
       " 'Antigua and Barbuda': 3.68,\n",
       " 'Argentina': 12.759999999999998,\n",
       " 'Australia': 12.46,\n",
       " 'Austria': 13.5,\n",
       " 'Bahamas': 14.139999999999999,\n",
       " 'Bahrain': 5.5600000000000005,\n",
       " 'Bangladesh': 0.0,\n",
       " 'Belarus': 0.0,\n",
       " 'Belgium': 13.16,\n",
       " 'Belize': 4.6499999999999995,\n",
       " 'Benin': 1.54,\n",
       " 'Bhutan': 0.46,\n",
       " 'Bolivia (Plurinational State of)': 3.06,\n",
       " 'Botswana': 4.26,\n",
       " 'Brazil': 3.94,\n",
       " 'Brunei Darussalam': 2.8899999999999997,\n",
       " 'Bulgaria': 10.91,\n",
       " 'Burkina Faso': 4.069999999999999,\n",
       " 'Burundi': 8.22,\n",
       " 'Cabo Verde': 3.36,\n",
       " 'Cambodia': 0.22,\n",
       " 'Cameroon': 6.500000000000001,\n",
       " 'Canada': 9.120000000000001,\n",
       " 'Central African Republic': 2.7800000000000002,\n",
       " 'Chad': 0.30000000000000004,\n",
       " 'Chile': 9.49,\n",
       " 'China': 3.1599999999999997,\n",
       " 'Colombia': 6.819999999999999,\n",
       " 'Comoros': 0.08,\n",
       " 'Congo': 4.76,\n",
       " 'Costa Rica': 4.2299999999999995,\n",
       " 'Country': 0.0,\n",
       " 'Croatia': 13.51,\n",
       " \"Cte d'Ivoire\": 2.49,\n",
       " 'Cuba': 4.37,\n",
       " 'Cyprus': 8.870000000000001,\n",
       " 'Czech Republic': 13.2,\n",
       " \"Democratic People's Republic of Korea\": 3.5900000000000003,\n",
       " 'Democratic Republic of the Congo': 2.3599999999999994,\n",
       " 'Denmark': 11.74,\n",
       " 'Djibouti': 1.5899999999999999,\n",
       " 'Dominican Republic': 4.37,\n",
       " 'Ecuador': 2.54,\n",
       " 'Egypt': 0.39,\n",
       " 'El Salvador': 2.27,\n",
       " 'Equatorial Guinea': 2.4,\n",
       " 'Eritrea': 0.39,\n",
       " 'Ethiopia': 0.63,\n",
       " 'Fiji': 1.6500000000000001,\n",
       " 'Finland': 8.75,\n",
       " 'France': 15.9,\n",
       " 'Gabon': 11.41,\n",
       " 'Gambia': 1.9600000000000002,\n",
       " 'Germany': 14.83,\n",
       " 'Ghana': 1.28,\n",
       " 'Greece': 9.82,\n",
       " 'Guatemala': 2.78,\n",
       " 'Guinea': 0.18,\n",
       " 'Guinea-Bissau': 2.4499999999999997,\n",
       " 'Guyana': 7.6,\n",
       " 'Haiti': 5.119999999999999,\n",
       " 'Honduras': 2.01,\n",
       " 'Hungary': 15.7,\n",
       " 'Iceland': 5.6499999999999995,\n",
       " 'India': 1.49,\n",
       " 'Indonesia': 0.06,\n",
       " 'Iran (Islamic Republic of)': 0.0,\n",
       " 'Iraq': 0.66,\n",
       " 'Ireland': 10.98,\n",
       " 'Israel': 2.26,\n",
       " 'Italy': 11.790000000000001,\n",
       " 'Jamaica': 3.11,\n",
       " 'Japan': 7.7,\n",
       " 'Jordan': 0.30000000000000004,\n",
       " 'Kenya': 2.78,\n",
       " 'Kiribati': 0.63,\n",
       " 'Kuwait': 0.0,\n",
       " 'Kyrgyzstan': 3.01,\n",
       " \"Lao People's Democratic Republic\": 4.59,\n",
       " 'Latvia': 5.77,\n",
       " 'Lebanon': 3.8099999999999996,\n",
       " 'Lesotho': 2.1,\n",
       " 'Liberia': 4.869999999999999,\n",
       " 'Libya': 0.0,\n",
       " 'Lithuania': 0.0,\n",
       " 'Luxembourg': 15.23,\n",
       " 'Madagascar': 1.3299999999999998,\n",
       " 'Malawi': 1.12,\n",
       " 'Malaysia': 0.64,\n",
       " 'Mali': 0.62,\n",
       " 'Malta': 5.0,\n",
       " 'Mauritania': 0.02,\n",
       " 'Mauritius': 3.42,\n",
       " 'Mexico': 4.699999999999999,\n",
       " 'Micronesia (Federated States of)': 0.0,\n",
       " 'Mongolia': 2.1,\n",
       " 'Morocco': 0.76,\n",
       " 'Mozambique': 0.29000000000000004,\n",
       " 'Myanmar': 0.27,\n",
       " 'Namibia': 0.25,\n",
       " 'Nepal': 0.02,\n",
       " 'Netherlands': 10.2,\n",
       " 'New Zealand': 12.27,\n",
       " 'Nicaragua': 3.45,\n",
       " 'Niger': 0.16,\n",
       " 'Nigeria': 7.319999999999999,\n",
       " 'Norway': 5.38,\n",
       " 'Oman': 1.17,\n",
       " 'Pakistan': 0.02,\n",
       " 'Panama': 5.05,\n",
       " 'Papua New Guinea': 1.29,\n",
       " 'Paraguay': 7.35,\n",
       " 'Peru': 6.680000000000001,\n",
       " 'Philippines': 4.42,\n",
       " 'Poland': 9.41,\n",
       " 'Portugal': 13.22,\n",
       " 'Qatar': 1.42,\n",
       " 'Republic of Korea': 10.18,\n",
       " 'Romania': 7.08,\n",
       " 'Russian Federation': 4.59,\n",
       " 'Rwanda': 6.489999999999999,\n",
       " 'Saint Kitts and Nevis': 3.18,\n",
       " 'Saint Lucia': 10.030000000000001,\n",
       " 'Samoa': 3.1399999999999997,\n",
       " 'Sao Tome and Principe': 1.9,\n",
       " 'Saudi Arabia': 0.21,\n",
       " 'Senegal': 0.45999999999999996,\n",
       " 'Seychelles': 3.27,\n",
       " 'Sierra Leone': 4.52,\n",
       " 'Singapore': 1.74,\n",
       " 'Slovakia': 13.240000000000002,\n",
       " 'Slovenia': 16.64,\n",
       " 'Solomon Islands': 0.7,\n",
       " 'Somalia': 0.02,\n",
       " 'South Africa': 8.97,\n",
       " 'Spain': 14.41,\n",
       " 'Sri Lanka': 0.18000000000000002,\n",
       " 'Sudan': 0.25,\n",
       " 'Suriname': 3.4800000000000004,\n",
       " 'Swaziland': 3.4699999999999998,\n",
       " 'Sweden': 7.07,\n",
       " 'Switzerland': 14.02,\n",
       " 'Syrian Arab Republic': 0.77,\n",
       " 'Thailand': 2.58,\n",
       " 'Togo': 2.6499999999999995,\n",
       " 'Trinidad and Tobago': 4.349999999999999,\n",
       " 'Tunisia': 0.98,\n",
       " 'Turkey': 0.89,\n",
       " 'Uganda': 7.5200000000000005,\n",
       " 'Ukraine': 4.01,\n",
       " 'United Arab Emirates': 5.36,\n",
       " 'United Kingdom of Great Britain and Northern Ireland': 9.530000000000001,\n",
       " 'United Republic of Tanzania': 6.89,\n",
       " 'United States of America': 9.61,\n",
       " 'Uruguay': 7.64,\n",
       " 'Vanuatu': 1.4300000000000002,\n",
       " 'Venezuela (Bolivarian Republic of)': 9.16,\n",
       " 'Viet Nam': 0.16,\n",
       " 'Yemen': 0.16999999999999998,\n",
       " 'Zambia': 3.12,\n",
       " 'Zimbabwe': 5.029999999999999}"
      ]
     },
     "execution_count": 108,
     "metadata": {},
     "output_type": "execute_result"
    }
   ],
   "source": [
    "# totals for each country in 1987\n",
    "totals_1987 = {}\n",
    "is_year = world_alcohol[:,0] == \"1987\"\n",
    "year = world_alcohol[is_year,:]\n",
    "\n",
    "for country in countries:\n",
    "    is_country = year[:,2] == country\n",
    "    country_consumption = year[is_country,:]\n",
    "    alcohol_column = country_consumption[:,4]\n",
    "    is_empty = alcohol_column == ''\n",
    "    alcohol_column[is_empty] = \"0\"\n",
    "    alcohol_column = alcohol_column.astype(float)\n",
    "    totals_1987[country] = alcohol_column.sum()\n",
    "totals_1987"
   ]
  },
  {
   "cell_type": "code",
   "execution_count": 109,
   "metadata": {},
   "outputs": [
    {
     "data": {
      "text/plain": [
       "{'Afghanistan': 0.0,\n",
       " 'Albania': 1.38,\n",
       " 'Algeria': 0.29,\n",
       " 'Angola': 1.7,\n",
       " 'Antigua and Barbuda': 3.55,\n",
       " 'Argentina': 12.89,\n",
       " 'Australia': 12.3,\n",
       " 'Austria': 13.6,\n",
       " 'Bahamas': 14.120000000000001,\n",
       " 'Bahrain': 5.11,\n",
       " 'Bangladesh': 0.0,\n",
       " 'Belarus': 0.0,\n",
       " 'Belgium': 12.72,\n",
       " 'Belize': 5.73,\n",
       " 'Benin': 1.26,\n",
       " 'Bhutan': 0.46,\n",
       " 'Bolivia (Plurinational State of)': 3.29,\n",
       " 'Botswana': 4.4799999999999995,\n",
       " 'Brazil': 4.13,\n",
       " 'Brunei Darussalam': 2.5300000000000002,\n",
       " 'Bulgaria': 11.47,\n",
       " 'Burkina Faso': 3.71,\n",
       " 'Burundi': 8.35,\n",
       " 'Cabo Verde': 2.92,\n",
       " 'Cambodia': 0.22,\n",
       " 'Cameroon': 6.5,\n",
       " 'Canada': 9.31,\n",
       " 'Central African Republic': 2.94,\n",
       " 'Chad': 0.32,\n",
       " 'Chile': 8.93,\n",
       " 'China': 2.38,\n",
       " 'Colombia': 6.609999999999999,\n",
       " 'Comoros': 0.16,\n",
       " 'Congo': 5.4,\n",
       " 'Costa Rica': 4.859999999999999,\n",
       " 'Country': 0.0,\n",
       " 'Croatia': 0.0,\n",
       " \"Cte d'Ivoire\": 2.8000000000000003,\n",
       " 'Cuba': 4.04,\n",
       " 'Cyprus': 8.32,\n",
       " 'Czech Republic': 13.01,\n",
       " \"Democratic People's Republic of Korea\": 3.5100000000000002,\n",
       " 'Democratic Republic of the Congo': 2.34,\n",
       " 'Denmark': 12.26,\n",
       " 'Djibouti': 2.26,\n",
       " 'Dominican Republic': 3.7199999999999998,\n",
       " 'Ecuador': 2.5,\n",
       " 'Egypt': 0.39,\n",
       " 'El Salvador': 2.41,\n",
       " 'Equatorial Guinea': 1.84,\n",
       " 'Eritrea': 0.3,\n",
       " 'Ethiopia': 0.62,\n",
       " 'Fiji': 1.81,\n",
       " 'Finland': 8.510000000000002,\n",
       " 'France': 16.13,\n",
       " 'Gabon': 13.73,\n",
       " 'Gambia': 2.19,\n",
       " 'Germany': 14.72,\n",
       " 'Ghana': 1.45,\n",
       " 'Greece': 8.920000000000002,\n",
       " 'Guatemala': 2.58,\n",
       " 'Guinea': 0.16000000000000003,\n",
       " 'Guinea-Bissau': 2.44,\n",
       " 'Guyana': 6.05,\n",
       " 'Haiti': 5.7299999999999995,\n",
       " 'Honduras': 2.05,\n",
       " 'Hungary': 16.67,\n",
       " 'Iceland': 5.48,\n",
       " 'India': 1.32,\n",
       " 'Indonesia': 0.07,\n",
       " 'Iran (Islamic Republic of)': 0.0,\n",
       " 'Iraq': 0.75,\n",
       " 'Ireland': 11.24,\n",
       " 'Israel': 2.2600000000000002,\n",
       " 'Italy': 12.3,\n",
       " 'Jamaica': 2.77,\n",
       " 'Japan': 7.2,\n",
       " 'Jordan': 0.29000000000000004,\n",
       " 'Kenya': 2.76,\n",
       " 'Kiribati': 0.5800000000000001,\n",
       " 'Kuwait': 0.0,\n",
       " 'Kyrgyzstan': 3.41,\n",
       " \"Lao People's Democratic Republic\": 4.93,\n",
       " 'Latvia': 7.79,\n",
       " 'Lebanon': 4.12,\n",
       " 'Lesotho': 2.34,\n",
       " 'Liberia': 4.43,\n",
       " 'Libya': 0.0,\n",
       " 'Lithuania': 0.0,\n",
       " 'Luxembourg': 15.3,\n",
       " 'Madagascar': 1.4,\n",
       " 'Malawi': 1.35,\n",
       " 'Malaysia': 0.64,\n",
       " 'Mali': 0.58,\n",
       " 'Malta': 5.34,\n",
       " 'Mauritania': 0.03,\n",
       " 'Mauritius': 3.04,\n",
       " 'Mexico': 4.430000000000001,\n",
       " 'Micronesia (Federated States of)': 0.0,\n",
       " 'Mongolia': 2.7300000000000004,\n",
       " 'Morocco': 0.71,\n",
       " 'Mozambique': 0.37,\n",
       " 'Myanmar': 0.28,\n",
       " 'Namibia': 0.26,\n",
       " 'Nepal': 0.01,\n",
       " 'Netherlands': 10.620000000000001,\n",
       " 'New Zealand': 12.219999999999999,\n",
       " 'Nicaragua': 3.48,\n",
       " 'Niger': 0.17,\n",
       " 'Nigeria': 7.26,\n",
       " 'Norway': 5.27,\n",
       " 'Oman': 0.14,\n",
       " 'Pakistan': 0.02,\n",
       " 'Panama': 5.08,\n",
       " 'Papua New Guinea': 1.23,\n",
       " 'Paraguay': 7.48,\n",
       " 'Peru': 5.96,\n",
       " 'Philippines': 4.1,\n",
       " 'Poland': 9.18,\n",
       " 'Portugal': 14.43,\n",
       " 'Qatar': 2.11,\n",
       " 'Republic of Korea': 10.25,\n",
       " 'Romania': 9.9,\n",
       " 'Russian Federation': 5.289999999999999,\n",
       " 'Rwanda': 6.87,\n",
       " 'Saint Kitts and Nevis': 3.98,\n",
       " 'Saint Lucia': 9.66,\n",
       " 'Samoa': 1.6400000000000001,\n",
       " 'Sao Tome and Principe': 0.65,\n",
       " 'Saudi Arabia': 0.2,\n",
       " 'Senegal': 0.44,\n",
       " 'Seychelles': 3.21,\n",
       " 'Sierra Leone': 4.61,\n",
       " 'Singapore': 1.6300000000000001,\n",
       " 'Slovakia': 13.3,\n",
       " 'Slovenia': 18.13,\n",
       " 'Solomon Islands': 0.9000000000000001,\n",
       " 'Somalia': 0.01,\n",
       " 'South Africa': 8.85,\n",
       " 'Spain': 14.370000000000001,\n",
       " 'Sri Lanka': 0.19,\n",
       " 'Sudan': 0.25,\n",
       " 'Suriname': 5.26,\n",
       " 'Swaziland': 6.470000000000001,\n",
       " 'Sweden': 7.210000000000001,\n",
       " 'Switzerland': 14.07,\n",
       " 'Syrian Arab Republic': 1.02,\n",
       " 'Thailand': 2.44,\n",
       " 'Togo': 2.8,\n",
       " 'Trinidad and Tobago': 5.199999999999999,\n",
       " 'Tunisia': 1.15,\n",
       " 'Turkey': 0.8500000000000001,\n",
       " 'Uganda': 7.47,\n",
       " 'Ukraine': 4.390000000000001,\n",
       " 'United Arab Emirates': 6.74,\n",
       " 'United Kingdom of Great Britain and Northern Ireland': 10.260000000000002,\n",
       " 'United Republic of Tanzania': 7.29,\n",
       " 'United States of America': 9.73,\n",
       " 'Uruguay': 7.2299999999999995,\n",
       " 'Vanuatu': 1.74,\n",
       " 'Venezuela (Bolivarian Republic of)': 8.32,\n",
       " 'Viet Nam': 0.16999999999999998,\n",
       " 'Yemen': 0.22,\n",
       " 'Zambia': 3.07,\n",
       " 'Zimbabwe': 7.24}"
      ]
     },
     "execution_count": 109,
     "metadata": {},
     "output_type": "execute_result"
    }
   ],
   "source": [
    "# totals for each country in 1986\n",
    "totals_1986 = {}\n",
    "is_year = world_alcohol[:,0] == \"1986\"\n",
    "year = world_alcohol[is_year,:]\n",
    "\n",
    "for country in countries:\n",
    "    is_country = year[:,2] == country\n",
    "    country_consumption = year[is_country,:]\n",
    "    alcohol_column = country_consumption[:,4]\n",
    "    is_empty = alcohol_column == ''\n",
    "    alcohol_column[is_empty] = \"0\"\n",
    "    alcohol_column = alcohol_column.astype(float)\n",
    "    totals_1986[country] = alcohol_column.sum()\n",
    "totals_1986"
   ]
  },
  {
   "cell_type": "code",
   "execution_count": 110,
   "metadata": {},
   "outputs": [
    {
     "data": {
      "text/plain": [
       "9.61"
      ]
     },
     "execution_count": 110,
     "metadata": {},
     "output_type": "execute_result"
    }
   ],
   "source": [
    "totals_1987['United States of America']"
   ]
  },
  {
   "cell_type": "code",
   "execution_count": 111,
   "metadata": {},
   "outputs": [
    {
     "data": {
      "text/plain": [
       "9.16"
      ]
     },
     "execution_count": 111,
     "metadata": {},
     "output_type": "execute_result"
    }
   ],
   "source": [
    "totals_1989['United States of America']"
   ]
  },
  {
   "cell_type": "markdown",
   "metadata": {},
   "source": [
    "How about the country with the greatest alcohol consumption in liters?"
   ]
  },
  {
   "cell_type": "code",
   "execution_count": 112,
   "metadata": {},
   "outputs": [
    {
     "data": {
      "text/plain": [
       "'Hungary'"
      ]
     },
     "execution_count": 112,
     "metadata": {},
     "output_type": "execute_result"
    }
   ],
   "source": [
    "highest_value = 0\n",
    "highest_key = None\n",
    "for country in totals_1989:\n",
    "    consumption = totals_1989[country]\n",
    "    if consumption > highest_value:\n",
    "        highest_value = consumption\n",
    "        highest_key = country\n",
    "highest_key"
   ]
  },
  {
   "cell_type": "code",
   "execution_count": 113,
   "metadata": {},
   "outputs": [
    {
     "data": {
      "text/plain": [
       "16.29"
      ]
     },
     "execution_count": 113,
     "metadata": {},
     "output_type": "execute_result"
    }
   ],
   "source": [
    "highest_value"
   ]
  },
  {
   "cell_type": "markdown",
   "metadata": {},
   "source": [
    "In the year 1989, the average hungarian drank 16.29 liters of alcohol."
   ]
  },
  {
   "cell_type": "code",
   "execution_count": null,
   "metadata": {},
   "outputs": [],
   "source": []
  }
 ],
 "metadata": {
  "kernelspec": {
   "display_name": "Python 3",
   "language": "python",
   "name": "python3"
  },
  "language_info": {
   "codemirror_mode": {
    "name": "ipython",
    "version": 3
   },
   "file_extension": ".py",
   "mimetype": "text/x-python",
   "name": "python",
   "nbconvert_exporter": "python",
   "pygments_lexer": "ipython3",
   "version": "3.6.4"
  }
 },
 "nbformat": 4,
 "nbformat_minor": 2
}
