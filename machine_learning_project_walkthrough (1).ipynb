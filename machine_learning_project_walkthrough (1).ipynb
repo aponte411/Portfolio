{
 "cells": [
  {
   "cell_type": "markdown",
   "metadata": {},
   "source": [
    "## Machine Learning Project Walkthrough\n",
    "\n",
    "\n",
    "Greetings! This notebook will walk through the various stages of a machine learning project. The workflow is as follows:\n",
    "\n",
    "- Cleaning\n",
    "- Feature engineering/processing\n",
    "- Making predictions\n",
    "\n",
    "## Guiding Questions:\n",
    "\n",
    "- Can we build a machine learning model that can accurately predict if a borrower will pay off their loan on time or not?"
   ]
  },
  {
   "cell_type": "markdown",
   "metadata": {},
   "source": [
    "## Cleaning"
   ]
  },
  {
   "cell_type": "code",
   "execution_count": 1,
   "metadata": {},
   "outputs": [
    {
     "name": "stderr",
     "output_type": "stream",
     "text": [
      "C:\\ProgramData\\Anaconda_apont\\lib\\site-packages\\IPython\\core\\interactiveshell.py:2785: DtypeWarning: Columns (0,47) have mixed types. Specify dtype option on import or set low_memory=False.\n",
      "  interactivity=interactivity, compiler=compiler, result=result)\n"
     ]
    }
   ],
   "source": [
    "# import data\n",
    "import pandas as pd\n",
    "loans_2007 = pd.read_csv('LoanStats3a.csv', skiprows=1)\n",
    "half_count = len(loans_2007) / 2\n",
    "loans_2007 = loans_2007.dropna(thresh=half_count, axis=1)"
   ]
  },
  {
   "cell_type": "code",
   "execution_count": 2,
   "metadata": {},
   "outputs": [],
   "source": [
    "loans_2007 = loans_2007.drop(['desc'],axis=1)"
   ]
  },
  {
   "cell_type": "code",
   "execution_count": 3,
   "metadata": {},
   "outputs": [],
   "source": [
    "loans_2007.to_csv('loans_2007.csv', index=False)"
   ]
  },
  {
   "cell_type": "code",
   "execution_count": 4,
   "metadata": {},
   "outputs": [
    {
     "data": {
      "text/html": [
       "<div>\n",
       "<style scoped>\n",
       "    .dataframe tbody tr th:only-of-type {\n",
       "        vertical-align: middle;\n",
       "    }\n",
       "\n",
       "    .dataframe tbody tr th {\n",
       "        vertical-align: top;\n",
       "    }\n",
       "\n",
       "    .dataframe thead th {\n",
       "        text-align: right;\n",
       "    }\n",
       "</style>\n",
       "<table border=\"1\" class=\"dataframe\">\n",
       "  <thead>\n",
       "    <tr style=\"text-align: right;\">\n",
       "      <th></th>\n",
       "      <th>loan_amnt</th>\n",
       "      <th>funded_amnt</th>\n",
       "      <th>funded_amnt_inv</th>\n",
       "      <th>term</th>\n",
       "      <th>int_rate</th>\n",
       "      <th>installment</th>\n",
       "      <th>grade</th>\n",
       "      <th>sub_grade</th>\n",
       "      <th>emp_title</th>\n",
       "      <th>emp_length</th>\n",
       "      <th>...</th>\n",
       "      <th>policy_code</th>\n",
       "      <th>application_type</th>\n",
       "      <th>acc_now_delinq</th>\n",
       "      <th>chargeoff_within_12_mths</th>\n",
       "      <th>delinq_amnt</th>\n",
       "      <th>pub_rec_bankruptcies</th>\n",
       "      <th>tax_liens</th>\n",
       "      <th>hardship_flag</th>\n",
       "      <th>disbursement_method</th>\n",
       "      <th>debt_settlement_flag</th>\n",
       "    </tr>\n",
       "  </thead>\n",
       "  <tbody>\n",
       "    <tr>\n",
       "      <th>0</th>\n",
       "      <td>5000.0</td>\n",
       "      <td>5000.0</td>\n",
       "      <td>4975.0</td>\n",
       "      <td>36 months</td>\n",
       "      <td>10.65%</td>\n",
       "      <td>162.87</td>\n",
       "      <td>B</td>\n",
       "      <td>B2</td>\n",
       "      <td>NaN</td>\n",
       "      <td>10+ years</td>\n",
       "      <td>...</td>\n",
       "      <td>1.0</td>\n",
       "      <td>Individual</td>\n",
       "      <td>0.0</td>\n",
       "      <td>0.0</td>\n",
       "      <td>0.0</td>\n",
       "      <td>0.0</td>\n",
       "      <td>0.0</td>\n",
       "      <td>N</td>\n",
       "      <td>Cash</td>\n",
       "      <td>N</td>\n",
       "    </tr>\n",
       "    <tr>\n",
       "      <th>1</th>\n",
       "      <td>2500.0</td>\n",
       "      <td>2500.0</td>\n",
       "      <td>2500.0</td>\n",
       "      <td>60 months</td>\n",
       "      <td>15.27%</td>\n",
       "      <td>59.83</td>\n",
       "      <td>C</td>\n",
       "      <td>C4</td>\n",
       "      <td>Ryder</td>\n",
       "      <td>&lt; 1 year</td>\n",
       "      <td>...</td>\n",
       "      <td>1.0</td>\n",
       "      <td>Individual</td>\n",
       "      <td>0.0</td>\n",
       "      <td>0.0</td>\n",
       "      <td>0.0</td>\n",
       "      <td>0.0</td>\n",
       "      <td>0.0</td>\n",
       "      <td>N</td>\n",
       "      <td>Cash</td>\n",
       "      <td>N</td>\n",
       "    </tr>\n",
       "    <tr>\n",
       "      <th>2</th>\n",
       "      <td>2400.0</td>\n",
       "      <td>2400.0</td>\n",
       "      <td>2400.0</td>\n",
       "      <td>36 months</td>\n",
       "      <td>15.96%</td>\n",
       "      <td>84.33</td>\n",
       "      <td>C</td>\n",
       "      <td>C5</td>\n",
       "      <td>NaN</td>\n",
       "      <td>10+ years</td>\n",
       "      <td>...</td>\n",
       "      <td>1.0</td>\n",
       "      <td>Individual</td>\n",
       "      <td>0.0</td>\n",
       "      <td>0.0</td>\n",
       "      <td>0.0</td>\n",
       "      <td>0.0</td>\n",
       "      <td>0.0</td>\n",
       "      <td>N</td>\n",
       "      <td>Cash</td>\n",
       "      <td>N</td>\n",
       "    </tr>\n",
       "    <tr>\n",
       "      <th>3</th>\n",
       "      <td>10000.0</td>\n",
       "      <td>10000.0</td>\n",
       "      <td>10000.0</td>\n",
       "      <td>36 months</td>\n",
       "      <td>13.49%</td>\n",
       "      <td>339.31</td>\n",
       "      <td>C</td>\n",
       "      <td>C1</td>\n",
       "      <td>AIR RESOURCES BOARD</td>\n",
       "      <td>10+ years</td>\n",
       "      <td>...</td>\n",
       "      <td>1.0</td>\n",
       "      <td>Individual</td>\n",
       "      <td>0.0</td>\n",
       "      <td>0.0</td>\n",
       "      <td>0.0</td>\n",
       "      <td>0.0</td>\n",
       "      <td>0.0</td>\n",
       "      <td>N</td>\n",
       "      <td>Cash</td>\n",
       "      <td>N</td>\n",
       "    </tr>\n",
       "    <tr>\n",
       "      <th>4</th>\n",
       "      <td>3000.0</td>\n",
       "      <td>3000.0</td>\n",
       "      <td>3000.0</td>\n",
       "      <td>60 months</td>\n",
       "      <td>12.69%</td>\n",
       "      <td>67.79</td>\n",
       "      <td>B</td>\n",
       "      <td>B5</td>\n",
       "      <td>University Medical Group</td>\n",
       "      <td>1 year</td>\n",
       "      <td>...</td>\n",
       "      <td>1.0</td>\n",
       "      <td>Individual</td>\n",
       "      <td>0.0</td>\n",
       "      <td>0.0</td>\n",
       "      <td>0.0</td>\n",
       "      <td>0.0</td>\n",
       "      <td>0.0</td>\n",
       "      <td>N</td>\n",
       "      <td>Cash</td>\n",
       "      <td>N</td>\n",
       "    </tr>\n",
       "  </tbody>\n",
       "</table>\n",
       "<p>5 rows × 53 columns</p>\n",
       "</div>"
      ],
      "text/plain": [
       "   loan_amnt  funded_amnt  funded_amnt_inv        term int_rate  installment  \\\n",
       "0     5000.0       5000.0           4975.0   36 months   10.65%       162.87   \n",
       "1     2500.0       2500.0           2500.0   60 months   15.27%        59.83   \n",
       "2     2400.0       2400.0           2400.0   36 months   15.96%        84.33   \n",
       "3    10000.0      10000.0          10000.0   36 months   13.49%       339.31   \n",
       "4     3000.0       3000.0           3000.0   60 months   12.69%        67.79   \n",
       "\n",
       "  grade sub_grade                 emp_title emp_length         ...           \\\n",
       "0     B        B2                       NaN  10+ years         ...            \n",
       "1     C        C4                     Ryder   < 1 year         ...            \n",
       "2     C        C5                       NaN  10+ years         ...            \n",
       "3     C        C1       AIR RESOURCES BOARD  10+ years         ...            \n",
       "4     B        B5  University Medical Group     1 year         ...            \n",
       "\n",
       "  policy_code  application_type acc_now_delinq chargeoff_within_12_mths  \\\n",
       "0         1.0        Individual            0.0                      0.0   \n",
       "1         1.0        Individual            0.0                      0.0   \n",
       "2         1.0        Individual            0.0                      0.0   \n",
       "3         1.0        Individual            0.0                      0.0   \n",
       "4         1.0        Individual            0.0                      0.0   \n",
       "\n",
       "  delinq_amnt pub_rec_bankruptcies tax_liens hardship_flag  \\\n",
       "0         0.0                  0.0       0.0             N   \n",
       "1         0.0                  0.0       0.0             N   \n",
       "2         0.0                  0.0       0.0             N   \n",
       "3         0.0                  0.0       0.0             N   \n",
       "4         0.0                  0.0       0.0             N   \n",
       "\n",
       "  disbursement_method debt_settlement_flag  \n",
       "0                Cash                    N  \n",
       "1                Cash                    N  \n",
       "2                Cash                    N  \n",
       "3                Cash                    N  \n",
       "4                Cash                    N  \n",
       "\n",
       "[5 rows x 53 columns]"
      ]
     },
     "execution_count": 4,
     "metadata": {},
     "output_type": "execute_result"
    }
   ],
   "source": [
    "loans_2007.head()"
   ]
  },
  {
   "cell_type": "code",
   "execution_count": 5,
   "metadata": {},
   "outputs": [
    {
     "name": "stdout",
     "output_type": "stream",
     "text": [
      "<class 'pandas.core.frame.DataFrame'>\n",
      "RangeIndex: 42542 entries, 0 to 42541\n",
      "Data columns (total 53 columns):\n",
      "loan_amnt                     42535 non-null float64\n",
      "funded_amnt                   42535 non-null float64\n",
      "funded_amnt_inv               42535 non-null float64\n",
      "term                          42535 non-null object\n",
      "int_rate                      42535 non-null object\n",
      "installment                   42535 non-null float64\n",
      "grade                         42535 non-null object\n",
      "sub_grade                     42535 non-null object\n",
      "emp_title                     39909 non-null object\n",
      "emp_length                    41423 non-null object\n",
      "home_ownership                42535 non-null object\n",
      "annual_inc                    42531 non-null float64\n",
      "verification_status           42535 non-null object\n",
      "issue_d                       42535 non-null object\n",
      "loan_status                   42535 non-null object\n",
      "pymnt_plan                    42535 non-null object\n",
      "purpose                       42535 non-null object\n",
      "title                         42522 non-null object\n",
      "zip_code                      42535 non-null object\n",
      "addr_state                    42535 non-null object\n",
      "dti                           42535 non-null float64\n",
      "delinq_2yrs                   42506 non-null float64\n",
      "earliest_cr_line              42506 non-null object\n",
      "inq_last_6mths                42506 non-null float64\n",
      "open_acc                      42506 non-null float64\n",
      "pub_rec                       42506 non-null float64\n",
      "revol_bal                     42535 non-null float64\n",
      "revol_util                    42445 non-null object\n",
      "total_acc                     42506 non-null float64\n",
      "initial_list_status           42535 non-null object\n",
      "out_prncp                     42535 non-null float64\n",
      "out_prncp_inv                 42535 non-null float64\n",
      "total_pymnt                   42535 non-null float64\n",
      "total_pymnt_inv               42535 non-null float64\n",
      "total_rec_prncp               42535 non-null float64\n",
      "total_rec_int                 42535 non-null float64\n",
      "total_rec_late_fee            42535 non-null float64\n",
      "recoveries                    42535 non-null float64\n",
      "collection_recovery_fee       42535 non-null float64\n",
      "last_pymnt_d                  42452 non-null object\n",
      "last_pymnt_amnt               42535 non-null float64\n",
      "last_credit_pull_d            42531 non-null object\n",
      "collections_12_mths_ex_med    42390 non-null float64\n",
      "policy_code                   42535 non-null float64\n",
      "application_type              42535 non-null object\n",
      "acc_now_delinq                42506 non-null float64\n",
      "chargeoff_within_12_mths      42390 non-null float64\n",
      "delinq_amnt                   42506 non-null float64\n",
      "pub_rec_bankruptcies          41170 non-null float64\n",
      "tax_liens                     42430 non-null float64\n",
      "hardship_flag                 42535 non-null object\n",
      "disbursement_method           42535 non-null object\n",
      "debt_settlement_flag          42535 non-null object\n",
      "dtypes: float64(29), object(24)\n",
      "memory usage: 17.2+ MB\n"
     ]
    }
   ],
   "source": [
    "loans_2007.info()"
   ]
  },
  {
   "cell_type": "markdown",
   "metadata": {},
   "source": [
    "The dataframe contains many columns and can be cumbersome to try to explore all at once. Let's break up the columns into 3 groups of 18 columns and use the data dictionary to become familiar with what each column represents.\n",
    "\n",
    "After studying the data dictionary (1), I have decided to remove features that leak data into the future, contain redundant information, and require processing beyond the scope of this project.\n",
    "\n",
    "The following features will be removed for the first group:\n",
    "\n",
    "- funded_amnt\n",
    "- funded_amt_inv\n",
    "- grade\n",
    "- sub_grade\n",
    "- emp_title\n",
    "- issue_d.\n",
    "\n",
    "1.https://docs.google.com/spreadsheets/d/191B2yJ4H1ZPXq0_ByhUgWMFZOYem5jFz0Y3by_7YBY4/edit#gid=2081333097)"
   ]
  },
  {
   "cell_type": "code",
   "execution_count": 6,
   "metadata": {},
   "outputs": [
    {
     "data": {
      "text/plain": [
       "Index(['loan_amnt', 'funded_amnt', 'funded_amnt_inv', 'term', 'int_rate',\n",
       "       'installment', 'grade', 'sub_grade', 'emp_title', 'emp_length',\n",
       "       'home_ownership', 'annual_inc', 'verification_status', 'issue_d',\n",
       "       'loan_status', 'pymnt_plan', 'purpose', 'title', 'zip_code',\n",
       "       'addr_state', 'dti', 'delinq_2yrs', 'earliest_cr_line',\n",
       "       'inq_last_6mths', 'open_acc', 'pub_rec', 'revol_bal', 'revol_util',\n",
       "       'total_acc', 'initial_list_status', 'out_prncp', 'out_prncp_inv',\n",
       "       'total_pymnt', 'total_pymnt_inv', 'total_rec_prncp', 'total_rec_int',\n",
       "       'total_rec_late_fee', 'recoveries', 'collection_recovery_fee',\n",
       "       'last_pymnt_d', 'last_pymnt_amnt', 'last_credit_pull_d',\n",
       "       'collections_12_mths_ex_med', 'policy_code', 'application_type',\n",
       "       'acc_now_delinq', 'chargeoff_within_12_mths', 'delinq_amnt',\n",
       "       'pub_rec_bankruptcies', 'tax_liens', 'hardship_flag',\n",
       "       'disbursement_method', 'debt_settlement_flag'],\n",
       "      dtype='object')"
      ]
     },
     "execution_count": 6,
     "metadata": {},
     "output_type": "execute_result"
    }
   ],
   "source": [
    "loans_2007.columns"
   ]
  },
  {
   "cell_type": "code",
   "execution_count": 7,
   "metadata": {},
   "outputs": [
    {
     "data": {
      "text/plain": [
       "(42542, 53)"
      ]
     },
     "execution_count": 7,
     "metadata": {},
     "output_type": "execute_result"
    }
   ],
   "source": [
    "loans_2007.shape"
   ]
  },
  {
   "cell_type": "code",
   "execution_count": 8,
   "metadata": {},
   "outputs": [],
   "source": [
    "loans_2007 = loans_2007.drop([\"funded_amnt\", \n",
    "                              \"funded_amnt_inv\", \n",
    "                              \"grade\", \n",
    "                              \"sub_grade\", \n",
    "                              \"emp_title\",\n",
    "                              \"issue_d\"], axis=1)"
   ]
  },
  {
   "cell_type": "markdown",
   "metadata": {},
   "source": [
    "The following features in group 2 will be dropped:\n",
    "\n",
    "- zip_code\n",
    "- out_prncp\n",
    "- out_prncp_inv\n",
    "- total_pymnt\n",
    "- total_pymnt_inv\n",
    "- total_rec_prncp"
   ]
  },
  {
   "cell_type": "code",
   "execution_count": 9,
   "metadata": {},
   "outputs": [],
   "source": [
    "loans_2007 = loans_2007.drop([\"zip_code\",\n",
    "                              \"out_prncp\",\n",
    "                              \"out_prncp_inv\",\n",
    "                              \"total_pymnt\",\n",
    "                              \"total_pymnt_inv\", \n",
    "                              \"total_rec_prncp\"], axis=1)"
   ]
  },
  {
   "cell_type": "markdown",
   "metadata": {},
   "source": [
    "The following features in group 3 will be dropped:\n",
    "\n",
    "- total_rec_int\n",
    "- total_rec_late_fee\n",
    "- recoveries\n",
    "- collection_recovery_fee\n",
    "- last_pymnt_d\n",
    "- last_pymnt_amnt"
   ]
  },
  {
   "cell_type": "code",
   "execution_count": 10,
   "metadata": {},
   "outputs": [
    {
     "data": {
      "text/plain": [
       "(42542, 35)"
      ]
     },
     "execution_count": 10,
     "metadata": {},
     "output_type": "execute_result"
    }
   ],
   "source": [
    "loans_2007 = loans_2007.drop([\"total_rec_int\", \n",
    "                              \"total_rec_late_fee\",\n",
    "                              \"recoveries\",\n",
    "                              \"collection_recovery_fee\", \n",
    "                              \"last_pymnt_d\", \n",
    "                              \"last_pymnt_amnt\"], axis=1)\n",
    "loans_2007.shape"
   ]
  },
  {
   "cell_type": "markdown",
   "metadata": {},
   "source": [
    "Just by becoming familiar with the columns in the dataset, we were able to reduce the number of columns from 52 to 32 columns. We now need to decide on a target column that we want to use for modeling.\n",
    "\n",
    "We should use the loan_status column, since it's the only column that directly describes if a loan was paid off on time, had delayed payments, or was defaulted on the borrower. Currently, this column contains text values and we need to convert it to a numerical one for training a model. Let's explore the different values in this column and come up with a strategy for converting the values in this column."
   ]
  },
  {
   "cell_type": "code",
   "execution_count": 11,
   "metadata": {},
   "outputs": [
    {
     "data": {
      "text/plain": [
       "Fully Paid                                             34116\n",
       "Charged Off                                             5670\n",
       "Does not meet the credit policy. Status:Fully Paid      1988\n",
       "Does not meet the credit policy. Status:Charged Off      761\n",
       "Name: loan_status, dtype: int64"
      ]
     },
     "execution_count": 11,
     "metadata": {},
     "output_type": "execute_result"
    }
   ],
   "source": [
    "# frequency counts\n",
    "loans_2007[\"loan_status\"].value_counts()"
   ]
  },
  {
   "cell_type": "code",
   "execution_count": 12,
   "metadata": {},
   "outputs": [
    {
     "data": {
      "text/plain": [
       "Fully Paid                                             80.206888\n",
       "Charged Off                                            13.330199\n",
       "Does not meet the credit policy. Status:Fully Paid      4.673798\n",
       "Does not meet the credit policy. Status:Charged Off     1.789115\n",
       "Name: loan_status, dtype: float64"
      ]
     },
     "execution_count": 12,
     "metadata": {},
     "output_type": "execute_result"
    }
   ],
   "source": [
    "# relative frequency\n",
    "loans_2007[\"loan_status\"].value_counts(normalize=True)*100"
   ]
  },
  {
   "cell_type": "markdown",
   "metadata": {},
   "source": [
    "Before we do some feature engineering I need to remove the missing values from the dataset. Let me first find the number of missing values per feature."
   ]
  },
  {
   "cell_type": "code",
   "execution_count": 13,
   "metadata": {},
   "outputs": [
    {
     "data": {
      "text/plain": [
       "loan_amnt                        7\n",
       "term                             7\n",
       "int_rate                         7\n",
       "installment                      7\n",
       "emp_length                    1119\n",
       "home_ownership                   7\n",
       "annual_inc                      11\n",
       "verification_status              7\n",
       "loan_status                      7\n",
       "pymnt_plan                       7\n",
       "purpose                          7\n",
       "title                           20\n",
       "addr_state                       7\n",
       "dti                              7\n",
       "delinq_2yrs                     36\n",
       "earliest_cr_line                36\n",
       "inq_last_6mths                  36\n",
       "open_acc                        36\n",
       "pub_rec                         36\n",
       "revol_bal                        7\n",
       "revol_util                      97\n",
       "total_acc                       36\n",
       "initial_list_status              7\n",
       "last_credit_pull_d              11\n",
       "collections_12_mths_ex_med     152\n",
       "policy_code                      7\n",
       "application_type                 7\n",
       "acc_now_delinq                  36\n",
       "chargeoff_within_12_mths       152\n",
       "delinq_amnt                     36\n",
       "pub_rec_bankruptcies          1372\n",
       "tax_liens                      112\n",
       "hardship_flag                    7\n",
       "disbursement_method              7\n",
       "debt_settlement_flag             7\n",
       "dtype: int64"
      ]
     },
     "execution_count": 13,
     "metadata": {},
     "output_type": "execute_result"
    }
   ],
   "source": [
    "loans_2007.isnull().sum()"
   ]
  },
  {
   "cell_type": "code",
   "execution_count": 14,
   "metadata": {},
   "outputs": [
    {
     "data": {
      "text/plain": [
       "(42542, 35)"
      ]
     },
     "execution_count": 14,
     "metadata": {},
     "output_type": "execute_result"
    }
   ],
   "source": [
    "loans_2007.shape"
   ]
  },
  {
   "cell_type": "markdown",
   "metadata": {},
   "source": [
    "While it is better to evaluate each of the missing values, looking to find ways to salvage some of the features, by considering imputation or cleaning, we are choosing to drop the loans with missing values. With over 42,000 cases we can still retain a sufficient sample size for building a classification model."
   ]
  },
  {
   "cell_type": "code",
   "execution_count": 15,
   "metadata": {},
   "outputs": [],
   "source": [
    "df = loans_2007.dropna()"
   ]
  },
  {
   "cell_type": "code",
   "execution_count": 16,
   "metadata": {},
   "outputs": [
    {
     "data": {
      "text/plain": [
       "(39985, 35)"
      ]
     },
     "execution_count": 16,
     "metadata": {},
     "output_type": "execute_result"
    }
   ],
   "source": [
    "df.shape"
   ]
  },
  {
   "cell_type": "markdown",
   "metadata": {},
   "source": [
    "Now I'll remove all of the rows from the dataset that contain values other than Fully Paid or Charged off - we will use these are our 2 target classes.\n",
    "\n",
    "Afterwards, we will encode the target feature, making it ready for modeling."
   ]
  },
  {
   "cell_type": "code",
   "execution_count": 17,
   "metadata": {},
   "outputs": [],
   "source": [
    "# filtering the dataframe for our target classes\n",
    "df = df[(df[\"loan_status\"] == \"Fully Paid\") | (df[\"loan_status\"] == \"Charged Off\")]"
   ]
  },
  {
   "cell_type": "code",
   "execution_count": 18,
   "metadata": {},
   "outputs": [],
   "source": [
    "# encoding the values\n",
    "df[\"loan_status\"] = df[\"loan_status\"].replace({\"Fully Paid\": 1,\n",
    "                                              \"Charged Off\": 0})"
   ]
  },
  {
   "cell_type": "code",
   "execution_count": 19,
   "metadata": {},
   "outputs": [
    {
     "data": {
      "text/plain": [
       "1    32647\n",
       "0     5304\n",
       "Name: loan_status, dtype: int64"
      ]
     },
     "execution_count": 19,
     "metadata": {},
     "output_type": "execute_result"
    }
   ],
   "source": [
    "df[\"loan_status\"].value_counts()"
   ]
  },
  {
   "cell_type": "markdown",
   "metadata": {},
   "source": [
    "Now, let's look for any columns that contain only one unique value and remove them. These columns won't be useful for the model since they don't add any information to each loan application. In addition, removing these columns will reduce the number of columns we'll need to explore further in the next mission.\n",
    "\n",
    "We'll need to compute the number of unique values in each column and drop the columns that contain only one unique value."
   ]
  },
  {
   "cell_type": "code",
   "execution_count": 20,
   "metadata": {},
   "outputs": [],
   "source": [
    "cols = df.columns\n",
    "\n",
    "drop_cols = []\n",
    "\n",
    "for col in cols:\n",
    "    if len(df[col].unique()) == 1:\n",
    "        drop_cols.append(col)"
   ]
  },
  {
   "cell_type": "code",
   "execution_count": 21,
   "metadata": {},
   "outputs": [
    {
     "data": {
      "text/plain": [
       "['pymnt_plan',\n",
       " 'initial_list_status',\n",
       " 'collections_12_mths_ex_med',\n",
       " 'policy_code',\n",
       " 'application_type',\n",
       " 'acc_now_delinq',\n",
       " 'chargeoff_within_12_mths',\n",
       " 'delinq_amnt',\n",
       " 'tax_liens',\n",
       " 'hardship_flag',\n",
       " 'disbursement_method']"
      ]
     },
     "execution_count": 21,
     "metadata": {},
     "output_type": "execute_result"
    }
   ],
   "source": [
    "drop_cols"
   ]
  },
  {
   "cell_type": "code",
   "execution_count": 22,
   "metadata": {},
   "outputs": [],
   "source": [
    "df = df.drop(drop_cols, axis=1)"
   ]
  },
  {
   "cell_type": "code",
   "execution_count": 23,
   "metadata": {},
   "outputs": [
    {
     "data": {
      "text/plain": [
       "(37951, 24)"
      ]
     },
     "execution_count": 23,
     "metadata": {},
     "output_type": "execute_result"
    }
   ],
   "source": [
    "df.shape"
   ]
  },
  {
   "cell_type": "markdown",
   "metadata": {},
   "source": [
    "It looks we we were able to remove 9 more columns since they only contained 1 unique value.\n",
    "\n",
    "Now that we are more familiar with the columns in the dataset and removed many columns that aren't useful for modeling we can move onto the next stage of our workflow. We'll now explore the individual features in greater depth and work towards training our machine learning model."
   ]
  },
  {
   "cell_type": "markdown",
   "metadata": {},
   "source": [
    "## Feature Engineering/Preprocessing\n",
    "\n",
    "Now, I'll prepare the data for machine learning by converting categorical columns to numeric columns, and removing any other extraneous columns we encounter throughout this process.\n"
   ]
  },
  {
   "cell_type": "code",
   "execution_count": 24,
   "metadata": {},
   "outputs": [],
   "source": [
    "# save dataset\n",
    "df.to_csv('clean_loans_2007')"
   ]
  },
  {
   "cell_type": "code",
   "execution_count": 25,
   "metadata": {},
   "outputs": [
    {
     "data": {
      "text/html": [
       "<div>\n",
       "<style scoped>\n",
       "    .dataframe tbody tr th:only-of-type {\n",
       "        vertical-align: middle;\n",
       "    }\n",
       "\n",
       "    .dataframe tbody tr th {\n",
       "        vertical-align: top;\n",
       "    }\n",
       "\n",
       "    .dataframe thead th {\n",
       "        text-align: right;\n",
       "    }\n",
       "</style>\n",
       "<table border=\"1\" class=\"dataframe\">\n",
       "  <thead>\n",
       "    <tr style=\"text-align: right;\">\n",
       "      <th></th>\n",
       "      <th>loan_amnt</th>\n",
       "      <th>term</th>\n",
       "      <th>int_rate</th>\n",
       "      <th>installment</th>\n",
       "      <th>emp_length</th>\n",
       "      <th>home_ownership</th>\n",
       "      <th>annual_inc</th>\n",
       "      <th>verification_status</th>\n",
       "      <th>loan_status</th>\n",
       "      <th>purpose</th>\n",
       "      <th>...</th>\n",
       "      <th>earliest_cr_line</th>\n",
       "      <th>inq_last_6mths</th>\n",
       "      <th>open_acc</th>\n",
       "      <th>pub_rec</th>\n",
       "      <th>revol_bal</th>\n",
       "      <th>revol_util</th>\n",
       "      <th>total_acc</th>\n",
       "      <th>last_credit_pull_d</th>\n",
       "      <th>pub_rec_bankruptcies</th>\n",
       "      <th>debt_settlement_flag</th>\n",
       "    </tr>\n",
       "  </thead>\n",
       "  <tbody>\n",
       "    <tr>\n",
       "      <th>0</th>\n",
       "      <td>5000.0</td>\n",
       "      <td>36 months</td>\n",
       "      <td>10.65%</td>\n",
       "      <td>162.87</td>\n",
       "      <td>10+ years</td>\n",
       "      <td>RENT</td>\n",
       "      <td>24000.0</td>\n",
       "      <td>Verified</td>\n",
       "      <td>1</td>\n",
       "      <td>credit_card</td>\n",
       "      <td>...</td>\n",
       "      <td>Jan-85</td>\n",
       "      <td>1.0</td>\n",
       "      <td>3.0</td>\n",
       "      <td>0.0</td>\n",
       "      <td>13648.0</td>\n",
       "      <td>83.70%</td>\n",
       "      <td>9.0</td>\n",
       "      <td>Nov-18</td>\n",
       "      <td>0.0</td>\n",
       "      <td>N</td>\n",
       "    </tr>\n",
       "    <tr>\n",
       "      <th>1</th>\n",
       "      <td>2500.0</td>\n",
       "      <td>60 months</td>\n",
       "      <td>15.27%</td>\n",
       "      <td>59.83</td>\n",
       "      <td>&lt; 1 year</td>\n",
       "      <td>RENT</td>\n",
       "      <td>30000.0</td>\n",
       "      <td>Source Verified</td>\n",
       "      <td>0</td>\n",
       "      <td>car</td>\n",
       "      <td>...</td>\n",
       "      <td>Apr-99</td>\n",
       "      <td>5.0</td>\n",
       "      <td>3.0</td>\n",
       "      <td>0.0</td>\n",
       "      <td>1687.0</td>\n",
       "      <td>9.40%</td>\n",
       "      <td>4.0</td>\n",
       "      <td>Oct-16</td>\n",
       "      <td>0.0</td>\n",
       "      <td>N</td>\n",
       "    </tr>\n",
       "    <tr>\n",
       "      <th>2</th>\n",
       "      <td>2400.0</td>\n",
       "      <td>36 months</td>\n",
       "      <td>15.96%</td>\n",
       "      <td>84.33</td>\n",
       "      <td>10+ years</td>\n",
       "      <td>RENT</td>\n",
       "      <td>12252.0</td>\n",
       "      <td>Not Verified</td>\n",
       "      <td>1</td>\n",
       "      <td>small_business</td>\n",
       "      <td>...</td>\n",
       "      <td>Nov-01</td>\n",
       "      <td>2.0</td>\n",
       "      <td>2.0</td>\n",
       "      <td>0.0</td>\n",
       "      <td>2956.0</td>\n",
       "      <td>98.50%</td>\n",
       "      <td>10.0</td>\n",
       "      <td>Jun-17</td>\n",
       "      <td>0.0</td>\n",
       "      <td>N</td>\n",
       "    </tr>\n",
       "    <tr>\n",
       "      <th>3</th>\n",
       "      <td>10000.0</td>\n",
       "      <td>36 months</td>\n",
       "      <td>13.49%</td>\n",
       "      <td>339.31</td>\n",
       "      <td>10+ years</td>\n",
       "      <td>RENT</td>\n",
       "      <td>49200.0</td>\n",
       "      <td>Source Verified</td>\n",
       "      <td>1</td>\n",
       "      <td>other</td>\n",
       "      <td>...</td>\n",
       "      <td>Feb-96</td>\n",
       "      <td>1.0</td>\n",
       "      <td>10.0</td>\n",
       "      <td>0.0</td>\n",
       "      <td>5598.0</td>\n",
       "      <td>21%</td>\n",
       "      <td>37.0</td>\n",
       "      <td>Apr-16</td>\n",
       "      <td>0.0</td>\n",
       "      <td>N</td>\n",
       "    </tr>\n",
       "    <tr>\n",
       "      <th>4</th>\n",
       "      <td>3000.0</td>\n",
       "      <td>60 months</td>\n",
       "      <td>12.69%</td>\n",
       "      <td>67.79</td>\n",
       "      <td>1 year</td>\n",
       "      <td>RENT</td>\n",
       "      <td>80000.0</td>\n",
       "      <td>Source Verified</td>\n",
       "      <td>1</td>\n",
       "      <td>other</td>\n",
       "      <td>...</td>\n",
       "      <td>Jan-96</td>\n",
       "      <td>0.0</td>\n",
       "      <td>15.0</td>\n",
       "      <td>0.0</td>\n",
       "      <td>27783.0</td>\n",
       "      <td>53.90%</td>\n",
       "      <td>38.0</td>\n",
       "      <td>Apr-18</td>\n",
       "      <td>0.0</td>\n",
       "      <td>N</td>\n",
       "    </tr>\n",
       "  </tbody>\n",
       "</table>\n",
       "<p>5 rows × 24 columns</p>\n",
       "</div>"
      ],
      "text/plain": [
       "   loan_amnt        term int_rate  installment emp_length home_ownership  \\\n",
       "0     5000.0   36 months   10.65%       162.87  10+ years           RENT   \n",
       "1     2500.0   60 months   15.27%        59.83   < 1 year           RENT   \n",
       "2     2400.0   36 months   15.96%        84.33  10+ years           RENT   \n",
       "3    10000.0   36 months   13.49%       339.31  10+ years           RENT   \n",
       "4     3000.0   60 months   12.69%        67.79     1 year           RENT   \n",
       "\n",
       "   annual_inc verification_status  loan_status         purpose  \\\n",
       "0     24000.0            Verified            1     credit_card   \n",
       "1     30000.0     Source Verified            0             car   \n",
       "2     12252.0        Not Verified            1  small_business   \n",
       "3     49200.0     Source Verified            1           other   \n",
       "4     80000.0     Source Verified            1           other   \n",
       "\n",
       "          ...          earliest_cr_line inq_last_6mths  open_acc  pub_rec  \\\n",
       "0         ...                    Jan-85            1.0       3.0      0.0   \n",
       "1         ...                    Apr-99            5.0       3.0      0.0   \n",
       "2         ...                    Nov-01            2.0       2.0      0.0   \n",
       "3         ...                    Feb-96            1.0      10.0      0.0   \n",
       "4         ...                    Jan-96            0.0      15.0      0.0   \n",
       "\n",
       "  revol_bal  revol_util  total_acc  last_credit_pull_d  pub_rec_bankruptcies  \\\n",
       "0   13648.0      83.70%        9.0              Nov-18                   0.0   \n",
       "1    1687.0       9.40%        4.0              Oct-16                   0.0   \n",
       "2    2956.0      98.50%       10.0              Jun-17                   0.0   \n",
       "3    5598.0         21%       37.0              Apr-16                   0.0   \n",
       "4   27783.0      53.90%       38.0              Apr-18                   0.0   \n",
       "\n",
       "  debt_settlement_flag  \n",
       "0                    N  \n",
       "1                    N  \n",
       "2                    N  \n",
       "3                    N  \n",
       "4                    N  \n",
       "\n",
       "[5 rows x 24 columns]"
      ]
     },
     "execution_count": 25,
     "metadata": {},
     "output_type": "execute_result"
    }
   ],
   "source": [
    "df.head()"
   ]
  },
  {
   "cell_type": "code",
   "execution_count": 26,
   "metadata": {},
   "outputs": [],
   "source": [
    "# extraneous\n",
    "df = df.drop(['pub_rec_bankruptcies'], axis=1)"
   ]
  },
  {
   "cell_type": "code",
   "execution_count": 27,
   "metadata": {},
   "outputs": [
    {
     "data": {
      "text/plain": [
       "(37951, 23)"
      ]
     },
     "execution_count": 27,
     "metadata": {},
     "output_type": "execute_result"
    }
   ],
   "source": [
    "df.shape"
   ]
  },
  {
   "cell_type": "markdown",
   "metadata": {},
   "source": [
    "Converting object columns to numeric type. Also, some columns need to be cleaned because they contain faulty values - e.g. int_rate has % inside it.\n",
    "\n",
    "First, lets take a closer look at some of the object features."
   ]
  },
  {
   "cell_type": "code",
   "execution_count": 28,
   "metadata": {},
   "outputs": [
    {
     "data": {
      "text/plain": [
       "Index(['term', 'int_rate', 'emp_length', 'home_ownership',\n",
       "       'verification_status', 'purpose', 'title', 'addr_state',\n",
       "       'earliest_cr_line', 'revol_util', 'last_credit_pull_d',\n",
       "       'debt_settlement_flag'],\n",
       "      dtype='object')"
      ]
     },
     "execution_count": 28,
     "metadata": {},
     "output_type": "execute_result"
    }
   ],
   "source": [
    "object_cols = df.select_dtypes(include=['object']).columns\n",
    "object_cols"
   ]
  },
  {
   "cell_type": "code",
   "execution_count": 29,
   "metadata": {},
   "outputs": [
    {
     "name": "stdout",
     "output_type": "stream",
     "text": [
      "RENT        18091\n",
      "MORTGAGE    16989\n",
      "OWN          2775\n",
      "OTHER          96\n",
      "Name: home_ownership, dtype: int64\n",
      "Not Verified       15771\n",
      "Verified           12376\n",
      "Source Verified     9804\n",
      "Name: verification_status, dtype: int64\n",
      "10+ years    8778\n",
      "< 1 year     4410\n",
      "2 years      4303\n",
      "3 years      4033\n",
      "4 years      3390\n",
      "5 years      3246\n",
      "1 year       3148\n",
      "6 years      2195\n",
      "7 years      1749\n",
      "8 years      1458\n",
      "9 years      1241\n",
      "Name: emp_length, dtype: int64\n",
      " 36 months    27536\n",
      " 60 months    10415\n",
      "Name: term, dtype: int64\n",
      "CA    6825\n",
      "NY    3624\n",
      "FL    2727\n",
      "TX    2628\n",
      "NJ    1792\n",
      "IL    1475\n",
      "PA    1472\n",
      "VA    1344\n",
      "GA    1333\n",
      "MA    1275\n",
      "OH    1173\n",
      "MD    1009\n",
      "AZ     820\n",
      "WA     784\n",
      "CO     746\n",
      "NC     730\n",
      "CT     724\n",
      "MI     679\n",
      "MO     653\n",
      "MN     584\n",
      "NV     479\n",
      "SC     456\n",
      "OR     430\n",
      "WI     428\n",
      "AL     426\n",
      "LA     417\n",
      "KY     321\n",
      "OK     292\n",
      "KS     258\n",
      "UT     247\n",
      "AR     232\n",
      "DC     209\n",
      "RI     195\n",
      "NM     178\n",
      "HI     168\n",
      "WV     168\n",
      "NH     159\n",
      "DE     108\n",
      "MT      79\n",
      "AK      78\n",
      "WY      78\n",
      "SD      61\n",
      "VT      52\n",
      "MS      19\n",
      "TN      10\n",
      "ID       4\n",
      "IA       1\n",
      "NE       1\n",
      "Name: addr_state, dtype: int64\n"
     ]
    }
   ],
   "source": [
    "cols = ['home_ownership', \n",
    "        'verification_status', \n",
    "        'emp_length', \n",
    "        'term', \n",
    "        'addr_state']\n",
    "\n",
    "for c in cols:\n",
    "    print(df[c].value_counts())"
   ]
  },
  {
   "cell_type": "code",
   "execution_count": 30,
   "metadata": {},
   "outputs": [
    {
     "name": "stdout",
     "output_type": "stream",
     "text": [
      "debt_consolidation    17969\n",
      "credit_card            4906\n",
      "other                  3720\n",
      "home_improvement       2836\n",
      "major_purchase         2090\n",
      "small_business         1730\n",
      "car                    1480\n",
      "wedding                 915\n",
      "medical                 659\n",
      "moving                  548\n",
      "house                   364\n",
      "vacation                345\n",
      "educational             294\n",
      "renewable_energy         95\n",
      "Name: purpose, dtype: int64\n",
      "Debt Consolidation                  2127\n",
      "Debt Consolidation Loan             1691\n",
      "Personal Loan                        620\n",
      "Consolidation                        499\n",
      "debt consolidation                   483\n",
      "Home Improvement                     345\n",
      "Credit Card Consolidation            342\n",
      "Debt consolidation                   318\n",
      "Small Business Loan                  317\n",
      "Credit Card Loan                     307\n",
      "Personal                             295\n",
      "Consolidation Loan                   252\n",
      "Home Improvement Loan                239\n",
      "personal loan                        212\n",
      "Wedding Loan                         207\n",
      "Loan                                 205\n",
      "personal                             201\n",
      "consolidation                        197\n",
      "Car Loan                             195\n",
      "Other Loan                           179\n",
      "Wedding                              150\n",
      "Credit Card Payoff                   149\n",
      "Credit Card Refinance                141\n",
      "Major Purchase Loan                  137\n",
      "Consolidate                          126\n",
      "Medical                              114\n",
      "Credit Card                          113\n",
      "home improvement                     106\n",
      "My Loan                               90\n",
      "Credit Cards                          88\n",
      "                                    ... \n",
      "Ferrari                                1\n",
      "CANVAS PRINTER                         1\n",
      "Back Where We Belong                   1\n",
      "canoe purchase                         1\n",
      "Sarah's debt consolidation             1\n",
      "carols loan                            1\n",
      "Consolidating Debt P2P Style           1\n",
      "Firebird Loan                          1\n",
      "ivf loan                               1\n",
      "Wedding/Ring Loan                      1\n",
      "credit card and tax pay off            1\n",
      "top up                                 1\n",
      "Debt and Currency Purchase             1\n",
      "Amy's Wedding                          1\n",
      "transfer balance                       1\n",
      "Debt-down                              1\n",
      "consolidate car and motorcycle         1\n",
      "PhD Finance candidate graduating       1\n",
      " debt consolidation                    1\n",
      "Wells BofA Credit Card Refi            1\n",
      "vinman                                 1\n",
      "Home Improovement Loan                 1\n",
      "wedding 2011                           1\n",
      "debt elimination                       1\n",
      "Pharmacy School Entrance               1\n",
      "JPR Home Loan                          1\n",
      "Citi Consolidation                     1\n",
      "Consolidate Car and Card               1\n",
      "Refi And payoff Credit card debt       1\n",
      "loan for ebay purchase                 1\n",
      "Name: title, Length: 18719, dtype: int64\n"
     ]
    }
   ],
   "source": [
    "# looking at possible overlap for purpose and title\n",
    "\n",
    "print(df[\"purpose\"].value_counts())\n",
    "print(df[\"title\"].value_counts())"
   ]
  },
  {
   "cell_type": "markdown",
   "metadata": {},
   "source": [
    "The home_ownership, verification_status, emp_length, and term columns each contain a few discrete categorical values. We should encode these columns as dummy variables and keep them.\n",
    "\n",
    "It seems like the purpose and title columns do contain overlapping information but we'll keep the purpose column since it contains a few discrete values. In addition, the title column has data quality issues since many of the values are repeated with slight modifications (e.g. Debt Consolidation and Debt Consolidation Loan and debt consolidation)."
   ]
  },
  {
   "cell_type": "code",
   "execution_count": 31,
   "metadata": {},
   "outputs": [],
   "source": [
    "# dropping extraneous features\n",
    "\n",
    "df = df.drop(['last_credit_pull_d',\n",
    "             'addr_state',\n",
    "             'title',\n",
    "             'earliest_cr_line',\n",
    "             'debt_settlement_flag'], axis = 1)"
   ]
  },
  {
   "cell_type": "code",
   "execution_count": 32,
   "metadata": {},
   "outputs": [
    {
     "data": {
      "text/plain": [
       "(37951, 18)"
      ]
     },
     "execution_count": 32,
     "metadata": {},
     "output_type": "execute_result"
    }
   ],
   "source": [
    "df.shape"
   ]
  },
  {
   "cell_type": "code",
   "execution_count": 33,
   "metadata": {},
   "outputs": [],
   "source": [
    "# transforming int_rate and revol_util\n",
    "\n",
    "df['int_rate'] = df.int_rate.str.replace(\"%\", \"\").astype('float')"
   ]
  },
  {
   "cell_type": "code",
   "execution_count": 34,
   "metadata": {},
   "outputs": [
    {
     "data": {
      "text/plain": [
       "0    10.65\n",
       "1    15.27\n",
       "2    15.96\n",
       "3    13.49\n",
       "4    12.69\n",
       "Name: int_rate, dtype: float64"
      ]
     },
     "execution_count": 34,
     "metadata": {},
     "output_type": "execute_result"
    }
   ],
   "source": [
    "# verifying\n",
    "df.int_rate.head()"
   ]
  },
  {
   "cell_type": "code",
   "execution_count": 35,
   "metadata": {},
   "outputs": [],
   "source": [
    "df['revol_util'] = df.revol_util.str.replace(\"%\", \"\").astype('float')"
   ]
  },
  {
   "cell_type": "code",
   "execution_count": 36,
   "metadata": {},
   "outputs": [
    {
     "data": {
      "text/plain": [
       "0    83.7\n",
       "1     9.4\n",
       "2    98.5\n",
       "3    21.0\n",
       "4    53.9\n",
       "Name: revol_util, dtype: float64"
      ]
     },
     "execution_count": 36,
     "metadata": {},
     "output_type": "execute_result"
    }
   ],
   "source": [
    "df.revol_util.head()"
   ]
  },
  {
   "cell_type": "code",
   "execution_count": 37,
   "metadata": {},
   "outputs": [
    {
     "data": {
      "text/plain": [
       "10+ years    8778\n",
       "< 1 year     4410\n",
       "2 years      4303\n",
       "3 years      4033\n",
       "4 years      3390\n",
       "5 years      3246\n",
       "1 year       3148\n",
       "6 years      2195\n",
       "7 years      1749\n",
       "8 years      1458\n",
       "9 years      1241\n",
       "Name: emp_length, dtype: int64"
      ]
     },
     "execution_count": 37,
     "metadata": {},
     "output_type": "execute_result"
    }
   ],
   "source": [
    "df.emp_length.value_counts()"
   ]
  },
  {
   "cell_type": "code",
   "execution_count": 38,
   "metadata": {},
   "outputs": [],
   "source": [
    "# cleaning up emp_length\n",
    "\n",
    "emp_dict = {\n",
    "        \"10+ years\": 10,\n",
    "        \"9 years\": 9,\n",
    "        \"8 years\": 8,\n",
    "        \"7 years\": 7,\n",
    "        \"6 years\": 6,\n",
    "        \"5 years\": 5,\n",
    "        \"4 years\": 4,\n",
    "        \"3 years\": 3,\n",
    "        \"2 years\": 2,\n",
    "        \"1 year\": 1,\n",
    "    \"< 1 year\": 0,\n",
    "        \"n/a\": 0\n",
    "    }\n",
    "\n",
    "df[\"emp_length\"] = df.emp_length.replace(emp_dict)"
   ]
  },
  {
   "cell_type": "code",
   "execution_count": 39,
   "metadata": {},
   "outputs": [
    {
     "data": {
      "text/plain": [
       "10    8778\n",
       "0     4410\n",
       "2     4303\n",
       "3     4033\n",
       "4     3390\n",
       "5     3246\n",
       "1     3148\n",
       "6     2195\n",
       "7     1749\n",
       "8     1458\n",
       "9     1241\n",
       "Name: emp_length, dtype: int64"
      ]
     },
     "execution_count": 39,
     "metadata": {},
     "output_type": "execute_result"
    }
   ],
   "source": [
    "df.emp_length.value_counts()"
   ]
  },
  {
   "cell_type": "code",
   "execution_count": 40,
   "metadata": {},
   "outputs": [
    {
     "name": "stdout",
     "output_type": "stream",
     "text": [
      "<class 'pandas.core.frame.DataFrame'>\n",
      "Int64Index: 37951 entries, 0 to 39692\n",
      "Data columns (total 18 columns):\n",
      "loan_amnt              37951 non-null float64\n",
      "term                   37951 non-null object\n",
      "int_rate               37951 non-null float64\n",
      "installment            37951 non-null float64\n",
      "emp_length             37951 non-null int64\n",
      "home_ownership         37951 non-null object\n",
      "annual_inc             37951 non-null float64\n",
      "verification_status    37951 non-null object\n",
      "loan_status            37951 non-null int64\n",
      "purpose                37951 non-null object\n",
      "dti                    37951 non-null float64\n",
      "delinq_2yrs            37951 non-null float64\n",
      "inq_last_6mths         37951 non-null float64\n",
      "open_acc               37951 non-null float64\n",
      "pub_rec                37951 non-null float64\n",
      "revol_bal              37951 non-null float64\n",
      "revol_util             37951 non-null float64\n",
      "total_acc              37951 non-null float64\n",
      "dtypes: float64(12), int64(2), object(4)\n",
      "memory usage: 5.5+ MB\n"
     ]
    }
   ],
   "source": [
    "df.info()"
   ]
  },
  {
   "cell_type": "markdown",
   "metadata": {},
   "source": [
    "I'll now encode home_ownership, verification_status, purpose, and term using dummy variables."
   ]
  },
  {
   "cell_type": "code",
   "execution_count": 41,
   "metadata": {},
   "outputs": [],
   "source": [
    "dummies = pd.get_dummies(df[[\"home_ownership\",\n",
    "                             \"verification_status\",\n",
    "                             \"purpose\",\n",
    "                             \"term\"]])\n",
    "\n",
    "df = pd.concat([df, dummies], axis=1)"
   ]
  },
  {
   "cell_type": "code",
   "execution_count": 42,
   "metadata": {},
   "outputs": [],
   "source": [
    "df = df.drop([\"home_ownership\",\n",
    "              \"verification_status\",\n",
    "              \"purpose\",\n",
    "              \"term\"], axis=1)"
   ]
  },
  {
   "cell_type": "code",
   "execution_count": 43,
   "metadata": {},
   "outputs": [
    {
     "data": {
      "text/plain": [
       "(37951, 37)"
      ]
     },
     "execution_count": 43,
     "metadata": {},
     "output_type": "execute_result"
    }
   ],
   "source": [
    "df.shape"
   ]
  },
  {
   "cell_type": "code",
   "execution_count": 44,
   "metadata": {},
   "outputs": [
    {
     "name": "stdout",
     "output_type": "stream",
     "text": [
      "<class 'pandas.core.frame.DataFrame'>\n",
      "Int64Index: 37951 entries, 0 to 39692\n",
      "Data columns (total 37 columns):\n",
      "loan_amnt                              37951 non-null float64\n",
      "int_rate                               37951 non-null float64\n",
      "installment                            37951 non-null float64\n",
      "emp_length                             37951 non-null int64\n",
      "annual_inc                             37951 non-null float64\n",
      "loan_status                            37951 non-null int64\n",
      "dti                                    37951 non-null float64\n",
      "delinq_2yrs                            37951 non-null float64\n",
      "inq_last_6mths                         37951 non-null float64\n",
      "open_acc                               37951 non-null float64\n",
      "pub_rec                                37951 non-null float64\n",
      "revol_bal                              37951 non-null float64\n",
      "revol_util                             37951 non-null float64\n",
      "total_acc                              37951 non-null float64\n",
      "home_ownership_MORTGAGE                37951 non-null uint8\n",
      "home_ownership_OTHER                   37951 non-null uint8\n",
      "home_ownership_OWN                     37951 non-null uint8\n",
      "home_ownership_RENT                    37951 non-null uint8\n",
      "verification_status_Not Verified       37951 non-null uint8\n",
      "verification_status_Source Verified    37951 non-null uint8\n",
      "verification_status_Verified           37951 non-null uint8\n",
      "purpose_car                            37951 non-null uint8\n",
      "purpose_credit_card                    37951 non-null uint8\n",
      "purpose_debt_consolidation             37951 non-null uint8\n",
      "purpose_educational                    37951 non-null uint8\n",
      "purpose_home_improvement               37951 non-null uint8\n",
      "purpose_house                          37951 non-null uint8\n",
      "purpose_major_purchase                 37951 non-null uint8\n",
      "purpose_medical                        37951 non-null uint8\n",
      "purpose_moving                         37951 non-null uint8\n",
      "purpose_other                          37951 non-null uint8\n",
      "purpose_renewable_energy               37951 non-null uint8\n",
      "purpose_small_business                 37951 non-null uint8\n",
      "purpose_vacation                       37951 non-null uint8\n",
      "purpose_wedding                        37951 non-null uint8\n",
      "term_ 36 months                        37951 non-null uint8\n",
      "term_ 60 months                        37951 non-null uint8\n",
      "dtypes: float64(12), int64(2), uint8(23)\n",
      "memory usage: 5.2 MB\n"
     ]
    }
   ],
   "source": [
    "df.info()"
   ]
  },
  {
   "cell_type": "code",
   "execution_count": 45,
   "metadata": {},
   "outputs": [],
   "source": [
    "# save as csv\n",
    "df.to_csv(\"model_ready_loans_2007.csv\")"
   ]
  },
  {
   "cell_type": "markdown",
   "metadata": {},
   "source": [
    "Now that we have our features processed and ready for the modeling, we'll experiment with training models and evaluating accuracy using cross-validation.\n",
    "\n",
    "\n",
    "## Making Predictions\n",
    "\n",
    "Since our target classes are imbalanced, we need to take that into consideration as we build models. We want to avoid false positives and false negatives."
   ]
  },
  {
   "cell_type": "code",
   "execution_count": 46,
   "metadata": {},
   "outputs": [
    {
     "name": "stdout",
     "output_type": "stream",
     "text": [
      "<class 'pandas.core.frame.DataFrame'>\n",
      "Int64Index: 37951 entries, 0 to 39692\n",
      "Data columns (total 36 columns):\n",
      "loan_amnt                              37951 non-null float64\n",
      "int_rate                               37951 non-null float64\n",
      "installment                            37951 non-null float64\n",
      "emp_length                             37951 non-null int64\n",
      "annual_inc                             37951 non-null float64\n",
      "dti                                    37951 non-null float64\n",
      "delinq_2yrs                            37951 non-null float64\n",
      "inq_last_6mths                         37951 non-null float64\n",
      "open_acc                               37951 non-null float64\n",
      "pub_rec                                37951 non-null float64\n",
      "revol_bal                              37951 non-null float64\n",
      "revol_util                             37951 non-null float64\n",
      "total_acc                              37951 non-null float64\n",
      "home_ownership_MORTGAGE                37951 non-null uint8\n",
      "home_ownership_OTHER                   37951 non-null uint8\n",
      "home_ownership_OWN                     37951 non-null uint8\n",
      "home_ownership_RENT                    37951 non-null uint8\n",
      "verification_status_Not Verified       37951 non-null uint8\n",
      "verification_status_Source Verified    37951 non-null uint8\n",
      "verification_status_Verified           37951 non-null uint8\n",
      "purpose_car                            37951 non-null uint8\n",
      "purpose_credit_card                    37951 non-null uint8\n",
      "purpose_debt_consolidation             37951 non-null uint8\n",
      "purpose_educational                    37951 non-null uint8\n",
      "purpose_home_improvement               37951 non-null uint8\n",
      "purpose_house                          37951 non-null uint8\n",
      "purpose_major_purchase                 37951 non-null uint8\n",
      "purpose_medical                        37951 non-null uint8\n",
      "purpose_moving                         37951 non-null uint8\n",
      "purpose_other                          37951 non-null uint8\n",
      "purpose_renewable_energy               37951 non-null uint8\n",
      "purpose_small_business                 37951 non-null uint8\n",
      "purpose_vacation                       37951 non-null uint8\n",
      "purpose_wedding                        37951 non-null uint8\n",
      "term_ 36 months                        37951 non-null uint8\n",
      "term_ 60 months                        37951 non-null uint8\n",
      "dtypes: float64(12), int64(1), uint8(23)\n",
      "memory usage: 4.9 MB\n"
     ]
    }
   ],
   "source": [
    "features = df.drop(['loan_status'], axis=1)\n",
    "target = df['loan_status']\n",
    "features.info()"
   ]
  },
  {
   "cell_type": "code",
   "execution_count": 47,
   "metadata": {},
   "outputs": [],
   "source": [
    "# using logistic regression\n",
    "from sklearn.linear_model import LogisticRegression\n",
    "\n",
    "model = LogisticRegression()\n",
    "\n",
    "# cross validation predictions\n",
    "from sklearn.model_selection import cross_val_predict\n",
    "\n",
    "predictions = cross_val_predict(estimator=model,\n",
    "                                X=features,\n",
    "                                y=target,\n",
    "                               cv=3)"
   ]
  },
  {
   "cell_type": "code",
   "execution_count": 48,
   "metadata": {},
   "outputs": [
    {
     "data": {
      "text/plain": [
       "0.9992095069958631"
      ]
     },
     "execution_count": 48,
     "metadata": {},
     "output_type": "execute_result"
    }
   ],
   "source": [
    "predictions.mean()"
   ]
  },
  {
   "cell_type": "code",
   "execution_count": 49,
   "metadata": {},
   "outputs": [
    {
     "name": "stdout",
     "output_type": "stream",
     "text": [
      "True positives: 32625\n",
      "False positives: 5296\n",
      "True negatives: 8\n",
      "False negatives: 22\n"
     ]
    }
   ],
   "source": [
    "# False positives.\n",
    "fp_filter = (predictions == 1) & (df[\"loan_status\"] == 0)\n",
    "fp = len(predictions[fp_filter])\n",
    "\n",
    "# True positives.\n",
    "tp_filter = (predictions == 1) & (df[\"loan_status\"] == 1)\n",
    "tp = len(predictions[tp_filter])\n",
    "\n",
    "# False negatives.\n",
    "fn_filter = (predictions == 0) & (df[\"loan_status\"] == 1)\n",
    "fn = len(predictions[fn_filter])\n",
    "\n",
    "# True negatives\n",
    "tn_filter = (predictions == 0) & (df[\"loan_status\"] == 0)\n",
    "tn = len(predictions[tn_filter])\n",
    "\n",
    "print(f'True positives: {tp}')\n",
    "print(f'False positives: {fp}')\n",
    "print(f'True negatives: {tn}')\n",
    "print(f'False negatives: {fn}')"
   ]
  },
  {
   "cell_type": "code",
   "execution_count": 50,
   "metadata": {},
   "outputs": [
    {
     "name": "stdout",
     "output_type": "stream",
     "text": [
      "True positive rate: 0.9993261249119367\n",
      "False positive rate: 0.9984917043740573\n"
     ]
    }
   ],
   "source": [
    "tpr = tp  / (tp + fn)\n",
    "fpr = fp  / (fp + tn)\n",
    "print(f'True positive rate: {tpr}')\n",
    "print(f'False positive rate: {fpr}')"
   ]
  },
  {
   "cell_type": "markdown",
   "metadata": {},
   "source": [
    "The model basically said everyone would pay off their loan - this isnt good. Lets now use sklearns metrics functions."
   ]
  },
  {
   "cell_type": "code",
   "execution_count": 51,
   "metadata": {},
   "outputs": [
    {
     "name": "stdout",
     "output_type": "stream",
     "text": [
      "[[    8  5296]\n",
      " [   22 32625]]\n",
      "Recall score:  0.9993261249119367\n",
      "Precision score:  0.8603412357269059\n"
     ]
    }
   ],
   "source": [
    "from sklearn.metrics import confusion_matrix, recall_score, precision_score\n",
    "\n",
    "cm = confusion_matrix(target, predictions)\n",
    "print(cm)\n",
    "print(\"Recall score: \",recall_score(target, predictions))\n",
    "print(\"Precision score: \",precision_score(target, predictions))"
   ]
  },
  {
   "cell_type": "code",
   "execution_count": 52,
   "metadata": {},
   "outputs": [
    {
     "data": {
      "text/plain": [
       "<Figure size 640x480 with 1 Axes>"
      ]
     },
     "metadata": {},
     "output_type": "display_data"
    }
   ],
   "source": [
    "import matplotlib.pyplot as plt\n",
    "import numpy as np\n",
    "plt.clf()\n",
    "plt.imshow(cm, interpolation='nearest', cmap=plt.cm.Wistia)\n",
    "classNames = ['Not paid off','Paid off']\n",
    "plt.title('model1 Confusion Matrix')\n",
    "plt.ylabel('True label')\n",
    "plt.xlabel('Predicted label')\n",
    "tick_marks = np.arange(len(classNames))\n",
    "plt.xticks(tick_marks, classNames, rotation=45)\n",
    "plt.yticks(tick_marks, classNames)\n",
    "s = [['TN','FP'], ['FN', 'TP']]\n",
    "for i in range(2):\n",
    "    for j in range(2):\n",
    "        plt.text(j,i, str(s[i][j])+\" = \"+str(cm[i][j]))\n",
    "plt.show()"
   ]
  },
  {
   "cell_type": "markdown",
   "metadata": {},
   "source": [
    "# Findings:\n",
    "\n",
    "- 5,296 people the model said would pay off their loans (False positives), didnt. This means we lose money.\n",
    "- 22 people who were said not to pay off their loan (False negatives), did. This means we also lost the money we could have earned."
   ]
  },
  {
   "cell_type": "markdown",
   "metadata": {},
   "source": [
    "Unfortunately, even through we're not using accuracy as an error metric, the classifier is, and it isn't accounting for the imbalance in the classes. There are a few ways to get a classifier to correct for imbalanced classes. The two main ways are:\n",
    "\n",
    "- Use oversampling and undersampling to ensure that the classifier gets input that has a balanced number of each class.\n",
    "- Tell the classifier to penalize misclassifications of the less prevalent class more than the other class.\n",
    "\n",
    "The second method is actually much easier to implement using scikit-learn.\n",
    "\n",
    "We can do this by setting the class_weight parameter to balanced when creating the LogisticRegression instance. This tells scikit-learn to penalize the misclassification of the minority class during the training process. The penalty means that the logistic regression classifier pays more attention to correctly classifying rows where loan_status is 0. This lowers accuracy when loan_status is 1, but raises accuracy when loan_status is 0."
   ]
  },
  {
   "cell_type": "code",
   "execution_count": 53,
   "metadata": {},
   "outputs": [
    {
     "name": "stdout",
     "output_type": "stream",
     "text": [
      "[[ 3279  2025]\n",
      " [11152 21495]]\n",
      "Recall score:  0.6584065917235887\n",
      "Precision score:  0.9139030612244898\n"
     ]
    }
   ],
   "source": [
    "model2 = LogisticRegression(class_weight='balanced')\n",
    "\n",
    "# cross validation predictions\n",
    "predictions2 = cross_val_predict(estimator=model2,\n",
    "                                X=features,\n",
    "                                y=target,\n",
    "                               cv=3)\n",
    "cm2 = confusion_matrix(target, predictions2)\n",
    "print(cm2)\n",
    "print(\"Recall score: \",recall_score(target, predictions2))\n",
    "print(\"Precision score: \",precision_score(target, predictions2))"
   ]
  },
  {
   "cell_type": "code",
   "execution_count": 54,
   "metadata": {},
   "outputs": [
    {
     "name": "stdout",
     "output_type": "stream",
     "text": [
      "False positive rate: 0.34159340827641127\n"
     ]
    }
   ],
   "source": [
    "print(f'False positive rate: {1- recall_score(target, predictions2)}')"
   ]
  },
  {
   "cell_type": "code",
   "execution_count": 55,
   "metadata": {},
   "outputs": [
    {
     "name": "stdout",
     "output_type": "stream",
     "text": [
      "True positive rate: 0.6584065917235887\n",
      "False positive rate: 0.38178733031674206\n"
     ]
    }
   ],
   "source": [
    "fp_filter = (predictions2 == 1) & (df[\"loan_status\"] == 0)\n",
    "fp = len(predictions2[fp_filter])\n",
    "\n",
    "# True positives.\n",
    "tp_filter = (predictions2 == 1) & (df[\"loan_status\"] == 1)\n",
    "tp = len(predictions2[tp_filter])\n",
    "\n",
    "# False negatives.\n",
    "fn_filter = (predictions2 == 0) & (df[\"loan_status\"] == 1)\n",
    "fn = len(predictions2[fn_filter])\n",
    "\n",
    "# True negatives\n",
    "tn_filter = (predictions2 == 0) & (df[\"loan_status\"] == 0)\n",
    "tn = len(predictions2[tn_filter])\n",
    "\n",
    "tpr2 = tp  / (tp + fn)\n",
    "fpr2 = fp  / (fp + tn)\n",
    "print(f'True positive rate: {tpr2}')\n",
    "print(f'False positive rate: {fpr2}')"
   ]
  },
  {
   "cell_type": "code",
   "execution_count": 56,
   "metadata": {},
   "outputs": [
    {
     "data": {
      "image/png": "[encoded data removed]",
      "text/plain": [
       "<Figure size 432x288 with 1 Axes>"
      ]
     },
     "metadata": {
      "needs_background": "light"
     },
     "output_type": "display_data"
    }
   ],
   "source": [
    "plt.clf()\n",
    "plt.imshow(cm2, interpolation='nearest', cmap=plt.cm.Wistia)\n",
    "classNames = ['Not paid off','Paid off']\n",
    "plt.title('model2 Confusion Matrix')\n",
    "plt.ylabel('True label')\n",
    "plt.xlabel('Predicted label')\n",
    "tick_marks = np.arange(len(classNames))\n",
    "plt.xticks(tick_marks, classNames, rotation=45)\n",
    "plt.yticks(tick_marks, classNames)\n",
    "s = [['TN','FP'], ['FN', 'TP']]\n",
    "for i in range(2):\n",
    "    for j in range(2):\n",
    "        plt.text(j,i, str(s[i][j])+\" = \"+str(cm2[i][j]))\n",
    "plt.show()"
   ]
  },
  {
   "cell_type": "markdown",
   "metadata": {},
   "source": [
    "We can further improve this model by creating a penalty dictionary containing penalty values for each class."
   ]
  },
  {
   "cell_type": "code",
   "execution_count": 57,
   "metadata": {},
   "outputs": [
    {
     "name": "stdout",
     "output_type": "stream",
     "text": [
      "[[ 4805   499]\n",
      " [24418  8229]]\n",
      "Recall score:  0.25205991362146596\n",
      "Precision score:  0.9428276810265811\n",
      "False positive rate: 0.747940086378534\n"
     ]
    }
   ],
   "source": [
    "penalty = {0: 10,\n",
    "          1: 1}\n",
    "\n",
    "model3 = LogisticRegression(class_weight=penalty)\n",
    "\n",
    "predictions3 = cross_val_predict(model3,\n",
    "                                features,\n",
    "                                target,\n",
    "                                cv=3)\n",
    "\n",
    "\n",
    "cm3 = confusion_matrix(target, predictions3)\n",
    "print(cm3)\n",
    "print(\"Recall score: \",recall_score(target, predictions3))\n",
    "print(\"Precision score: \",precision_score(target, predictions3))\n",
    "print(f'False positive rate: {1 - recall_score(target, predictions3)}')"
   ]
  },
  {
   "cell_type": "code",
   "execution_count": 58,
   "metadata": {},
   "outputs": [
    {
     "name": "stdout",
     "output_type": "stream",
     "text": [
      "True positive rate: 0.25205991362146596\n",
      "False positive rate: 0.09407993966817496\n"
     ]
    }
   ],
   "source": [
    "fp_filter = (predictions3 == 1) & (df[\"loan_status\"] == 0)\n",
    "fp = len(predictions3[fp_filter])\n",
    "\n",
    "# True positives.\n",
    "tp_filter = (predictions3 == 1) & (df[\"loan_status\"] == 1)\n",
    "tp = len(predictions3[tp_filter])\n",
    "\n",
    "# False negatives.\n",
    "fn_filter = (predictions3 == 0) & (df[\"loan_status\"] == 1)\n",
    "fn = len(predictions3[fn_filter])\n",
    "\n",
    "# True negatives\n",
    "tn_filter = (predictions3 == 0) & (df[\"loan_status\"] == 0)\n",
    "tn = len(predictions3[tn_filter])\n",
    "\n",
    "tpr3 = tp  / (tp + fn)\n",
    "fpr3 = fp  / (fp + tn)\n",
    "print(f'True positive rate: {tpr3}')\n",
    "print(f'False positive rate: {fpr3}')"
   ]
  },
  {
   "cell_type": "code",
   "execution_count": 59,
   "metadata": {},
   "outputs": [
    {
     "data": {
      "image/png": "[encoded data removed]",
      "text/plain": [
       "<Figure size 432x288 with 1 Axes>"
      ]
     },
     "metadata": {
      "needs_background": "light"
     },
     "output_type": "display_data"
    }
   ],
   "source": [
    "plt.clf()\n",
    "plt.imshow(cm3, interpolation='nearest', cmap=plt.cm.Wistia)\n",
    "classNames = ['Not paid off','Paid off']\n",
    "plt.title('model3 Confusion Matrix')\n",
    "plt.ylabel('True label')\n",
    "plt.xlabel('Predicted label')\n",
    "tick_marks = np.arange(len(classNames))\n",
    "plt.xticks(tick_marks, classNames, rotation=45)\n",
    "plt.yticks(tick_marks, classNames)\n",
    "s = [['TN','FP'], ['FN', 'TP']]\n",
    "for i in range(2):\n",
    "    for j in range(2):\n",
    "        plt.text(j,i, str(s[i][j])+\" = \"+str(cm3[i][j]))\n",
    "plt.show()"
   ]
  },
  {
   "cell_type": "markdown",
   "metadata": {},
   "source": [
    "It looks like assigning manual penalties lowered the false positive rate to 9.4%, and thus lowered our risk. Note that this comes at the expense of true positive rate. While we have fewer false positives, we're also missing opportunities to fund more loans and potentially make more money. Given that we're approaching this as a conservative investor, this strategy makes sense, but it's worth keeping in mind the tradeoffs.\n",
    "\n",
    "\n",
    "Now, lets try a different algorithm: Random Forest Classifier. We'll use scikit-learn to do this.\n",
    "\n",
    "## Random Forests"
   ]
  },
  {
   "cell_type": "code",
   "execution_count": 60,
   "metadata": {},
   "outputs": [
    {
     "name": "stderr",
     "output_type": "stream",
     "text": [
      "C:\\ProgramData\\Anaconda_apont\\lib\\site-packages\\sklearn\\ensemble\\weight_boosting.py:29: DeprecationWarning: numpy.core.umath_tests is an internal NumPy module and should not be imported. It will be removed in a future NumPy release.\n",
      "  from numpy.core.umath_tests import inner1d\n"
     ]
    },
    {
     "data": {
      "text/plain": [
       "array([[  294,  5010],\n",
       "       [  840, 31807]], dtype=int64)"
      ]
     },
     "execution_count": 60,
     "metadata": {},
     "output_type": "execute_result"
    }
   ],
   "source": [
    "from sklearn.ensemble import RandomForestClassifier\n",
    "\n",
    "rf_model = RandomForestClassifier(class_weight ='balanced', random_state=1)\n",
    "\n",
    "predictions_rf = cross_val_predict(rf_model,\n",
    "                                  features,\n",
    "                                  target,\n",
    "                                  cv=3)\n",
    "\n",
    "cm_rf = confusion_matrix(target, predictions_rf)\n",
    "cm_rf"
   ]
  },
  {
   "cell_type": "code",
   "execution_count": 61,
   "metadata": {},
   "outputs": [
    {
     "name": "stdout",
     "output_type": "stream",
     "text": [
      "0.9993057089658219\n",
      "0.9988310929281122\n"
     ]
    }
   ],
   "source": [
    "predictions_rf = pd.Series(predictions)\n",
    "\n",
    "# False positives.\n",
    "fp_filter = (predictions_rf == 1) & (df[\"loan_status\"] == 0)\n",
    "fp = len(predictions_rf[fp_filter])\n",
    "\n",
    "# True positives.`\n",
    "tp_filter = (predictions_rf == 1) & (df[\"loan_status\"] == 1)\n",
    "tp = len(predictions_rf[tp_filter])\n",
    "\n",
    "# False negatives.\n",
    "fn_filter = (predictions_rf == 0) & (df[\"loan_status\"] == 1)\n",
    "fn = len(predictions_rf[fn_filter])\n",
    "\n",
    "# True negatives\n",
    "tn_filter = (predictions_rf == 0) & (df[\"loan_status\"] == 0)\n",
    "tn = len(predictions_rf[tn_filter])\n",
    "\n",
    "# Rates\n",
    "tpr_rf = tp / (tp + fn)\n",
    "fpr_rf = fp / (fp + tn)\n",
    "\n",
    "print(tpr_rf)\n",
    "print(fpr_rf)"
   ]
  },
  {
   "cell_type": "markdown",
   "metadata": {},
   "source": [
    "# Summary\n",
    "\n",
    "Unfortunately, using a random forest classifier didn't improve our false positive rate. The model is likely weighting too heavily on the 1 class, and still mostly predicting 1s. We could fix this by applying a harsher penalty for misclassifications of 0s.\n",
    "\n",
    "Ultimately, our best model had a false positive rate of 7%, and a true positive rate of 20%. For a conservative investor, this means that they make money as long as the interest rate is high enough to offset the losses from 7% of borrowers defaulting, and that the pool of 20% of borrowers is large enough to make enough interest money to offset the losses.\n",
    "\n",
    "If we had randomly picked loans to fund, borrowers would have defaulted on 14.5% of them, and our model is better than that, although we're excluding more loans than a random strategy would. Given this, there's still quite a bit of room to improve:\n",
    "\n",
    "- We can tweak the penalties further.\n",
    "- We can try models other than a random forest and logistic regression.\n",
    "- We can use some of the columns we discarded to generate better features.\n",
    "- We can ensemble multiple models to get more accurate predictions.\n",
    "- We can tune the parameters of the algorithm to achieve higher performance."
   ]
  },
  {
   "cell_type": "code",
   "execution_count": null,
   "metadata": {},
   "outputs": [],
   "source": []
  }
 ],
 "metadata": {
  "kernelspec": {
   "display_name": "Python 3",
   "language": "python",
   "name": "python3"
  },
  "language_info": {
   "codemirror_mode": {
    "name": "ipython",
    "version": 3
   },
   "file_extension": ".py",
   "mimetype": "text/x-python",
   "name": "python",
   "nbconvert_exporter": "python",
   "pygments_lexer": "ipython3",
   "version": "3.7.0"
  }
 },
 "nbformat": 4,
 "nbformat_minor": 2
}
