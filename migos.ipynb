{
 "cells": [
  {
   "cell_type": "code",
   "execution_count": 6,
   "metadata": {},
   "outputs": [
    {
     "data": {
      "text/html": [
       "<img src=\"https://www.rollingstone.com.co/themes/site_themes/rollingstone/images/img-notas/migos-nota.jpg\"/>"
      ],
      "text/plain": [
       "<IPython.core.display.Image object>"
      ]
     },
     "execution_count": 6,
     "metadata": {},
     "output_type": "execute_result"
    }
   ],
   "source": [
    "from IPython.display import Image\n",
    "from IPython.core.display import HTML \n",
    "Image(url= \"https://www.rollingstone.com.co/themes/site_themes/rollingstone/images/img-notas/migos-nota.jpg\")\n"
   ]
  },
  {
   "cell_type": "markdown",
   "metadata": {},
   "source": [
    "## Introduction:\n",
    "\n",
    "The Migos are a very popular hip-hop trio from Atlanta. Composed of three rappers: Quavo, Offset, and Takeoff. They specialize in southern style hip-hop/trap music. Quavo has recently released his latest solo album, \"QUAVO HUNCHO\"; while Takeoff has also released his first solo album, \"The Last Rocket.\" The question then arises, who is the most popular Migo?\n",
    "\n",
    "To answer this question I will be using Spotify's API and Twitter's API to gather data on the current popularity of each artist. I will first gather Spotify data using the 'spotipy' library. Using that data we want to view their current popularity scores, followers, and top 10 tracks. I'll create dataframes for each artist, visualizing their top ten tracks and comparing their scores. \n",
    "\n",
    "I will then gather a random sample of 5000 tweets from Twitter's API, store them in a dataframe and analyze the tweets to see which name has the highest frequency. "
   ]
  },
  {
   "cell_type": "markdown",
   "metadata": {},
   "source": [
    "## Spotify data:\n"
   ]
  },
  {
   "cell_type": "code",
   "execution_count": 7,
   "metadata": {},
   "outputs": [],
   "source": [
    "# spotify\n",
    "import spotipy\n",
    "from spotipy.oauth2 import SpotifyClientCredentials\n",
    "\n",
    "client_credentials_manager = SpotifyClientCredentials('67a7dbcd3bfb44878dfc8998f7dd6d58', '12cd9ee9b0014d5ab104d5c3c51a8eef')\n",
    "sp = spotipy.Spotify(client_credentials_manager=client_credentials_manager)"
   ]
  },
  {
   "cell_type": "code",
   "execution_count": 8,
   "metadata": {},
   "outputs": [
    {
     "name": "stdout",
     "output_type": "stream",
     "text": [
      "Takeoff popularity score  73\n",
      "Offset popularity score  90\n",
      "Quavo popularity score  92\n"
     ]
    }
   ],
   "source": [
    "takeoff = sp.artist(\"spotify:artist:3EW0kQ1skZiK1NHg3Spt9J\")\n",
    "offset = sp.artist(\"spotify:artist:4DdkRBBYG6Yk9Ka8tdJ9BW\")\n",
    "quavo = sp.artist(\"spotify:artist:0VRj0yCOv2FXJNP47XQnx5\")\n",
    "print(\"Takeoff popularity score \", takeoff[\"popularity\"])\n",
    "print(\"Offset popularity score \", offset[\"popularity\"])\n",
    "print(\"Quavo popularity score \", quavo[\"popularity\"])"
   ]
  },
  {
   "cell_type": "code",
   "execution_count": 9,
   "metadata": {},
   "outputs": [
    {
     "name": "stdout",
     "output_type": "stream",
     "text": [
      "Takeoff followers  152825\n",
      "Offset followers  637526\n",
      "Quavo followers  2214942\n"
     ]
    }
   ],
   "source": [
    "print(\"Takeoff followers \", takeoff[\"followers\"][\"total\"])\n",
    "print(\"Offset followers \", offset[\"followers\"][\"total\"])\n",
    "print(\"Quavo followers \", quavo[\"followers\"][\"total\"])"
   ]
  },
  {
   "cell_type": "markdown",
   "metadata": {},
   "source": [
    "## Findings:\n",
    "\n",
    "- Quavo has the highest popularity score 92. Takeoff has the lowest popularity score 73 - the score has risen since his latest album release.\n",
    "- Quavo has the most followers on Spotify 2,214,942. Takeoff has the lowest number of followers out of the Migos 152,825.\n",
    "\n",
    "Let's now explore their top tracks and their current popularity scores on Spotify, store them in a dataframe, then visualize them."
   ]
  },
  {
   "cell_type": "markdown",
   "metadata": {},
   "source": [
    "### Takeoff"
   ]
  },
  {
   "cell_type": "code",
   "execution_count": 26,
   "metadata": {},
   "outputs": [
    {
     "name": "stdout",
     "output_type": "stream",
     "text": [
      "Last Memory 63\n",
      "Casper 67\n",
      "She Gon Wink 66\n",
      "Martian 65\n",
      "We The Ones 64\n",
      "Vacation 64\n",
      "None To Me 63\n",
      "I Remember 62\n",
      "Lead The Wave 62\n",
      "Insomnia 62\n"
     ]
    }
   ],
   "source": [
    "takeoff_top_tracks = sp.artist_top_tracks(\"spotify:artist:3EW0kQ1skZiK1NHg3Spt9J\", country='US')\n",
    "takeoff_tracks = []\n",
    "tkoff_names = []\n",
    "for track in takeoff_top_tracks[\"tracks\"]:\n",
    "    print(track[\"name\"], track[\"popularity\"])\n",
    "    takeoff_tracks.append(track[\"popularity\"])\n",
    "    tkoff_names.append(track[\"name\"])"
   ]
  },
  {
   "cell_type": "code",
   "execution_count": 17,
   "metadata": {},
   "outputs": [
    {
     "name": "stdout",
     "output_type": "stream",
     "text": [
      "Average track popularity  63.8\n"
     ]
    }
   ],
   "source": [
    "# average\n",
    "import numpy as np\n",
    "print(\"Average track popularity \", np.mean(takeoff_tracks))"
   ]
  },
  {
   "cell_type": "code",
   "execution_count": 27,
   "metadata": {},
   "outputs": [
    {
     "data": {
      "text/html": [
       "<div>\n",
       "<style scoped>\n",
       "    .dataframe tbody tr th:only-of-type {\n",
       "        vertical-align: middle;\n",
       "    }\n",
       "\n",
       "    .dataframe tbody tr th {\n",
       "        vertical-align: top;\n",
       "    }\n",
       "\n",
       "    .dataframe thead th {\n",
       "        text-align: right;\n",
       "    }\n",
       "</style>\n",
       "<table border=\"1\" class=\"dataframe\">\n",
       "  <thead>\n",
       "    <tr style=\"text-align: right;\">\n",
       "      <th></th>\n",
       "      <th>popularity</th>\n",
       "      <th>track_name</th>\n",
       "    </tr>\n",
       "  </thead>\n",
       "  <tbody>\n",
       "    <tr>\n",
       "      <th>0</th>\n",
       "      <td>63</td>\n",
       "      <td>Last Memory</td>\n",
       "    </tr>\n",
       "    <tr>\n",
       "      <th>1</th>\n",
       "      <td>67</td>\n",
       "      <td>Casper</td>\n",
       "    </tr>\n",
       "    <tr>\n",
       "      <th>2</th>\n",
       "      <td>66</td>\n",
       "      <td>She Gon Wink</td>\n",
       "    </tr>\n",
       "    <tr>\n",
       "      <th>3</th>\n",
       "      <td>65</td>\n",
       "      <td>Martian</td>\n",
       "    </tr>\n",
       "    <tr>\n",
       "      <th>4</th>\n",
       "      <td>64</td>\n",
       "      <td>We The Ones</td>\n",
       "    </tr>\n",
       "    <tr>\n",
       "      <th>5</th>\n",
       "      <td>64</td>\n",
       "      <td>Vacation</td>\n",
       "    </tr>\n",
       "    <tr>\n",
       "      <th>6</th>\n",
       "      <td>63</td>\n",
       "      <td>None To Me</td>\n",
       "    </tr>\n",
       "    <tr>\n",
       "      <th>7</th>\n",
       "      <td>62</td>\n",
       "      <td>I Remember</td>\n",
       "    </tr>\n",
       "    <tr>\n",
       "      <th>8</th>\n",
       "      <td>62</td>\n",
       "      <td>Lead The Wave</td>\n",
       "    </tr>\n",
       "    <tr>\n",
       "      <th>9</th>\n",
       "      <td>62</td>\n",
       "      <td>Insomnia</td>\n",
       "    </tr>\n",
       "  </tbody>\n",
       "</table>\n",
       "</div>"
      ],
      "text/plain": [
       "   popularity     track_name\n",
       "0          63    Last Memory\n",
       "1          67         Casper\n",
       "2          66   She Gon Wink\n",
       "3          65        Martian\n",
       "4          64    We The Ones\n",
       "5          64       Vacation\n",
       "6          63     None To Me\n",
       "7          62     I Remember\n",
       "8          62  Lead The Wave\n",
       "9          62       Insomnia"
      ]
     },
     "execution_count": 27,
     "metadata": {},
     "output_type": "execute_result"
    }
   ],
   "source": [
    "import pandas as pd\n",
    "takeoff = pd.DataFrame({\"track_name\": tkoff_names,\n",
    "                        \"popularity\":takeoff_tracks})\n",
    "takeoff"
   ]
  },
  {
   "cell_type": "code",
   "execution_count": 31,
   "metadata": {},
   "outputs": [
    {
     "data": {
      "image/png": "[encoded data removed]",
      "text/plain": [
       "<Figure size 1080x504 with 1 Axes>"
      ]
     },
     "metadata": {},
     "output_type": "display_data"
    }
   ],
   "source": [
    "import matplotlib.pyplot as plt\n",
    "plt.style.use(\"fivethirtyeight\")\n",
    "%matplotlib inline\n",
    "plt.figure(figsize=(15,7))\n",
    "plt.bar(x=takeoff[\"track_name\"], height=takeoff[\"popularity\"])\n",
    "plt.xticks(rotation=45)\n",
    "plt.title(\"Takeoff's Top 10 tracks\")\n",
    "plt.ylabel(\"Popularity\")\n",
    "plt.show()"
   ]
  },
  {
   "cell_type": "markdown",
   "metadata": {},
   "source": [
    "### Quavo"
   ]
  },
  {
   "cell_type": "code",
   "execution_count": 32,
   "metadata": {},
   "outputs": [
    {
     "name": "stdout",
     "output_type": "stream",
     "text": [
      "No Brainer 91\n",
      "WORKIN ME 74\n",
      "PASS OUT (feat. 21 Savage) 84\n",
      "FLIP THE SWITCH (feat. Drake) 82\n",
      "LOSE IT (feat. Lil Baby) 81\n",
      "BIGGEST ALLEY OOP 77\n",
      "RERUN (feat. Travis Scott) 77\n",
      "Ice Tray 75\n",
      "HUNCHO DREAMS 75\n",
      "LAMB TALK 69\n"
     ]
    }
   ],
   "source": [
    "quavo_top_tracks = sp.artist_top_tracks(\"spotify:artist:0VRj0yCOv2FXJNP47XQnx5\", country=\"US\")\n",
    "quavo_tracks = []\n",
    "qvo_names = []\n",
    "for track in quavo_top_tracks[\"tracks\"]:\n",
    "    print(track[\"name\"], track[\"popularity\"])\n",
    "    quavo_tracks.append(track[\"popularity\"])\n",
    "    qvo_names.append(track[\"name\"])"
   ]
  },
  {
   "cell_type": "code",
   "execution_count": 21,
   "metadata": {},
   "outputs": [
    {
     "name": "stdout",
     "output_type": "stream",
     "text": [
      "Average track popularity  78.5\n"
     ]
    }
   ],
   "source": [
    "# average\n",
    "print(\"Average track popularity \", np.mean(quavo_tracks))"
   ]
  },
  {
   "cell_type": "code",
   "execution_count": 33,
   "metadata": {},
   "outputs": [
    {
     "data": {
      "text/html": [
       "<div>\n",
       "<style scoped>\n",
       "    .dataframe tbody tr th:only-of-type {\n",
       "        vertical-align: middle;\n",
       "    }\n",
       "\n",
       "    .dataframe tbody tr th {\n",
       "        vertical-align: top;\n",
       "    }\n",
       "\n",
       "    .dataframe thead th {\n",
       "        text-align: right;\n",
       "    }\n",
       "</style>\n",
       "<table border=\"1\" class=\"dataframe\">\n",
       "  <thead>\n",
       "    <tr style=\"text-align: right;\">\n",
       "      <th></th>\n",
       "      <th>popularity</th>\n",
       "      <th>track_name</th>\n",
       "    </tr>\n",
       "  </thead>\n",
       "  <tbody>\n",
       "    <tr>\n",
       "      <th>0</th>\n",
       "      <td>91</td>\n",
       "      <td>No Brainer</td>\n",
       "    </tr>\n",
       "    <tr>\n",
       "      <th>1</th>\n",
       "      <td>74</td>\n",
       "      <td>WORKIN ME</td>\n",
       "    </tr>\n",
       "    <tr>\n",
       "      <th>2</th>\n",
       "      <td>84</td>\n",
       "      <td>PASS OUT (feat. 21 Savage)</td>\n",
       "    </tr>\n",
       "    <tr>\n",
       "      <th>3</th>\n",
       "      <td>82</td>\n",
       "      <td>FLIP THE SWITCH (feat. Drake)</td>\n",
       "    </tr>\n",
       "    <tr>\n",
       "      <th>4</th>\n",
       "      <td>81</td>\n",
       "      <td>LOSE IT (feat. Lil Baby)</td>\n",
       "    </tr>\n",
       "    <tr>\n",
       "      <th>5</th>\n",
       "      <td>77</td>\n",
       "      <td>BIGGEST ALLEY OOP</td>\n",
       "    </tr>\n",
       "    <tr>\n",
       "      <th>6</th>\n",
       "      <td>77</td>\n",
       "      <td>RERUN (feat. Travis Scott)</td>\n",
       "    </tr>\n",
       "    <tr>\n",
       "      <th>7</th>\n",
       "      <td>75</td>\n",
       "      <td>Ice Tray</td>\n",
       "    </tr>\n",
       "    <tr>\n",
       "      <th>8</th>\n",
       "      <td>75</td>\n",
       "      <td>HUNCHO DREAMS</td>\n",
       "    </tr>\n",
       "    <tr>\n",
       "      <th>9</th>\n",
       "      <td>69</td>\n",
       "      <td>LAMB TALK</td>\n",
       "    </tr>\n",
       "  </tbody>\n",
       "</table>\n",
       "</div>"
      ],
      "text/plain": [
       "   popularity                     track_name\n",
       "0          91                     No Brainer\n",
       "1          74                      WORKIN ME\n",
       "2          84     PASS OUT (feat. 21 Savage)\n",
       "3          82  FLIP THE SWITCH (feat. Drake)\n",
       "4          81       LOSE IT (feat. Lil Baby)\n",
       "5          77              BIGGEST ALLEY OOP\n",
       "6          77     RERUN (feat. Travis Scott)\n",
       "7          75                       Ice Tray\n",
       "8          75                  HUNCHO DREAMS\n",
       "9          69                      LAMB TALK"
      ]
     },
     "execution_count": 33,
     "metadata": {},
     "output_type": "execute_result"
    }
   ],
   "source": [
    "quavo = pd.DataFrame({\"track_name\": qvo_names,\n",
    "                        \"popularity\": quavo_tracks})\n",
    "quavo"
   ]
  },
  {
   "cell_type": "code",
   "execution_count": 34,
   "metadata": {},
   "outputs": [
    {
     "data": {
      "image/png": "[encoded data removed]",
      "text/plain": [
       "<Figure size 1080x504 with 1 Axes>"
      ]
     },
     "metadata": {},
     "output_type": "display_data"
    }
   ],
   "source": [
    "plt.figure(figsize=(15,7))\n",
    "plt.bar(x=quavo[\"track_name\"], height=quavo[\"popularity\"])\n",
    "plt.xticks(rotation=45)\n",
    "plt.title(\"Quavo's Top 10 tracks\")\n",
    "plt.ylabel(\"Popularity\")\n",
    "plt.show()"
   ]
  },
  {
   "cell_type": "markdown",
   "metadata": {},
   "source": [
    "### Offset"
   ]
  },
  {
   "cell_type": "code",
   "execution_count": 35,
   "metadata": {},
   "outputs": [
    {
     "name": "stdout",
     "output_type": "stream",
     "text": [
      "Ric Flair Drip (& Metro Boomin) 86\n",
      "Ghostface Killers 76\n",
      "Alive (with Offset & 2 Chainz) 72\n",
      "Rap Saved Me 71\n",
      "Met Gala (feat. Offset) 70\n",
      "Pray For The Drip (feat. Offset) 68\n",
      "Mad Stalkers 65\n",
      "Nightmare 65\n",
      "Disrespectful 64\n",
      "Still Serving 63\n"
     ]
    }
   ],
   "source": [
    "offset_top_tracks = sp.artist_top_tracks(\"spotify:artist:4DdkRBBYG6Yk9Ka8tdJ9BW\", country=\"US\")\n",
    "offset_tracks = []\n",
    "off_names = []\n",
    "for track in offset_top_tracks[\"tracks\"]:\n",
    "    print(track[\"name\"], track[\"popularity\"])\n",
    "    offset_tracks.append(track[\"popularity\"])\n",
    "    off_names.append(track[\"name\"])"
   ]
  },
  {
   "cell_type": "code",
   "execution_count": 22,
   "metadata": {},
   "outputs": [
    {
     "name": "stdout",
     "output_type": "stream",
     "text": [
      "Average track popularity  70.0\n"
     ]
    }
   ],
   "source": [
    "# average\n",
    "print(\"Average track popularity \", np.mean(offset_tracks))"
   ]
  },
  {
   "cell_type": "code",
   "execution_count": 36,
   "metadata": {},
   "outputs": [
    {
     "data": {
      "text/html": [
       "<div>\n",
       "<style scoped>\n",
       "    .dataframe tbody tr th:only-of-type {\n",
       "        vertical-align: middle;\n",
       "    }\n",
       "\n",
       "    .dataframe tbody tr th {\n",
       "        vertical-align: top;\n",
       "    }\n",
       "\n",
       "    .dataframe thead th {\n",
       "        text-align: right;\n",
       "    }\n",
       "</style>\n",
       "<table border=\"1\" class=\"dataframe\">\n",
       "  <thead>\n",
       "    <tr style=\"text-align: right;\">\n",
       "      <th></th>\n",
       "      <th>popularity</th>\n",
       "      <th>track_name</th>\n",
       "    </tr>\n",
       "  </thead>\n",
       "  <tbody>\n",
       "    <tr>\n",
       "      <th>0</th>\n",
       "      <td>86</td>\n",
       "      <td>Ric Flair Drip (&amp; Metro Boomin)</td>\n",
       "    </tr>\n",
       "    <tr>\n",
       "      <th>1</th>\n",
       "      <td>76</td>\n",
       "      <td>Ghostface Killers</td>\n",
       "    </tr>\n",
       "    <tr>\n",
       "      <th>2</th>\n",
       "      <td>72</td>\n",
       "      <td>Alive (with Offset &amp; 2 Chainz)</td>\n",
       "    </tr>\n",
       "    <tr>\n",
       "      <th>3</th>\n",
       "      <td>71</td>\n",
       "      <td>Rap Saved Me</td>\n",
       "    </tr>\n",
       "    <tr>\n",
       "      <th>4</th>\n",
       "      <td>70</td>\n",
       "      <td>Met Gala (feat. Offset)</td>\n",
       "    </tr>\n",
       "    <tr>\n",
       "      <th>5</th>\n",
       "      <td>68</td>\n",
       "      <td>Pray For The Drip (feat. Offset)</td>\n",
       "    </tr>\n",
       "    <tr>\n",
       "      <th>6</th>\n",
       "      <td>65</td>\n",
       "      <td>Mad Stalkers</td>\n",
       "    </tr>\n",
       "    <tr>\n",
       "      <th>7</th>\n",
       "      <td>65</td>\n",
       "      <td>Nightmare</td>\n",
       "    </tr>\n",
       "    <tr>\n",
       "      <th>8</th>\n",
       "      <td>64</td>\n",
       "      <td>Disrespectful</td>\n",
       "    </tr>\n",
       "    <tr>\n",
       "      <th>9</th>\n",
       "      <td>63</td>\n",
       "      <td>Still Serving</td>\n",
       "    </tr>\n",
       "  </tbody>\n",
       "</table>\n",
       "</div>"
      ],
      "text/plain": [
       "   popularity                        track_name\n",
       "0          86   Ric Flair Drip (& Metro Boomin)\n",
       "1          76                 Ghostface Killers\n",
       "2          72    Alive (with Offset & 2 Chainz)\n",
       "3          71                      Rap Saved Me\n",
       "4          70           Met Gala (feat. Offset)\n",
       "5          68  Pray For The Drip (feat. Offset)\n",
       "6          65                      Mad Stalkers\n",
       "7          65                         Nightmare\n",
       "8          64                     Disrespectful\n",
       "9          63                     Still Serving"
      ]
     },
     "execution_count": 36,
     "metadata": {},
     "output_type": "execute_result"
    }
   ],
   "source": [
    "offset = pd.DataFrame({\"track_name\": off_names,\n",
    "                        \"popularity\": offset_tracks})\n",
    "offset"
   ]
  },
  {
   "cell_type": "code",
   "execution_count": 37,
   "metadata": {},
   "outputs": [
    {
     "data": {
      "image/png": "[encoded data removed]",
      "text/plain": [
       "<Figure size 1080x504 with 1 Axes>"
      ]
     },
     "metadata": {},
     "output_type": "display_data"
    }
   ],
   "source": [
    "plt.figure(figsize=(15,7))\n",
    "plt.bar(x=offset[\"track_name\"], height=offset[\"popularity\"])\n",
    "plt.xticks(rotation=45)\n",
    "plt.title(\"Offset's Top 10 tracks\")\n",
    "plt.ylabel(\"Popularity\")\n",
    "plt.show()"
   ]
  },
  {
   "cell_type": "markdown",
   "metadata": {},
   "source": [
    "## Findings:\n",
    "\n",
    "- Quavo has the highest average track popularity score 78.5. Takeoff again has the lowest average track popularity 63.8.\n",
    "- Takeoff has a fairly uniform distribution of track popularity scores, this could be due to his recent album - most of the tracks are from that album.\n",
    "\n",
    "Going off popularity scores, track popularity, and total followers, it appears that Quavo is the most populary Migo on Spotify. Let's now take a look at what people are saying on twitter. \n"
   ]
  },
  {
   "cell_type": "markdown",
   "metadata": {},
   "source": [
    "## Twitter data:\n",
    "\n",
    "In order to do this I will use Twitters GET statuses/sample API. Using the tweepy library and OAuth tokens to authenticate my credentials, we can then access a random sample of twitter data. I will need to create a StreamListener class to stream the tweets into a file, \"tweets2.txt\". With the StreamListener I can then filter Twitter Streams to capture data by the keywords: \"Takeoff\", \"Quavo\", and \"Offset.\""
   ]
  },
  {
   "cell_type": "code",
   "execution_count": 38,
   "metadata": {},
   "outputs": [],
   "source": [
    "import tweepy, json\n",
    "\n",
    "# Store OAuth authentication credentials in relevant variables\n",
    "access_token = \"1058146506975444993-A6AdRlmFWJAXasn07kQrzTQLfea0bz\"\n",
    "access_token_secret = \"iVlLH9fBzXqDrrZpPrxni5YcDlq9hqvUbdQZN1EwaZLXo\"\n",
    "consumer_key = \"KENcuXIfS0HJ9kpqEIeX4jeGJ\"\n",
    "consumer_secret = \"x8Z92urBjrNk1dEjn94i45b3esUNiPltQFubfOj1vQYVUkm4JA\"\n",
    "\n",
    "# Pass OAuth detailF326apYMUMrg7DMuIUdr27zwB1w5ohoWFLrMvMtbaVja9NEZLJto tweepy's OAuth handler\n",
    "auth = tweepy.OAuthHandler(consumer_key, consumer_secret)\n",
    "auth.set_access_token(access_token, access_token_secret)"
   ]
  },
  {
   "cell_type": "code",
   "execution_count": 39,
   "metadata": {},
   "outputs": [],
   "source": [
    "# needed to create a streamlistener class to stream tweets\n",
    "\n",
    "class MyStreamListener(tweepy.StreamListener):\n",
    "    def __init__(self, api=None):\n",
    "        super(MyStreamListener, self).__init__()\n",
    "        self.num_tweets = 0\n",
    "        self.file = open(\"tweets2.txt\", \"w\")\n",
    "\n",
    "    def on_status(self, status):\n",
    "        tweet = status._json\n",
    "        self.file.write( json.dumps(tweet) + '\\n' )\n",
    "        self.num_tweets += 1\n",
    "        if self.num_tweets < 100:\n",
    "            return True\n",
    "        else:\n",
    "            return False\n",
    "        self.file.close()\n",
    "\n",
    "    def on_error(self, status):\n",
    "        print(status)"
   ]
  },
  {
   "cell_type": "code",
   "execution_count": 40,
   "metadata": {},
   "outputs": [],
   "source": [
    "# Initialize Stream listener as listener object\n",
    "listener = MyStreamListener()\n",
    "\n",
    "# Create your Stream object with authentication\n",
    "stream = tweepy.Stream(auth, listener)\n",
    "\n",
    "\n",
    "# Filter Twitter Streams to capture data by the keywords:\n",
    "stream.filter(track=['takeoff','quavo','offset'])"
   ]
  },
  {
   "cell_type": "code",
   "execution_count": 41,
   "metadata": {},
   "outputs": [
    {
     "name": "stdout",
     "output_type": "stream",
     "text": [
      "dict_keys(['created_at', 'id', 'id_str', 'text', 'source', 'truncated', 'in_reply_to_status_id', 'in_reply_to_status_id_str', 'in_reply_to_user_id', 'in_reply_to_user_id_str', 'in_reply_to_screen_name', 'user', 'geo', 'coordinates', 'place', 'contributors', 'is_quote_status', 'quote_count', 'reply_count', 'retweet_count', 'favorite_count', 'entities', 'favorited', 'retweeted', 'filter_level', 'lang', 'timestamp_ms'])\n"
     ]
    }
   ],
   "source": [
    "# String of path to file: tweets_data_path\n",
    "tweets_data_path = 'tweets2.txt'\n",
    "\n",
    "# Initialize empty list to store tweets: tweets_data\n",
    "tweets_data = []\n",
    "\n",
    "# Open connection to file\n",
    "tweets_file = open(tweets_data_path, \"r\")\n",
    "\n",
    "# Read in tweets and store in list: tweets_data\n",
    "for line in tweets_file:\n",
    "    tweet = json.loads(line)\n",
    "    tweets_data.append(tweet)\n",
    "\n",
    "# Close connection to file\n",
    "tweets_file.close()\n",
    "\n",
    "# Print the keys of the first tweet dict\n",
    "print(tweets_data[0].keys())"
   ]
  },
  {
   "cell_type": "code",
   "execution_count": 43,
   "metadata": {},
   "outputs": [
    {
     "name": "stdout",
     "output_type": "stream",
     "text": [
      "                                                text lang\n",
      "0     Takeoff is still the best Migo always has been   en\n",
      "1  Metro boomin &amp; the takeoff album  going ha...   en\n",
      "2  yellow is attention is 45 degrees offset which...   en\n",
      "3  baixando os álbuns do takeoff e do metro boomi...   pt\n",
      "4  I added a video to a @YouTube playlist https:/...   en\n"
     ]
    }
   ],
   "source": [
    "# Build DataFrame of tweet texts and languages\n",
    "df = pd.DataFrame(tweets_data, columns=['text', 'lang'])\n",
    "\n",
    "# Print head of DataFrame\n",
    "print(df.head())"
   ]
  },
  {
   "cell_type": "code",
   "execution_count": 50,
   "metadata": {},
   "outputs": [],
   "source": [
    "import re\n",
    "\n",
    "# create function to find word in text\n",
    "def word_in_text(word, text):\n",
    "    word = word.lower()\n",
    "    text = text.lower()\n",
    "    match = re.search(word, text)\n",
    "    \n",
    "    if match:\n",
    "        return True\n",
    "    else:\n",
    "        return False\n",
    "    \n",
    "# empty lists for each keyword\n",
    "[takeoff, quavo, offset] = [0,0,0]\n",
    "\n",
    "for i, v in df.iterrows():\n",
    "    takeoff += word_in_text('takeoff', v[\"text\"])\n",
    "    quavo += word_in_text('quavo', v[\"text\"])\n",
    "    offset += word_in_text('offset', v[\"text\"])"
   ]
  },
  {
   "cell_type": "code",
   "execution_count": 46,
   "metadata": {},
   "outputs": [
    {
     "name": "stdout",
     "output_type": "stream",
     "text": [
      "Takeoff  46\n",
      "Quavo  14\n",
      "Offset  17\n"
     ]
    }
   ],
   "source": [
    "print(\"Takeoff \", takeoff)\n",
    "print(\"Quavo \", quavo)\n",
    "print(\"Offset \", offset)"
   ]
  },
  {
   "cell_type": "code",
   "execution_count": 52,
   "metadata": {},
   "outputs": [
    {
     "data": {
      "image/png": "[encoded data removed]",
      "text/plain": [
       "<Figure size 576x504 with 1 Axes>"
      ]
     },
     "metadata": {},
     "output_type": "display_data"
    }
   ],
   "source": [
    "import seaborn as sns\n",
    "\n",
    "# Create a list of labels: cd\n",
    "cd = ['Takeoff','Quavo', 'Offset']\n",
    "plt.style.use(\"fivethirtyeight\")\n",
    "plt.figure(figsize=(8,7))\n",
    "ax = sns.barplot(cd, [takeoff, quavo, offset])\n",
    "ax.set(ylabel='count')\n",
    "plt.ylabel(\"Mentions in tweet\",size=18)\n",
    "plt.title(\"Amount of mentions in tweets\")\n",
    "plt.xticks(size=18)\n",
    "plt.show()"
   ]
  },
  {
   "cell_type": "markdown",
   "metadata": {},
   "source": [
    "## Findings:\n",
    "\n",
    "After gathering the tweets, storing them into a dataframe, and then counting up the amount of times the word (their names) is mentioned in a tweet, we have found that Takeoff was mentioned the most times - 46. It appears as if Takeoff is becoming more and more popular with the release of his solo album \"The Last Rocket.\" \n",
    "\n",
    "\n",
    "## Conclusion:\n",
    "\n",
    "After gathering data from Spotify and twitter I have found that Quavo is the most popular Migo on Spotify; but if we look at Twitter and see who is mentioned the most, Takeoff wins. Without a common unit of measurement across Spotify and Twitter, we cannot definitively say who is most popular Migo, but we can say that Takeoff is gaining traction in popularity. Given his increasing track and overall popularity scores, as well the amount of mentions on Twitter, Takeoff is becoming a Hip-hop favorite.\n",
    "\n"
   ]
  },
  {
   "cell_type": "markdown",
   "metadata": {},
   "source": [
    "Note: the data is from November 4, 2018."
   ]
  },
  {
   "cell_type": "code",
   "execution_count": null,
   "metadata": {},
   "outputs": [],
   "source": []
  }
 ],
 "metadata": {
  "kernelspec": {
   "display_name": "Python 3",
   "language": "python",
   "name": "python3"
  },
  "language_info": {
   "codemirror_mode": {
    "name": "ipython",
    "version": 3
   },
   "file_extension": ".py",
   "mimetype": "text/x-python",
   "name": "python",
   "nbconvert_exporter": "python",
   "pygments_lexer": "ipython3",
   "version": "3.6.4"
  }
 },
 "nbformat": 4,
 "nbformat_minor": 2
}
