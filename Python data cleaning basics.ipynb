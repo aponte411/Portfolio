{
 "cells": [
  {
   "cell_type": "markdown",
   "metadata": {},
   "source": [
    "Greetings! In this notebook I will be practicing basic data cleaning using the \"laptops.csv\" data set. The data has information on over 1,300 laptops. Each observation is a laptop, and each column is a feature of that laptop. I will practice the following: \n",
    "\n",
    "- Cleaning columns names.\n",
    "- Extracting and converting numeric values from string values.\n",
    "- Extracting string data.\n",
    "- Working with missing values.\n"
   ]
  },
  {
   "cell_type": "code",
   "execution_count": 262,
   "metadata": {},
   "outputs": [
    {
     "data": {
      "text/html": [
       "<div>\n",
       "<style scoped>\n",
       "    .dataframe tbody tr th:only-of-type {\n",
       "        vertical-align: middle;\n",
       "    }\n",
       "\n",
       "    .dataframe tbody tr th {\n",
       "        vertical-align: top;\n",
       "    }\n",
       "\n",
       "    .dataframe thead th {\n",
       "        text-align: right;\n",
       "    }\n",
       "</style>\n",
       "<table border=\"1\" class=\"dataframe\">\n",
       "  <thead>\n",
       "    <tr style=\"text-align: right;\">\n",
       "      <th></th>\n",
       "      <th>Manufacturer</th>\n",
       "      <th>Model Name</th>\n",
       "      <th>Category</th>\n",
       "      <th>Screen Size</th>\n",
       "      <th>Screen</th>\n",
       "      <th>CPU</th>\n",
       "      <th>RAM</th>\n",
       "      <th>Storage</th>\n",
       "      <th>GPU</th>\n",
       "      <th>Operating System</th>\n",
       "      <th>Operating System Version</th>\n",
       "      <th>Weight</th>\n",
       "      <th>Price (Euros)</th>\n",
       "    </tr>\n",
       "  </thead>\n",
       "  <tbody>\n",
       "    <tr>\n",
       "      <th>0</th>\n",
       "      <td>Apple</td>\n",
       "      <td>MacBook Pro</td>\n",
       "      <td>Ultrabook</td>\n",
       "      <td>13.3\"</td>\n",
       "      <td>IPS Panel Retina Display 2560x1600</td>\n",
       "      <td>Intel Core i5 2.3GHz</td>\n",
       "      <td>8GB</td>\n",
       "      <td>128GB SSD</td>\n",
       "      <td>Intel Iris Plus Graphics 640</td>\n",
       "      <td>macOS</td>\n",
       "      <td>NaN</td>\n",
       "      <td>1.37kg</td>\n",
       "      <td>1339,69</td>\n",
       "    </tr>\n",
       "    <tr>\n",
       "      <th>1</th>\n",
       "      <td>Apple</td>\n",
       "      <td>Macbook Air</td>\n",
       "      <td>Ultrabook</td>\n",
       "      <td>13.3\"</td>\n",
       "      <td>1440x900</td>\n",
       "      <td>Intel Core i5 1.8GHz</td>\n",
       "      <td>8GB</td>\n",
       "      <td>128GB Flash Storage</td>\n",
       "      <td>Intel HD Graphics 6000</td>\n",
       "      <td>macOS</td>\n",
       "      <td>NaN</td>\n",
       "      <td>1.34kg</td>\n",
       "      <td>898,94</td>\n",
       "    </tr>\n",
       "    <tr>\n",
       "      <th>2</th>\n",
       "      <td>HP</td>\n",
       "      <td>250 G6</td>\n",
       "      <td>Notebook</td>\n",
       "      <td>15.6\"</td>\n",
       "      <td>Full HD 1920x1080</td>\n",
       "      <td>Intel Core i5 7200U 2.5GHz</td>\n",
       "      <td>8GB</td>\n",
       "      <td>256GB SSD</td>\n",
       "      <td>Intel HD Graphics 620</td>\n",
       "      <td>No OS</td>\n",
       "      <td>NaN</td>\n",
       "      <td>1.86kg</td>\n",
       "      <td>575,00</td>\n",
       "    </tr>\n",
       "    <tr>\n",
       "      <th>3</th>\n",
       "      <td>Apple</td>\n",
       "      <td>MacBook Pro</td>\n",
       "      <td>Ultrabook</td>\n",
       "      <td>15.4\"</td>\n",
       "      <td>IPS Panel Retina Display 2880x1800</td>\n",
       "      <td>Intel Core i7 2.7GHz</td>\n",
       "      <td>16GB</td>\n",
       "      <td>512GB SSD</td>\n",
       "      <td>AMD Radeon Pro 455</td>\n",
       "      <td>macOS</td>\n",
       "      <td>NaN</td>\n",
       "      <td>1.83kg</td>\n",
       "      <td>2537,45</td>\n",
       "    </tr>\n",
       "    <tr>\n",
       "      <th>4</th>\n",
       "      <td>Apple</td>\n",
       "      <td>MacBook Pro</td>\n",
       "      <td>Ultrabook</td>\n",
       "      <td>13.3\"</td>\n",
       "      <td>IPS Panel Retina Display 2560x1600</td>\n",
       "      <td>Intel Core i5 3.1GHz</td>\n",
       "      <td>8GB</td>\n",
       "      <td>256GB SSD</td>\n",
       "      <td>Intel Iris Plus Graphics 650</td>\n",
       "      <td>macOS</td>\n",
       "      <td>NaN</td>\n",
       "      <td>1.37kg</td>\n",
       "      <td>1803,60</td>\n",
       "    </tr>\n",
       "  </tbody>\n",
       "</table>\n",
       "</div>"
      ],
      "text/plain": [
       "  Manufacturer   Model Name   Category Screen Size  \\\n",
       "0        Apple  MacBook Pro  Ultrabook       13.3\"   \n",
       "1        Apple  Macbook Air  Ultrabook       13.3\"   \n",
       "2           HP       250 G6   Notebook       15.6\"   \n",
       "3        Apple  MacBook Pro  Ultrabook       15.4\"   \n",
       "4        Apple  MacBook Pro  Ultrabook       13.3\"   \n",
       "\n",
       "                               Screen                         CPU   RAM  \\\n",
       "0  IPS Panel Retina Display 2560x1600        Intel Core i5 2.3GHz   8GB   \n",
       "1                            1440x900        Intel Core i5 1.8GHz   8GB   \n",
       "2                   Full HD 1920x1080  Intel Core i5 7200U 2.5GHz   8GB   \n",
       "3  IPS Panel Retina Display 2880x1800        Intel Core i7 2.7GHz  16GB   \n",
       "4  IPS Panel Retina Display 2560x1600        Intel Core i5 3.1GHz   8GB   \n",
       "\n",
       "               Storage                           GPU Operating System  \\\n",
       "0            128GB SSD  Intel Iris Plus Graphics 640            macOS   \n",
       "1  128GB Flash Storage        Intel HD Graphics 6000            macOS   \n",
       "2            256GB SSD         Intel HD Graphics 620            No OS   \n",
       "3            512GB SSD            AMD Radeon Pro 455            macOS   \n",
       "4            256GB SSD  Intel Iris Plus Graphics 650            macOS   \n",
       "\n",
       "  Operating System Version  Weight Price (Euros)  \n",
       "0                      NaN  1.37kg       1339,69  \n",
       "1                      NaN  1.34kg        898,94  \n",
       "2                      NaN  1.86kg        575,00  \n",
       "3                      NaN  1.83kg       2537,45  \n",
       "4                      NaN  1.37kg       1803,60  "
      ]
     },
     "execution_count": 262,
     "metadata": {},
     "output_type": "execute_result"
    }
   ],
   "source": [
    "import pandas as pd\n",
    "import numpy as np\n",
    "import matplotlib.pyplot as plt\n",
    "laptops = pd.read_csv(\"laptops.csv\", encoding = \"Latin-1\")\n",
    "laptops.head()"
   ]
  },
  {
   "cell_type": "markdown",
   "metadata": {},
   "source": [
    "An encoding error came up, so I had to change the encoding to \"Latin-1\", but if that didnt work I could have used \"Windows-1251\"."
   ]
  },
  {
   "cell_type": "code",
   "execution_count": 263,
   "metadata": {},
   "outputs": [
    {
     "name": "stdout",
     "output_type": "stream",
     "text": [
      "<class 'pandas.core.frame.DataFrame'>\n",
      "RangeIndex: 1303 entries, 0 to 1302\n",
      "Data columns (total 13 columns):\n",
      "Manufacturer                1303 non-null object\n",
      "Model Name                  1303 non-null object\n",
      "Category                    1303 non-null object\n",
      "Screen Size                 1303 non-null object\n",
      "Screen                      1303 non-null object\n",
      "CPU                         1303 non-null object\n",
      "RAM                         1303 non-null object\n",
      " Storage                    1303 non-null object\n",
      "GPU                         1303 non-null object\n",
      "Operating System            1303 non-null object\n",
      "Operating System Version    1133 non-null object\n",
      "Weight                      1303 non-null object\n",
      "Price (Euros)               1303 non-null object\n",
      "dtypes: object(13)\n",
      "memory usage: 66.2+ KB\n"
     ]
    }
   ],
   "source": [
    "laptops.info()"
   ]
  },
  {
   "cell_type": "code",
   "execution_count": 264,
   "metadata": {},
   "outputs": [
    {
     "data": {
      "text/plain": [
       "Index(['Manufacturer', 'Model Name', 'Category', 'Screen Size', 'Screen',\n",
       "       'CPU', 'RAM', ' Storage', 'GPU', 'Operating System',\n",
       "       'Operating System Version', 'Weight', 'Price (Euros)'],\n",
       "      dtype='object')"
      ]
     },
     "execution_count": 264,
     "metadata": {},
     "output_type": "execute_result"
    }
   ],
   "source": [
    "laptops.columns"
   ]
  },
  {
   "cell_type": "markdown",
   "metadata": {},
   "source": [
    "I want to clean up these column names into something more manageable. I would like to create a function to strip all the white spaces, make the letters lower case, replace spaces with underscores, and more."
   ]
  },
  {
   "cell_type": "code",
   "execution_count": 265,
   "metadata": {},
   "outputs": [
    {
     "data": {
      "text/plain": [
       "Index(['manufacturer', 'model_name', 'category', 'screen_size', 'screen',\n",
       "       'cpu', 'ram', 'storage', 'gpu', 'os', 'os_version', 'weight',\n",
       "       'price_euros'],\n",
       "      dtype='object')"
      ]
     },
     "execution_count": 265,
     "metadata": {},
     "output_type": "execute_result"
    }
   ],
   "source": [
    "def col_cleaner(col):\n",
    "    \n",
    "    \"\"\" This function will remove all the white spaces in between column names, \n",
    "    remove parentheses, make all the letters lowercase, and make \"Operating System\" \"os\" instead.\n",
    "    \"\"\"\n",
    "    \n",
    "    col = col.strip() #remove white space\n",
    "    col = col.replace(\"Operating System\", \"os\") #replace\n",
    "    col = col.replace(\" \", \"_\")\n",
    "    col = col.replace(\")\", \"\") #remove parentheses\n",
    "    col = col.replace(\"(\", \"\")\n",
    "    col = col.lower() #make lowercase\n",
    "    return col\n",
    "        \n",
    "laptops.columns = [col_cleaner(c) for c in laptops.columns]\n",
    "laptops.columns"
   ]
  },
  {
   "cell_type": "code",
   "execution_count": 266,
   "metadata": {},
   "outputs": [
    {
     "data": {
      "text/html": [
       "<div>\n",
       "<style scoped>\n",
       "    .dataframe tbody tr th:only-of-type {\n",
       "        vertical-align: middle;\n",
       "    }\n",
       "\n",
       "    .dataframe tbody tr th {\n",
       "        vertical-align: top;\n",
       "    }\n",
       "\n",
       "    .dataframe thead th {\n",
       "        text-align: right;\n",
       "    }\n",
       "</style>\n",
       "<table border=\"1\" class=\"dataframe\">\n",
       "  <thead>\n",
       "    <tr style=\"text-align: right;\">\n",
       "      <th></th>\n",
       "      <th>manufacturer</th>\n",
       "      <th>model_name</th>\n",
       "      <th>category</th>\n",
       "      <th>screen_size</th>\n",
       "      <th>screen</th>\n",
       "      <th>cpu</th>\n",
       "      <th>ram</th>\n",
       "      <th>storage</th>\n",
       "      <th>gpu</th>\n",
       "      <th>os</th>\n",
       "      <th>os_version</th>\n",
       "      <th>weight</th>\n",
       "      <th>price_euros</th>\n",
       "    </tr>\n",
       "  </thead>\n",
       "  <tbody>\n",
       "    <tr>\n",
       "      <th>0</th>\n",
       "      <td>Apple</td>\n",
       "      <td>MacBook Pro</td>\n",
       "      <td>Ultrabook</td>\n",
       "      <td>13.3\"</td>\n",
       "      <td>IPS Panel Retina Display 2560x1600</td>\n",
       "      <td>Intel Core i5 2.3GHz</td>\n",
       "      <td>8GB</td>\n",
       "      <td>128GB SSD</td>\n",
       "      <td>Intel Iris Plus Graphics 640</td>\n",
       "      <td>macOS</td>\n",
       "      <td>NaN</td>\n",
       "      <td>1.37kg</td>\n",
       "      <td>1339,69</td>\n",
       "    </tr>\n",
       "    <tr>\n",
       "      <th>1</th>\n",
       "      <td>Apple</td>\n",
       "      <td>Macbook Air</td>\n",
       "      <td>Ultrabook</td>\n",
       "      <td>13.3\"</td>\n",
       "      <td>1440x900</td>\n",
       "      <td>Intel Core i5 1.8GHz</td>\n",
       "      <td>8GB</td>\n",
       "      <td>128GB Flash Storage</td>\n",
       "      <td>Intel HD Graphics 6000</td>\n",
       "      <td>macOS</td>\n",
       "      <td>NaN</td>\n",
       "      <td>1.34kg</td>\n",
       "      <td>898,94</td>\n",
       "    </tr>\n",
       "    <tr>\n",
       "      <th>2</th>\n",
       "      <td>HP</td>\n",
       "      <td>250 G6</td>\n",
       "      <td>Notebook</td>\n",
       "      <td>15.6\"</td>\n",
       "      <td>Full HD 1920x1080</td>\n",
       "      <td>Intel Core i5 7200U 2.5GHz</td>\n",
       "      <td>8GB</td>\n",
       "      <td>256GB SSD</td>\n",
       "      <td>Intel HD Graphics 620</td>\n",
       "      <td>No OS</td>\n",
       "      <td>NaN</td>\n",
       "      <td>1.86kg</td>\n",
       "      <td>575,00</td>\n",
       "    </tr>\n",
       "    <tr>\n",
       "      <th>3</th>\n",
       "      <td>Apple</td>\n",
       "      <td>MacBook Pro</td>\n",
       "      <td>Ultrabook</td>\n",
       "      <td>15.4\"</td>\n",
       "      <td>IPS Panel Retina Display 2880x1800</td>\n",
       "      <td>Intel Core i7 2.7GHz</td>\n",
       "      <td>16GB</td>\n",
       "      <td>512GB SSD</td>\n",
       "      <td>AMD Radeon Pro 455</td>\n",
       "      <td>macOS</td>\n",
       "      <td>NaN</td>\n",
       "      <td>1.83kg</td>\n",
       "      <td>2537,45</td>\n",
       "    </tr>\n",
       "    <tr>\n",
       "      <th>4</th>\n",
       "      <td>Apple</td>\n",
       "      <td>MacBook Pro</td>\n",
       "      <td>Ultrabook</td>\n",
       "      <td>13.3\"</td>\n",
       "      <td>IPS Panel Retina Display 2560x1600</td>\n",
       "      <td>Intel Core i5 3.1GHz</td>\n",
       "      <td>8GB</td>\n",
       "      <td>256GB SSD</td>\n",
       "      <td>Intel Iris Plus Graphics 650</td>\n",
       "      <td>macOS</td>\n",
       "      <td>NaN</td>\n",
       "      <td>1.37kg</td>\n",
       "      <td>1803,60</td>\n",
       "    </tr>\n",
       "  </tbody>\n",
       "</table>\n",
       "</div>"
      ],
      "text/plain": [
       "  manufacturer   model_name   category screen_size  \\\n",
       "0        Apple  MacBook Pro  Ultrabook       13.3\"   \n",
       "1        Apple  Macbook Air  Ultrabook       13.3\"   \n",
       "2           HP       250 G6   Notebook       15.6\"   \n",
       "3        Apple  MacBook Pro  Ultrabook       15.4\"   \n",
       "4        Apple  MacBook Pro  Ultrabook       13.3\"   \n",
       "\n",
       "                               screen                         cpu   ram  \\\n",
       "0  IPS Panel Retina Display 2560x1600        Intel Core i5 2.3GHz   8GB   \n",
       "1                            1440x900        Intel Core i5 1.8GHz   8GB   \n",
       "2                   Full HD 1920x1080  Intel Core i5 7200U 2.5GHz   8GB   \n",
       "3  IPS Panel Retina Display 2880x1800        Intel Core i7 2.7GHz  16GB   \n",
       "4  IPS Panel Retina Display 2560x1600        Intel Core i5 3.1GHz   8GB   \n",
       "\n",
       "               storage                           gpu     os os_version  \\\n",
       "0            128GB SSD  Intel Iris Plus Graphics 640  macOS        NaN   \n",
       "1  128GB Flash Storage        Intel HD Graphics 6000  macOS        NaN   \n",
       "2            256GB SSD         Intel HD Graphics 620  No OS        NaN   \n",
       "3            512GB SSD            AMD Radeon Pro 455  macOS        NaN   \n",
       "4            256GB SSD  Intel Iris Plus Graphics 650  macOS        NaN   \n",
       "\n",
       "   weight price_euros  \n",
       "0  1.37kg     1339,69  \n",
       "1  1.34kg      898,94  \n",
       "2  1.86kg      575,00  \n",
       "3  1.83kg     2537,45  \n",
       "4  1.37kg     1803,60  "
      ]
     },
     "execution_count": 266,
     "metadata": {},
     "output_type": "execute_result"
    }
   ],
   "source": [
    "laptops.head()"
   ]
  },
  {
   "cell_type": "markdown",
   "metadata": {},
   "source": [
    "It looks like most of the values are stored in a format that I don't want. For example, the screen_size column has values such as 15\". I need to remove this and convert it to a float type."
   ]
  },
  {
   "cell_type": "code",
   "execution_count": 267,
   "metadata": {},
   "outputs": [
    {
     "data": {
      "text/plain": [
       "array(['13.3\"', '15.6\"', '15.4\"', '14.0\"', '12.0\"', '11.6\"', '17.3\"',\n",
       "       '10.1\"', '13.5\"', '12.5\"', '13.0\"', '18.4\"', '13.9\"', '12.3\"',\n",
       "       '17.0\"', '15.0\"', '14.1\"', '11.3\"'], dtype=object)"
      ]
     },
     "execution_count": 267,
     "metadata": {},
     "output_type": "execute_result"
    }
   ],
   "source": [
    "laptops[\"screen_size\"].unique()\n",
    "#all of the values have a number then a quote"
   ]
  },
  {
   "cell_type": "code",
   "execution_count": 268,
   "metadata": {},
   "outputs": [
    {
     "data": {
      "text/plain": [
       "array([13.3, 15.6, 15.4, 14. , 12. , 11.6, 17.3, 10.1, 13.5, 12.5, 13. ,\n",
       "       18.4, 13.9, 12.3, 17. , 15. , 14.1, 11.3])"
      ]
     },
     "execution_count": 268,
     "metadata": {},
     "output_type": "execute_result"
    }
   ],
   "source": [
    "laptops[\"screen_size\"] = laptops[\"screen_size\"].str.replace('\"', '').astype(float)\n",
    "laptops[\"screen_size\"].unique()"
   ]
  },
  {
   "cell_type": "code",
   "execution_count": 269,
   "metadata": {},
   "outputs": [
    {
     "data": {
      "text/plain": [
       "0    13.3\n",
       "1    13.3\n",
       "2    15.6\n",
       "3    15.4\n",
       "4    13.3\n",
       "Name: screen_size_inches, dtype: float64"
      ]
     },
     "execution_count": 269,
     "metadata": {},
     "output_type": "execute_result"
    }
   ],
   "source": [
    "laptops.rename({\"screen_size\": \"screen_size_inches\"}, axis = 1, inplace = True)\n",
    "laptops[\"screen_size_inches\"].head()"
   ]
  },
  {
   "cell_type": "markdown",
   "metadata": {},
   "source": [
    "Now, lets do the same for the ram column which has \"GB\" in it."
   ]
  },
  {
   "cell_type": "code",
   "execution_count": 270,
   "metadata": {},
   "outputs": [
    {
     "name": "stdout",
     "output_type": "stream",
     "text": [
      "Index(['manufacturer', 'model_name', 'category', 'screen_size_inches',\n",
      "       'screen', 'cpu', 'ram_gb', 'storage', 'gpu', 'os', 'os_version',\n",
      "       'weight', 'price_euros'],\n",
      "      dtype='object')\n"
     ]
    }
   ],
   "source": [
    "laptops[\"ram\"] = laptops[\"ram\"].str.replace(\"GB\", \"\").astype(int)\n",
    "laptops.rename({\"ram\":\"ram_gb\"}, axis = 1, inplace = True)\n",
    "print(laptops.columns)"
   ]
  },
  {
   "cell_type": "markdown",
   "metadata": {},
   "source": [
    "Now, weight and euros."
   ]
  },
  {
   "cell_type": "code",
   "execution_count": 271,
   "metadata": {},
   "outputs": [
    {
     "data": {
      "text/plain": [
       "array(['1.37kg', '1.34kg', '1.86kg', '1.83kg', '2.1kg', '2.04kg', '1.3kg',\n",
       "       '1.6kg', '2.2kg', '0.92kg', '1.22kg', '0.98kg', '2.5kg', '1.62kg',\n",
       "       '1.91kg', '2.3kg', '1.35kg', '1.88kg', '1.89kg', '1.65kg',\n",
       "       '2.71kg', '1.2kg', '1.44kg', '2.8kg', '2kg', '2.65kg', '2.77kg',\n",
       "       '3.2kg', '0.69kg', '1.49kg', '2.4kg', '2.13kg', '2.43kg', '1.7kg',\n",
       "       '1.4kg', '1.8kg', '1.9kg', '3kg', '1.252kg', '2.7kg', '2.02kg',\n",
       "       '1.63kg', '1.96kg', '1.21kg', '2.45kg', '1.25kg', '1.5kg',\n",
       "       '2.62kg', '1.38kg', '1.58kg', '1.85kg', '1.23kg', '1.26kg',\n",
       "       '2.16kg', '2.36kg', '2.05kg', '1.32kg', '1.75kg', '0.97kg',\n",
       "       '2.9kg', '2.56kg', '1.48kg', '1.74kg', '1.1kg', '1.56kg', '2.03kg',\n",
       "       '1.05kg', '4.4kg', '1.90kg', '1.29kg', '2.0kg', '1.95kg', '2.06kg',\n",
       "       '1.12kg', '1.42kg', '3.49kg', '3.35kg', '2.23kg', '4.42kg',\n",
       "       '2.69kg', '2.37kg', '4.7kg', '3.6kg', '2.08kg', '4.3kg', '1.68kg',\n",
       "       '1.41kg', '4.14kg', '2.18kg', '2.24kg', '2.67kg', '2.14kg',\n",
       "       '1.36kg', '2.25kg', '2.15kg', '2.19kg', '2.54kg', '3.42kg',\n",
       "       '1.28kg', '2.33kg', '1.45kg', '2.79kg', '1.84kg', '2.6kg',\n",
       "       '2.26kg', '3.25kg', '1.59kg', '1.13kg', '1.78kg', '1.10kg',\n",
       "       '1.15kg', '1.27kg', '1.43kg', '2.31kg', '1.16kg', '1.64kg',\n",
       "       '2.17kg', '1.47kg', '3.78kg', '1.79kg', '0.91kg', '1.99kg',\n",
       "       '4.33kg', '1.93kg', '1.87kg', '2.63kg', '3.4kg', '3.14kg',\n",
       "       '1.94kg', '1.24kg', '4.6kg', '4.5kg', '2.73kg', '1.39kg', '2.29kg',\n",
       "       '2.59kg', '2.94kg', '1.14kg', '3.8kg', '3.31kg', '1.09kg',\n",
       "       '3.21kg', '1.19kg', '1.98kg', '1.17kg', '4.36kg', '1.71kg',\n",
       "       '2.32kg', '4.2kg', '1.55kg', '0.81kg', '1.18kg', '2.72kg',\n",
       "       '1.31kg', '0.920kg', '3.74kg', '1.76kg', '1.54kg', '2.83kg',\n",
       "       '2.07kg', '2.38kg', '3.58kg', '1.08kg', '2.20kg', '2.75kg',\n",
       "       '1.70kg', '2.99kg', '1.11kg', '2.09kg', '4kgs', '3.0kg', '0.99kg',\n",
       "       '3.52kg', '2.591kg', '2.21kg', '3.3kg', '2.191kg', '2.34kg',\n",
       "       '4.0kg'], dtype=object)"
      ]
     },
     "execution_count": 271,
     "metadata": {},
     "output_type": "execute_result"
    }
   ],
   "source": [
    "laptops.weight.unique()"
   ]
  },
  {
   "cell_type": "code",
   "execution_count": 272,
   "metadata": {},
   "outputs": [
    {
     "name": "stdout",
     "output_type": "stream",
     "text": [
      "Index(['manufacturer', 'model_name', 'category', 'screen_size_inches',\n",
      "       'screen', 'cpu', 'ram_gb', 'storage', 'gpu', 'os', 'os_version',\n",
      "       'weight_kg', 'price_euros'],\n",
      "      dtype='object')\n"
     ]
    }
   ],
   "source": [
    "#float then \"kg\"\n",
    "laptops[\"weight\"] = laptops[\"weight\"].str.replace(\"kg\", \"\")\n",
    "laptops[\"weight\"] = laptops[\"weight\"].str.replace(\"s\", \"\")\n",
    "laptops[\"weight\"] = laptops[\"weight\"].astype(float)\n",
    "laptops.rename({\"weight\" : \"weight_kg\"}, axis = 1, inplace = True)\n",
    "print(laptops.columns)"
   ]
  },
  {
   "cell_type": "code",
   "execution_count": 273,
   "metadata": {},
   "outputs": [
    {
     "data": {
      "text/plain": [
       "array(['1339,69', '898,94', '575,00', '2537,45', '1803,60', '400,00',\n",
       "       '2139,97', '1158,70', '1495,00', '770,00', '393,90', '344,99',\n",
       "       '2439,97', '498,90', '1262,40', '1518,55', '745,00', '2858,00',\n",
       "       '499,00', '979,00', '191,90', '999,00', '258,00', '819,00',\n",
       "       '659,00', '418,64', '1099,00', '800,00', '1298,00', '896,00',\n",
       "       '244,99', '199,00', '439,00', '1869,00', '998,00', '249,00',\n",
       "       '367,00', '488,69', '879,00', '389,00', '1499,00', '522,99',\n",
       "       '682,00', '1419,00', '369,00', '1299,00', '639,00', '466,00',\n",
       "       '319,00', '841,00', '398,49', '1103,00', '384,00', '767,80',\n",
       "       '586,19', '2449,00', '415,00', '599,00', '941,00', '690,00',\n",
       "       '1983,00', '438,69', '229,00', '549,00', '949,00', '1089,00',\n",
       "       '955,00', '870,00', '1095,00', '519,00', '855,00', '530,00',\n",
       "       '977,00', '1096,16', '1510,00', '860,00', '399,00', '395,00',\n",
       "       '1349,00', '699,00', '598,99', '1449,00', '1649,00', '689,00',\n",
       "       '1197,00', '1195,00', '1049,00', '847,00', '599,90', '485,00',\n",
       "       '577,00', '1249,00', '719,00', '349,00', '647,00', '1119,00',\n",
       "       '1340,00', '414,90', '1193,00', '1480,00', '1262,00', '1379,00',\n",
       "       '1399,00', '722,00', '1629,00', '1398,99', '1084,00', '1130,33',\n",
       "       '564,00', '1118,00', '479,00', '2241,50', '629,00', '1271,00',\n",
       "       '451,00', '259,00', '812,00', '277,99', '1396,00', '928,00',\n",
       "       '638,99', '449,00', '884,00', '572,00', '598,00', '988,00',\n",
       "       '252,36', '938,00', '655,00', '1116,02', '869,00', '602,00',\n",
       "       '2014,00', '344,00', '2029,00', '447,00', '1249,26', '899,00',\n",
       "       '498,00', '1890,00', '1082,00', '619,00', '1315,00', '403,00',\n",
       "       '805,00', '728,00', '1079,00', '348,00', '1799,00', '363,51',\n",
       "       '1060,49', '854,00', '754,00', '309,00', '489,00', '923,00',\n",
       "       '459,00', '2799,00', '813,00', '1849,00', '793,00', '1199,00',\n",
       "       '1549,00', '2397,00', '779,00', '989,00', '1085,00', '2824,00',\n",
       "       '260,00', '999,90', '698,00', '839,00', '914,00', '6099,00',\n",
       "       '959,00', '1045,00', '1845,00', '493,00', '742,00', '1749,00',\n",
       "       '3055,00', '1398,00', '1949,00', '597,00', '1407,00', '931,88',\n",
       "       '589,00', '1031,00', '1149,00', '1279,00', '677,35', '1363,00',\n",
       "       '794,00', '2456,34', '832,00', '859,01', '769,00', '891,00',\n",
       "       '1269,00', '398,99', '330,00', '859,00', '390,00', '3890,00',\n",
       "       '846,00', '1145,00', '889,00', '985,00', '559,00', '2999,00',\n",
       "       '675,00', '2040,00', '469,00', '702,00', '445,90', '1059,00',\n",
       "       '2499,00', '1699,00', '1142,00', '444,00', '657,00', '565,00',\n",
       "       '799,00', '467,00', '1018,00', '880,00', '1958,90', '735,07',\n",
       "       '713,07', '849,00', '428,00', '829,00', '579,00', '951,00',\n",
       "       '1097,00', '1179,00', '659,01', '1187,00', '1829,00', '739,00',\n",
       "       '2884,86', '1468,00', '509,00', '2122,00', '649,00', '1265,00',\n",
       "       '359,99', '1975,00', '1043,00', '2099,00', '275,00', '844,00',\n",
       "       '459,90', '980,00', '1292,00', '1094,00', '902,00', '292,00',\n",
       "       '1049,90', '1335,00', '2639,00', '943,00', '1334,00', '1268,00',\n",
       "       '1144,00', '274,99', '1142,75', '274,90', '716,00', '1579,00',\n",
       "       '1129,00', '279,00', '1607,96', '375,00', '663,00', '2027,42',\n",
       "       '1304,00', '1409,00', '1738,27', '1403,00', '970,90', '321,99',\n",
       "       '557,37', '1427,00', '945,00', '809,00', '1750,00', '426,00',\n",
       "       '2199,00', '869,01', '488,99', '553,00', '286,00', '1191,00',\n",
       "       '403,50', '1655,00', '1748,90', '2282,00', '1369,00', '2135,00',\n",
       "       '2509,00', '1039,00', '1591,00', '693,99', '778,87', '1229,56',\n",
       "       '2712,00', '2625,00', '306,00', '1529,00', '1144,50', '2249,00',\n",
       "       '1873,00', '1747,00', '1680,00', '409,00', '304,45', '1925,00',\n",
       "       '1943,00', '789,01', '598,90', '1500,00', '539,95', '1215,38',\n",
       "       '1899,00', '1159,00', '1142,40', '1999,00', '299,00', '269,00',\n",
       "       '1010,00', '2445,00', '1695,00', '347,00', '2382,00', '749,00',\n",
       "       '1429,00', '441,80', '1993,00', '1027,74', '2589,00', '1534,00',\n",
       "       '1345,00', '2046,00', '639,90', '544,00', '435,00', '2090,00',\n",
       "       '304,00', '759,00', '1858,00', '1154,00', '1275,00', '1841,85',\n",
       "       '740,00', '2408,00', '1364,00', '1672,00', '586,60', '726,00',\n",
       "       '248,90', '2338,00', '1798,00', '1950,00', '1011,99', '1350,00',\n",
       "       '898,90', '911,00', '340,00', '618,99', '1599,00', '265,00',\n",
       "       '1224,00', '613,00', '1323,00', '836,00', '1219,24', '1399,95',\n",
       "       '245,00', '521,47', '2968,00', '1504,00', '1279,73', '585,00',\n",
       "       '1377,00', '3012,77', '797,41', '735,87', '798,00', '705,50',\n",
       "       '785,00', '462,35', '397,00', '1729,00', '1116,99', '2699,00',\n",
       "       '544,15', '1280,00', '224,00', '255,00', '568,90', '617,90',\n",
       "       '630,00', '1965,00', '990,00', '1860,99', '830,00', '685,00',\n",
       "       '1865,00', '2663,00', '2729,00', '749,01', '1008,52', '1537,39',\n",
       "       '295,00', '2349,00', '1498,00', '1673,00', '609,00', '1770,00',\n",
       "       '603,00', '529,00', '2025,00', '1474,00', '1670,00', '1763,00',\n",
       "       '1219,00', '668,48', '329,00', '465,00', '2299,00', '4899,00',\n",
       "       '879,01', '443,90', '359,00', '1168,00', '569,00', '1389,00',\n",
       "       '2267,86', '379,00', '1124,00', '1465,00', '776,00', '932,00',\n",
       "       '239,00', '468,00', '639,01', '1820,00', '1900,00', '1479,00',\n",
       "       '906,62', '1757,42', '2399,00', '1109,00', '520,90', '2450,00',\n",
       "       '1169,00', '450,00', '274,00', '919,00', '2599,00', '1213,00',\n",
       "       '1584,00', '709,00', '1449,90', '1191,80', '364,90', '1064,00',\n",
       "       '1135,00', '1196,00', '3147,37', '1229,00', '419,00', '535,00',\n",
       "       '539,00', '1486,77', '1258,00', '412,00', '1867,85', '817,95',\n",
       "       '1034,00', '1294,00', '495,00', '997,90', '2051,00', '2813,75',\n",
       "       '612,61', '545,67', '318,00', '1907,99', '2590,00', '973,00',\n",
       "       '669,00', '1877,00', '429,00', '621,45', '795,00', '1855,00',\n",
       "       '655,01', '298,00', '1426,66', '857,07', '1200,00', '1686,64',\n",
       "       '836,60', '3659,40', '1348,48', '489,90', '589,52', '1935,00',\n",
       "       '650,00', '960,00', '2419,00', '2094,48', '410,80', '1207,00',\n",
       "       '665,00', '1535,00', '3299,00', '1126,71', '4389,00', '475,00',\n",
       "       '1096,00', '849,90', '1561,00', '2868,99', '1048,00', '1859,00',\n",
       "       '1559,00', '470,34', '1181,27', '1020,00', '1244,00', '2370,00',\n",
       "       '636,00', '2899,00', '581,90', '3588,80', '2350,00', '1764,00',\n",
       "       '1891,00', '1339,00', '202,90', '1970,00', '1165,00', '2330,00',\n",
       "       '810,00', '2064,90', '744,00', '780,00', '1679,00', '2415,00',\n",
       "       '961,00', '789,81', '385,00', '2505,02', '755,00', '1090,00',\n",
       "       '1875,00', '1358,00', '355,00', '5499,00', '1186,00', '1650,00',\n",
       "       '2774,63', '325,00', '590,00', '3072,89', '910,00', '713,99',\n",
       "       '1870,00', '615,00', '1026,00', '2277,00', '865,00', '1903,00',\n",
       "       '787,00', '2559,00', '850,66', '1285,00', '1017,00', '2240,00',\n",
       "       '1778,00', '1055,00', '1388,00', '735,00', '1690,00', '935,00',\n",
       "       '912,50', '1700,00', '684,80', '455,70', '1369,90', '297,00',\n",
       "       '2649,00', '1475,00', '929,00', '900,00', '614,00', '2013,10',\n",
       "       '2049,00', '1962,99', '1483,00', '789,00', '1205,00', '3100,00',\n",
       "       '1018,99', '881,00', '1119,91', '684,99', '1296,99', '1825,00',\n",
       "       '729,90', '708,06', '288,90', '1105,00', '1669,00', '558,60',\n",
       "       '1639,00', '2758,00', '1472,20', '1775,00', '1460,00', '1488,99',\n",
       "       '3154,00', '775,00', '1760,00', '1009,00', '1790,00', '846,50',\n",
       "       '465,62', '825,00', '3149,00', '695,00', '1962,98', '2800,00',\n",
       "       '1180,00', '2049,90', '1002,00', '915,00', '806,00', '1189,00',\n",
       "       '1908,00', '270,62', '1150,00', '380,00', '2089,00', '1260,00',\n",
       "       '547,00', '1099,99', '1049,26', '684,00', '1539,00', '1590,00',\n",
       "       '1887,21', '1210,00', '769,99', '1490,00', '2229,00', '795,99',\n",
       "       '1185,43', '1046,44', '1060,00', '1624,00', '1080,00', '1228,99',\n",
       "       '1725,00', '1062,95', '1010,51', '210,80', '1425,00', '1049,60',\n",
       "       '1000,00', '2103,34', '1469,00', '1545,64', '2289,99', '287,90',\n",
       "       '2620,00', '2254,00', '705,15', '1819,00', '1070,00', '989,99',\n",
       "       '1929,00', '1458,00', '3975,00', '798,01', '1329,00', '1300,00',\n",
       "       '481,98', '1713,49', '540,00', '940,00', '3240,00', '646,27',\n",
       "       '750,00', '1030,99', '387,00', '393,49', '345,99', '818,35',\n",
       "       '638,80', '500,00', '1135,15', '1166,97', '209,00', '1413,10',\n",
       "       '1511,19', '867,00', '398,00', '769,15', '1969,00', '2749,99',\n",
       "       '1029,00', '2226,00', '1312,49', '196,00', '1513,00', '523,63',\n",
       "       '1895,00', '2050,38', '278,00', '752,00', '616,00', '3949,40',\n",
       "       '784,00', '2171,72', '2440,00', '1142,80', '2296,95', '1009,90',\n",
       "       '2339,00', '339,00', '2250,68', '478,89', '1492,80', '788,49',\n",
       "       '2041,00', '1769,00', '476,99', '1390,00', '679,00', '1305,00',\n",
       "       '2153,37', '1637,00', '831,00', '895,01', '333,00', '909,00',\n",
       "       '691,00', '1163,00', '1327,00', '368,00', '2150,00', '272,00',\n",
       "       '2048,90', '2680,00', '1948,99', '174,00', '1272,00', '1476,11',\n",
       "       '1713,37', '1477,00', '521,86', '3499,00', '469,01', '1598,00',\n",
       "       '478,00', '2198,19', '737,00', '597,57', '361,80', '1600,00',\n",
       "       '875,00', '2325,00', '573,00', '1813,00', '324,00', '1072,00',\n",
       "       '443,99', '490,00', '895,00', '833,01', '729,00', '289,00',\n",
       "       '549,99', '805,99', '720,32', '638,00', '764,00'], dtype=object)"
      ]
     },
     "execution_count": 273,
     "metadata": {},
     "output_type": "execute_result"
    }
   ],
   "source": [
    "laptops.price_euros.unique()"
   ]
  },
  {
   "cell_type": "code",
   "execution_count": 274,
   "metadata": {},
   "outputs": [
    {
     "name": "stdout",
     "output_type": "stream",
     "text": [
      "Index(['manufacturer', 'model_name', 'category', 'screen_size_inches',\n",
      "       'screen', 'cpu', 'ram_gb', 'storage', 'gpu', 'os', 'os_version',\n",
      "       'weight_kg', 'price_euros'],\n",
      "      dtype='object')\n"
     ]
    }
   ],
   "source": [
    "#replace commas with period\n",
    "laptops[\"price_euros\"] = laptops[\"price_euros\"].str.replace(\",\", \".\").astype(float)\n",
    "print(laptops.columns)"
   ]
  },
  {
   "cell_type": "markdown",
   "metadata": {},
   "source": [
    "Now I can generate some descriptive statistics."
   ]
  },
  {
   "cell_type": "code",
   "execution_count": 275,
   "metadata": {},
   "outputs": [
    {
     "data": {
      "text/html": [
       "<div>\n",
       "<style scoped>\n",
       "    .dataframe tbody tr th:only-of-type {\n",
       "        vertical-align: middle;\n",
       "    }\n",
       "\n",
       "    .dataframe tbody tr th {\n",
       "        vertical-align: top;\n",
       "    }\n",
       "\n",
       "    .dataframe thead th {\n",
       "        text-align: right;\n",
       "    }\n",
       "</style>\n",
       "<table border=\"1\" class=\"dataframe\">\n",
       "  <thead>\n",
       "    <tr style=\"text-align: right;\">\n",
       "      <th></th>\n",
       "      <th>screen_size_inches</th>\n",
       "      <th>ram_gb</th>\n",
       "      <th>weight_kg</th>\n",
       "      <th>price_euros</th>\n",
       "    </tr>\n",
       "  </thead>\n",
       "  <tbody>\n",
       "    <tr>\n",
       "      <th>count</th>\n",
       "      <td>1303.000000</td>\n",
       "      <td>1303.000000</td>\n",
       "      <td>1303.000000</td>\n",
       "      <td>1303.000000</td>\n",
       "    </tr>\n",
       "    <tr>\n",
       "      <th>mean</th>\n",
       "      <td>15.017191</td>\n",
       "      <td>8.382195</td>\n",
       "      <td>2.038734</td>\n",
       "      <td>1123.686992</td>\n",
       "    </tr>\n",
       "    <tr>\n",
       "      <th>std</th>\n",
       "      <td>1.426304</td>\n",
       "      <td>5.084665</td>\n",
       "      <td>0.665475</td>\n",
       "      <td>699.009043</td>\n",
       "    </tr>\n",
       "    <tr>\n",
       "      <th>min</th>\n",
       "      <td>10.100000</td>\n",
       "      <td>2.000000</td>\n",
       "      <td>0.690000</td>\n",
       "      <td>174.000000</td>\n",
       "    </tr>\n",
       "    <tr>\n",
       "      <th>25%</th>\n",
       "      <td>14.000000</td>\n",
       "      <td>4.000000</td>\n",
       "      <td>1.500000</td>\n",
       "      <td>599.000000</td>\n",
       "    </tr>\n",
       "    <tr>\n",
       "      <th>50%</th>\n",
       "      <td>15.600000</td>\n",
       "      <td>8.000000</td>\n",
       "      <td>2.040000</td>\n",
       "      <td>977.000000</td>\n",
       "    </tr>\n",
       "    <tr>\n",
       "      <th>75%</th>\n",
       "      <td>15.600000</td>\n",
       "      <td>8.000000</td>\n",
       "      <td>2.300000</td>\n",
       "      <td>1487.880000</td>\n",
       "    </tr>\n",
       "    <tr>\n",
       "      <th>max</th>\n",
       "      <td>18.400000</td>\n",
       "      <td>64.000000</td>\n",
       "      <td>4.700000</td>\n",
       "      <td>6099.000000</td>\n",
       "    </tr>\n",
       "  </tbody>\n",
       "</table>\n",
       "</div>"
      ],
      "text/plain": [
       "       screen_size_inches       ram_gb    weight_kg  price_euros\n",
       "count         1303.000000  1303.000000  1303.000000  1303.000000\n",
       "mean            15.017191     8.382195     2.038734  1123.686992\n",
       "std              1.426304     5.084665     0.665475   699.009043\n",
       "min             10.100000     2.000000     0.690000   174.000000\n",
       "25%             14.000000     4.000000     1.500000   599.000000\n",
       "50%             15.600000     8.000000     2.040000   977.000000\n",
       "75%             15.600000     8.000000     2.300000  1487.880000\n",
       "max             18.400000    64.000000     4.700000  6099.000000"
      ]
     },
     "execution_count": 275,
     "metadata": {},
     "output_type": "execute_result"
    }
   ],
   "source": [
    "laptops.describe()"
   ]
  },
  {
   "cell_type": "code",
   "execution_count": 276,
   "metadata": {
    "scrolled": true
   },
   "outputs": [
    {
     "data": {
      "text/plain": [
       "Intel     722\n",
       "Nvidia    400\n",
       "AMD       180\n",
       "ARM         1\n",
       "Name: gpu_manufacturer, dtype: int64"
      ]
     },
     "execution_count": 276,
     "metadata": {},
     "output_type": "execute_result"
    }
   ],
   "source": [
    "laptops[\"gpu_manufacturer\"] = laptops[\"gpu\"].str.split(n = 1, expand = True).iloc[:,0]\n",
    "laptops[\"gpu_manufacturer\"].value_counts()"
   ]
  },
  {
   "cell_type": "code",
   "execution_count": 277,
   "metadata": {},
   "outputs": [
    {
     "data": {
      "text/plain": [
       "Intel      1240\n",
       "AMD          62\n",
       "Samsung       1\n",
       "Name: cpu_manufacturer, dtype: int64"
      ]
     },
     "execution_count": 277,
     "metadata": {},
     "output_type": "execute_result"
    }
   ],
   "source": [
    "laptops[\"cpu_manufacturer\"] = laptops[\"cpu\"].str.split(n = 1, expand = True).iloc[:, 0]\n",
    "laptops[\"cpu_manufacturer\"].value_counts()"
   ]
  },
  {
   "cell_type": "code",
   "execution_count": 278,
   "metadata": {},
   "outputs": [
    {
     "data": {
      "text/plain": [
       "0    2560x1600\n",
       "1     1440x900\n",
       "2    1920x1080\n",
       "3    2880x1800\n",
       "4    2560x1600\n",
       "Name: screen_resolution, dtype: object"
      ]
     },
     "execution_count": 278,
     "metadata": {},
     "output_type": "execute_result"
    }
   ],
   "source": [
    "screen_res = laptops[\"screen\"].str.rsplit(n = 1, expand = True)\n",
    "screen_res.columns = [\"A\", \"B\"]\n",
    "screen_res.loc[screen_res[\"B\"].isnull(), \"B\"] = screen_res[\"A\"]\n",
    "laptops[\"screen_resolution\"] = screen_res[\"B\"]\n",
    "laptops[\"screen_resolution\"].head()"
   ]
  },
  {
   "cell_type": "code",
   "execution_count": 279,
   "metadata": {},
   "outputs": [
    {
     "data": {
      "text/plain": [
       "0    2.3\n",
       "1    1.8\n",
       "2    2.5\n",
       "3    2.7\n",
       "4    3.1\n",
       "Name: cpu_speed_ghz, dtype: float64"
      ]
     },
     "execution_count": 279,
     "metadata": {},
     "output_type": "execute_result"
    }
   ],
   "source": [
    "laptops[\"cpu_speed_ghz\"] = laptops[\"cpu\"].str.replace(\"GHz\", \"\").str.rsplit(n = 1, expand = True).iloc[:, 1].astype(float)\n",
    "laptops.cpu_speed_ghz.head()"
   ]
  },
  {
   "cell_type": "code",
   "execution_count": 280,
   "metadata": {},
   "outputs": [
    {
     "data": {
      "text/plain": [
       "0         macOS\n",
       "1         macOS\n",
       "2         No OS\n",
       "3         macOS\n",
       "4         macOS\n",
       "5       Windows\n",
       "6        Mac OS\n",
       "7         macOS\n",
       "8       Windows\n",
       "9       Windows\n",
       "10        No OS\n",
       "11        No OS\n",
       "12        macOS\n",
       "13      Windows\n",
       "14        macOS\n",
       "15        macOS\n",
       "16      Windows\n",
       "17        macOS\n",
       "18        No OS\n",
       "19      Windows\n",
       "20      Windows\n",
       "21      Windows\n",
       "22        No OS\n",
       "23      Windows\n",
       "24      Windows\n",
       "25      Windows\n",
       "26       Mac OS\n",
       "27      Windows\n",
       "28      Windows\n",
       "29      Windows\n",
       "         ...   \n",
       "1273    Windows\n",
       "1274    Windows\n",
       "1275    Windows\n",
       "1276    Windows\n",
       "1277      Linux\n",
       "1278    Windows\n",
       "1279    Windows\n",
       "1280    Windows\n",
       "1281      Linux\n",
       "1282    Windows\n",
       "1283    Windows\n",
       "1284    Windows\n",
       "1285    Windows\n",
       "1286    Windows\n",
       "1287    Windows\n",
       "1288    Windows\n",
       "1289    Windows\n",
       "1290    Windows\n",
       "1291      Linux\n",
       "1292    Windows\n",
       "1293    Windows\n",
       "1294    Windows\n",
       "1295      Linux\n",
       "1296    Windows\n",
       "1297    Windows\n",
       "1298    Windows\n",
       "1299    Windows\n",
       "1300    Windows\n",
       "1301    Windows\n",
       "1302    Windows\n",
       "Name: os, Length: 1303, dtype: object"
      ]
     },
     "execution_count": 280,
     "metadata": {},
     "output_type": "execute_result"
    }
   ],
   "source": [
    "laptops.os"
   ]
  },
  {
   "cell_type": "code",
   "execution_count": 281,
   "metadata": {},
   "outputs": [
    {
     "data": {
      "text/plain": [
       "Windows      1125\n",
       "No OS          66\n",
       "Linux          62\n",
       "Chrome OS      27\n",
       "macOS          21\n",
       "Android         2\n",
       "Name: os, dtype: int64"
      ]
     },
     "execution_count": 281,
     "metadata": {},
     "output_type": "execute_result"
    }
   ],
   "source": [
    "laptops[\"os\"].value_counts()\n",
    "\n",
    "mapping_dict = {\n",
    "    'Android': 'Android',\n",
    "    'Chrome OS': 'Chrome OS',\n",
    "    'Linux': 'Linux',\n",
    "    'Mac OS': 'macOS',\n",
    "    'No OS': 'No OS',\n",
    "    'Windows': 'Windows',\n",
    "    'macOS': 'macOS'\n",
    "}\n",
    "\n",
    "laptops[\"os\"] = laptops[\"os\"].map(mapping_dict)\n",
    "laptops[\"os\"].value_counts()"
   ]
  },
  {
   "cell_type": "code",
   "execution_count": 282,
   "metadata": {},
   "outputs": [
    {
     "name": "stdout",
     "output_type": "stream",
     "text": [
      "<class 'pandas.core.frame.DataFrame'>\n",
      "RangeIndex: 1303 entries, 0 to 1302\n",
      "Data columns (total 17 columns):\n",
      "manufacturer          1303 non-null object\n",
      "model_name            1303 non-null object\n",
      "category              1303 non-null object\n",
      "screen_size_inches    1303 non-null float64\n",
      "screen                1303 non-null object\n",
      "cpu                   1303 non-null object\n",
      "ram_gb                1303 non-null int32\n",
      "storage               1303 non-null object\n",
      "gpu                   1303 non-null object\n",
      "os                    1303 non-null object\n",
      "os_version            1133 non-null object\n",
      "weight_kg             1303 non-null float64\n",
      "price_euros           1303 non-null float64\n",
      "gpu_manufacturer      1303 non-null object\n",
      "cpu_manufacturer      1303 non-null object\n",
      "screen_resolution     1303 non-null object\n",
      "cpu_speed_ghz         1303 non-null float64\n",
      "dtypes: float64(4), int32(1), object(12)\n",
      "memory usage: 106.9+ KB\n"
     ]
    }
   ],
   "source": [
    "laptops.info()"
   ]
  },
  {
   "cell_type": "code",
   "execution_count": 283,
   "metadata": {},
   "outputs": [
    {
     "data": {
      "text/plain": [
       "manufacturer            0\n",
       "model_name              0\n",
       "category                0\n",
       "screen_size_inches      0\n",
       "screen                  0\n",
       "cpu                     0\n",
       "ram_gb                  0\n",
       "storage                 0\n",
       "gpu                     0\n",
       "os                      0\n",
       "os_version            170\n",
       "weight_kg               0\n",
       "price_euros             0\n",
       "gpu_manufacturer        0\n",
       "cpu_manufacturer        0\n",
       "screen_resolution       0\n",
       "cpu_speed_ghz           0\n",
       "dtype: int64"
      ]
     },
     "execution_count": 283,
     "metadata": {},
     "output_type": "execute_result"
    }
   ],
   "source": [
    "laptops.isnull().sum()"
   ]
  },
  {
   "cell_type": "code",
   "execution_count": 284,
   "metadata": {},
   "outputs": [
    {
     "name": "stdout",
     "output_type": "stream",
     "text": [
      "(1133, 17)\n",
      "(1303, 16)\n"
     ]
    }
   ],
   "source": [
    "laptops_no_null_rows = laptops.dropna()\n",
    "laptops_no_null_cols = laptops.dropna(axis = 1)\n",
    "print(laptops_no_null_rows.shape)\n",
    "print(laptops_no_null_cols.shape)"
   ]
  },
  {
   "cell_type": "code",
   "execution_count": 285,
   "metadata": {},
   "outputs": [
    {
     "data": {
      "text/plain": [
       "10      1072\n",
       "NaN      170\n",
       "7         45\n",
       "10 S       8\n",
       "X          8\n",
       "Name: os_version, dtype: int64"
      ]
     },
     "execution_count": 285,
     "metadata": {},
     "output_type": "execute_result"
    }
   ],
   "source": [
    "laptops[\"os_version\"].value_counts(dropna=False)"
   ]
  },
  {
   "cell_type": "markdown",
   "metadata": {},
   "source": [
    "Using my knowledge of laptops I know that the full name of Mac OS is Mac OS X. If thats the case, then I hypothesize that the values in the \"os\" column that are \"macOS\", also have \"X\" as their operating system version. Lets test this hypothesis by filtering my dataframe for macOS laptops, and viewing the distribution.\n"
   ]
  },
  {
   "cell_type": "code",
   "execution_count": 286,
   "metadata": {},
   "outputs": [
    {
     "data": {
      "text/plain": [
       "NaN    13\n",
       "X       8\n",
       "Name: os_version, dtype: int64"
      ]
     },
     "execution_count": 286,
     "metadata": {},
     "output_type": "execute_result"
    }
   ],
   "source": [
    "laptops.loc[laptops[\"os\"] == \"macOS\", \"os_version\"].value_counts(dropna = False)"
   ]
  },
  {
   "cell_type": "markdown",
   "metadata": {},
   "source": [
    "This confirms my hypothesis. Now, using this information I feel comfortable replacing the missing values in \"os_version\" that are macOS with \"X\"."
   ]
  },
  {
   "cell_type": "code",
   "execution_count": 287,
   "metadata": {},
   "outputs": [
    {
     "data": {
      "text/plain": [
       "10      1072\n",
       "NaN      157\n",
       "7         45\n",
       "X         21\n",
       "10 S       8\n",
       "Name: os_version, dtype: int64"
      ]
     },
     "execution_count": 287,
     "metadata": {},
     "output_type": "execute_result"
    }
   ],
   "source": [
    "laptops.loc[laptops[\"os\"] == \"macOS\", \"os_version\"] = \"X\"\n",
    "laptops[\"os_version\"].value_counts(dropna = False)"
   ]
  },
  {
   "cell_type": "code",
   "execution_count": 288,
   "metadata": {},
   "outputs": [
    {
     "data": {
      "text/plain": [
       "Windows      1125\n",
       "No OS          66\n",
       "Linux          62\n",
       "Chrome OS      27\n",
       "macOS          21\n",
       "Android         2\n",
       "Name: os, dtype: int64"
      ]
     },
     "execution_count": 288,
     "metadata": {},
     "output_type": "execute_result"
    }
   ],
   "source": [
    "laptops.os.value_counts()"
   ]
  },
  {
   "cell_type": "code",
   "execution_count": 289,
   "metadata": {},
   "outputs": [
    {
     "data": {
      "text/plain": [
       "10                 1072\n",
       "Version Unknown      66\n",
       "7                    45\n",
       "X                    21\n",
       "10 S                  8\n",
       "Name: os_version, dtype: int64"
      ]
     },
     "execution_count": 289,
     "metadata": {},
     "output_type": "execute_result"
    }
   ],
   "source": [
    "laptops.loc[laptops[\"os\"] == \"No OS\", \"os_version\"] = \"Version Unknown\"\n",
    "laptops.os_version.value_counts()"
   ]
  },
  {
   "cell_type": "code",
   "execution_count": 292,
   "metadata": {},
   "outputs": [
    {
     "data": {
      "text/plain": [
       "array(['128GB SSD', '128GB Flash Storage', '256GB SSD', '512GB SSD',\n",
       "       '500GB HDD', '256GB Flash Storage', '1TB HDD',\n",
       "       '32GB Flash Storage', '128GB SSD +  1TB HDD',\n",
       "       '256GB SSD +  256GB SSD', '64GB Flash Storage',\n",
       "       '256GB SSD +  1TB HDD', '256GB SSD +  2TB HDD', '32GB SSD',\n",
       "       '2TB HDD', '64GB SSD', '1TB Hybrid', '512GB SSD +  1TB HDD',\n",
       "       '1TB SSD', '256GB SSD +  500GB HDD', '128GB SSD +  2TB HDD',\n",
       "       '512GB SSD +  512GB SSD', '16GB SSD', '16GB Flash Storage',\n",
       "       '512GB SSD +  256GB SSD', '512GB SSD +  2TB HDD',\n",
       "       '64GB Flash Storage +  1TB HDD', '1GB SSD', '1TB HDD +  1TB HDD',\n",
       "       '32GB HDD', '1TB SSD +  1TB HDD', '512GB Flash Storage',\n",
       "       '128GB HDD', '240GB SSD', '8GB SSD', '508GB Hybrid',\n",
       "       '512GB SSD +  1TB Hybrid', '256GB SSD +  1TB Hybrid'], dtype=object)"
      ]
     },
     "execution_count": 292,
     "metadata": {},
     "output_type": "execute_result"
    }
   ],
   "source": [
    "laptops[\"storage\"].unique()"
   ]
  },
  {
   "cell_type": "code",
   "execution_count": 294,
   "metadata": {},
   "outputs": [
    {
     "data": {
      "text/html": [
       "<div>\n",
       "<style scoped>\n",
       "    .dataframe tbody tr th:only-of-type {\n",
       "        vertical-align: middle;\n",
       "    }\n",
       "\n",
       "    .dataframe tbody tr th {\n",
       "        vertical-align: top;\n",
       "    }\n",
       "\n",
       "    .dataframe thead th {\n",
       "        text-align: right;\n",
       "    }\n",
       "</style>\n",
       "<table border=\"1\" class=\"dataframe\">\n",
       "  <thead>\n",
       "    <tr style=\"text-align: right;\">\n",
       "      <th></th>\n",
       "      <th>manufacturer</th>\n",
       "      <th>model_name</th>\n",
       "      <th>category</th>\n",
       "      <th>screen_size_inches</th>\n",
       "      <th>screen</th>\n",
       "      <th>cpu</th>\n",
       "      <th>ram_gb</th>\n",
       "      <th>storage</th>\n",
       "      <th>gpu</th>\n",
       "      <th>os</th>\n",
       "      <th>...</th>\n",
       "      <th>gpu_manufacturer</th>\n",
       "      <th>cpu_manufacturer</th>\n",
       "      <th>screen_resolution</th>\n",
       "      <th>cpu_speed_ghz</th>\n",
       "      <th>storage1</th>\n",
       "      <th>storage2</th>\n",
       "      <th>storage1_capacity_gb</th>\n",
       "      <th>storage1_type</th>\n",
       "      <th>storage2_capacity_gb</th>\n",
       "      <th>storage2_type</th>\n",
       "    </tr>\n",
       "  </thead>\n",
       "  <tbody>\n",
       "    <tr>\n",
       "      <th>0</th>\n",
       "      <td>Apple</td>\n",
       "      <td>MacBook Pro</td>\n",
       "      <td>Ultrabook</td>\n",
       "      <td>13.3</td>\n",
       "      <td>IPS Panel Retina Display 2560x1600</td>\n",
       "      <td>Intel Core i5 2.3GHz</td>\n",
       "      <td>8</td>\n",
       "      <td>128 SSD</td>\n",
       "      <td>Intel Iris Plus Graphics 640</td>\n",
       "      <td>macOS</td>\n",
       "      <td>...</td>\n",
       "      <td>Intel</td>\n",
       "      <td>Intel</td>\n",
       "      <td>2560x1600</td>\n",
       "      <td>2.3</td>\n",
       "      <td>128 SSD</td>\n",
       "      <td>None</td>\n",
       "      <td>128.0</td>\n",
       "      <td>SSD</td>\n",
       "      <td>NaN</td>\n",
       "      <td>None</td>\n",
       "    </tr>\n",
       "    <tr>\n",
       "      <th>1</th>\n",
       "      <td>Apple</td>\n",
       "      <td>Macbook Air</td>\n",
       "      <td>Ultrabook</td>\n",
       "      <td>13.3</td>\n",
       "      <td>1440x900</td>\n",
       "      <td>Intel Core i5 1.8GHz</td>\n",
       "      <td>8</td>\n",
       "      <td>128 Flash Storage</td>\n",
       "      <td>Intel HD Graphics 6000</td>\n",
       "      <td>macOS</td>\n",
       "      <td>...</td>\n",
       "      <td>Intel</td>\n",
       "      <td>Intel</td>\n",
       "      <td>1440x900</td>\n",
       "      <td>1.8</td>\n",
       "      <td>128 Flash Storage</td>\n",
       "      <td>None</td>\n",
       "      <td>128.0</td>\n",
       "      <td>Flash Storage</td>\n",
       "      <td>NaN</td>\n",
       "      <td>None</td>\n",
       "    </tr>\n",
       "    <tr>\n",
       "      <th>2</th>\n",
       "      <td>HP</td>\n",
       "      <td>250 G6</td>\n",
       "      <td>Notebook</td>\n",
       "      <td>15.6</td>\n",
       "      <td>Full HD 1920x1080</td>\n",
       "      <td>Intel Core i5 7200U 2.5GHz</td>\n",
       "      <td>8</td>\n",
       "      <td>256 SSD</td>\n",
       "      <td>Intel HD Graphics 620</td>\n",
       "      <td>No OS</td>\n",
       "      <td>...</td>\n",
       "      <td>Intel</td>\n",
       "      <td>Intel</td>\n",
       "      <td>1920x1080</td>\n",
       "      <td>2.5</td>\n",
       "      <td>256 SSD</td>\n",
       "      <td>None</td>\n",
       "      <td>256.0</td>\n",
       "      <td>SSD</td>\n",
       "      <td>NaN</td>\n",
       "      <td>None</td>\n",
       "    </tr>\n",
       "    <tr>\n",
       "      <th>3</th>\n",
       "      <td>Apple</td>\n",
       "      <td>MacBook Pro</td>\n",
       "      <td>Ultrabook</td>\n",
       "      <td>15.4</td>\n",
       "      <td>IPS Panel Retina Display 2880x1800</td>\n",
       "      <td>Intel Core i7 2.7GHz</td>\n",
       "      <td>16</td>\n",
       "      <td>512 SSD</td>\n",
       "      <td>AMD Radeon Pro 455</td>\n",
       "      <td>macOS</td>\n",
       "      <td>...</td>\n",
       "      <td>AMD</td>\n",
       "      <td>Intel</td>\n",
       "      <td>2880x1800</td>\n",
       "      <td>2.7</td>\n",
       "      <td>512 SSD</td>\n",
       "      <td>None</td>\n",
       "      <td>512.0</td>\n",
       "      <td>SSD</td>\n",
       "      <td>NaN</td>\n",
       "      <td>None</td>\n",
       "    </tr>\n",
       "    <tr>\n",
       "      <th>4</th>\n",
       "      <td>Apple</td>\n",
       "      <td>MacBook Pro</td>\n",
       "      <td>Ultrabook</td>\n",
       "      <td>13.3</td>\n",
       "      <td>IPS Panel Retina Display 2560x1600</td>\n",
       "      <td>Intel Core i5 3.1GHz</td>\n",
       "      <td>8</td>\n",
       "      <td>256 SSD</td>\n",
       "      <td>Intel Iris Plus Graphics 650</td>\n",
       "      <td>macOS</td>\n",
       "      <td>...</td>\n",
       "      <td>Intel</td>\n",
       "      <td>Intel</td>\n",
       "      <td>2560x1600</td>\n",
       "      <td>3.1</td>\n",
       "      <td>256 SSD</td>\n",
       "      <td>None</td>\n",
       "      <td>256.0</td>\n",
       "      <td>SSD</td>\n",
       "      <td>NaN</td>\n",
       "      <td>None</td>\n",
       "    </tr>\n",
       "  </tbody>\n",
       "</table>\n",
       "<p>5 rows × 23 columns</p>\n",
       "</div>"
      ],
      "text/plain": [
       "  manufacturer   model_name   category  screen_size_inches  \\\n",
       "0        Apple  MacBook Pro  Ultrabook                13.3   \n",
       "1        Apple  Macbook Air  Ultrabook                13.3   \n",
       "2           HP       250 G6   Notebook                15.6   \n",
       "3        Apple  MacBook Pro  Ultrabook                15.4   \n",
       "4        Apple  MacBook Pro  Ultrabook                13.3   \n",
       "\n",
       "                               screen                         cpu  ram_gb  \\\n",
       "0  IPS Panel Retina Display 2560x1600        Intel Core i5 2.3GHz       8   \n",
       "1                            1440x900        Intel Core i5 1.8GHz       8   \n",
       "2                   Full HD 1920x1080  Intel Core i5 7200U 2.5GHz       8   \n",
       "3  IPS Panel Retina Display 2880x1800        Intel Core i7 2.7GHz      16   \n",
       "4  IPS Panel Retina Display 2560x1600        Intel Core i5 3.1GHz       8   \n",
       "\n",
       "             storage                           gpu     os      ...        \\\n",
       "0            128 SSD  Intel Iris Plus Graphics 640  macOS      ...         \n",
       "1  128 Flash Storage        Intel HD Graphics 6000  macOS      ...         \n",
       "2            256 SSD         Intel HD Graphics 620  No OS      ...         \n",
       "3            512 SSD            AMD Radeon Pro 455  macOS      ...         \n",
       "4            256 SSD  Intel Iris Plus Graphics 650  macOS      ...         \n",
       "\n",
       "  gpu_manufacturer  cpu_manufacturer  screen_resolution cpu_speed_ghz  \\\n",
       "0            Intel             Intel          2560x1600           2.3   \n",
       "1            Intel             Intel           1440x900           1.8   \n",
       "2            Intel             Intel          1920x1080           2.5   \n",
       "3              AMD             Intel          2880x1800           2.7   \n",
       "4            Intel             Intel          2560x1600           3.1   \n",
       "\n",
       "            storage1 storage2  storage1_capacity_gb  storage1_type  \\\n",
       "0            128 SSD     None                 128.0            SSD   \n",
       "1  128 Flash Storage     None                 128.0  Flash Storage   \n",
       "2            256 SSD     None                 256.0            SSD   \n",
       "3            512 SSD     None                 512.0            SSD   \n",
       "4            256 SSD     None                 256.0            SSD   \n",
       "\n",
       "  storage2_capacity_gb  storage2_type  \n",
       "0                  NaN           None  \n",
       "1                  NaN           None  \n",
       "2                  NaN           None  \n",
       "3                  NaN           None  \n",
       "4                  NaN           None  \n",
       "\n",
       "[5 rows x 23 columns]"
      ]
     },
     "execution_count": 294,
     "metadata": {},
     "output_type": "execute_result"
    }
   ],
   "source": [
    "laptops[\"storage\"] = laptops[\"storage\"].str.replace(\"GB\",\"\").str.replace(\"TB\",\"000\")\n",
    "laptops[[\"storage1\", \"storage2\"]] = laptops[\"storage\"].str.split(\"+\", expand = True)\n",
    "\n",
    "#run a for loop to make 2 mofe columns from storage1 and storage2\n",
    "for s in [\"storage1\", \"storage2\"]:\n",
    "    s_capacity = s + \"_capacity_gb\" #storage1_capacity_gb, storage2_capacity_gb\n",
    "    s_type = s + \"_type\" #storage1_type, storage2_type\n",
    "    \n",
    "    laptops[[s_capacity, s_type]] = laptops[s].str.split(n = 1, expand = True) #makes 2 columns\n",
    "    laptops[s_capacity] = laptops[s_capacity].astype(float) #convert to float\n",
    "    laptops[s_type] = laptops[s_type].str.strip() #remove whitespace\n",
    "laptops.head()"
   ]
  },
  {
   "cell_type": "code",
   "execution_count": 295,
   "metadata": {},
   "outputs": [
    {
     "data": {
      "text/html": [
       "<div>\n",
       "<style scoped>\n",
       "    .dataframe tbody tr th:only-of-type {\n",
       "        vertical-align: middle;\n",
       "    }\n",
       "\n",
       "    .dataframe tbody tr th {\n",
       "        vertical-align: top;\n",
       "    }\n",
       "\n",
       "    .dataframe thead th {\n",
       "        text-align: right;\n",
       "    }\n",
       "</style>\n",
       "<table border=\"1\" class=\"dataframe\">\n",
       "  <thead>\n",
       "    <tr style=\"text-align: right;\">\n",
       "      <th></th>\n",
       "      <th>manufacturer</th>\n",
       "      <th>model_name</th>\n",
       "      <th>category</th>\n",
       "      <th>screen_size_inches</th>\n",
       "      <th>screen</th>\n",
       "      <th>cpu</th>\n",
       "      <th>ram_gb</th>\n",
       "      <th>gpu</th>\n",
       "      <th>os</th>\n",
       "      <th>os_version</th>\n",
       "      <th>weight_kg</th>\n",
       "      <th>price_euros</th>\n",
       "      <th>gpu_manufacturer</th>\n",
       "      <th>cpu_manufacturer</th>\n",
       "      <th>screen_resolution</th>\n",
       "      <th>cpu_speed_ghz</th>\n",
       "      <th>storage1_capacity_gb</th>\n",
       "      <th>storage1_type</th>\n",
       "      <th>storage2_capacity_gb</th>\n",
       "      <th>storage2_type</th>\n",
       "    </tr>\n",
       "  </thead>\n",
       "  <tbody>\n",
       "    <tr>\n",
       "      <th>0</th>\n",
       "      <td>Apple</td>\n",
       "      <td>MacBook Pro</td>\n",
       "      <td>Ultrabook</td>\n",
       "      <td>13.3</td>\n",
       "      <td>IPS Panel Retina Display 2560x1600</td>\n",
       "      <td>Intel Core i5 2.3GHz</td>\n",
       "      <td>8</td>\n",
       "      <td>Intel Iris Plus Graphics 640</td>\n",
       "      <td>macOS</td>\n",
       "      <td>X</td>\n",
       "      <td>1.37</td>\n",
       "      <td>1339.69</td>\n",
       "      <td>Intel</td>\n",
       "      <td>Intel</td>\n",
       "      <td>2560x1600</td>\n",
       "      <td>2.3</td>\n",
       "      <td>128.0</td>\n",
       "      <td>SSD</td>\n",
       "      <td>NaN</td>\n",
       "      <td>None</td>\n",
       "    </tr>\n",
       "    <tr>\n",
       "      <th>1</th>\n",
       "      <td>Apple</td>\n",
       "      <td>Macbook Air</td>\n",
       "      <td>Ultrabook</td>\n",
       "      <td>13.3</td>\n",
       "      <td>1440x900</td>\n",
       "      <td>Intel Core i5 1.8GHz</td>\n",
       "      <td>8</td>\n",
       "      <td>Intel HD Graphics 6000</td>\n",
       "      <td>macOS</td>\n",
       "      <td>X</td>\n",
       "      <td>1.34</td>\n",
       "      <td>898.94</td>\n",
       "      <td>Intel</td>\n",
       "      <td>Intel</td>\n",
       "      <td>1440x900</td>\n",
       "      <td>1.8</td>\n",
       "      <td>128.0</td>\n",
       "      <td>Flash Storage</td>\n",
       "      <td>NaN</td>\n",
       "      <td>None</td>\n",
       "    </tr>\n",
       "    <tr>\n",
       "      <th>2</th>\n",
       "      <td>HP</td>\n",
       "      <td>250 G6</td>\n",
       "      <td>Notebook</td>\n",
       "      <td>15.6</td>\n",
       "      <td>Full HD 1920x1080</td>\n",
       "      <td>Intel Core i5 7200U 2.5GHz</td>\n",
       "      <td>8</td>\n",
       "      <td>Intel HD Graphics 620</td>\n",
       "      <td>No OS</td>\n",
       "      <td>Version Unknown</td>\n",
       "      <td>1.86</td>\n",
       "      <td>575.00</td>\n",
       "      <td>Intel</td>\n",
       "      <td>Intel</td>\n",
       "      <td>1920x1080</td>\n",
       "      <td>2.5</td>\n",
       "      <td>256.0</td>\n",
       "      <td>SSD</td>\n",
       "      <td>NaN</td>\n",
       "      <td>None</td>\n",
       "    </tr>\n",
       "    <tr>\n",
       "      <th>3</th>\n",
       "      <td>Apple</td>\n",
       "      <td>MacBook Pro</td>\n",
       "      <td>Ultrabook</td>\n",
       "      <td>15.4</td>\n",
       "      <td>IPS Panel Retina Display 2880x1800</td>\n",
       "      <td>Intel Core i7 2.7GHz</td>\n",
       "      <td>16</td>\n",
       "      <td>AMD Radeon Pro 455</td>\n",
       "      <td>macOS</td>\n",
       "      <td>X</td>\n",
       "      <td>1.83</td>\n",
       "      <td>2537.45</td>\n",
       "      <td>AMD</td>\n",
       "      <td>Intel</td>\n",
       "      <td>2880x1800</td>\n",
       "      <td>2.7</td>\n",
       "      <td>512.0</td>\n",
       "      <td>SSD</td>\n",
       "      <td>NaN</td>\n",
       "      <td>None</td>\n",
       "    </tr>\n",
       "    <tr>\n",
       "      <th>4</th>\n",
       "      <td>Apple</td>\n",
       "      <td>MacBook Pro</td>\n",
       "      <td>Ultrabook</td>\n",
       "      <td>13.3</td>\n",
       "      <td>IPS Panel Retina Display 2560x1600</td>\n",
       "      <td>Intel Core i5 3.1GHz</td>\n",
       "      <td>8</td>\n",
       "      <td>Intel Iris Plus Graphics 650</td>\n",
       "      <td>macOS</td>\n",
       "      <td>X</td>\n",
       "      <td>1.37</td>\n",
       "      <td>1803.60</td>\n",
       "      <td>Intel</td>\n",
       "      <td>Intel</td>\n",
       "      <td>2560x1600</td>\n",
       "      <td>3.1</td>\n",
       "      <td>256.0</td>\n",
       "      <td>SSD</td>\n",
       "      <td>NaN</td>\n",
       "      <td>None</td>\n",
       "    </tr>\n",
       "  </tbody>\n",
       "</table>\n",
       "</div>"
      ],
      "text/plain": [
       "  manufacturer   model_name   category  screen_size_inches  \\\n",
       "0        Apple  MacBook Pro  Ultrabook                13.3   \n",
       "1        Apple  Macbook Air  Ultrabook                13.3   \n",
       "2           HP       250 G6   Notebook                15.6   \n",
       "3        Apple  MacBook Pro  Ultrabook                15.4   \n",
       "4        Apple  MacBook Pro  Ultrabook                13.3   \n",
       "\n",
       "                               screen                         cpu  ram_gb  \\\n",
       "0  IPS Panel Retina Display 2560x1600        Intel Core i5 2.3GHz       8   \n",
       "1                            1440x900        Intel Core i5 1.8GHz       8   \n",
       "2                   Full HD 1920x1080  Intel Core i5 7200U 2.5GHz       8   \n",
       "3  IPS Panel Retina Display 2880x1800        Intel Core i7 2.7GHz      16   \n",
       "4  IPS Panel Retina Display 2560x1600        Intel Core i5 3.1GHz       8   \n",
       "\n",
       "                            gpu     os       os_version  weight_kg  \\\n",
       "0  Intel Iris Plus Graphics 640  macOS                X       1.37   \n",
       "1        Intel HD Graphics 6000  macOS                X       1.34   \n",
       "2         Intel HD Graphics 620  No OS  Version Unknown       1.86   \n",
       "3            AMD Radeon Pro 455  macOS                X       1.83   \n",
       "4  Intel Iris Plus Graphics 650  macOS                X       1.37   \n",
       "\n",
       "   price_euros gpu_manufacturer cpu_manufacturer screen_resolution  \\\n",
       "0      1339.69            Intel            Intel         2560x1600   \n",
       "1       898.94            Intel            Intel          1440x900   \n",
       "2       575.00            Intel            Intel         1920x1080   \n",
       "3      2537.45              AMD            Intel         2880x1800   \n",
       "4      1803.60            Intel            Intel         2560x1600   \n",
       "\n",
       "   cpu_speed_ghz  storage1_capacity_gb  storage1_type  storage2_capacity_gb  \\\n",
       "0            2.3                 128.0            SSD                   NaN   \n",
       "1            1.8                 128.0  Flash Storage                   NaN   \n",
       "2            2.5                 256.0            SSD                   NaN   \n",
       "3            2.7                 512.0            SSD                   NaN   \n",
       "4            3.1                 256.0            SSD                   NaN   \n",
       "\n",
       "  storage2_type  \n",
       "0          None  \n",
       "1          None  \n",
       "2          None  \n",
       "3          None  \n",
       "4          None  "
      ]
     },
     "execution_count": 295,
     "metadata": {},
     "output_type": "execute_result"
    }
   ],
   "source": [
    "laptops.drop([\"storage\", \"storage1\", \"storage2\"], axis = 1, inplace = True)\n",
    "laptops.head()"
   ]
  },
  {
   "cell_type": "code",
   "execution_count": 296,
   "metadata": {},
   "outputs": [
    {
     "data": {
      "text/plain": [
       "Index(['manufacturer', 'model_name', 'category', 'screen_size_inches',\n",
       "       'screen', 'cpu', 'ram_gb', 'gpu', 'os', 'os_version', 'weight_kg',\n",
       "       'price_euros', 'gpu_manufacturer', 'cpu_manufacturer',\n",
       "       'screen_resolution', 'cpu_speed_ghz', 'storage1_capacity_gb',\n",
       "       'storage1_type', 'storage2_capacity_gb', 'storage2_type'],\n",
       "      dtype='object')"
      ]
     },
     "execution_count": 296,
     "metadata": {},
     "output_type": "execute_result"
    }
   ],
   "source": [
    "laptops.columns"
   ]
  },
  {
   "cell_type": "code",
   "execution_count": 301,
   "metadata": {},
   "outputs": [
    {
     "data": {
      "text/html": [
       "<div>\n",
       "<style scoped>\n",
       "    .dataframe tbody tr th:only-of-type {\n",
       "        vertical-align: middle;\n",
       "    }\n",
       "\n",
       "    .dataframe tbody tr th {\n",
       "        vertical-align: top;\n",
       "    }\n",
       "\n",
       "    .dataframe thead th {\n",
       "        text-align: right;\n",
       "    }\n",
       "</style>\n",
       "<table border=\"1\" class=\"dataframe\">\n",
       "  <thead>\n",
       "    <tr style=\"text-align: right;\">\n",
       "      <th></th>\n",
       "      <th>manufacturer</th>\n",
       "      <th>model_name</th>\n",
       "      <th>category</th>\n",
       "      <th>screen_size_inches</th>\n",
       "      <th>screen</th>\n",
       "      <th>cpu</th>\n",
       "      <th>cpu_manufacturer</th>\n",
       "      <th>cpu_speed_ghz</th>\n",
       "      <th>ram_gb</th>\n",
       "      <th>storage1_type</th>\n",
       "      <th>storage1_capacity_gb</th>\n",
       "      <th>storage2_type</th>\n",
       "      <th>storage2_capacity_gb</th>\n",
       "      <th>gpu</th>\n",
       "      <th>gpu_manufacturer</th>\n",
       "      <th>os</th>\n",
       "      <th>os_version</th>\n",
       "      <th>weight_kg</th>\n",
       "      <th>price_euros</th>\n",
       "    </tr>\n",
       "  </thead>\n",
       "  <tbody>\n",
       "    <tr>\n",
       "      <th>0</th>\n",
       "      <td>Apple</td>\n",
       "      <td>MacBook Pro</td>\n",
       "      <td>Ultrabook</td>\n",
       "      <td>13.3</td>\n",
       "      <td>IPS Panel Retina Display 2560x1600</td>\n",
       "      <td>Intel Core i5 2.3GHz</td>\n",
       "      <td>Intel</td>\n",
       "      <td>2.3</td>\n",
       "      <td>8</td>\n",
       "      <td>SSD</td>\n",
       "      <td>128.0</td>\n",
       "      <td>NaN</td>\n",
       "      <td>NaN</td>\n",
       "      <td>Intel Iris Plus Graphics 640</td>\n",
       "      <td>Intel</td>\n",
       "      <td>macOS</td>\n",
       "      <td>X</td>\n",
       "      <td>1.37</td>\n",
       "      <td>1339.69</td>\n",
       "    </tr>\n",
       "    <tr>\n",
       "      <th>1</th>\n",
       "      <td>Apple</td>\n",
       "      <td>Macbook Air</td>\n",
       "      <td>Ultrabook</td>\n",
       "      <td>13.3</td>\n",
       "      <td>1440x900</td>\n",
       "      <td>Intel Core i5 1.8GHz</td>\n",
       "      <td>Intel</td>\n",
       "      <td>1.8</td>\n",
       "      <td>8</td>\n",
       "      <td>Flash Storage</td>\n",
       "      <td>128.0</td>\n",
       "      <td>NaN</td>\n",
       "      <td>NaN</td>\n",
       "      <td>Intel HD Graphics 6000</td>\n",
       "      <td>Intel</td>\n",
       "      <td>macOS</td>\n",
       "      <td>X</td>\n",
       "      <td>1.34</td>\n",
       "      <td>898.94</td>\n",
       "    </tr>\n",
       "    <tr>\n",
       "      <th>2</th>\n",
       "      <td>HP</td>\n",
       "      <td>250 G6</td>\n",
       "      <td>Notebook</td>\n",
       "      <td>15.6</td>\n",
       "      <td>Full HD 1920x1080</td>\n",
       "      <td>Intel Core i5 7200U 2.5GHz</td>\n",
       "      <td>Intel</td>\n",
       "      <td>2.5</td>\n",
       "      <td>8</td>\n",
       "      <td>SSD</td>\n",
       "      <td>256.0</td>\n",
       "      <td>NaN</td>\n",
       "      <td>NaN</td>\n",
       "      <td>Intel HD Graphics 620</td>\n",
       "      <td>Intel</td>\n",
       "      <td>No OS</td>\n",
       "      <td>Version Unknown</td>\n",
       "      <td>1.86</td>\n",
       "      <td>575.00</td>\n",
       "    </tr>\n",
       "    <tr>\n",
       "      <th>3</th>\n",
       "      <td>Apple</td>\n",
       "      <td>MacBook Pro</td>\n",
       "      <td>Ultrabook</td>\n",
       "      <td>15.4</td>\n",
       "      <td>IPS Panel Retina Display 2880x1800</td>\n",
       "      <td>Intel Core i7 2.7GHz</td>\n",
       "      <td>Intel</td>\n",
       "      <td>2.7</td>\n",
       "      <td>16</td>\n",
       "      <td>SSD</td>\n",
       "      <td>512.0</td>\n",
       "      <td>NaN</td>\n",
       "      <td>NaN</td>\n",
       "      <td>AMD Radeon Pro 455</td>\n",
       "      <td>AMD</td>\n",
       "      <td>macOS</td>\n",
       "      <td>X</td>\n",
       "      <td>1.83</td>\n",
       "      <td>2537.45</td>\n",
       "    </tr>\n",
       "    <tr>\n",
       "      <th>4</th>\n",
       "      <td>Apple</td>\n",
       "      <td>MacBook Pro</td>\n",
       "      <td>Ultrabook</td>\n",
       "      <td>13.3</td>\n",
       "      <td>IPS Panel Retina Display 2560x1600</td>\n",
       "      <td>Intel Core i5 3.1GHz</td>\n",
       "      <td>Intel</td>\n",
       "      <td>3.1</td>\n",
       "      <td>8</td>\n",
       "      <td>SSD</td>\n",
       "      <td>256.0</td>\n",
       "      <td>NaN</td>\n",
       "      <td>NaN</td>\n",
       "      <td>Intel Iris Plus Graphics 650</td>\n",
       "      <td>Intel</td>\n",
       "      <td>macOS</td>\n",
       "      <td>X</td>\n",
       "      <td>1.37</td>\n",
       "      <td>1803.60</td>\n",
       "    </tr>\n",
       "  </tbody>\n",
       "</table>\n",
       "</div>"
      ],
      "text/plain": [
       "  manufacturer   model_name   category  screen_size_inches  \\\n",
       "0        Apple  MacBook Pro  Ultrabook                13.3   \n",
       "1        Apple  Macbook Air  Ultrabook                13.3   \n",
       "2           HP       250 G6   Notebook                15.6   \n",
       "3        Apple  MacBook Pro  Ultrabook                15.4   \n",
       "4        Apple  MacBook Pro  Ultrabook                13.3   \n",
       "\n",
       "                               screen                         cpu  \\\n",
       "0  IPS Panel Retina Display 2560x1600        Intel Core i5 2.3GHz   \n",
       "1                            1440x900        Intel Core i5 1.8GHz   \n",
       "2                   Full HD 1920x1080  Intel Core i5 7200U 2.5GHz   \n",
       "3  IPS Panel Retina Display 2880x1800        Intel Core i7 2.7GHz   \n",
       "4  IPS Panel Retina Display 2560x1600        Intel Core i5 3.1GHz   \n",
       "\n",
       "  cpu_manufacturer  cpu_speed_ghz  ram_gb  storage1_type  \\\n",
       "0            Intel            2.3       8            SSD   \n",
       "1            Intel            1.8       8  Flash Storage   \n",
       "2            Intel            2.5       8            SSD   \n",
       "3            Intel            2.7      16            SSD   \n",
       "4            Intel            3.1       8            SSD   \n",
       "\n",
       "   storage1_capacity_gb storage2_type  storage2_capacity_gb  \\\n",
       "0                 128.0           NaN                   NaN   \n",
       "1                 128.0           NaN                   NaN   \n",
       "2                 256.0           NaN                   NaN   \n",
       "3                 512.0           NaN                   NaN   \n",
       "4                 256.0           NaN                   NaN   \n",
       "\n",
       "                            gpu gpu_manufacturer     os       os_version  \\\n",
       "0  Intel Iris Plus Graphics 640            Intel  macOS                X   \n",
       "1        Intel HD Graphics 6000            Intel  macOS                X   \n",
       "2         Intel HD Graphics 620            Intel  No OS  Version Unknown   \n",
       "3            AMD Radeon Pro 455              AMD  macOS                X   \n",
       "4  Intel Iris Plus Graphics 650            Intel  macOS                X   \n",
       "\n",
       "   weight_kg  price_euros  \n",
       "0       1.37      1339.69  \n",
       "1       1.34       898.94  \n",
       "2       1.86       575.00  \n",
       "3       1.83      2537.45  \n",
       "4       1.37      1803.60  "
      ]
     },
     "execution_count": 301,
     "metadata": {},
     "output_type": "execute_result"
    }
   ],
   "source": [
    "#reordered list\n",
    "cols = ['manufacturer', 'model_name', 'category', 'screen_size_inches',\n",
    "        'screen', 'cpu', 'cpu_manufacturer',  'cpu_speed_ghz', 'ram_gb',\n",
    "        'storage1_type', 'storage1_capacity_gb', 'storage2_type',\n",
    "        'storage2_capacity_gb', 'gpu', 'gpu_manufacturer', 'os',\n",
    "        'os_version', 'weight_kg', 'price_euros']\n",
    "\n",
    "laptops = laptops[cols]\n",
    "laptops.to_csv(\"laptops_cleaned.csv\", index = False)\n",
    "\n",
    "laptops_cleaned = pd.read_csv(\"laptops_cleaned.csv\")\n",
    "laptops_cleaned.head()"
   ]
  }
 ],
 "metadata": {
  "kernelspec": {
   "display_name": "Python 3",
   "language": "python",
   "name": "python3"
  },
  "language_info": {
   "codemirror_mode": {
    "name": "ipython",
    "version": 3
   },
   "file_extension": ".py",
   "mimetype": "text/x-python",
   "name": "python",
   "nbconvert_exporter": "python",
   "pygments_lexer": "ipython3",
   "version": "3.6.4"
  }
 },
 "nbformat": 4,
 "nbformat_minor": 2
}
