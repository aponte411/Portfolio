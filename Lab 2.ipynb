{
 "cells": [
  {
   "cell_type": "markdown",
   "metadata": {},
   "source": [
    "## David Aponte\n",
    "\n",
    "## Analysis of Behavioral Survey (CDC)"
   ]
  },
  {
   "cell_type": "code",
   "execution_count": 100,
   "metadata": {},
   "outputs": [],
   "source": [
    "import pandas as pd\n",
    "import numpy as np\n",
    "import matplotlib.pyplot as plt\n",
    "import seaborn as sns\n",
    "\n",
    "sns.set() #setting seaborn\n",
    "%matplotlib inline"
   ]
  },
  {
   "cell_type": "code",
   "execution_count": 101,
   "metadata": {},
   "outputs": [
    {
     "data": {
      "text/html": [
       "<div>\n",
       "<style scoped>\n",
       "    .dataframe tbody tr th:only-of-type {\n",
       "        vertical-align: middle;\n",
       "    }\n",
       "\n",
       "    .dataframe tbody tr th {\n",
       "        vertical-align: top;\n",
       "    }\n",
       "\n",
       "    .dataframe thead th {\n",
       "        text-align: right;\n",
       "    }\n",
       "</style>\n",
       "<table border=\"1\" class=\"dataframe\">\n",
       "  <thead>\n",
       "    <tr style=\"text-align: right;\">\n",
       "      <th></th>\n",
       "      <th>genhlth</th>\n",
       "      <th>exerany</th>\n",
       "      <th>hlthplan</th>\n",
       "      <th>smoke100</th>\n",
       "      <th>height</th>\n",
       "      <th>weight</th>\n",
       "      <th>wtdesire</th>\n",
       "      <th>age</th>\n",
       "      <th>gender</th>\n",
       "    </tr>\n",
       "  </thead>\n",
       "  <tbody>\n",
       "    <tr>\n",
       "      <th>4805</th>\n",
       "      <td>good</td>\n",
       "      <td>1</td>\n",
       "      <td>1</td>\n",
       "      <td>0</td>\n",
       "      <td>67</td>\n",
       "      <td>160</td>\n",
       "      <td>152</td>\n",
       "      <td>44</td>\n",
       "      <td>m</td>\n",
       "    </tr>\n",
       "    <tr>\n",
       "      <th>8746</th>\n",
       "      <td>very good</td>\n",
       "      <td>0</td>\n",
       "      <td>1</td>\n",
       "      <td>0</td>\n",
       "      <td>66</td>\n",
       "      <td>138</td>\n",
       "      <td>138</td>\n",
       "      <td>26</td>\n",
       "      <td>f</td>\n",
       "    </tr>\n",
       "    <tr>\n",
       "      <th>6697</th>\n",
       "      <td>very good</td>\n",
       "      <td>1</td>\n",
       "      <td>1</td>\n",
       "      <td>0</td>\n",
       "      <td>74</td>\n",
       "      <td>185</td>\n",
       "      <td>200</td>\n",
       "      <td>31</td>\n",
       "      <td>m</td>\n",
       "    </tr>\n",
       "    <tr>\n",
       "      <th>17751</th>\n",
       "      <td>very good</td>\n",
       "      <td>0</td>\n",
       "      <td>1</td>\n",
       "      <td>0</td>\n",
       "      <td>60</td>\n",
       "      <td>100</td>\n",
       "      <td>100</td>\n",
       "      <td>86</td>\n",
       "      <td>f</td>\n",
       "    </tr>\n",
       "    <tr>\n",
       "      <th>19574</th>\n",
       "      <td>very good</td>\n",
       "      <td>1</td>\n",
       "      <td>0</td>\n",
       "      <td>1</td>\n",
       "      <td>74</td>\n",
       "      <td>195</td>\n",
       "      <td>185</td>\n",
       "      <td>24</td>\n",
       "      <td>m</td>\n",
       "    </tr>\n",
       "  </tbody>\n",
       "</table>\n",
       "</div>"
      ],
      "text/plain": [
       "         genhlth  exerany  hlthplan  smoke100  height  weight  wtdesire  age  \\\n",
       "4805        good        1         1         0      67     160       152   44   \n",
       "8746   very good        0         1         0      66     138       138   26   \n",
       "6697   very good        1         1         0      74     185       200   31   \n",
       "17751  very good        0         1         0      60     100       100   86   \n",
       "19574  very good        1         0         1      74     195       185   24   \n",
       "\n",
       "      gender  \n",
       "4805       m  \n",
       "8746       f  \n",
       "6697       m  \n",
       "17751      f  \n",
       "19574      m  "
      ]
     },
     "execution_count": 101,
     "metadata": {},
     "output_type": "execute_result"
    }
   ],
   "source": [
    "data = pd.read_csv('cdc.csv')\n",
    "data.sample(5)"
   ]
  },
  {
   "cell_type": "code",
   "execution_count": 102,
   "metadata": {},
   "outputs": [
    {
     "data": {
      "text/plain": [
       "(20000, 9)"
      ]
     },
     "execution_count": 102,
     "metadata": {},
     "output_type": "execute_result"
    }
   ],
   "source": [
    "data.shape"
   ]
  },
  {
   "cell_type": "code",
   "execution_count": 103,
   "metadata": {},
   "outputs": [
    {
     "name": "stdout",
     "output_type": "stream",
     "text": [
      "<class 'pandas.core.frame.DataFrame'>\n",
      "RangeIndex: 20000 entries, 0 to 19999\n",
      "Data columns (total 9 columns):\n",
      "genhlth     20000 non-null object\n",
      "exerany     20000 non-null int64\n",
      "hlthplan    20000 non-null int64\n",
      "smoke100    20000 non-null int64\n",
      "height      20000 non-null int64\n",
      "weight      20000 non-null int64\n",
      "wtdesire    20000 non-null int64\n",
      "age         20000 non-null int64\n",
      "gender      20000 non-null object\n",
      "dtypes: int64(7), object(2)\n",
      "memory usage: 1.2+ MB\n"
     ]
    }
   ],
   "source": [
    "#data appears to be clean\n",
    "data.info()"
   ]
  },
  {
   "cell_type": "code",
   "execution_count": 6,
   "metadata": {},
   "outputs": [
    {
     "data": {
      "text/html": [
       "<div>\n",
       "<style scoped>\n",
       "    .dataframe tbody tr th:only-of-type {\n",
       "        vertical-align: middle;\n",
       "    }\n",
       "\n",
       "    .dataframe tbody tr th {\n",
       "        vertical-align: top;\n",
       "    }\n",
       "\n",
       "    .dataframe thead th {\n",
       "        text-align: right;\n",
       "    }\n",
       "</style>\n",
       "<table border=\"1\" class=\"dataframe\">\n",
       "  <thead>\n",
       "    <tr style=\"text-align: right;\">\n",
       "      <th></th>\n",
       "      <th>exerany</th>\n",
       "      <th>hlthplan</th>\n",
       "      <th>smoke100</th>\n",
       "      <th>height</th>\n",
       "      <th>weight</th>\n",
       "      <th>wtdesire</th>\n",
       "      <th>age</th>\n",
       "    </tr>\n",
       "  </thead>\n",
       "  <tbody>\n",
       "    <tr>\n",
       "      <th>count</th>\n",
       "      <td>20000.000000</td>\n",
       "      <td>20000.000000</td>\n",
       "      <td>20000.000000</td>\n",
       "      <td>20000.000000</td>\n",
       "      <td>20000.00000</td>\n",
       "      <td>20000.000000</td>\n",
       "      <td>20000.000000</td>\n",
       "    </tr>\n",
       "    <tr>\n",
       "      <th>mean</th>\n",
       "      <td>0.745700</td>\n",
       "      <td>0.873800</td>\n",
       "      <td>0.472050</td>\n",
       "      <td>67.182900</td>\n",
       "      <td>169.68295</td>\n",
       "      <td>155.093850</td>\n",
       "      <td>45.068250</td>\n",
       "    </tr>\n",
       "    <tr>\n",
       "      <th>std</th>\n",
       "      <td>0.435478</td>\n",
       "      <td>0.332083</td>\n",
       "      <td>0.499231</td>\n",
       "      <td>4.125954</td>\n",
       "      <td>40.08097</td>\n",
       "      <td>32.013306</td>\n",
       "      <td>17.192689</td>\n",
       "    </tr>\n",
       "    <tr>\n",
       "      <th>min</th>\n",
       "      <td>0.000000</td>\n",
       "      <td>0.000000</td>\n",
       "      <td>0.000000</td>\n",
       "      <td>48.000000</td>\n",
       "      <td>68.00000</td>\n",
       "      <td>68.000000</td>\n",
       "      <td>18.000000</td>\n",
       "    </tr>\n",
       "    <tr>\n",
       "      <th>25%</th>\n",
       "      <td>0.000000</td>\n",
       "      <td>1.000000</td>\n",
       "      <td>0.000000</td>\n",
       "      <td>64.000000</td>\n",
       "      <td>140.00000</td>\n",
       "      <td>130.000000</td>\n",
       "      <td>31.000000</td>\n",
       "    </tr>\n",
       "    <tr>\n",
       "      <th>50%</th>\n",
       "      <td>1.000000</td>\n",
       "      <td>1.000000</td>\n",
       "      <td>0.000000</td>\n",
       "      <td>67.000000</td>\n",
       "      <td>165.00000</td>\n",
       "      <td>150.000000</td>\n",
       "      <td>43.000000</td>\n",
       "    </tr>\n",
       "    <tr>\n",
       "      <th>75%</th>\n",
       "      <td>1.000000</td>\n",
       "      <td>1.000000</td>\n",
       "      <td>1.000000</td>\n",
       "      <td>70.000000</td>\n",
       "      <td>190.00000</td>\n",
       "      <td>175.000000</td>\n",
       "      <td>57.000000</td>\n",
       "    </tr>\n",
       "    <tr>\n",
       "      <th>max</th>\n",
       "      <td>1.000000</td>\n",
       "      <td>1.000000</td>\n",
       "      <td>1.000000</td>\n",
       "      <td>93.000000</td>\n",
       "      <td>500.00000</td>\n",
       "      <td>680.000000</td>\n",
       "      <td>99.000000</td>\n",
       "    </tr>\n",
       "  </tbody>\n",
       "</table>\n",
       "</div>"
      ],
      "text/plain": [
       "            exerany      hlthplan      smoke100        height       weight  \\\n",
       "count  20000.000000  20000.000000  20000.000000  20000.000000  20000.00000   \n",
       "mean       0.745700      0.873800      0.472050     67.182900    169.68295   \n",
       "std        0.435478      0.332083      0.499231      4.125954     40.08097   \n",
       "min        0.000000      0.000000      0.000000     48.000000     68.00000   \n",
       "25%        0.000000      1.000000      0.000000     64.000000    140.00000   \n",
       "50%        1.000000      1.000000      0.000000     67.000000    165.00000   \n",
       "75%        1.000000      1.000000      1.000000     70.000000    190.00000   \n",
       "max        1.000000      1.000000      1.000000     93.000000    500.00000   \n",
       "\n",
       "           wtdesire           age  \n",
       "count  20000.000000  20000.000000  \n",
       "mean     155.093850     45.068250  \n",
       "std       32.013306     17.192689  \n",
       "min       68.000000     18.000000  \n",
       "25%      130.000000     31.000000  \n",
       "50%      150.000000     43.000000  \n",
       "75%      175.000000     57.000000  \n",
       "max      680.000000     99.000000  "
      ]
     },
     "execution_count": 6,
     "metadata": {},
     "output_type": "execute_result"
    }
   ],
   "source": [
    "#summary stats of variables\n",
    "data.describe()"
   ]
  },
  {
   "cell_type": "markdown",
   "metadata": {},
   "source": [
    "## Variables\n",
    "\n",
    "genhlth: A categorical variable indicating general health. The categories are excellent, very good, good, fair, and poor.\n",
    "\n",
    "exerany: A categorical variable. 1 if the respondent exercised in the past month and 0 otherwise.\n",
    "\n",
    "hlthplan: A categorical variable. 1 if the respondent has some form of health coverage and 0 otherwise.\n",
    "\n",
    "smoke100: A categorical variable. 1 if the respondent has smoked at least 100 cigarettes in their entire life and 0 otherwise.\n",
    "\n",
    "height: A numerical-continuous variable where the respondent's height in inches.\n",
    "\n",
    "weight: A numerical-continuous variable, respondent's weight in pounds.\n",
    "\n",
    "wtdesire: A numerical-continuous variable, respondent's desired weight in pounds.\n",
    "\n",
    "age: A numerical-discrete variable, respondent's age in years.\n",
    "\n",
    "gender: A categorical variable, respondent's gender."
   ]
  },
  {
   "cell_type": "code",
   "execution_count": 7,
   "metadata": {},
   "outputs": [
    {
     "data": {
      "text/plain": [
       "(20000, 9)"
      ]
     },
     "execution_count": 7,
     "metadata": {},
     "output_type": "execute_result"
    }
   ],
   "source": [
    "#20,000 cases \n",
    "#9 variables\n",
    "data.shape"
   ]
  },
  {
   "cell_type": "code",
   "execution_count": 8,
   "metadata": {},
   "outputs": [
    {
     "data": {
      "text/plain": [
       "Index(['genhlth', 'exerany', 'hlthplan', 'smoke100', 'height', 'weight',\n",
       "       'wtdesire', 'age', 'gender'],\n",
       "      dtype='object')"
      ]
     },
     "execution_count": 8,
     "metadata": {},
     "output_type": "execute_result"
    }
   ],
   "source": [
    "data.columns"
   ]
  },
  {
   "cell_type": "code",
   "execution_count": 104,
   "metadata": {
    "scrolled": true
   },
   "outputs": [
    {
     "data": {
      "image/png": "[encoded data removed]",
      "text/plain": [
       "<Figure size 432x288 with 1 Axes>"
      ]
     },
     "metadata": {},
     "output_type": "display_data"
    }
   ],
   "source": [
    "#value frequency of general health\n",
    "data.genhlth.value_counts().plot.bar()\n",
    "plt.title('Frequency of General Health Categories')\n",
    "plt.show()"
   ]
  },
  {
   "cell_type": "code",
   "execution_count": 10,
   "metadata": {},
   "outputs": [
    {
     "data": {
      "text/plain": [
       "very good    0.34860\n",
       "good         0.28375\n",
       "excellent    0.23285\n",
       "fair         0.10095\n",
       "poor         0.03385\n",
       "Name: genhlth, dtype: float64"
      ]
     },
     "execution_count": 10,
     "metadata": {},
     "output_type": "execute_result"
    }
   ],
   "source": [
    "data.genhlth.value_counts()/20000\n",
    "#34.9% of the repondents reported that their health was very good"
   ]
  },
  {
   "cell_type": "code",
   "execution_count": 105,
   "metadata": {},
   "outputs": [
    {
     "data": {
      "image/png": "[encoded data removed]",
      "text/plain": [
       "<Figure size 432x288 with 1 Axes>"
      ]
     },
     "metadata": {},
     "output_type": "display_data"
    }
   ],
   "source": [
    "#visuzalizing the distributions\n",
    "data.exerany.value_counts().plot.bar()\n",
    "plt.title('Exercise: 1 = yes, 0 = no')\n",
    "plt.xlabel('counts')\n",
    "plt.show()\n",
    "#most people claim to exercise"
   ]
  },
  {
   "cell_type": "code",
   "execution_count": 12,
   "metadata": {
    "scrolled": true
   },
   "outputs": [
    {
     "data": {
      "text/plain": [
       "1    14914\n",
       "0     5086\n",
       "Name: exerany, dtype: int64"
      ]
     },
     "execution_count": 12,
     "metadata": {},
     "output_type": "execute_result"
    }
   ],
   "source": [
    "data.exerany.value_counts()"
   ]
  },
  {
   "cell_type": "code",
   "execution_count": 106,
   "metadata": {
    "scrolled": true
   },
   "outputs": [
    {
     "data": {
      "image/png": "[encoded data removed]",
      "text/plain": [
       "<Figure size 432x288 with 1 Axes>"
      ]
     },
     "metadata": {},
     "output_type": "display_data"
    }
   ],
   "source": [
    "data.hlthplan.value_counts().plot.bar()\n",
    "plt.title('Healthplan: 1 = yes, 0 = no')\n",
    "plt.show()\n",
    "#most people report having some sort of health insurance"
   ]
  },
  {
   "cell_type": "code",
   "execution_count": 14,
   "metadata": {},
   "outputs": [
    {
     "data": {
      "text/plain": [
       "1    17476\n",
       "0     2524\n",
       "Name: hlthplan, dtype: int64"
      ]
     },
     "execution_count": 14,
     "metadata": {},
     "output_type": "execute_result"
    }
   ],
   "source": [
    "data.hlthplan.value_counts()\n",
    "#17,476 have healthcare\n",
    "#2,524\n",
    "#nearly 7 times as many people report to have healthcare"
   ]
  },
  {
   "cell_type": "code",
   "execution_count": 107,
   "metadata": {},
   "outputs": [
    {
     "data": {
      "image/png": "[encoded data removed]",
      "text/plain": [
       "<Figure size 432x288 with 1 Axes>"
      ]
     },
     "metadata": {},
     "output_type": "display_data"
    }
   ],
   "source": [
    "data.smoke100.value_counts().plot.bar()\n",
    "plt.title('smoked >= 100 cig in life: 1 = yes, 0 = no ')\n",
    "plt.show()\n",
    "#the distrbution for smokers and non-smokers seems to be uniform"
   ]
  },
  {
   "cell_type": "code",
   "execution_count": 16,
   "metadata": {},
   "outputs": [
    {
     "data": {
      "text/plain": [
       "0    10559\n",
       "1     9441\n",
       "Name: smoke100, dtype: int64"
      ]
     },
     "execution_count": 16,
     "metadata": {},
     "output_type": "execute_result"
    }
   ],
   "source": [
    "data.smoke100.value_counts()\n",
    "#10,559 claimed to smoke less than 100 cigarettes\n",
    "#9,441 smoked over a 100 cigarettes"
   ]
  },
  {
   "cell_type": "code",
   "execution_count": 108,
   "metadata": {},
   "outputs": [
    {
     "data": {
      "image/png": "[encoded data removed]",
      "text/plain": [
       "<Figure size 432x288 with 1 Axes>"
      ]
     },
     "metadata": {},
     "output_type": "display_data"
    }
   ],
   "source": [
    "data.gender.value_counts().plot.bar()\n",
    "plt.title('Gender')\n",
    "plt.xlabel('counts')\n",
    "plt.show()\n",
    "#fairly even sample of male and female respondents of the survey"
   ]
  },
  {
   "cell_type": "code",
   "execution_count": 109,
   "metadata": {},
   "outputs": [
    {
     "data": {
      "image/png": "[encoded data removed]",
      "text/plain": [
       "<Figure size 720x720 with 4 Axes>"
      ]
     },
     "metadata": {},
     "output_type": "display_data"
    }
   ],
   "source": [
    "#distribution of numerical data\n",
    "data[['height','weight','wtdesire','age']].hist(figsize=(10,10), bins=50)\n",
    "plt.show()\n",
    "#age is unimodal and right skewed - most of the respondents are over 40\n",
    "#height is unimodal and symmetric\n",
    "#weight is unimodal and right skewed - most of the respondents are above 150\n",
    "#wt desire is unimodal very slightly right skewed - most of the respondents have a positive weight desire"
   ]
  },
  {
   "cell_type": "code",
   "execution_count": 110,
   "metadata": {},
   "outputs": [
    {
     "data": {
      "image/png": "[encoded data removed]",
      "text/plain": [
       "<Figure size 432x288 with 1 Axes>"
      ]
     },
     "metadata": {},
     "output_type": "display_data"
    }
   ],
   "source": [
    "def ecdf(data):\n",
    "    \"\"\"Compute ECDF for a one-dimensional array of measurements.\"\"\"\n",
    "\n",
    "    # Number of data points: n\n",
    "    n = len(data)\n",
    "\n",
    "    # x-data for the ECDF: x\n",
    "    x = np.sort(data)\n",
    "\n",
    "    # y-data for the ECDF: y\n",
    "    y = np.arange(1, n+1) / n\n",
    "\n",
    "    return x, y\n",
    "x, y = ecdf(data['height'])\n",
    "plt.plot(x,y, marker='.', linestyle='none')\n",
    "plt.axvline(data['height'].mean(), color='r')\n",
    "plt.xlabel('height')\n",
    "plt.ylabel('ECDF')\n",
    "plt.show()"
   ]
  },
  {
   "cell_type": "code",
   "execution_count": 19,
   "metadata": {},
   "outputs": [
    {
     "data": {
      "text/html": [
       "<div>\n",
       "<style scoped>\n",
       "    .dataframe tbody tr th:only-of-type {\n",
       "        vertical-align: middle;\n",
       "    }\n",
       "\n",
       "    .dataframe tbody tr th {\n",
       "        vertical-align: top;\n",
       "    }\n",
       "\n",
       "    .dataframe thead th {\n",
       "        text-align: right;\n",
       "    }\n",
       "</style>\n",
       "<table border=\"1\" class=\"dataframe\">\n",
       "  <thead>\n",
       "    <tr style=\"text-align: right;\">\n",
       "      <th></th>\n",
       "      <th>weight</th>\n",
       "      <th>height</th>\n",
       "    </tr>\n",
       "  </thead>\n",
       "  <tbody>\n",
       "    <tr>\n",
       "      <th>weight</th>\n",
       "      <td>1.000000</td>\n",
       "      <td>0.555322</td>\n",
       "    </tr>\n",
       "    <tr>\n",
       "      <th>height</th>\n",
       "      <td>0.555322</td>\n",
       "      <td>1.000000</td>\n",
       "    </tr>\n",
       "  </tbody>\n",
       "</table>\n",
       "</div>"
      ],
      "text/plain": [
       "          weight    height\n",
       "weight  1.000000  0.555322\n",
       "height  0.555322  1.000000"
      ]
     },
     "execution_count": 19,
     "metadata": {},
     "output_type": "execute_result"
    }
   ],
   "source": [
    "data[['weight','height']].corr()\n",
    "#positive association between weight and height"
   ]
  },
  {
   "cell_type": "code",
   "execution_count": 111,
   "metadata": {},
   "outputs": [
    {
     "name": "stderr",
     "output_type": "stream",
     "text": [
      "c:\\users\\apont\\appdata\\local\\programs\\python\\python36-32\\lib\\site-packages\\matplotlib\\axes\\_axes.py:6462: UserWarning: The 'normed' kwarg is deprecated, and has been replaced by the 'density' kwarg.\n",
      "  warnings.warn(\"The 'normed' kwarg is deprecated, and has been \"\n"
     ]
    },
    {
     "data": {
      "image/png": "[encoded data removed]",
      "text/plain": [
       "<Figure size 432x288 with 1 Axes>"
      ]
     },
     "metadata": {},
     "output_type": "display_data"
    }
   ],
   "source": [
    "#visualizing the distribution of weight \n",
    "sns.distplot(data.weight)\n",
    "plt.title('Weight Distribution')\n",
    "plt.show()\n",
    "#weight is unimodal and right skewed"
   ]
  },
  {
   "cell_type": "code",
   "execution_count": 112,
   "metadata": {},
   "outputs": [
    {
     "data": {
      "image/png": "[encoded data removed]",
      "text/plain": [
       "<Figure size 432x288 with 1 Axes>"
      ]
     },
     "metadata": {},
     "output_type": "display_data"
    }
   ],
   "source": [
    "#looking for weight outliers\n",
    "sns.boxplot('weight','gender',data=data)\n",
    "plt.title('Weight Distribution per Gender')\n",
    "plt.show()\n",
    "#the weights > 400 are either mistakes or obese persons\n",
    "#males have higher median weight than females"
   ]
  },
  {
   "cell_type": "code",
   "execution_count": 113,
   "metadata": {},
   "outputs": [
    {
     "name": "stderr",
     "output_type": "stream",
     "text": [
      "c:\\users\\apont\\appdata\\local\\programs\\python\\python36-32\\lib\\site-packages\\matplotlib\\axes\\_axes.py:6462: UserWarning: The 'normed' kwarg is deprecated, and has been replaced by the 'density' kwarg.\n",
      "  warnings.warn(\"The 'normed' kwarg is deprecated, and has been \"\n"
     ]
    },
    {
     "data": {
      "image/png": "[encoded data removed]",
      "text/plain": [
       "<Figure size 432x288 with 1 Axes>"
      ]
     },
     "metadata": {},
     "output_type": "display_data"
    }
   ],
   "source": [
    "sns.distplot(data.height)\n",
    "plt.title('Height Distribution')\n",
    "plt.show()\n",
    "#height is unimodal and symmetric"
   ]
  },
  {
   "cell_type": "code",
   "execution_count": 114,
   "metadata": {},
   "outputs": [
    {
     "data": {
      "image/png": "[encoded data removed]",
      "text/plain": [
       "<Figure size 432x288 with 1 Axes>"
      ]
     },
     "metadata": {},
     "output_type": "display_data"
    }
   ],
   "source": [
    "#looking for outliers\n",
    "sns.boxplot('height','gender',data=data)\n",
    "plt.title('Height Distribution per Gender')\n",
    "plt.show()\n",
    "#someone over 90 inches (7.5 feet) is either a mistake or\n",
    "#an extremely tall person\n",
    "#someone below 50 inches is either a mistake of a very short person\n",
    "#males have higher median height than females"
   ]
  },
  {
   "cell_type": "code",
   "execution_count": 115,
   "metadata": {},
   "outputs": [
    {
     "data": {
      "image/png": "[encoded data removed]",
      "text/plain": [
       "<Figure size 432x288 with 1 Axes>"
      ]
     },
     "metadata": {},
     "output_type": "display_data"
    }
   ],
   "source": [
    "sns.boxplot('genhlth', 'age',data=data)\n",
    "plt.title('Age Distribution per General Health Category')\n",
    "plt.show()\n",
    "#it appears that the older the population, the poorer the health\n",
    "#possible negative association between age and health"
   ]
  },
  {
   "cell_type": "markdown",
   "metadata": {},
   "source": [
    "If I wanted to explore the association between how people view their health and age, I could tranform the genhlth variable into a ranking (1 for excellent, 5 for poor)."
   ]
  },
  {
   "cell_type": "code",
   "execution_count": 116,
   "metadata": {},
   "outputs": [
    {
     "data": {
      "image/png": "[encoded data removed]",
      "text/plain": [
       "<Figure size 432x288 with 1 Axes>"
      ]
     },
     "metadata": {},
     "output_type": "display_data"
    }
   ],
   "source": [
    "#distribution of age\n",
    "plt.hist(data.age, bins=50)\n",
    "plt.title('Age Distribution')\n",
    "plt.xlabel('age')\n",
    "plt.ylabel('counts')\n",
    "plt.show()\n",
    "#age is unimodal and right skewed"
   ]
  },
  {
   "cell_type": "code",
   "execution_count": 117,
   "metadata": {},
   "outputs": [
    {
     "data": {
      "image/png": "[encoded data removed]",
      "text/plain": [
       "<Figure size 432x288 with 1 Axes>"
      ]
     },
     "metadata": {},
     "output_type": "display_data"
    }
   ],
   "source": [
    "sns.regplot('weight','height',data=data)\n",
    "plt.title('weight vs height')\n",
    "plt.show()\n",
    "#visualizing height and weight"
   ]
  },
  {
   "cell_type": "markdown",
   "metadata": {},
   "source": [
    "## numerical summary for height and age, and interquantile range\n",
    "## height:\n",
    "- IQR = 6\n",
    "- mean = 67.2 inches\n",
    "- std = 4.1 inches\n",
    "- median = 67 inches\n",
    "\n",
    "## age:\n",
    "- IQR = 26\n",
    "- mean = 45 years old\n",
    "- std = 17 years\n",
    "- median = 43 years old\n",
    "\n",
    "## relative frequency of gender:\n",
    "- 52% female 10,431\n",
    "- 48% male 9,569\n",
    "\n",
    "## relative frequency of exerany:\n",
    "- 75% exercise\n",
    "- 25% do not exercise\n",
    "\n",
    "## proportion of genhlth:\n",
    "- 34.9% say very good    \n",
    "- 28.4% say good        \n",
    "- 23.3% say excellent  \n",
    "- 10.1% say fair         \n",
    "- 3.4% say poor         \n",
    "\n"
   ]
  },
  {
   "cell_type": "code",
   "execution_count": 27,
   "metadata": {},
   "outputs": [
    {
     "data": {
      "text/plain": [
       "count    20000.000000\n",
       "mean        67.182900\n",
       "std          4.125954\n",
       "min         48.000000\n",
       "25%         64.000000\n",
       "50%         67.000000\n",
       "75%         70.000000\n",
       "max         93.000000\n",
       "Name: height, dtype: float64"
      ]
     },
     "execution_count": 27,
     "metadata": {},
     "output_type": "execute_result"
    }
   ],
   "source": [
    "data.height.describe()\n",
    "#IQR = 70 - 64 = 6\n",
    "#mean 67.2 inches\n",
    "#std 4.1 inches\n",
    "#median 67 inches"
   ]
  },
  {
   "cell_type": "code",
   "execution_count": 28,
   "metadata": {},
   "outputs": [
    {
     "data": {
      "text/plain": [
       "count    20000.000000\n",
       "mean        45.068250\n",
       "std         17.192689\n",
       "min         18.000000\n",
       "25%         31.000000\n",
       "50%         43.000000\n",
       "75%         57.000000\n",
       "max         99.000000\n",
       "Name: age, dtype: float64"
      ]
     },
     "execution_count": 28,
     "metadata": {},
     "output_type": "execute_result"
    }
   ],
   "source": [
    "data.age.describe()\n",
    "#IQR = 57 - 31 = 26\n",
    "#mean 45 years old\n",
    "#std 17 years\n",
    "#median 43 years old"
   ]
  },
  {
   "cell_type": "code",
   "execution_count": 29,
   "metadata": {},
   "outputs": [
    {
     "data": {
      "text/plain": [
       "f    0.52155\n",
       "m    0.47845\n",
       "Name: gender, dtype: float64"
      ]
     },
     "execution_count": 29,
     "metadata": {},
     "output_type": "execute_result"
    }
   ],
   "source": [
    "#calculating relative frequency of gender\n",
    "data.gender.value_counts()/20000\n",
    "#52% of the sample was female\n",
    "#48% was male"
   ]
  },
  {
   "cell_type": "code",
   "execution_count": 30,
   "metadata": {},
   "outputs": [
    {
     "data": {
      "text/plain": [
       "1    0.7457\n",
       "0    0.2543\n",
       "Name: exerany, dtype: float64"
      ]
     },
     "execution_count": 30,
     "metadata": {},
     "output_type": "execute_result"
    }
   ],
   "source": [
    "#relative frequency of exerany\n",
    "data.exerany.value_counts()/20000\n",
    "#75% of the population exercises\n",
    "#25% do not exercise"
   ]
  },
  {
   "cell_type": "code",
   "execution_count": 31,
   "metadata": {},
   "outputs": [
    {
     "data": {
      "text/plain": [
       "f    10431\n",
       "m     9569\n",
       "Name: gender, dtype: int64"
      ]
     },
     "execution_count": 31,
     "metadata": {},
     "output_type": "execute_result"
    }
   ],
   "source": [
    "data.gender.value_counts()\n",
    "#there are 9,569 males"
   ]
  },
  {
   "cell_type": "code",
   "execution_count": 32,
   "metadata": {},
   "outputs": [
    {
     "data": {
      "text/plain": [
       "very good    0.34860\n",
       "good         0.28375\n",
       "excellent    0.23285\n",
       "fair         0.10095\n",
       "poor         0.03385\n",
       "Name: genhlth, dtype: float64"
      ]
     },
     "execution_count": 32,
     "metadata": {},
     "output_type": "execute_result"
    }
   ],
   "source": [
    "#relative frequency of genhlth\n",
    "data.genhlth.value_counts()/20000\n",
    "#23% say they are in excellent health"
   ]
  },
  {
   "cell_type": "code",
   "execution_count": 33,
   "metadata": {},
   "outputs": [
    {
     "data": {
      "text/plain": [
       "genhlth\n",
       "poor         176.844904\n",
       "fair         176.177811\n",
       "good         173.214097\n",
       "very good    169.211417\n",
       "excellent    162.228903\n",
       "Name: weight, dtype: float64"
      ]
     },
     "execution_count": 33,
     "metadata": {},
     "output_type": "execute_result"
    }
   ],
   "source": [
    "#average weight per genhlth\n",
    "data.groupby('genhlth').weight.mean().sort_values(ascending=False)\n",
    "#looking at the average weight of each reported general health category\n",
    "#poor health had higher weight"
   ]
  },
  {
   "cell_type": "code",
   "execution_count": 34,
   "metadata": {},
   "outputs": [
    {
     "data": {
      "text/plain": [
       "genhlth\n",
       "excellent    67.560447\n",
       "very good    67.435456\n",
       "good         67.014978\n",
       "fair         66.257553\n",
       "poor         66.152142\n",
       "Name: height, dtype: float64"
      ]
     },
     "execution_count": 34,
     "metadata": {},
     "output_type": "execute_result"
    }
   ],
   "source": [
    "#average height per genhlth\n",
    "data.groupby('genhlth').height.mean().sort_values(ascending=False)\n",
    "#looking at the average height per genhlth\n",
    "#excellent health had higher heights"
   ]
  },
  {
   "cell_type": "code",
   "execution_count": 35,
   "metadata": {},
   "outputs": [
    {
     "data": {
      "text/html": [
       "<div>\n",
       "<style scoped>\n",
       "    .dataframe tbody tr th:only-of-type {\n",
       "        vertical-align: middle;\n",
       "    }\n",
       "\n",
       "    .dataframe tbody tr th {\n",
       "        vertical-align: top;\n",
       "    }\n",
       "\n",
       "    .dataframe thead th {\n",
       "        text-align: right;\n",
       "    }\n",
       "</style>\n",
       "<table border=\"1\" class=\"dataframe\">\n",
       "  <thead>\n",
       "    <tr style=\"text-align: right;\">\n",
       "      <th></th>\n",
       "      <th>count</th>\n",
       "      <th>mean</th>\n",
       "      <th>std</th>\n",
       "      <th>min</th>\n",
       "      <th>25%</th>\n",
       "      <th>50%</th>\n",
       "      <th>75%</th>\n",
       "      <th>max</th>\n",
       "    </tr>\n",
       "    <tr>\n",
       "      <th>genhlth</th>\n",
       "      <th></th>\n",
       "      <th></th>\n",
       "      <th></th>\n",
       "      <th></th>\n",
       "      <th></th>\n",
       "      <th></th>\n",
       "      <th></th>\n",
       "      <th></th>\n",
       "    </tr>\n",
       "  </thead>\n",
       "  <tbody>\n",
       "    <tr>\n",
       "      <th>excellent</th>\n",
       "      <td>4657.0</td>\n",
       "      <td>162.228903</td>\n",
       "      <td>34.750603</td>\n",
       "      <td>85.0</td>\n",
       "      <td>135.0</td>\n",
       "      <td>160.0</td>\n",
       "      <td>185.0</td>\n",
       "      <td>400.0</td>\n",
       "    </tr>\n",
       "    <tr>\n",
       "      <th>fair</th>\n",
       "      <td>2019.0</td>\n",
       "      <td>176.177811</td>\n",
       "      <td>45.744200</td>\n",
       "      <td>78.0</td>\n",
       "      <td>144.0</td>\n",
       "      <td>170.0</td>\n",
       "      <td>200.0</td>\n",
       "      <td>495.0</td>\n",
       "    </tr>\n",
       "    <tr>\n",
       "      <th>good</th>\n",
       "      <td>5675.0</td>\n",
       "      <td>173.214097</td>\n",
       "      <td>42.014648</td>\n",
       "      <td>68.0</td>\n",
       "      <td>142.0</td>\n",
       "      <td>170.0</td>\n",
       "      <td>200.0</td>\n",
       "      <td>400.0</td>\n",
       "    </tr>\n",
       "    <tr>\n",
       "      <th>poor</th>\n",
       "      <td>677.0</td>\n",
       "      <td>176.844904</td>\n",
       "      <td>50.262193</td>\n",
       "      <td>79.0</td>\n",
       "      <td>142.0</td>\n",
       "      <td>170.0</td>\n",
       "      <td>200.0</td>\n",
       "      <td>500.0</td>\n",
       "    </tr>\n",
       "    <tr>\n",
       "      <th>very good</th>\n",
       "      <td>6972.0</td>\n",
       "      <td>169.211417</td>\n",
       "      <td>38.079130</td>\n",
       "      <td>82.0</td>\n",
       "      <td>140.0</td>\n",
       "      <td>165.0</td>\n",
       "      <td>190.0</td>\n",
       "      <td>360.0</td>\n",
       "    </tr>\n",
       "  </tbody>\n",
       "</table>\n",
       "</div>"
      ],
      "text/plain": [
       "            count        mean        std   min    25%    50%    75%    max\n",
       "genhlth                                                                   \n",
       "excellent  4657.0  162.228903  34.750603  85.0  135.0  160.0  185.0  400.0\n",
       "fair       2019.0  176.177811  45.744200  78.0  144.0  170.0  200.0  495.0\n",
       "good       5675.0  173.214097  42.014648  68.0  142.0  170.0  200.0  400.0\n",
       "poor        677.0  176.844904  50.262193  79.0  142.0  170.0  200.0  500.0\n",
       "very good  6972.0  169.211417  38.079130  82.0  140.0  165.0  190.0  360.0"
      ]
     },
     "execution_count": 35,
     "metadata": {},
     "output_type": "execute_result"
    }
   ],
   "source": [
    "#weight stats per genhlth category\n",
    "data.groupby('genhlth').weight.describe()"
   ]
  },
  {
   "cell_type": "code",
   "execution_count": 36,
   "metadata": {},
   "outputs": [
    {
     "data": {
      "text/html": [
       "<div>\n",
       "<style scoped>\n",
       "    .dataframe tbody tr th:only-of-type {\n",
       "        vertical-align: middle;\n",
       "    }\n",
       "\n",
       "    .dataframe tbody tr th {\n",
       "        vertical-align: top;\n",
       "    }\n",
       "\n",
       "    .dataframe thead th {\n",
       "        text-align: right;\n",
       "    }\n",
       "</style>\n",
       "<table border=\"1\" class=\"dataframe\">\n",
       "  <thead>\n",
       "    <tr style=\"text-align: right;\">\n",
       "      <th></th>\n",
       "      <th>count</th>\n",
       "      <th>mean</th>\n",
       "      <th>std</th>\n",
       "      <th>min</th>\n",
       "      <th>25%</th>\n",
       "      <th>50%</th>\n",
       "      <th>75%</th>\n",
       "      <th>max</th>\n",
       "    </tr>\n",
       "    <tr>\n",
       "      <th>genhlth</th>\n",
       "      <th></th>\n",
       "      <th></th>\n",
       "      <th></th>\n",
       "      <th></th>\n",
       "      <th></th>\n",
       "      <th></th>\n",
       "      <th></th>\n",
       "      <th></th>\n",
       "    </tr>\n",
       "  </thead>\n",
       "  <tbody>\n",
       "    <tr>\n",
       "      <th>excellent</th>\n",
       "      <td>4657.0</td>\n",
       "      <td>67.560447</td>\n",
       "      <td>4.031961</td>\n",
       "      <td>54.0</td>\n",
       "      <td>64.0</td>\n",
       "      <td>67.0</td>\n",
       "      <td>71.0</td>\n",
       "      <td>83.0</td>\n",
       "    </tr>\n",
       "    <tr>\n",
       "      <th>fair</th>\n",
       "      <td>2019.0</td>\n",
       "      <td>66.257553</td>\n",
       "      <td>4.101903</td>\n",
       "      <td>49.0</td>\n",
       "      <td>63.0</td>\n",
       "      <td>66.0</td>\n",
       "      <td>69.0</td>\n",
       "      <td>79.0</td>\n",
       "    </tr>\n",
       "    <tr>\n",
       "      <th>good</th>\n",
       "      <td>5675.0</td>\n",
       "      <td>67.014978</td>\n",
       "      <td>4.172136</td>\n",
       "      <td>50.0</td>\n",
       "      <td>64.0</td>\n",
       "      <td>67.0</td>\n",
       "      <td>70.0</td>\n",
       "      <td>84.0</td>\n",
       "    </tr>\n",
       "    <tr>\n",
       "      <th>poor</th>\n",
       "      <td>677.0</td>\n",
       "      <td>66.152142</td>\n",
       "      <td>4.144457</td>\n",
       "      <td>53.0</td>\n",
       "      <td>63.0</td>\n",
       "      <td>66.0</td>\n",
       "      <td>69.0</td>\n",
       "      <td>80.0</td>\n",
       "    </tr>\n",
       "    <tr>\n",
       "      <th>very good</th>\n",
       "      <td>6972.0</td>\n",
       "      <td>67.435456</td>\n",
       "      <td>4.091795</td>\n",
       "      <td>48.0</td>\n",
       "      <td>64.0</td>\n",
       "      <td>67.0</td>\n",
       "      <td>71.0</td>\n",
       "      <td>93.0</td>\n",
       "    </tr>\n",
       "  </tbody>\n",
       "</table>\n",
       "</div>"
      ],
      "text/plain": [
       "            count       mean       std   min   25%   50%   75%   max\n",
       "genhlth                                                             \n",
       "excellent  4657.0  67.560447  4.031961  54.0  64.0  67.0  71.0  83.0\n",
       "fair       2019.0  66.257553  4.101903  49.0  63.0  66.0  69.0  79.0\n",
       "good       5675.0  67.014978  4.172136  50.0  64.0  67.0  70.0  84.0\n",
       "poor        677.0  66.152142  4.144457  53.0  63.0  66.0  69.0  80.0\n",
       "very good  6972.0  67.435456  4.091795  48.0  64.0  67.0  71.0  93.0"
      ]
     },
     "execution_count": 36,
     "metadata": {},
     "output_type": "execute_result"
    }
   ],
   "source": [
    "#height stats per genhlth category\n",
    "data.groupby('genhlth').height.describe()"
   ]
  },
  {
   "cell_type": "code",
   "execution_count": 37,
   "metadata": {},
   "outputs": [
    {
     "data": {
      "text/plain": [
       "hlthplan\n",
       "1    169.894484\n",
       "0    168.218304\n",
       "Name: weight, dtype: float64"
      ]
     },
     "execution_count": 37,
     "metadata": {},
     "output_type": "execute_result"
    }
   ],
   "source": [
    "#average weight per hlthplan\n",
    "data.groupby('hlthplan').weight.mean().sort_values(ascending=False)"
   ]
  },
  {
   "cell_type": "code",
   "execution_count": 118,
   "metadata": {},
   "outputs": [
    {
     "data": {
      "image/png": "[encoded data removed]",
      "text/plain": [
       "<Figure size 432x288 with 3 Axes>"
      ]
     },
     "metadata": {},
     "output_type": "display_data"
    }
   ],
   "source": [
    "gender_smoke = data[['gender', 'smoke100']]\n",
    "from statsmodels.graphics.mosaicplot import mosaic\n",
    "#visualizing the distribution of smokers and gender\n",
    "#mosaic plot\n",
    "mosaic(gender_smoke, index=['gender','smoke100'])\n",
    "plt.show()"
   ]
  },
  {
   "cell_type": "markdown",
   "metadata": {},
   "source": [
    "\n",
    "The mosaic plot reveals that more males have smoked at least 100 cigarettes in their lifetime than females."
   ]
  },
  {
   "cell_type": "code",
   "execution_count": 60,
   "metadata": {},
   "outputs": [
    {
     "data": {
      "text/plain": [
       "gender  smoke100\n",
       "f       0           6012\n",
       "        1           4419\n",
       "m       1           5022\n",
       "        0           4547\n",
       "Name: smoke100, dtype: int64"
      ]
     },
     "execution_count": 60,
     "metadata": {},
     "output_type": "execute_result"
    }
   ],
   "source": [
    "data.groupby('gender').smoke100.value_counts()"
   ]
  },
  {
   "cell_type": "markdown",
   "metadata": {},
   "source": [
    "Im going to filter only the rows that are smokers and under 23, then I am going to take the count using value_counts() pandas function get a figure. I then divided that count by the total respondents and multiplied it by 100 to give me a percentage."
   ]
  },
  {
   "cell_type": "code",
   "execution_count": 64,
   "metadata": {},
   "outputs": [
    {
     "data": {
      "text/plain": [
       "genhlth     3.1\n",
       "exerany     3.1\n",
       "hlthplan    3.1\n",
       "smoke100    3.1\n",
       "height      3.1\n",
       "weight      3.1\n",
       "wtdesire    3.1\n",
       "age         3.1\n",
       "gender      3.1\n",
       "dtype: float64"
      ]
     },
     "execution_count": 64,
     "metadata": {},
     "output_type": "execute_result"
    }
   ],
   "source": [
    "under23_and_smoke = data[(data.smoke100 == 1) & (data.age < 23)]\n",
    "under23_and_smoke.count()/len(data) * 100\n",
    "#620, 3.1% of the sample are under 23 and smoke"
   ]
  },
  {
   "cell_type": "markdown",
   "metadata": {},
   "source": [
    "\n",
    "I chose to view the BMI and exercise varibles. The boxplot revealed that their distrubutions are fairly uniform - therefore, they dont tell us much."
   ]
  },
  {
   "cell_type": "code",
   "execution_count": 120,
   "metadata": {},
   "outputs": [
    {
     "data": {
      "image/png": "[encoded data removed]",
      "text/plain": [
       "<Figure size 432x288 with 1 Axes>"
      ]
     },
     "metadata": {},
     "output_type": "display_data"
    }
   ],
   "source": [
    "bmi = data.weight/data.height**2 * 703\n",
    "data['bmi'] = bmi\n",
    "sns.boxplot(data.genhlth, data.bmi)\n",
    "plt.title('BMI Distribution per General Health Category')\n",
    "plt.show()"
   ]
  },
  {
   "cell_type": "code",
   "execution_count": 122,
   "metadata": {},
   "outputs": [
    {
     "data": {
      "image/png": "[encoded data removed]",
      "text/plain": [
       "<Figure size 432x288 with 1 Axes>"
      ]
     },
     "metadata": {},
     "output_type": "display_data"
    }
   ],
   "source": [
    "#BMI and gender boxplot\n",
    "sns.boxplot(data.gender, data.bmi)\n",
    "plt.title('BMI Distribution per Gender')\n",
    "plt.show()"
   ]
  },
  {
   "cell_type": "code",
   "execution_count": 67,
   "metadata": {},
   "outputs": [
    {
     "data": {
      "text/html": [
       "<div>\n",
       "<style scoped>\n",
       "    .dataframe tbody tr th:only-of-type {\n",
       "        vertical-align: middle;\n",
       "    }\n",
       "\n",
       "    .dataframe tbody tr th {\n",
       "        vertical-align: top;\n",
       "    }\n",
       "\n",
       "    .dataframe thead th {\n",
       "        text-align: right;\n",
       "    }\n",
       "</style>\n",
       "<table border=\"1\" class=\"dataframe\">\n",
       "  <thead>\n",
       "    <tr style=\"text-align: right;\">\n",
       "      <th></th>\n",
       "      <th>bmi</th>\n",
       "    </tr>\n",
       "    <tr>\n",
       "      <th>gender</th>\n",
       "      <th></th>\n",
       "    </tr>\n",
       "  </thead>\n",
       "  <tbody>\n",
       "    <tr>\n",
       "      <th>f</th>\n",
       "      <td>25.741147</td>\n",
       "    </tr>\n",
       "    <tr>\n",
       "      <th>m</th>\n",
       "      <td>26.923670</td>\n",
       "    </tr>\n",
       "  </tbody>\n",
       "</table>\n",
       "</div>"
      ],
      "text/plain": [
       "              bmi\n",
       "gender           \n",
       "f       25.741147\n",
       "m       26.923670"
      ]
     },
     "execution_count": 67,
     "metadata": {},
     "output_type": "execute_result"
    }
   ],
   "source": [
    "#average female BMI is 25.7\n",
    "#average male BMI is 26.9\n",
    "data.pivot_table(index='gender',values='bmi')"
   ]
  },
  {
   "cell_type": "code",
   "execution_count": 69,
   "metadata": {},
   "outputs": [
    {
     "data": {
      "text/plain": [
       "gender\n",
       "f    25.741147\n",
       "m    26.923670\n",
       "Name: bmi, dtype: float64"
      ]
     },
     "execution_count": 69,
     "metadata": {},
     "output_type": "execute_result"
    }
   ],
   "source": [
    "data.groupby('gender').bmi.mean()"
   ]
  },
  {
   "cell_type": "code",
   "execution_count": 73,
   "metadata": {},
   "outputs": [
    {
     "data": {
      "text/plain": [
       "1.1825229999999998"
      ]
     },
     "execution_count": 73,
     "metadata": {},
     "output_type": "execute_result"
    }
   ],
   "source": [
    "male_mean = 26.923670\n",
    "female_mean = 25.741147\n",
    "mean_diff = male_mean - female_mean\n",
    "\n",
    "mean_diff"
   ]
  },
  {
   "cell_type": "code",
   "execution_count": 123,
   "metadata": {},
   "outputs": [
    {
     "data": {
      "image/png": "[encoded data removed]",
      "text/plain": [
       "<Figure size 432x288 with 1 Axes>"
      ]
     },
     "metadata": {},
     "output_type": "display_data"
    }
   ],
   "source": [
    "#boxplot of BMI and exercise\n",
    "sns.boxplot('exerany','bmi', data=data)\n",
    "plt.title('BMI Distribution per Exerany Category')\n",
    "plt.show()"
   ]
  },
  {
   "cell_type": "markdown",
   "metadata": {},
   "source": [
    "## scatterplot of weight versus desired weight.\n",
    "\n",
    "The scatterplots shows a strong positive relationship (0.8) between weight and desired weight. "
   ]
  },
  {
   "cell_type": "code",
   "execution_count": 125,
   "metadata": {},
   "outputs": [
    {
     "data": {
      "image/png": "[encoded data removed]",
      "text/plain": [
       "<Figure size 432x288 with 1 Axes>"
      ]
     },
     "metadata": {},
     "output_type": "display_data"
    }
   ],
   "source": [
    "#exploring the relationship between desired weight and actual weight\n",
    "sns.regplot('weight', 'wtdesire', data=data)\n",
    "plt.title('weight vs desired weight')\n",
    "plt.show()\n",
    "#positive relationship"
   ]
  },
  {
   "cell_type": "code",
   "execution_count": 75,
   "metadata": {},
   "outputs": [
    {
     "data": {
      "text/html": [
       "<div>\n",
       "<style scoped>\n",
       "    .dataframe tbody tr th:only-of-type {\n",
       "        vertical-align: middle;\n",
       "    }\n",
       "\n",
       "    .dataframe tbody tr th {\n",
       "        vertical-align: top;\n",
       "    }\n",
       "\n",
       "    .dataframe thead th {\n",
       "        text-align: right;\n",
       "    }\n",
       "</style>\n",
       "<table border=\"1\" class=\"dataframe\">\n",
       "  <thead>\n",
       "    <tr style=\"text-align: right;\">\n",
       "      <th></th>\n",
       "      <th>wtdesire</th>\n",
       "      <th>weight</th>\n",
       "    </tr>\n",
       "  </thead>\n",
       "  <tbody>\n",
       "    <tr>\n",
       "      <th>wtdesire</th>\n",
       "      <td>1.000000</td>\n",
       "      <td>0.800052</td>\n",
       "    </tr>\n",
       "    <tr>\n",
       "      <th>weight</th>\n",
       "      <td>0.800052</td>\n",
       "      <td>1.000000</td>\n",
       "    </tr>\n",
       "  </tbody>\n",
       "</table>\n",
       "</div>"
      ],
      "text/plain": [
       "          wtdesire    weight\n",
       "wtdesire  1.000000  0.800052\n",
       "weight    0.800052  1.000000"
      ]
     },
     "execution_count": 75,
     "metadata": {},
     "output_type": "execute_result"
    }
   ],
   "source": [
    "data[['wtdesire','weight']].corr()\n",
    "#strong positive correlation of 0.8"
   ]
  },
  {
   "cell_type": "markdown",
   "metadata": {},
   "source": [
    "## Let’s consider a new variable: the difference between desired weight (wtdesire) and current weight (weight). "
   ]
  },
  {
   "cell_type": "code",
   "execution_count": 129,
   "metadata": {},
   "outputs": [],
   "source": [
    "wdiff = data.wtdesire - data.weight\n",
    "data['wdiff'] = wdiff"
   ]
  },
  {
   "cell_type": "markdown",
   "metadata": {},
   "source": [
    "\n",
    "wdiff is numerical continuous data. If an observation of wdiff is 0 then the persons actual weight isnt different than their desired weight - i.e. they are happy with their current weight. If wdiff is negative, that persons actual weight exceeds their desired weight. If wdiff is positive, that persons desired weight exceeds their actual weight."
   ]
  },
  {
   "cell_type": "markdown",
   "metadata": {},
   "source": [
    "\n",
    "The distribution is slightly skewed to the left. This tell us that most people would like to weigh less than they currently weigh."
   ]
  },
  {
   "cell_type": "code",
   "execution_count": 130,
   "metadata": {},
   "outputs": [
    {
     "name": "stderr",
     "output_type": "stream",
     "text": [
      "c:\\users\\apont\\appdata\\local\\programs\\python\\python36-32\\lib\\site-packages\\matplotlib\\axes\\_axes.py:6462: UserWarning: The 'normed' kwarg is deprecated, and has been replaced by the 'density' kwarg.\n",
      "  warnings.warn(\"The 'normed' kwarg is deprecated, and has been \"\n"
     ]
    },
    {
     "data": {
      "image/png": "[encoded data removed]",
      "text/plain": [
       "<Figure size 432x288 with 1 Axes>"
      ]
     },
     "metadata": {},
     "output_type": "display_data"
    }
   ],
   "source": [
    "sns.distplot(wdiff, bins=50)\n",
    "plt.title('Wdiff Distribution')\n",
    "plt.xlabel('weight difference')\n",
    "plt.show()\n",
    "#wdiff is unimodal and very slightly left skewed"
   ]
  },
  {
   "cell_type": "code",
   "execution_count": null,
   "metadata": {},
   "outputs": [],
   "source": [
    "plt.hist(wdiff, bins=30)\n",
    "#slight left skew"
   ]
  },
  {
   "cell_type": "markdown",
   "metadata": {},
   "source": [
    "\n",
    "\n",
    "Looking at the box plot, it appears that females have a larger box (IQR) and a smaller median wdiff. Because the median wdiff is greater for men than women, it tells me that more women are dissatified with their current weight than men."
   ]
  },
  {
   "cell_type": "code",
   "execution_count": 131,
   "metadata": {},
   "outputs": [
    {
     "data": {
      "image/png": "[encoded data removed]",
      "text/plain": [
       "<Figure size 432x288 with 1 Axes>"
      ]
     },
     "metadata": {},
     "output_type": "display_data"
    }
   ],
   "source": [
    "sns.boxplot('gender', 'wdiff', data=data)\n",
    "plt.title('Wdiff Distribution per Gender')\n",
    "plt.show()\n",
    "#slightly more women would like to weigh less than their actual weight"
   ]
  },
  {
   "cell_type": "code",
   "execution_count": null,
   "metadata": {},
   "outputs": [],
   "source": [
    "data.groupby('gender').wdiff.mean()"
   ]
  },
  {
   "cell_type": "markdown",
   "metadata": {},
   "source": [
    "\n",
    "71.9% of the people are within one standard deviation of the mean. This seems like the sample of respondents have a fairly normal distribution of weight."
   ]
  },
  {
   "cell_type": "code",
   "execution_count": 79,
   "metadata": {},
   "outputs": [],
   "source": [
    "data.weight.describe()\n",
    "#mean weight of 169.7 lbs.\n",
    "#std of +/- 40.1 lbs.\n",
    "one_std_plus = data.weight.mean() + data.weight.std()\n",
    "#one_std_plus is 209.8\n",
    "one_std_minus = data.weight.mean() - data.weight.std()\n",
    "#one_std_minus is 129.6"
   ]
  },
  {
   "cell_type": "code",
   "execution_count": 80,
   "metadata": {},
   "outputs": [
    {
     "data": {
      "text/plain": [
       "genhlth     71.925\n",
       "exerany     71.925\n",
       "hlthplan    71.925\n",
       "smoke100    71.925\n",
       "height      71.925\n",
       "weight      71.925\n",
       "wtdesire    71.925\n",
       "age         71.925\n",
       "gender      71.925\n",
       "bmi         71.925\n",
       "wdiff       71.925\n",
       "dtype: float64"
      ]
     },
     "execution_count": 80,
     "metadata": {},
     "output_type": "execute_result"
    }
   ],
   "source": [
    "one_std_from_mean = data[(data.weight >= 126.6) & (data.weight <= 209.8)].count()/20000 * 100\n",
    "one_std_from_mean\n",
    "#71.9% are within ones standard deviation away from the mean"
   ]
  },
  {
   "cell_type": "code",
   "execution_count": null,
   "metadata": {},
   "outputs": [],
   "source": []
  }
 ],
 "metadata": {
  "kernelspec": {
   "display_name": "Python 3",
   "language": "python",
   "name": "python3"
  },
  "language_info": {
   "codemirror_mode": {
    "name": "ipython",
    "version": 3
   },
   "file_extension": ".py",
   "mimetype": "text/x-python",
   "name": "python",
   "nbconvert_exporter": "python",
   "pygments_lexer": "ipython3",
   "version": "3.6.4"
  }
 },
 "nbformat": 4,
 "nbformat_minor": 2
}
