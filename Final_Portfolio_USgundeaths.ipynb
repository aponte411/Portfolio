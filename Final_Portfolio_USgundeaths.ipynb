{
 "cells": [
  {
   "cell_type": "markdown",
   "metadata": {},
   "source": [
    "## An Anaysis of the US gun deaths between the years 2012 and 2014.\n",
    "\n",
    "In this notebook, I am going to look at data on the \"guns.csv\" dataset to discover any meaningful patterns. Each row is a gun death victim, and each column has information about the victim:\n",
    " - year of death (2012-2014)\n",
    " - month of death (1-12)\n",
    " - intent of death (suicide, homicide, accidental, etc.)\n",
    " - police involvment (0=false,1=true)\n",
    " - sex (male, female)\n",
    " - age (varied)\n",
    " - race (black, hispanic, asian/pacific islander, white, native american)\n",
    " - place of death (home, street, etc.)\n",
    " - education of victim (key for this column is presented later)"
   ]
  },
  {
   "cell_type": "code",
   "execution_count": 1,
   "metadata": {},
   "outputs": [
    {
     "name": "stdout",
     "output_type": "stream",
     "text": [
      "[['', 'year', 'month', 'intent', 'police', 'sex', 'age', 'race', 'hispanic', 'place', 'education'], ['1', '2012', '01', 'Suicide', '0', 'M', '34', 'Asian/Pacific Islander', '100', 'Home', '4'], ['2', '2012', '01', 'Suicide', '0', 'F', '21', 'White', '100', 'Street', '3'], ['3', '2012', '01', 'Suicide', '0', 'M', '60', 'White', '100', 'Other specified', '4'], ['4', '2012', '02', 'Suicide', '0', 'M', '64', 'White', '100', 'Home', '4']]\n"
     ]
    }
   ],
   "source": [
    "import csv\n",
    "\n",
    "f = open(\"guns.csv\", \"r\")\n",
    "data = list(csv.reader(f))\n",
    "print(data[:5])"
   ]
  },
  {
   "cell_type": "code",
   "execution_count": 2,
   "metadata": {},
   "outputs": [
    {
     "name": "stdout",
     "output_type": "stream",
     "text": [
      "[['1', '2012', '01', 'Suicide', '0', 'M', '34', 'Asian/Pacific Islander', '100', 'Home', '4'], ['2', '2012', '01', 'Suicide', '0', 'F', '21', 'White', '100', 'Street', '3'], ['3', '2012', '01', 'Suicide', '0', 'M', '60', 'White', '100', 'Other specified', '4'], ['4', '2012', '02', 'Suicide', '0', 'M', '64', 'White', '100', 'Home', '4'], ['5', '2012', '02', 'Suicide', '0', 'M', '31', 'White', '100', 'Other specified', '2']]\n"
     ]
    }
   ],
   "source": [
    "headers = data[0]\n",
    "data = data[1:]\n",
    "print(data[:5])"
   ]
  },
  {
   "cell_type": "code",
   "execution_count": 3,
   "metadata": {},
   "outputs": [
    {
     "name": "stdout",
     "output_type": "stream",
     "text": [
      "{'2012': 33563, '2013': 33636, '2014': 33599}\n"
     ]
    },
    {
     "data": {
      "text/plain": [
       "{'2012': 33563, '2013': 33636, '2014': 33599}"
      ]
     },
     "execution_count": 3,
     "metadata": {},
     "output_type": "execute_result"
    }
   ],
   "source": [
    "years = [a[1] for a in data]\n",
    "\n",
    "years_counts = {}\n",
    "for a in years:\n",
    "    if a in years_counts:\n",
    "        years_counts[a] = years_counts[a] + 1\n",
    "    else:\n",
    "        years_counts[a] = 1\n",
    "print(years_counts)\n",
    "\n",
    "# dictionary with year/deaths as key/values\n",
    "# deaths didnt change much over the years 2012-2014\n",
    "years_counts"
   ]
  },
  {
   "cell_type": "code",
   "execution_count": 11,
   "metadata": {},
   "outputs": [
    {
     "data": {
      "image/png": "[encoded data removed]",
      "text/plain": [
       "<matplotlib.figure.Figure at 0x2900eaee278>"
      ]
     },
     "metadata": {},
     "output_type": "display_data"
    }
   ],
   "source": [
    "import matplotlib.pyplot as plt\n",
    "\n",
    "plt.hist(years, bins=5)\n",
    "plt.title('YEARS VS DEATHS')\n",
    "plt.xlabel('YEARS')\n",
    "plt.ylabel('DEATHS')\n",
    "plt.show()"
   ]
  },
  {
   "cell_type": "code",
   "execution_count": 5,
   "metadata": {},
   "outputs": [
    {
     "data": {
      "text/plain": [
       "{datetime.datetime(2012, 1, 1, 0, 0): 2758,\n",
       " datetime.datetime(2012, 2, 1, 0, 0): 2357,\n",
       " datetime.datetime(2012, 3, 1, 0, 0): 2743,\n",
       " datetime.datetime(2012, 4, 1, 0, 0): 2795,\n",
       " datetime.datetime(2012, 5, 1, 0, 0): 2999,\n",
       " datetime.datetime(2012, 6, 1, 0, 0): 2826,\n",
       " datetime.datetime(2012, 7, 1, 0, 0): 3026,\n",
       " datetime.datetime(2012, 8, 1, 0, 0): 2954,\n",
       " datetime.datetime(2012, 9, 1, 0, 0): 2852,\n",
       " datetime.datetime(2012, 10, 1, 0, 0): 2733,\n",
       " datetime.datetime(2012, 11, 1, 0, 0): 2729,\n",
       " datetime.datetime(2012, 12, 1, 0, 0): 2791,\n",
       " datetime.datetime(2013, 1, 1, 0, 0): 2864,\n",
       " datetime.datetime(2013, 2, 1, 0, 0): 2375,\n",
       " datetime.datetime(2013, 3, 1, 0, 0): 2862,\n",
       " datetime.datetime(2013, 4, 1, 0, 0): 2798,\n",
       " datetime.datetime(2013, 5, 1, 0, 0): 2806,\n",
       " datetime.datetime(2013, 6, 1, 0, 0): 2920,\n",
       " datetime.datetime(2013, 7, 1, 0, 0): 3079,\n",
       " datetime.datetime(2013, 8, 1, 0, 0): 2859,\n",
       " datetime.datetime(2013, 9, 1, 0, 0): 2742,\n",
       " datetime.datetime(2013, 10, 1, 0, 0): 2808,\n",
       " datetime.datetime(2013, 11, 1, 0, 0): 2758,\n",
       " datetime.datetime(2013, 12, 1, 0, 0): 2765,\n",
       " datetime.datetime(2014, 1, 1, 0, 0): 2651,\n",
       " datetime.datetime(2014, 2, 1, 0, 0): 2361,\n",
       " datetime.datetime(2014, 3, 1, 0, 0): 2684,\n",
       " datetime.datetime(2014, 4, 1, 0, 0): 2862,\n",
       " datetime.datetime(2014, 5, 1, 0, 0): 2864,\n",
       " datetime.datetime(2014, 6, 1, 0, 0): 2931,\n",
       " datetime.datetime(2014, 7, 1, 0, 0): 2884,\n",
       " datetime.datetime(2014, 8, 1, 0, 0): 2970,\n",
       " datetime.datetime(2014, 9, 1, 0, 0): 2914,\n",
       " datetime.datetime(2014, 10, 1, 0, 0): 2865,\n",
       " datetime.datetime(2014, 11, 1, 0, 0): 2756,\n",
       " datetime.datetime(2014, 12, 1, 0, 0): 2857}"
      ]
     },
     "execution_count": 5,
     "metadata": {},
     "output_type": "execute_result"
    }
   ],
   "source": [
    "# converted years and month column into datetime and stored in \"dates\" variable\n",
    "\n",
    "import datetime\n",
    "\n",
    "dates = [datetime.datetime(int(a[1]), int(a[2]), day=1) for a in data]\n",
    "\n",
    "\n",
    "# created dictionary with deaths by date(year,month in datetime) are counted.\n",
    "date_counts = {}\n",
    "for a in dates:\n",
    "    if a in date_counts:\n",
    "        date_counts[a] = date_counts[a] + 1\n",
    "    else:\n",
    "        date_counts[a] = 1\n",
    "date_counts"
   ]
  },
  {
   "cell_type": "markdown",
   "metadata": {},
   "source": [
    "It appears that the gun deaths spiked slightly in the summer months, but not by much."
   ]
  },
  {
   "cell_type": "code",
   "execution_count": 35,
   "metadata": {},
   "outputs": [],
   "source": [
    "# exploring gun deaths by race and gender\n",
    "\n",
    "sexes = [a[5] for a in data]\n",
    "races = [a[7] for a in data]\n",
    "ages = [a[6] for a in data]\n",
    "\n",
    "# creating a dictionary where deaths by gender (M or F) are counted.\n",
    "sex_counts = {}\n",
    "for a in sexes:\n",
    "    if a in sex_counts:\n",
    "        sex_counts[a] = sex_counts[a] + 1\n",
    "    else:\n",
    "        sex_counts[a] = 1\n",
    "\n",
    "# creating a dictionary where deaths by race (Asian/Pacific Islander, White, Black, Native American/Native) are counted.  \n",
    "race_counts = {}\n",
    "for a in races:\n",
    "    if a in race_counts:\n",
    "        race_counts[a] = race_counts[a] + 1\n",
    "    else:\n",
    "        race_counts[a] = 1\n",
    "\n"
   ]
  },
  {
   "cell_type": "code",
   "execution_count": 36,
   "metadata": {},
   "outputs": [
    {
     "data": {
      "text/plain": [
       "{'F': 14449, 'M': 86349}"
      ]
     },
     "execution_count": 36,
     "metadata": {},
     "output_type": "execute_result"
    }
   ],
   "source": [
    "sex_counts"
   ]
  },
  {
   "cell_type": "code",
   "execution_count": 37,
   "metadata": {},
   "outputs": [
    {
     "data": {
      "image/png": "[encoded data removed]",
      "text/plain": [
       "<matplotlib.figure.Figure at 0x2900d589860>"
      ]
     },
     "metadata": {},
     "output_type": "display_data"
    }
   ],
   "source": [
    "plt.hist(sexes)\n",
    "plt.title('MALE VS FEMALES GUN DEATHS')\n",
    "plt.xlabel('MALE AND FEMALE')\n",
    "plt.ylabel('DEATHS')\n",
    "plt.show()"
   ]
  },
  {
   "cell_type": "markdown",
   "metadata": {},
   "source": [
    "Far more males died by guns between the years 2012 and 2014 - almost 6X as many males."
   ]
  },
  {
   "cell_type": "code",
   "execution_count": 38,
   "metadata": {},
   "outputs": [
    {
     "data": {
      "text/plain": [
       "{'Asian/Pacific Islander': 1326,\n",
       " 'Black': 23296,\n",
       " 'Hispanic': 9022,\n",
       " 'Native American/Native Alaskan': 917,\n",
       " 'White': 66237}"
      ]
     },
     "execution_count": 38,
     "metadata": {},
     "output_type": "execute_result"
    }
   ],
   "source": [
    "race_counts"
   ]
  },
  {
   "cell_type": "code",
   "execution_count": 39,
   "metadata": {},
   "outputs": [
    {
     "data": {
      "text/plain": [
       "{'Farm': 470,\n",
       " 'Home': 60486,\n",
       " 'Industrial/construction': 248,\n",
       " 'NA': 1384,\n",
       " 'Other specified': 13751,\n",
       " 'Other unspecified': 8867,\n",
       " 'Residential institution': 203,\n",
       " 'School/instiution': 671,\n",
       " 'Sports': 128,\n",
       " 'Street': 11151,\n",
       " 'Trade/service area': 3439}"
      ]
     },
     "execution_count": 39,
     "metadata": {},
     "output_type": "execute_result"
    }
   ],
   "source": [
    "# creating a dictionary with place/deaths\n",
    "\n",
    "place = [a[9] for a in data]\n",
    "\n",
    "place_counts = {}\n",
    "for a in place:\n",
    "    if a in place_counts:\n",
    "        place_counts[a] = place_counts[a] + 1\n",
    "    else:\n",
    "        place_counts[a] = 1\n",
    "place_counts"
   ]
  },
  {
   "cell_type": "markdown",
   "metadata": {},
   "source": [
    "After some data cleaning and counting, I discovered some interesting starting points for further analysis. I wanted to count how many gun deaths were male or female, and the race category. So I created dictionaries to count the deaths by gender and race, storing them as key/value pairs. The counts revealed that more males died by a gun in the years 2012-2014, than did females (86,349 males and 14,449 females). I also saw how gun deaths related to race. \n",
    "    - Asian/Pacific Islander: 1,326\n",
    "    - Black: 2,3296\n",
    "    - Hispanic: 9,022\n",
    "    - Native American/Native Alaskan: 917\n",
    "    - White: 66237\n",
    "The data revealed that out of the total 100,798 deaths by guns in the years 2012-2014, the white group had the most deaths. This lead me to wonder how these figures would relate to the total number of whites in the US population - if the total population figures are much larger, the actual proportion may be much smaller. Unless I know the actual proportion of each race in the US, I won't be able to meaningfully compare those numbers. What I need then is a rate of gun deaths per 100,000 people of each race. In order to do this, I needed to read in data about what percentage of the US population falls into each racial category. The data contains information on the total population of the US, as well as the total population of each racial group in the US. The data is stored in the census.csv file, and only consists of two rows."
   ]
  },
  {
   "cell_type": "code",
   "execution_count": 40,
   "metadata": {},
   "outputs": [
    {
     "name": "stdout",
     "output_type": "stream",
     "text": [
      "[['Id', 'Year', 'Id', 'Sex', 'Id', 'Hispanic Origin', 'Id', 'Id2', 'Geography', 'Total', 'Race Alone - White', 'Race Alone - Hispanic', 'Race Alone - Black or African American', 'Race Alone - American Indian and Alaska Native', 'Race Alone - Asian', 'Race Alone - Native Hawaiian and Other Pacific Islander', 'Two or More Races'], ['cen42010', 'April 1, 2010 Census', 'totsex', 'Both Sexes', 'tothisp', 'Total', '0100000US', '', 'United States', '308745538', '197318956', '44618105', '40250635', '3739506', '15159516', '674625', '6984195']]\n"
     ]
    }
   ],
   "source": [
    "# reading in census data \n",
    "f = open(\"census.csv\", \"r\")\n",
    "census = list(csv.reader(f))\n",
    "print(census)"
   ]
  },
  {
   "cell_type": "code",
   "execution_count": 41,
   "metadata": {},
   "outputs": [
    {
     "data": {
      "text/plain": [
       "{'Asian/Pacific Islander': 8.374309664161762,\n",
       " 'Black': 57.8773477735196,\n",
       " 'Hispanic': 20.220491210910907,\n",
       " 'Native American/Native Alaskan': 24.521955573811088,\n",
       " 'White': 33.56849303419181}"
      ]
     },
     "execution_count": 41,
     "metadata": {},
     "output_type": "execute_result"
    }
   ],
   "source": [
    "mapping = {\n",
    "    \"Asian/Pacific Islander\": 15159516 + 674625,\n",
    "    \"Native American/Native Alaskan\": 3739506,\n",
    "    \"Black\": 40250635,\n",
    "    \"Hispanic\": 44618105,\n",
    "    \"White\": 197318956\n",
    "}\n",
    "\n",
    "race_per_hundredk = {}\n",
    "for k,v in race_counts.items():\n",
    "    race_per_hundredk[k] = (v / mapping[k]) * 100000\n",
    "\n",
    "race_per_hundredk"
   ]
  },
  {
   "cell_type": "markdown",
   "metadata": {},
   "source": [
    "In order to get from the raw counts of gun deaths by race to a rate of gun deaths per 100,000 people in each race, I needed to divide the total number of gun deaths by the population of each race. From the census dataset, I know that the number of people in the white racial category is 197,318,956. I then divide 66,237 (the number of gun deaths in the white racial group) by 197,318,956 (total population of white racial group in US) to get 0.00034 - a tiny figure. This figure multiplied by 100,000 gives me the gun death rate per 100,000 people in that racial group. Which tells me the number of people killed in a given group, out of every 100,000 that were killed by guns in the US. For example:\n",
    "    66,237/197,318,956 = 0.00034 * 100,000 = 33.56. \n",
    "We can interpret this figure as \"33.56 whites out of every 100,000 people in the white census race category in the US were killed by guns between 2012 and 2014.\""
   ]
  },
  {
   "cell_type": "markdown",
   "metadata": {},
   "source": [
    "After creating another dictionary with the keys as the different racial groups and the values as the rate per 100,000, we learned something interesting. Previously, we saw that the white racial group had the most deaths. Now, after calculating the rate per 100,000, there is a shift in ranking. The black racial group had the highest rate (57.88), white (33.57) and asian/pacific islanders had the lowest rate (8.37). "
   ]
  },
  {
   "cell_type": "code",
   "execution_count": 42,
   "metadata": {},
   "outputs": [
    {
     "data": {
      "text/plain": [
       "{'Accidental': 1639,\n",
       " 'Homicide': 35176,\n",
       " 'NA': 1,\n",
       " 'Suicide': 63175,\n",
       " 'Undetermined': 807}"
      ]
     },
     "execution_count": 42,
     "metadata": {},
     "output_type": "execute_result"
    }
   ],
   "source": [
    "# creating a dictionary with intents/deaths\n",
    "intent = [a[3] for a in data]\n",
    "\n",
    "intent_counts = {}\n",
    "for a in intent:\n",
    "    if a in intent_counts:\n",
    "        intent_counts[a] = intent_counts[a] + 1\n",
    "    else:\n",
    "        intent_counts[a] = 1\n",
    "intent_counts"
   ]
  },
  {
   "cell_type": "code",
   "execution_count": 45,
   "metadata": {},
   "outputs": [
    {
     "data": {
      "text/plain": [
       "{'Asian/Pacific Islander': 559,\n",
       " 'Black': 19510,\n",
       " 'Hispanic': 5634,\n",
       " 'Native American/Native Alaskan': 326,\n",
       " 'White': 9147}"
      ]
     },
     "execution_count": 45,
     "metadata": {},
     "output_type": "execute_result"
    }
   ],
   "source": [
    "# creating a dictionary that has the homicide gun deaths categorized by race\n",
    "# then creating another dictionary that has the death rate by race per 100,000\n",
    "homicide_race_counts = {}\n",
    "for i,race in enumerate(races):\n",
    "    if race not in homicide_race_counts:\n",
    "        homicide_race_counts[race] = 0\n",
    "    if intent[i] == \"Homicide\":\n",
    "        homicide_race_counts[race] += 1\n",
    "homicide_race_counts"
   ]
  },
  {
   "cell_type": "markdown",
   "metadata": {},
   "source": [
    "I now wanted to know how races related to homicides. So I created a dictionary that isolated the \"Homicide\" gun deaths and counted how many homicides happened per racial group. I learned that the black group had the highest homicide count (19,510), and the Native American/Native Alaskan group had the lowest (326)."
   ]
  },
  {
   "cell_type": "code",
   "execution_count": 44,
   "metadata": {},
   "outputs": [
    {
     "data": {
      "text/plain": [
       "{'Asian/Pacific Islander': 3.530346230970155,\n",
       " 'Black': 48.471284987180944,\n",
       " 'Hispanic': 12.627161104219914,\n",
       " 'Native American/Native Alaskan': 8.717729026240365,\n",
       " 'White': 4.6356417981453335}"
      ]
     },
     "execution_count": 44,
     "metadata": {},
     "output_type": "execute_result"
    }
   ],
   "source": [
    "homicide_race_per_hundredk = {}\n",
    "for k,v in homicide_race_counts.items():\n",
    "    homicide_race_per_hundredk[k] = (v/mapping[k]) * 100000\n",
    "\n",
    "homicide_race_per_hundredk"
   ]
  },
  {
   "cell_type": "markdown",
   "metadata": {},
   "source": [
    "Then I wanted to know the homicide_race per hundred 100,000. So I created another dictionary that stored the rates. I then saw that the black and Hispanic groups were disproportionately affected. Blacks had the highest homicide rate (48.47), and Hispanics had the second highest (12.63). The Asian/Pacific Islanders had the lowest rate (3.53)."
   ]
  },
  {
   "cell_type": "markdown",
   "metadata": {},
   "source": [
    "Now, I would like to investigate other variables. I will explore the link between gender and homicides."
   ]
  },
  {
   "cell_type": "code",
   "execution_count": 46,
   "metadata": {},
   "outputs": [
    {
     "data": {
      "text/plain": [
       "{'F': 5373, 'M': 29803}"
      ]
     },
     "execution_count": 46,
     "metadata": {},
     "output_type": "execute_result"
    }
   ],
   "source": [
    "# exploring the link between gender and homicides.\n",
    "homicide_gender_counts = {}\n",
    "for i,gender in enumerate(sexes):\n",
    "    if gender not in homicide_gender_counts:\n",
    "        homicide_gender_counts[gender] = 0\n",
    "    if intent[i] == \"Homicide\":\n",
    "        homicide_gender_counts[gender] += 1\n",
    "homicide_gender_counts "
   ]
  },
  {
   "cell_type": "markdown",
   "metadata": {},
   "source": [
    "Here I created a dictionary that counted how many males died by homicide and how many females died by homicide. Far more males died by homicide. \n",
    "\n",
    "Now, I would like to see how suicides relates to gender."
   ]
  },
  {
   "cell_type": "code",
   "execution_count": 47,
   "metadata": {},
   "outputs": [
    {
     "data": {
      "text/plain": [
       "{'F': 8689, 'M': 54486}"
      ]
     },
     "execution_count": 47,
     "metadata": {},
     "output_type": "execute_result"
    }
   ],
   "source": [
    "# exploring the relationship between suicides and females.\n",
    "suicide_gender_counts = {}\n",
    "for i,gender in enumerate(sexes):\n",
    "    if gender not in suicide_gender_counts:\n",
    "        suicide_gender_counts[gender] = 0\n",
    "    if intent[i] == \"Suicide\":\n",
    "        suicide_gender_counts[gender] += 1\n",
    "suicide_gender_counts"
   ]
  },
  {
   "cell_type": "markdown",
   "metadata": {},
   "source": [
    "I created a dictionary that counted how many males died by suicide and how many females died by suicide. Far more males died by suicide.\n",
    "\n",
    "What about the relationship between suicide and race."
   ]
  },
  {
   "cell_type": "code",
   "execution_count": 48,
   "metadata": {},
   "outputs": [
    {
     "data": {
      "text/plain": [
       "{'Asian/Pacific Islander': 745,\n",
       " 'Black': 3332,\n",
       " 'Hispanic': 3171,\n",
       " 'Native American/Native Alaskan': 555,\n",
       " 'White': 55372}"
      ]
     },
     "execution_count": 48,
     "metadata": {},
     "output_type": "execute_result"
    }
   ],
   "source": [
    "# exploring the relationship between suicide and race.\n",
    "suicide_race_counts = {}\n",
    "for i,race in enumerate(races):\n",
    "    if race not in suicide_race_counts:\n",
    "        suicide_race_counts[race] = 0\n",
    "    if intent[i] == \"Suicide\":\n",
    "        suicide_race_counts[race] += 1\n",
    "suicide_race_counts"
   ]
  },
  {
   "cell_type": "markdown",
   "metadata": {},
   "source": [
    "I created another dictionary that counted how many deaths by suicide occurred within each racial group. Far more whites died by suicide.\n",
    "\n",
    "Thus, far I have discovered:\n",
    " - black and hispanics had the highest homicide rates in the US. \n",
    " - more males wer murdered by guns.\n",
    " - more males committed suicide by guns.\n",
    " - more whites committed suicide by guns.\n",
    " \n",
    "Now, I want to explore the relationships between suicide, homicide, and education."
   ]
  },
  {
   "cell_type": "code",
   "execution_count": 50,
   "metadata": {},
   "outputs": [
    {
     "data": {
      "text/plain": [
       "{'1': 9292, '2': 26321, '3': 15533, '4': 11147, '5': 876, 'NA': 6}"
      ]
     },
     "execution_count": 50,
     "metadata": {},
     "output_type": "execute_result"
    }
   ],
   "source": [
    "# exploring the gun death rates by location and education.\n",
    "#first the relationship between suicide and education.\n",
    "education = [a[10] for a in data]\n",
    "location = [a[9] for a in data]\n",
    "\n",
    "suicide_education_counts = {}\n",
    "for i,ed in enumerate(education):\n",
    "    if ed not in suicide_education_counts:\n",
    "        suicide_education_counts[ed] = 0\n",
    "    if intent[i] == \"Suicide\":\n",
    "        suicide_education_counts[ed] += 1\n",
    "suicide_education_counts"
   ]
  },
  {
   "cell_type": "markdown",
   "metadata": {},
   "source": [
    "- 1 = less than highschool\n",
    "- 2 = graduated from highschool or equivalent\n",
    "- 3 = some college\n",
    "- 4 = at least graduated from college\n",
    "- 5 = N/A\n",
    "- N/A = missing\n",
    "\n",
    "I wanted to see how education related to suicides first. I discovered that people who graduated from highschool, or equivalent, had the highest suicide count."
   ]
  },
  {
   "cell_type": "code",
   "execution_count": 51,
   "metadata": {},
   "outputs": [
    {
     "data": {
      "text/plain": [
       "{'1': 11839, '2': 15649, '3': 5640, '4': 1559, '5': 455, 'NA': 34}"
      ]
     },
     "execution_count": 51,
     "metadata": {},
     "output_type": "execute_result"
    }
   ],
   "source": [
    "homicide_education_counts = {}\n",
    "for i,ed in enumerate(education):\n",
    "    if ed not in homicide_education_counts:\n",
    "        homicide_education_counts[ed] = 0\n",
    "    if intent[i] == \"Homicide\":\n",
    "        homicide_education_counts[ed] += 1\n",
    "homicide_education_counts   "
   ]
  },
  {
   "cell_type": "markdown",
   "metadata": {},
   "source": [
    "I now wanted to see how education related to homicides. I discovered that people who graduated from highschool, or equivalent, had the highest homicide count. This shows me that higher education levels past highschool had lower homicide counts. "
   ]
  },
  {
   "cell_type": "code",
   "execution_count": null,
   "metadata": {},
   "outputs": [],
   "source": []
  }
 ],
 "metadata": {
  "kernelspec": {
   "display_name": "Python 3",
   "language": "python",
   "name": "python3"
  },
  "language_info": {
   "codemirror_mode": {
    "name": "ipython",
    "version": 3
   },
   "file_extension": ".py",
   "mimetype": "text/x-python",
   "name": "python",
   "nbconvert_exporter": "python",
   "pygments_lexer": "ipython3",
   "version": "3.6.4"
  }
 },
 "nbformat": 4,
 "nbformat_minor": 1
}
