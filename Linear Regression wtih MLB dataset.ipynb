{
 "cells": [
  {
   "cell_type": "markdown",
   "metadata": {},
   "source": [
    "Greetings! In this notebook I am going to work with a MLB dataset from 2011. The dataset contains various features about a teams season - e.g. homeruns, bat_avg, wins, etc. I'm going to model the data to best predict the teams runs. Along the way I will test the hypothesis that the newer variables (new_onbase, new_slug, new_obs) used in the famous film \"Money ball\" perform better than the traditional variables used for predicting a teams runs. \n",
    "\n",
    "### Starting with a simple Linear Regression"
   ]
  },
  {
   "cell_type": "code",
   "execution_count": 34,
   "metadata": {},
   "outputs": [],
   "source": [
    "import pandas as pd\n",
    "import numpy as np\n",
    "import matplotlib.pyplot as plt\n",
    "\n",
    "\n",
    "from IPython.display import display\n",
    "%matplotlib inline"
   ]
  },
  {
   "cell_type": "code",
   "execution_count": 3,
   "metadata": {},
   "outputs": [
    {
     "data": {
      "text/html": [
       "<div>\n",
       "<style scoped>\n",
       "    .dataframe tbody tr th:only-of-type {\n",
       "        vertical-align: middle;\n",
       "    }\n",
       "\n",
       "    .dataframe tbody tr th {\n",
       "        vertical-align: top;\n",
       "    }\n",
       "\n",
       "    .dataframe thead th {\n",
       "        text-align: right;\n",
       "    }\n",
       "</style>\n",
       "<table border=\"1\" class=\"dataframe\">\n",
       "  <thead>\n",
       "    <tr style=\"text-align: right;\">\n",
       "      <th></th>\n",
       "      <th>team</th>\n",
       "      <th>runs</th>\n",
       "      <th>at_bats</th>\n",
       "      <th>hits</th>\n",
       "      <th>homeruns</th>\n",
       "      <th>bat_avg</th>\n",
       "      <th>strikeouts</th>\n",
       "      <th>stolen_bases</th>\n",
       "      <th>wins</th>\n",
       "      <th>new_onbase</th>\n",
       "      <th>new_slug</th>\n",
       "      <th>new_obs</th>\n",
       "    </tr>\n",
       "  </thead>\n",
       "  <tbody>\n",
       "    <tr>\n",
       "      <th>0</th>\n",
       "      <td>Texas Rangers</td>\n",
       "      <td>855</td>\n",
       "      <td>5659</td>\n",
       "      <td>1599</td>\n",
       "      <td>210</td>\n",
       "      <td>0.283</td>\n",
       "      <td>930</td>\n",
       "      <td>143</td>\n",
       "      <td>96</td>\n",
       "      <td>0.340</td>\n",
       "      <td>0.460</td>\n",
       "      <td>0.800</td>\n",
       "    </tr>\n",
       "    <tr>\n",
       "      <th>1</th>\n",
       "      <td>Boston Red Sox</td>\n",
       "      <td>875</td>\n",
       "      <td>5710</td>\n",
       "      <td>1600</td>\n",
       "      <td>203</td>\n",
       "      <td>0.280</td>\n",
       "      <td>1108</td>\n",
       "      <td>102</td>\n",
       "      <td>90</td>\n",
       "      <td>0.349</td>\n",
       "      <td>0.461</td>\n",
       "      <td>0.810</td>\n",
       "    </tr>\n",
       "    <tr>\n",
       "      <th>2</th>\n",
       "      <td>Detroit Tigers</td>\n",
       "      <td>787</td>\n",
       "      <td>5563</td>\n",
       "      <td>1540</td>\n",
       "      <td>169</td>\n",
       "      <td>0.277</td>\n",
       "      <td>1143</td>\n",
       "      <td>49</td>\n",
       "      <td>95</td>\n",
       "      <td>0.340</td>\n",
       "      <td>0.434</td>\n",
       "      <td>0.773</td>\n",
       "    </tr>\n",
       "    <tr>\n",
       "      <th>3</th>\n",
       "      <td>Kansas City Royals</td>\n",
       "      <td>730</td>\n",
       "      <td>5672</td>\n",
       "      <td>1560</td>\n",
       "      <td>129</td>\n",
       "      <td>0.275</td>\n",
       "      <td>1006</td>\n",
       "      <td>153</td>\n",
       "      <td>71</td>\n",
       "      <td>0.329</td>\n",
       "      <td>0.415</td>\n",
       "      <td>0.744</td>\n",
       "    </tr>\n",
       "    <tr>\n",
       "      <th>4</th>\n",
       "      <td>St. Louis Cardinals</td>\n",
       "      <td>762</td>\n",
       "      <td>5532</td>\n",
       "      <td>1513</td>\n",
       "      <td>162</td>\n",
       "      <td>0.273</td>\n",
       "      <td>978</td>\n",
       "      <td>57</td>\n",
       "      <td>90</td>\n",
       "      <td>0.341</td>\n",
       "      <td>0.425</td>\n",
       "      <td>0.766</td>\n",
       "    </tr>\n",
       "  </tbody>\n",
       "</table>\n",
       "</div>"
      ],
      "text/plain": [
       "                  team  runs  at_bats  hits  homeruns  bat_avg  strikeouts  \\\n",
       "0        Texas Rangers   855     5659  1599       210    0.283         930   \n",
       "1       Boston Red Sox   875     5710  1600       203    0.280        1108   \n",
       "2       Detroit Tigers   787     5563  1540       169    0.277        1143   \n",
       "3   Kansas City Royals   730     5672  1560       129    0.275        1006   \n",
       "4  St. Louis Cardinals   762     5532  1513       162    0.273         978   \n",
       "\n",
       "   stolen_bases  wins  new_onbase  new_slug  new_obs  \n",
       "0           143    96       0.340     0.460    0.800  \n",
       "1           102    90       0.349     0.461    0.810  \n",
       "2            49    95       0.340     0.434    0.773  \n",
       "3           153    71       0.329     0.415    0.744  \n",
       "4            57    90       0.341     0.425    0.766  "
      ]
     },
     "execution_count": 3,
     "metadata": {},
     "output_type": "execute_result"
    }
   ],
   "source": [
    "mlb = pd.read_csv('mlb11.csv')\n",
    "mlb.head()"
   ]
  },
  {
   "cell_type": "code",
   "execution_count": 4,
   "metadata": {},
   "outputs": [
    {
     "data": {
      "text/plain": [
       "(30, 12)"
      ]
     },
     "execution_count": 4,
     "metadata": {},
     "output_type": "execute_result"
    }
   ],
   "source": [
    "mlb.shape"
   ]
  },
  {
   "cell_type": "code",
   "execution_count": 5,
   "metadata": {},
   "outputs": [
    {
     "name": "stdout",
     "output_type": "stream",
     "text": [
      "<class 'pandas.core.frame.DataFrame'>\n",
      "RangeIndex: 30 entries, 0 to 29\n",
      "Data columns (total 12 columns):\n",
      "team            30 non-null object\n",
      "runs            30 non-null int64\n",
      "at_bats         30 non-null int64\n",
      "hits            30 non-null int64\n",
      "homeruns        30 non-null int64\n",
      "bat_avg         30 non-null float64\n",
      "strikeouts      30 non-null int64\n",
      "stolen_bases    30 non-null int64\n",
      "wins            30 non-null int64\n",
      "new_onbase      30 non-null float64\n",
      "new_slug        30 non-null float64\n",
      "new_obs         30 non-null float64\n",
      "dtypes: float64(4), int64(7), object(1)\n",
      "memory usage: 2.9+ KB\n"
     ]
    }
   ],
   "source": [
    "mlb.info()"
   ]
  },
  {
   "cell_type": "code",
   "execution_count": 8,
   "metadata": {},
   "outputs": [
    {
     "data": {
      "text/plain": [
       "0             team\n",
       "1             runs\n",
       "2          at_bats\n",
       "3             hits\n",
       "4         homeruns\n",
       "5          bat_avg\n",
       "6       strikeouts\n",
       "7     stolen_bases\n",
       "8             wins\n",
       "9       new_onbase\n",
       "10        new_slug\n",
       "11         new_obs\n",
       "dtype: object"
      ]
     },
     "execution_count": 8,
     "metadata": {},
     "output_type": "execute_result"
    }
   ],
   "source": [
    "features = pd.Series(mlb.columns)\n",
    "features"
   ]
  },
  {
   "cell_type": "markdown",
   "metadata": {},
   "source": [
    "### I'll use a scatter plot to display the relationship between runs (response) and at_bats (predictor). The relationship looks moderately linear. Because it looks linear, I feel comfortable using a linear model to predict the number of runs."
   ]
  },
  {
   "cell_type": "code",
   "execution_count": 9,
   "metadata": {},
   "outputs": [
    {
     "data": {
      "image/png": "[encoded data removed]",
      "text/plain": [
       "<Figure size 432x288 with 1 Axes>"
      ]
     },
     "metadata": {},
     "output_type": "display_data"
    }
   ],
   "source": [
    "plt.scatter(mlb.at_bats, mlb.runs)\n",
    "plt.ylabel('runs')\n",
    "plt.xlabel('at_bats')\n",
    "plt.title('relationship between runs and at_bats')\n",
    "plt.show()"
   ]
  },
  {
   "cell_type": "code",
   "execution_count": 10,
   "metadata": {},
   "outputs": [
    {
     "data": {
      "text/html": [
       "<div>\n",
       "<style scoped>\n",
       "    .dataframe tbody tr th:only-of-type {\n",
       "        vertical-align: middle;\n",
       "    }\n",
       "\n",
       "    .dataframe tbody tr th {\n",
       "        vertical-align: top;\n",
       "    }\n",
       "\n",
       "    .dataframe thead th {\n",
       "        text-align: right;\n",
       "    }\n",
       "</style>\n",
       "<table border=\"1\" class=\"dataframe\">\n",
       "  <thead>\n",
       "    <tr style=\"text-align: right;\">\n",
       "      <th></th>\n",
       "      <th>runs</th>\n",
       "      <th>at_bats</th>\n",
       "    </tr>\n",
       "  </thead>\n",
       "  <tbody>\n",
       "    <tr>\n",
       "      <th>runs</th>\n",
       "      <td>1.000000</td>\n",
       "      <td>0.610627</td>\n",
       "    </tr>\n",
       "    <tr>\n",
       "      <th>at_bats</th>\n",
       "      <td>0.610627</td>\n",
       "      <td>1.000000</td>\n",
       "    </tr>\n",
       "  </tbody>\n",
       "</table>\n",
       "</div>"
      ],
      "text/plain": [
       "             runs   at_bats\n",
       "runs     1.000000  0.610627\n",
       "at_bats  0.610627  1.000000"
      ]
     },
     "execution_count": 10,
     "metadata": {},
     "output_type": "execute_result"
    }
   ],
   "source": [
    "mlb[['runs', 'at_bats']].corr()"
   ]
  },
  {
   "cell_type": "markdown",
   "metadata": {},
   "source": [
    "R of 0.61. Which shows a strong positive correlation between runs and at_bats."
   ]
  },
  {
   "cell_type": "markdown",
   "metadata": {},
   "source": [
    "### The relationship looks positive. The relationship appears to be linear, positive, and moderate to strong. There also appears to be some values on the scatter plot that look like outliers."
   ]
  },
  {
   "cell_type": "code",
   "execution_count": 15,
   "metadata": {},
   "outputs": [
    {
     "name": "stdout",
     "output_type": "stream",
     "text": [
      "training score 0.3728653901868054\n",
      "coefficient [[0.63054999]]\n",
      "intercept [-2789.24288544]\n"
     ]
    }
   ],
   "source": [
    "#Building linear model using Sci-kit learn\n",
    "import sklearn.linear_model\n",
    "\n",
    "x = pd.DataFrame(mlb['at_bats'])\n",
    "y_true = pd.DataFrame(mlb['runs'])\n",
    "\n",
    "model = sklearn.linear_model.LinearRegression()\n",
    "model.fit(x, y_true)\n",
    "print('training score', model.score(x, y_true))\n",
    "print('coefficient', model.coef_)\n",
    "print('intercept', model.intercept_)"
   ]
  },
  {
   "cell_type": "markdown",
   "metadata": {},
   "source": [
    "## Least squares regression line\n",
    "\n",
    "## runs = -2789.2 + 0.63*at_bats\n",
    "\n",
    "- The intercept for this model is -2789.2\n",
    "- The slope for this model is 0.63\n",
    "- The R**2 is about 37%"
   ]
  },
  {
   "cell_type": "code",
   "execution_count": 16,
   "metadata": {},
   "outputs": [
    {
     "name": "stdout",
     "output_type": "stream",
     "text": [
      "training score 0.6265635695662828\n",
      "coefficient [[1.83454162]]\n",
      "intercept [415.23888492]\n"
     ]
    }
   ],
   "source": [
    "import sklearn.linear_model\n",
    "\n",
    "x2 = pd.DataFrame(mlb['homeruns'])\n",
    "y_true2 = pd.DataFrame(mlb['runs'])\n",
    "\n",
    "model2 = sklearn.linear_model.LinearRegression()\n",
    "model2.fit(x2, y_true2)\n",
    "print('training score', model2.score(x2, y_true2))\n",
    "print('coefficient', model2.coef_)\n",
    "print('intercept', model2.intercept_)"
   ]
  },
  {
   "cell_type": "markdown",
   "metadata": {},
   "source": [
    "## Regression line\n",
    "\n",
    "runs = 415.24 + 1.83*homeruns"
   ]
  },
  {
   "cell_type": "markdown",
   "metadata": {},
   "source": [
    "## Interpreting the parameters\n",
    "The slope tells us that for each additional 100 homeruns, we can expect an increase in 183 runs. Also, if a team scored 0 homeruns, we can expect at least 415.24 runs that season."
   ]
  },
  {
   "cell_type": "code",
   "execution_count": 28,
   "metadata": {},
   "outputs": [
    {
     "data": {
      "image/png": "[encoded data removed]",
      "text/plain": [
       "<Figure size 360x360 with 1 Axes>"
      ]
     },
     "metadata": {},
     "output_type": "display_data"
    }
   ],
   "source": [
    "fig = plt.figure(figsize=(5,5))\n",
    "ax1 = fig.add_subplot(1,1,1)\n",
    "ax1.scatter(mlb.homeruns, mlb.runs)\n",
    "ax1.plot(mlb.homeruns, 415.24 + 1.83*mlb.homeruns, color='r')\n",
    "plt.title('runs = 415.24 + 1.83*homeruns')\n",
    "plt.xlabel('homeruns')\n",
    "plt.ylabel('runs')\n",
    "plt.show()"
   ]
  },
  {
   "cell_type": "code",
   "execution_count": 17,
   "metadata": {},
   "outputs": [
    {
     "data": {
      "text/plain": [
       "array([[727.96497461]])"
      ]
     },
     "execution_count": 17,
     "metadata": {},
     "output_type": "execute_result"
    }
   ],
   "source": [
    "y_pred = model.predict([[5578]])\n",
    "y_pred"
   ]
  },
  {
   "cell_type": "code",
   "execution_count": 18,
   "metadata": {},
   "outputs": [
    {
     "name": "stdout",
     "output_type": "stream",
     "text": [
      "[[0.63054999]]\n",
      "[-2789.24288544]\n"
     ]
    }
   ],
   "source": [
    "print(model.coef_)\n",
    "print(model.intercept_)"
   ]
  },
  {
   "cell_type": "markdown",
   "metadata": {},
   "source": [
    "### If a team manager saw just the regression line and tried to predict runs for a team with 5,578 at_bats, they would get a prediction of about 728 runs. Because this model has a R-squared of about 37%, this prediction is likely an underestimate. The model explains about 37% of the variability in the response (runs)."
   ]
  },
  {
   "cell_type": "code",
   "execution_count": 19,
   "metadata": {},
   "outputs": [],
   "source": [
    "predictions = -2789.2 + 0.63*mlb.at_bats\n",
    "residuals = mlb.runs - predictions"
   ]
  },
  {
   "cell_type": "code",
   "execution_count": 20,
   "metadata": {},
   "outputs": [
    {
     "data": {
      "image/png": "[encoded data removed]",
      "text/plain": [
       "<Figure size 432x288 with 1 Axes>"
      ]
     },
     "metadata": {},
     "output_type": "display_data"
    }
   ],
   "source": [
    "plt.scatter(mlb.at_bats, residuals)\n",
    "plt.axhline(0, color='r')\n",
    "plt.title('residuals vs. at_bats')\n",
    "plt.xlabel('at_bats')\n",
    "plt.ylabel('residuals')\n",
    "plt.show()"
   ]
  },
  {
   "cell_type": "markdown",
   "metadata": {},
   "source": [
    "### The residuals vary evenly, both positively and negatively - i.e. there is constant variance. This tell us that the model is doing a decent job of capturing the true linear relationship between at_bats and runs, but it still isnt that accurate."
   ]
  },
  {
   "cell_type": "code",
   "execution_count": 33,
   "metadata": {},
   "outputs": [
    {
     "data": {
      "image/png": "[encoded data removed]",
      "text/plain": [
       "<Figure size 432x288 with 1 Axes>"
      ]
     },
     "metadata": {},
     "output_type": "display_data"
    }
   ],
   "source": [
    "#nearly normal residuals\n",
    "plt.hist(residuals)\n",
    "plt.show()"
   ]
  },
  {
   "cell_type": "code",
   "execution_count": 34,
   "metadata": {},
   "outputs": [
    {
     "data": {
      "image/png": "[encoded data removed]",
      "text/plain": [
       "<Figure size 432x288 with 1 Axes>"
      ]
     },
     "metadata": {},
     "output_type": "display_data"
    }
   ],
   "source": [
    "from scipy import stats\n",
    "\n",
    "stats.probplot(residuals, plot=plt)\n",
    "plt.show()"
   ]
  },
  {
   "cell_type": "markdown",
   "metadata": {},
   "source": [
    "## Findings:\n",
    "\n",
    "- Based on the histogram and the normal probability plot, the histogram and the normal probability chart the residuals are nearly normal.\n",
    "- Based on the probability plot, there appears to be constant variablity since the residuals are nearly normal."
   ]
  },
  {
   "cell_type": "markdown",
   "metadata": {},
   "source": [
    "### Choosing another traditional variable from mlb11 that I think might be a good predictor of runs. Then i'll create a scatterplot of the two variables and fit a linear model. I am choosing bat_avg as another traditional variable to predict. "
   ]
  },
  {
   "cell_type": "code",
   "execution_count": 35,
   "metadata": {},
   "outputs": [
    {
     "data": {
      "text/html": [
       "<div>\n",
       "<style scoped>\n",
       "    .dataframe tbody tr th:only-of-type {\n",
       "        vertical-align: middle;\n",
       "    }\n",
       "\n",
       "    .dataframe tbody tr th {\n",
       "        vertical-align: top;\n",
       "    }\n",
       "\n",
       "    .dataframe thead th {\n",
       "        text-align: right;\n",
       "    }\n",
       "</style>\n",
       "<table border=\"1\" class=\"dataframe\">\n",
       "  <thead>\n",
       "    <tr style=\"text-align: right;\">\n",
       "      <th></th>\n",
       "      <th>bat_avg</th>\n",
       "      <th>runs</th>\n",
       "    </tr>\n",
       "  </thead>\n",
       "  <tbody>\n",
       "    <tr>\n",
       "      <th>bat_avg</th>\n",
       "      <td>1.000000</td>\n",
       "      <td>0.809986</td>\n",
       "    </tr>\n",
       "    <tr>\n",
       "      <th>runs</th>\n",
       "      <td>0.809986</td>\n",
       "      <td>1.000000</td>\n",
       "    </tr>\n",
       "  </tbody>\n",
       "</table>\n",
       "</div>"
      ],
      "text/plain": [
       "          bat_avg      runs\n",
       "bat_avg  1.000000  0.809986\n",
       "runs     0.809986  1.000000"
      ]
     },
     "execution_count": 35,
     "metadata": {},
     "output_type": "execute_result"
    }
   ],
   "source": [
    "mlb[['bat_avg', 'runs']].corr()"
   ]
  },
  {
   "cell_type": "code",
   "execution_count": 36,
   "metadata": {},
   "outputs": [
    {
     "data": {
      "image/png": "[encoded data removed]",
      "text/plain": [
       "<Figure size 432x288 with 1 Axes>"
      ]
     },
     "metadata": {},
     "output_type": "display_data"
    }
   ],
   "source": [
    "plt.scatter(mlb.bat_avg, mlb.runs)\n",
    "plt.xlabel('bat_avg')\n",
    "plt.ylabel('runs')\n",
    "plt.title('bat_avg vs. runs')\n",
    "plt.show()"
   ]
  },
  {
   "cell_type": "code",
   "execution_count": 21,
   "metadata": {},
   "outputs": [
    {
     "name": "stdout",
     "output_type": "stream",
     "text": [
      "R-squared 0.656077134646863\n",
      "Coefficient [[5242.22907938]]\n",
      "Intercept [-642.8189333]\n"
     ]
    }
   ],
   "source": [
    "X = pd.DataFrame(mlb['bat_avg'])\n",
    "y = pd.DataFrame(mlb['runs'])\n",
    "model3 = sklearn.linear_model.LinearRegression()\n",
    "model3.fit(X, y)\n",
    "print('R-squared', model3.score(X, y))\n",
    "print('Coefficient', model3.coef_)\n",
    "print('Intercept', model3.intercept_)"
   ]
  },
  {
   "cell_type": "markdown",
   "metadata": {},
   "source": [
    "## Findings\n",
    "\n",
    "- Looking at the scatterplot, one can see a moderate to strong positive correlation. I confirmed this positive correlation with an R of 0.81. \n",
    "- I then fit a linear model and got a positive coefficient of 5242.23 and an intercept of -642.81. The model had an R-squared of 0.66"
   ]
  },
  {
   "cell_type": "markdown",
   "metadata": {},
   "source": [
    "\n",
    "The correlation between at_bats and runs is 0.61, and the correlation between bat_avg and runs is 0.81. So the relationship between bat_avg and runs is stronger than at_bats. Comparing their models, the linear model between bat_avg and runs had an R-squared of 0.66, while the linear model between at_bats and runs had an R-squared of 0.37. The bat_avg variable explained more of the variability in the response than did the at_bats predictor (a 29% difference). Because the R-squared was higher for my model, I can tell that it predicts runs better. But in order for me to really test this I would need to apply the model to new data and compare the R-squares to see how well the at_bat model generalizes."
   ]
  },
  {
   "cell_type": "markdown",
   "metadata": {},
   "source": [
    "### Investigating the relationships between runs and each of the other five traditional variables. Looking to find which variable best predicts runs."
   ]
  },
  {
   "cell_type": "code",
   "execution_count": 43,
   "metadata": {},
   "outputs": [
    {
     "data": {
      "text/plain": [
       "Index(['team', 'runs', 'at_bats', 'hits', 'homeruns', 'bat_avg', 'strikeouts',\n",
       "       'stolen_bases', 'wins', 'new_onbase', 'new_slug', 'new_obs'],\n",
       "      dtype='object')"
      ]
     },
     "execution_count": 43,
     "metadata": {},
     "output_type": "execute_result"
    }
   ],
   "source": [
    "mlb.columns"
   ]
  },
  {
   "cell_type": "code",
   "execution_count": 44,
   "metadata": {},
   "outputs": [
    {
     "data": {
      "text/html": [
       "<div>\n",
       "<style scoped>\n",
       "    .dataframe tbody tr th:only-of-type {\n",
       "        vertical-align: middle;\n",
       "    }\n",
       "\n",
       "    .dataframe tbody tr th {\n",
       "        vertical-align: top;\n",
       "    }\n",
       "\n",
       "    .dataframe thead th {\n",
       "        text-align: right;\n",
       "    }\n",
       "</style>\n",
       "<table border=\"1\" class=\"dataframe\">\n",
       "  <thead>\n",
       "    <tr style=\"text-align: right;\">\n",
       "      <th></th>\n",
       "      <th>runs</th>\n",
       "      <th>hits</th>\n",
       "      <th>homeruns</th>\n",
       "      <th>strikeouts</th>\n",
       "      <th>stolen_bases</th>\n",
       "      <th>wins</th>\n",
       "    </tr>\n",
       "  </thead>\n",
       "  <tbody>\n",
       "    <tr>\n",
       "      <th>runs</th>\n",
       "      <td>1.000000</td>\n",
       "      <td>0.801211</td>\n",
       "      <td>0.791558</td>\n",
       "      <td>-0.411531</td>\n",
       "      <td>0.053981</td>\n",
       "      <td>0.600809</td>\n",
       "    </tr>\n",
       "    <tr>\n",
       "      <th>hits</th>\n",
       "      <td>0.801211</td>\n",
       "      <td>1.000000</td>\n",
       "      <td>0.470838</td>\n",
       "      <td>-0.617228</td>\n",
       "      <td>-0.126330</td>\n",
       "      <td>0.297659</td>\n",
       "    </tr>\n",
       "    <tr>\n",
       "      <th>homeruns</th>\n",
       "      <td>0.791558</td>\n",
       "      <td>0.470838</td>\n",
       "      <td>1.000000</td>\n",
       "      <td>-0.170755</td>\n",
       "      <td>-0.117324</td>\n",
       "      <td>0.660614</td>\n",
       "    </tr>\n",
       "    <tr>\n",
       "      <th>strikeouts</th>\n",
       "      <td>-0.411531</td>\n",
       "      <td>-0.617228</td>\n",
       "      <td>-0.170755</td>\n",
       "      <td>1.000000</td>\n",
       "      <td>0.087642</td>\n",
       "      <td>-0.280727</td>\n",
       "    </tr>\n",
       "    <tr>\n",
       "      <th>stolen_bases</th>\n",
       "      <td>0.053981</td>\n",
       "      <td>-0.126330</td>\n",
       "      <td>-0.117324</td>\n",
       "      <td>0.087642</td>\n",
       "      <td>1.000000</td>\n",
       "      <td>-0.064594</td>\n",
       "    </tr>\n",
       "    <tr>\n",
       "      <th>wins</th>\n",
       "      <td>0.600809</td>\n",
       "      <td>0.297659</td>\n",
       "      <td>0.660614</td>\n",
       "      <td>-0.280727</td>\n",
       "      <td>-0.064594</td>\n",
       "      <td>1.000000</td>\n",
       "    </tr>\n",
       "  </tbody>\n",
       "</table>\n",
       "</div>"
      ],
      "text/plain": [
       "                  runs      hits  homeruns  strikeouts  stolen_bases      wins\n",
       "runs          1.000000  0.801211  0.791558   -0.411531      0.053981  0.600809\n",
       "hits          0.801211  1.000000  0.470838   -0.617228     -0.126330  0.297659\n",
       "homeruns      0.791558  0.470838  1.000000   -0.170755     -0.117324  0.660614\n",
       "strikeouts   -0.411531 -0.617228 -0.170755    1.000000      0.087642 -0.280727\n",
       "stolen_bases  0.053981 -0.126330 -0.117324    0.087642      1.000000 -0.064594\n",
       "wins          0.600809  0.297659  0.660614   -0.280727     -0.064594  1.000000"
      ]
     },
     "execution_count": 44,
     "metadata": {},
     "output_type": "execute_result"
    }
   ],
   "source": [
    "mlb[['runs','hits', 'homeruns', 'strikeouts', 'stolen_bases', 'wins']].corr()"
   ]
  },
  {
   "cell_type": "code",
   "execution_count": 45,
   "metadata": {},
   "outputs": [
    {
     "data": {
      "image/png": "[encoded data removed]",
      "text/plain": [
       "<Figure size 360x1080 with 5 Axes>"
      ]
     },
     "metadata": {},
     "output_type": "display_data"
    }
   ],
   "source": [
    "figure = plt.figure(figsize=(5,15))\n",
    "#plot 1 \n",
    "ax1 = figure.add_subplot(5,1,1)\n",
    "ax1.scatter(mlb.hits, mlb.runs)\n",
    "#plot 2\n",
    "ax2 = figure.add_subplot(5,1,2)\n",
    "ax2.scatter(mlb.homeruns, mlb.runs)\n",
    "#Plot 3\n",
    "ax3 = figure.add_subplot(5,1,3)\n",
    "ax3.scatter(mlb.strikeouts, mlb.runs)\n",
    "#plot 4\n",
    "ax4 = figure.add_subplot(5,1,4)\n",
    "ax4.scatter(mlb.stolen_bases, mlb.runs)\n",
    "#plot 5\n",
    "ax5 = figure.add_subplot(5,1,5)\n",
    "ax5.scatter(mlb.wins, mlb.runs)\n",
    "\n",
    "plt.show()"
   ]
  },
  {
   "cell_type": "code",
   "execution_count": 46,
   "metadata": {},
   "outputs": [
    {
     "data": {
      "text/plain": [
       "<matplotlib.axes._subplots.AxesSubplot at 0x589ca50>"
      ]
     },
     "execution_count": 46,
     "metadata": {},
     "output_type": "execute_result"
    },
    {
     "data": {
      "image/png": "[encoded data removed]",
      "text/plain": [
       "<Figure size 432x288 with 1 Axes>"
      ]
     },
     "metadata": {},
     "output_type": "display_data"
    }
   ],
   "source": [
    "sns.regplot(mlb.hits, mlb.runs, data=mlb)"
   ]
  },
  {
   "cell_type": "markdown",
   "metadata": {},
   "source": [
    "### Now going to examine the three newer variables. These are the statistics used by the author of Moneyball to predict a teams success. I want to know if they are more or less effective at predicting runs that the old variables."
   ]
  },
  {
   "cell_type": "code",
   "execution_count": 47,
   "metadata": {},
   "outputs": [
    {
     "data": {
      "text/plain": [
       "Index(['team', 'runs', 'at_bats', 'hits', 'homeruns', 'bat_avg', 'strikeouts',\n",
       "       'stolen_bases', 'wins', 'new_onbase', 'new_slug', 'new_obs'],\n",
       "      dtype='object')"
      ]
     },
     "execution_count": 47,
     "metadata": {},
     "output_type": "execute_result"
    }
   ],
   "source": [
    "mlb.columns"
   ]
  },
  {
   "cell_type": "code",
   "execution_count": 48,
   "metadata": {},
   "outputs": [
    {
     "data": {
      "text/html": [
       "<div>\n",
       "<style scoped>\n",
       "    .dataframe tbody tr th:only-of-type {\n",
       "        vertical-align: middle;\n",
       "    }\n",
       "\n",
       "    .dataframe tbody tr th {\n",
       "        vertical-align: top;\n",
       "    }\n",
       "\n",
       "    .dataframe thead th {\n",
       "        text-align: right;\n",
       "    }\n",
       "</style>\n",
       "<table border=\"1\" class=\"dataframe\">\n",
       "  <thead>\n",
       "    <tr style=\"text-align: right;\">\n",
       "      <th></th>\n",
       "      <th>runs</th>\n",
       "      <th>new_onbase</th>\n",
       "      <th>new_slug</th>\n",
       "      <th>new_obs</th>\n",
       "    </tr>\n",
       "  </thead>\n",
       "  <tbody>\n",
       "    <tr>\n",
       "      <th>runs</th>\n",
       "      <td>1.000000</td>\n",
       "      <td>0.921469</td>\n",
       "      <td>0.947032</td>\n",
       "      <td>0.966916</td>\n",
       "    </tr>\n",
       "    <tr>\n",
       "      <th>new_onbase</th>\n",
       "      <td>0.921469</td>\n",
       "      <td>1.000000</td>\n",
       "      <td>0.871865</td>\n",
       "      <td>0.937283</td>\n",
       "    </tr>\n",
       "    <tr>\n",
       "      <th>new_slug</th>\n",
       "      <td>0.947032</td>\n",
       "      <td>0.871865</td>\n",
       "      <td>1.000000</td>\n",
       "      <td>0.987764</td>\n",
       "    </tr>\n",
       "    <tr>\n",
       "      <th>new_obs</th>\n",
       "      <td>0.966916</td>\n",
       "      <td>0.937283</td>\n",
       "      <td>0.987764</td>\n",
       "      <td>1.000000</td>\n",
       "    </tr>\n",
       "  </tbody>\n",
       "</table>\n",
       "</div>"
      ],
      "text/plain": [
       "                runs  new_onbase  new_slug   new_obs\n",
       "runs        1.000000    0.921469  0.947032  0.966916\n",
       "new_onbase  0.921469    1.000000  0.871865  0.937283\n",
       "new_slug    0.947032    0.871865  1.000000  0.987764\n",
       "new_obs     0.966916    0.937283  0.987764  1.000000"
      ]
     },
     "execution_count": 48,
     "metadata": {},
     "output_type": "execute_result"
    }
   ],
   "source": [
    "mlb[['runs','new_onbase', 'new_slug', 'new_obs']].corr()"
   ]
  },
  {
   "cell_type": "code",
   "execution_count": 49,
   "metadata": {},
   "outputs": [
    {
     "data": {
      "image/png": "[encoded data removed]",
      "text/plain": [
       "<Figure size 432x288 with 1 Axes>"
      ]
     },
     "metadata": {},
     "output_type": "display_data"
    }
   ],
   "source": [
    "plt.scatter(mlb.new_obs, mlb.runs)\n",
    "plt.show()"
   ]
  },
  {
   "cell_type": "code",
   "execution_count": 50,
   "metadata": {},
   "outputs": [
    {
     "data": {
      "image/png": "[encoded data removed]",
      "text/plain": [
       "<Figure size 432x288 with 1 Axes>"
      ]
     },
     "metadata": {},
     "output_type": "display_data"
    }
   ],
   "source": [
    "sns.regplot(mlb.new_obs, mlb.runs, data=mlb)\n",
    "plt.show()"
   ]
  },
  {
   "cell_type": "code",
   "execution_count": 29,
   "metadata": {},
   "outputs": [
    {
     "name": "stdout",
     "output_type": "stream",
     "text": [
      "R-squared 0.9349271263518139\n"
     ]
    }
   ],
   "source": [
    "X = pd.DataFrame(mlb[['new_obs']])\n",
    "Y_true = pd.DataFrame(mlb[['runs']])\n",
    "\n",
    "lm = sklearn.linear_model.LinearRegression()\n",
    "lm.fit(X, Y_true)\n",
    "print('R-squared', lm.score(X, Y_true))"
   ]
  },
  {
   "cell_type": "markdown",
   "metadata": {},
   "source": [
    "## Findings: \n",
    "\n",
    "In general, they are more effective at predicting runs than the old variables. I verified this by comparing the correlation coefficients - the new variables have the strongest correlations (all over 0.90). I then trained a linear model and the new variables explained more of the variances in the response variable (higher R-squared). Of all ten variables that we have analyzed, the best single predictor seems to be new_obs. This makes sense since it was the sum of new_onbase and slug, predictors with high correlations, but of all the newer variables, new_obs had the strongest correlation and the highest R-squared. But since I have limited information and cannot see how the linear model performs on a new data set, I dont how well the models will generalize and make accurate predictions."
   ]
  },
  {
   "cell_type": "markdown",
   "metadata": {},
   "source": [
    "### Checking the model diagnostics for the regression model with the best predictor for runs"
   ]
  },
  {
   "cell_type": "code",
   "execution_count": 30,
   "metadata": {},
   "outputs": [
    {
     "name": "stdout",
     "output_type": "stream",
     "text": [
      "R-squared for new_obs 0.9349271263518139\n",
      "Coefficient [[1919.363569]]\n",
      "Intercept [-686.61434247]\n"
     ]
    }
   ],
   "source": [
    "print('R-squared for new_obs', lm.score(X, Y_true))\n",
    "print('Coefficient', lm.coef_)\n",
    "print('Intercept', lm.intercept_)"
   ]
  },
  {
   "cell_type": "markdown",
   "metadata": {},
   "source": [
    "## Multilinear Regression"
   ]
  },
  {
   "cell_type": "code",
   "execution_count": 25,
   "metadata": {},
   "outputs": [
    {
     "name": "stdout",
     "output_type": "stream",
     "text": [
      "Coefficients [[-10085.2218135  -10918.25495788  12520.67315382]]\n",
      "intercept [-724.21765946]\n"
     ]
    }
   ],
   "source": [
    "x = ['new_onbase', 'new_slug', 'new_obs'] #3 features\n",
    "x = pd.DataFrame(mlb[x])\n",
    "y = pd.DataFrame(mlb['runs'])\n",
    "\n",
    "from sklearn.linear_model import LinearRegression\n",
    "from sklearn.model_selection import train_test_split\n",
    "\n",
    "x_train, x_test, y_train, y_test = train_test_split(x, y, test_size=0.2, random_state=42)\n",
    "\n",
    "lr = LinearRegression().fit(x_train, y_train)\n",
    "print('Coefficients', lr.coef_)\n",
    "print('intercept', lr.intercept_)"
   ]
  },
  {
   "cell_type": "code",
   "execution_count": 26,
   "metadata": {},
   "outputs": [
    {
     "name": "stdout",
     "output_type": "stream",
     "text": [
      "training score 0.9464367316223194\n",
      "test score 0.8762858139563809\n"
     ]
    }
   ],
   "source": [
    "print('training score', lr.score(x_train, y_train))\n",
    "print('test score', lr.score(x_test, y_test))"
   ]
  },
  {
   "cell_type": "code",
   "execution_count": 31,
   "metadata": {},
   "outputs": [
    {
     "name": "stdout",
     "output_type": "stream",
     "text": [
      "slopes [-7.52666166e-02  6.41177919e-01  2.72986148e-01 -4.67766390e+03\n",
      "  3.20177604e-01  1.51593818e+03 -9.62874703e+02  2.16666772e+03]\n",
      "intercept -339.144372116156\n"
     ]
    }
   ],
   "source": [
    "x2 = ['at_bats', 'hits', 'homeruns', 'bat_avg', 'stolen_bases', 'new_onbase','new_slug','new_obs'] #8 features\n",
    "x = mlb[x2]\n",
    "y = mlb['runs']\n",
    "\n",
    "x_train, x_test, y_train, y_test = sklearn.cross_validation.train_test_split(x, y, test_size=0.2, random_state=1)\n",
    "model = LinearRegression().fit(x_train, y_train)\n",
    "print('slopes', model.coef_)\n",
    "print('intercept', model.intercept_)"
   ]
  },
  {
   "cell_type": "code",
   "execution_count": 32,
   "metadata": {},
   "outputs": [
    {
     "name": "stdout",
     "output_type": "stream",
     "text": [
      "training score 0.9815202620485816\n",
      "testing score 0.5998336057247611\n"
     ]
    }
   ],
   "source": [
    "print('training score', model.score(x_train, y_train))\n",
    "print('testing score', model.score(x_test, y_test))"
   ]
  },
  {
   "cell_type": "markdown",
   "metadata": {},
   "source": [
    "### It looks like using 3 features (new_onbase, new_slug, new_obs) had the best model. It explained about 88% of the variance in the runs variable. And it generalized better than the 8 feature model."
   ]
  },
  {
   "cell_type": "code",
   "execution_count": 60,
   "metadata": {},
   "outputs": [
    {
     "data": {
      "text/html": [
       "<div>\n",
       "<style scoped>\n",
       "    .dataframe tbody tr th:only-of-type {\n",
       "        vertical-align: middle;\n",
       "    }\n",
       "\n",
       "    .dataframe tbody tr th {\n",
       "        vertical-align: top;\n",
       "    }\n",
       "\n",
       "    .dataframe thead th {\n",
       "        text-align: right;\n",
       "    }\n",
       "</style>\n",
       "<table border=\"1\" class=\"dataframe\">\n",
       "  <thead>\n",
       "    <tr style=\"text-align: right;\">\n",
       "      <th></th>\n",
       "      <th>runs</th>\n",
       "      <th>at_bats</th>\n",
       "      <th>hits</th>\n",
       "      <th>homeruns</th>\n",
       "      <th>bat_avg</th>\n",
       "      <th>strikeouts</th>\n",
       "      <th>stolen_bases</th>\n",
       "      <th>wins</th>\n",
       "      <th>new_onbase</th>\n",
       "      <th>new_slug</th>\n",
       "      <th>new_obs</th>\n",
       "    </tr>\n",
       "  </thead>\n",
       "  <tbody>\n",
       "    <tr>\n",
       "      <th>count</th>\n",
       "      <td>30.000000</td>\n",
       "      <td>30.000000</td>\n",
       "      <td>30.000000</td>\n",
       "      <td>30.000000</td>\n",
       "      <td>30.000000</td>\n",
       "      <td>30.000000</td>\n",
       "      <td>30.000000</td>\n",
       "      <td>30.000000</td>\n",
       "      <td>30.000000</td>\n",
       "      <td>30.000000</td>\n",
       "      <td>30.00000</td>\n",
       "    </tr>\n",
       "    <tr>\n",
       "      <th>mean</th>\n",
       "      <td>693.600000</td>\n",
       "      <td>5523.500000</td>\n",
       "      <td>1408.900000</td>\n",
       "      <td>151.733333</td>\n",
       "      <td>0.254933</td>\n",
       "      <td>1149.600000</td>\n",
       "      <td>109.300000</td>\n",
       "      <td>80.966667</td>\n",
       "      <td>0.320467</td>\n",
       "      <td>0.398833</td>\n",
       "      <td>0.71910</td>\n",
       "    </tr>\n",
       "    <tr>\n",
       "      <th>std</th>\n",
       "      <td>82.479088</td>\n",
       "      <td>79.873067</td>\n",
       "      <td>87.081947</td>\n",
       "      <td>35.587612</td>\n",
       "      <td>0.012744</td>\n",
       "      <td>108.049988</td>\n",
       "      <td>29.868851</td>\n",
       "      <td>11.415305</td>\n",
       "      <td>0.013441</td>\n",
       "      <td>0.029131</td>\n",
       "      <td>0.04155</td>\n",
       "    </tr>\n",
       "    <tr>\n",
       "      <th>min</th>\n",
       "      <td>556.000000</td>\n",
       "      <td>5417.000000</td>\n",
       "      <td>1263.000000</td>\n",
       "      <td>91.000000</td>\n",
       "      <td>0.233000</td>\n",
       "      <td>930.000000</td>\n",
       "      <td>49.000000</td>\n",
       "      <td>56.000000</td>\n",
       "      <td>0.292000</td>\n",
       "      <td>0.348000</td>\n",
       "      <td>0.64000</td>\n",
       "    </tr>\n",
       "    <tr>\n",
       "      <th>25%</th>\n",
       "      <td>629.000000</td>\n",
       "      <td>5448.250000</td>\n",
       "      <td>1348.000000</td>\n",
       "      <td>118.000000</td>\n",
       "      <td>0.244750</td>\n",
       "      <td>1085.250000</td>\n",
       "      <td>89.750000</td>\n",
       "      <td>72.000000</td>\n",
       "      <td>0.311000</td>\n",
       "      <td>0.377000</td>\n",
       "      <td>0.69200</td>\n",
       "    </tr>\n",
       "    <tr>\n",
       "      <th>50%</th>\n",
       "      <td>705.500000</td>\n",
       "      <td>5515.500000</td>\n",
       "      <td>1394.500000</td>\n",
       "      <td>154.000000</td>\n",
       "      <td>0.253000</td>\n",
       "      <td>1140.500000</td>\n",
       "      <td>107.000000</td>\n",
       "      <td>80.000000</td>\n",
       "      <td>0.318500</td>\n",
       "      <td>0.398500</td>\n",
       "      <td>0.71600</td>\n",
       "    </tr>\n",
       "    <tr>\n",
       "      <th>75%</th>\n",
       "      <td>734.000000</td>\n",
       "      <td>5575.000000</td>\n",
       "      <td>1441.000000</td>\n",
       "      <td>172.750000</td>\n",
       "      <td>0.260250</td>\n",
       "      <td>1247.750000</td>\n",
       "      <td>130.750000</td>\n",
       "      <td>90.000000</td>\n",
       "      <td>0.328250</td>\n",
       "      <td>0.413000</td>\n",
       "      <td>0.73825</td>\n",
       "    </tr>\n",
       "    <tr>\n",
       "      <th>max</th>\n",
       "      <td>875.000000</td>\n",
       "      <td>5710.000000</td>\n",
       "      <td>1600.000000</td>\n",
       "      <td>222.000000</td>\n",
       "      <td>0.283000</td>\n",
       "      <td>1323.000000</td>\n",
       "      <td>170.000000</td>\n",
       "      <td>102.000000</td>\n",
       "      <td>0.349000</td>\n",
       "      <td>0.461000</td>\n",
       "      <td>0.81000</td>\n",
       "    </tr>\n",
       "  </tbody>\n",
       "</table>\n",
       "</div>"
      ],
      "text/plain": [
       "             runs      at_bats         hits    homeruns    bat_avg  \\\n",
       "count   30.000000    30.000000    30.000000   30.000000  30.000000   \n",
       "mean   693.600000  5523.500000  1408.900000  151.733333   0.254933   \n",
       "std     82.479088    79.873067    87.081947   35.587612   0.012744   \n",
       "min    556.000000  5417.000000  1263.000000   91.000000   0.233000   \n",
       "25%    629.000000  5448.250000  1348.000000  118.000000   0.244750   \n",
       "50%    705.500000  5515.500000  1394.500000  154.000000   0.253000   \n",
       "75%    734.000000  5575.000000  1441.000000  172.750000   0.260250   \n",
       "max    875.000000  5710.000000  1600.000000  222.000000   0.283000   \n",
       "\n",
       "        strikeouts  stolen_bases        wins  new_onbase   new_slug   new_obs  \n",
       "count    30.000000     30.000000   30.000000   30.000000  30.000000  30.00000  \n",
       "mean   1149.600000    109.300000   80.966667    0.320467   0.398833   0.71910  \n",
       "std     108.049988     29.868851   11.415305    0.013441   0.029131   0.04155  \n",
       "min     930.000000     49.000000   56.000000    0.292000   0.348000   0.64000  \n",
       "25%    1085.250000     89.750000   72.000000    0.311000   0.377000   0.69200  \n",
       "50%    1140.500000    107.000000   80.000000    0.318500   0.398500   0.71600  \n",
       "75%    1247.750000    130.750000   90.000000    0.328250   0.413000   0.73825  \n",
       "max    1323.000000    170.000000  102.000000    0.349000   0.461000   0.81000  "
      ]
     },
     "execution_count": 60,
     "metadata": {},
     "output_type": "execute_result"
    }
   ],
   "source": [
    "mlb.describe()"
   ]
  },
  {
   "cell_type": "code",
   "execution_count": 33,
   "metadata": {},
   "outputs": [
    {
     "data": {
      "image/png": "[encoded data removed]",
      "text/plain": [
       "<Figure size 720x720 with 20 Axes>"
      ]
     },
     "metadata": {},
     "output_type": "display_data"
    }
   ],
   "source": [
    "a = ['runs','new_onbase', 'new_slug', 'new_obs'] #3 features\n",
    "a = pd.DataFrame(mlb[a])\n",
    "_ = sns.pairplot(a)\n",
    "plt.show()"
   ]
  },
  {
   "cell_type": "code",
   "execution_count": null,
   "metadata": {},
   "outputs": [],
   "source": []
  }
 ],
 "metadata": {
  "kernelspec": {
   "display_name": "Python 3",
   "language": "python",
   "name": "python3"
  },
  "language_info": {
   "codemirror_mode": {
    "name": "ipython",
    "version": 3
   },
   "file_extension": ".py",
   "mimetype": "text/x-python",
   "name": "python",
   "nbconvert_exporter": "python",
   "pygments_lexer": "ipython3",
   "version": "3.6.4"
  }
 },
 "nbformat": 4,
 "nbformat_minor": 2
}
