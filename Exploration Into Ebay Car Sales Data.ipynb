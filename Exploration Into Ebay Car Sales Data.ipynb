{
 "cells": [
  {
   "cell_type": "markdown",
   "metadata": {},
   "source": [
    "Greetings! This is going to be an exploration of an eBay car sales dataset. This project will involve the cleaning and analyzing of used car listings to uncover insights. There are no guiding hypotheses; only an appetite to learn and uncover the story behind the data. The dataset is a smaller sample provided by the kaggle dataset (https://www.kaggle.com/orgesleka/used-cars-database/data#autos.csv)."
   ]
  },
  {
   "cell_type": "code",
   "execution_count": 218,
   "metadata": {},
   "outputs": [],
   "source": [
    "import numpy as np\n",
    "import pandas as pd\n",
    "import matplotlib.pyplot as plt\n",
    "\n",
    "\n",
    "%matplotlib inline"
   ]
  },
  {
   "cell_type": "code",
   "execution_count": 219,
   "metadata": {},
   "outputs": [
    {
     "data": {
      "text/html": [
       "<div>\n",
       "<style scoped>\n",
       "    .dataframe tbody tr th:only-of-type {\n",
       "        vertical-align: middle;\n",
       "    }\n",
       "\n",
       "    .dataframe tbody tr th {\n",
       "        vertical-align: top;\n",
       "    }\n",
       "\n",
       "    .dataframe thead th {\n",
       "        text-align: right;\n",
       "    }\n",
       "</style>\n",
       "<table border=\"1\" class=\"dataframe\">\n",
       "  <thead>\n",
       "    <tr style=\"text-align: right;\">\n",
       "      <th></th>\n",
       "      <th>Unnamed: 0</th>\n",
       "      <th>dateCrawled</th>\n",
       "      <th>name</th>\n",
       "      <th>seller</th>\n",
       "      <th>offerType</th>\n",
       "      <th>price</th>\n",
       "      <th>abtest</th>\n",
       "      <th>vehicleType</th>\n",
       "      <th>yearOfRegistration</th>\n",
       "      <th>gearbox</th>\n",
       "      <th>...</th>\n",
       "      <th>model</th>\n",
       "      <th>odometer</th>\n",
       "      <th>monthOfRegistration</th>\n",
       "      <th>fuelType</th>\n",
       "      <th>brand</th>\n",
       "      <th>notRepairedDamage</th>\n",
       "      <th>dateCreated</th>\n",
       "      <th>nrOfPictures</th>\n",
       "      <th>postalCode</th>\n",
       "      <th>lastSeen</th>\n",
       "    </tr>\n",
       "  </thead>\n",
       "  <tbody>\n",
       "    <tr>\n",
       "      <th>0</th>\n",
       "      <td>0</td>\n",
       "      <td>2016-03-26 17:47:46</td>\n",
       "      <td>Peugeot_807_160_NAVTECH_ON_BOARD</td>\n",
       "      <td>privat</td>\n",
       "      <td>Angebot</td>\n",
       "      <td>$5,000</td>\n",
       "      <td>control</td>\n",
       "      <td>bus</td>\n",
       "      <td>2004</td>\n",
       "      <td>manuell</td>\n",
       "      <td>...</td>\n",
       "      <td>andere</td>\n",
       "      <td>150,000km</td>\n",
       "      <td>3</td>\n",
       "      <td>lpg</td>\n",
       "      <td>peugeot</td>\n",
       "      <td>nein</td>\n",
       "      <td>2016-03-26 00:00:00</td>\n",
       "      <td>0</td>\n",
       "      <td>79588</td>\n",
       "      <td>2016-04-06 06:45:54</td>\n",
       "    </tr>\n",
       "    <tr>\n",
       "      <th>1</th>\n",
       "      <td>1</td>\n",
       "      <td>2016-04-04 13:38:56</td>\n",
       "      <td>BMW_740i_4_4_Liter_HAMANN_UMBAU_Mega_Optik</td>\n",
       "      <td>privat</td>\n",
       "      <td>Angebot</td>\n",
       "      <td>$8,500</td>\n",
       "      <td>control</td>\n",
       "      <td>limousine</td>\n",
       "      <td>1997</td>\n",
       "      <td>automatik</td>\n",
       "      <td>...</td>\n",
       "      <td>7er</td>\n",
       "      <td>150,000km</td>\n",
       "      <td>6</td>\n",
       "      <td>benzin</td>\n",
       "      <td>bmw</td>\n",
       "      <td>nein</td>\n",
       "      <td>2016-04-04 00:00:00</td>\n",
       "      <td>0</td>\n",
       "      <td>71034</td>\n",
       "      <td>2016-04-06 14:45:08</td>\n",
       "    </tr>\n",
       "    <tr>\n",
       "      <th>2</th>\n",
       "      <td>2</td>\n",
       "      <td>2016-03-26 18:57:24</td>\n",
       "      <td>Volkswagen_Golf_1.6_United</td>\n",
       "      <td>privat</td>\n",
       "      <td>Angebot</td>\n",
       "      <td>$8,990</td>\n",
       "      <td>test</td>\n",
       "      <td>limousine</td>\n",
       "      <td>2009</td>\n",
       "      <td>manuell</td>\n",
       "      <td>...</td>\n",
       "      <td>golf</td>\n",
       "      <td>70,000km</td>\n",
       "      <td>7</td>\n",
       "      <td>benzin</td>\n",
       "      <td>volkswagen</td>\n",
       "      <td>nein</td>\n",
       "      <td>2016-03-26 00:00:00</td>\n",
       "      <td>0</td>\n",
       "      <td>35394</td>\n",
       "      <td>2016-04-06 20:15:37</td>\n",
       "    </tr>\n",
       "    <tr>\n",
       "      <th>3</th>\n",
       "      <td>3</td>\n",
       "      <td>2016-03-12 16:58:10</td>\n",
       "      <td>Smart_smart_fortwo_coupe_softouch/F1/Klima/Pan...</td>\n",
       "      <td>privat</td>\n",
       "      <td>Angebot</td>\n",
       "      <td>$4,350</td>\n",
       "      <td>control</td>\n",
       "      <td>kleinwagen</td>\n",
       "      <td>2007</td>\n",
       "      <td>automatik</td>\n",
       "      <td>...</td>\n",
       "      <td>fortwo</td>\n",
       "      <td>70,000km</td>\n",
       "      <td>6</td>\n",
       "      <td>benzin</td>\n",
       "      <td>smart</td>\n",
       "      <td>nein</td>\n",
       "      <td>2016-03-12 00:00:00</td>\n",
       "      <td>0</td>\n",
       "      <td>33729</td>\n",
       "      <td>2016-03-15 03:16:28</td>\n",
       "    </tr>\n",
       "    <tr>\n",
       "      <th>4</th>\n",
       "      <td>4</td>\n",
       "      <td>2016-04-01 14:38:50</td>\n",
       "      <td>Ford_Focus_1_6_Benzin_TÃV_neu_ist_sehr_gepfle...</td>\n",
       "      <td>privat</td>\n",
       "      <td>Angebot</td>\n",
       "      <td>$1,350</td>\n",
       "      <td>test</td>\n",
       "      <td>kombi</td>\n",
       "      <td>2003</td>\n",
       "      <td>manuell</td>\n",
       "      <td>...</td>\n",
       "      <td>focus</td>\n",
       "      <td>150,000km</td>\n",
       "      <td>7</td>\n",
       "      <td>benzin</td>\n",
       "      <td>ford</td>\n",
       "      <td>nein</td>\n",
       "      <td>2016-04-01 00:00:00</td>\n",
       "      <td>0</td>\n",
       "      <td>39218</td>\n",
       "      <td>2016-04-01 14:38:50</td>\n",
       "    </tr>\n",
       "  </tbody>\n",
       "</table>\n",
       "<p>5 rows × 21 columns</p>\n",
       "</div>"
      ],
      "text/plain": [
       "   Unnamed: 0          dateCrawled  \\\n",
       "0           0  2016-03-26 17:47:46   \n",
       "1           1  2016-04-04 13:38:56   \n",
       "2           2  2016-03-26 18:57:24   \n",
       "3           3  2016-03-12 16:58:10   \n",
       "4           4  2016-04-01 14:38:50   \n",
       "\n",
       "                                                name  seller offerType  \\\n",
       "0                   Peugeot_807_160_NAVTECH_ON_BOARD  privat   Angebot   \n",
       "1         BMW_740i_4_4_Liter_HAMANN_UMBAU_Mega_Optik  privat   Angebot   \n",
       "2                         Volkswagen_Golf_1.6_United  privat   Angebot   \n",
       "3  Smart_smart_fortwo_coupe_softouch/F1/Klima/Pan...  privat   Angebot   \n",
       "4  Ford_Focus_1_6_Benzin_TÃV_neu_ist_sehr_gepfle...  privat   Angebot   \n",
       "\n",
       "    price   abtest vehicleType  yearOfRegistration    gearbox  \\\n",
       "0  $5,000  control         bus                2004    manuell   \n",
       "1  $8,500  control   limousine                1997  automatik   \n",
       "2  $8,990     test   limousine                2009    manuell   \n",
       "3  $4,350  control  kleinwagen                2007  automatik   \n",
       "4  $1,350     test       kombi                2003    manuell   \n",
       "\n",
       "          ...            model   odometer monthOfRegistration  fuelType  \\\n",
       "0         ...           andere  150,000km                   3       lpg   \n",
       "1         ...              7er  150,000km                   6    benzin   \n",
       "2         ...             golf   70,000km                   7    benzin   \n",
       "3         ...           fortwo   70,000km                   6    benzin   \n",
       "4         ...            focus  150,000km                   7    benzin   \n",
       "\n",
       "        brand notRepairedDamage          dateCreated nrOfPictures  postalCode  \\\n",
       "0     peugeot              nein  2016-03-26 00:00:00            0       79588   \n",
       "1         bmw              nein  2016-04-04 00:00:00            0       71034   \n",
       "2  volkswagen              nein  2016-03-26 00:00:00            0       35394   \n",
       "3       smart              nein  2016-03-12 00:00:00            0       33729   \n",
       "4        ford              nein  2016-04-01 00:00:00            0       39218   \n",
       "\n",
       "              lastSeen  \n",
       "0  2016-04-06 06:45:54  \n",
       "1  2016-04-06 14:45:08  \n",
       "2  2016-04-06 20:15:37  \n",
       "3  2016-03-15 03:16:28  \n",
       "4  2016-04-01 14:38:50  \n",
       "\n",
       "[5 rows x 21 columns]"
      ]
     },
     "execution_count": 219,
     "metadata": {},
     "output_type": "execute_result"
    }
   ],
   "source": [
    "autos = pd.read_csv(\"autos_2.csv\", encoding = \"Latin-1\")\n",
    "autos.head()"
   ]
  },
  {
   "cell_type": "code",
   "execution_count": 220,
   "metadata": {},
   "outputs": [
    {
     "name": "stdout",
     "output_type": "stream",
     "text": [
      "<class 'pandas.core.frame.DataFrame'>\n",
      "RangeIndex: 50000 entries, 0 to 49999\n",
      "Data columns (total 21 columns):\n",
      "Unnamed: 0             50000 non-null int64\n",
      "dateCrawled            50000 non-null object\n",
      "name                   50000 non-null object\n",
      "seller                 50000 non-null object\n",
      "offerType              50000 non-null object\n",
      "price                  50000 non-null object\n",
      "abtest                 50000 non-null object\n",
      "vehicleType            44905 non-null object\n",
      "yearOfRegistration     50000 non-null int64\n",
      "gearbox                47320 non-null object\n",
      "powerPS                50000 non-null int64\n",
      "model                  47242 non-null object\n",
      "odometer               50000 non-null object\n",
      "monthOfRegistration    50000 non-null int64\n",
      "fuelType               45518 non-null object\n",
      "brand                  50000 non-null object\n",
      "notRepairedDamage      40171 non-null object\n",
      "dateCreated            50000 non-null object\n",
      "nrOfPictures           50000 non-null int64\n",
      "postalCode             50000 non-null int64\n",
      "lastSeen               50000 non-null object\n",
      "dtypes: int64(6), object(15)\n",
      "memory usage: 5.1+ MB\n"
     ]
    }
   ],
   "source": [
    "autos.info()"
   ]
  },
  {
   "cell_type": "code",
   "execution_count": 221,
   "metadata": {},
   "outputs": [
    {
     "data": {
      "text/plain": [
       "Unnamed: 0              0.000\n",
       "dateCrawled             0.000\n",
       "name                    0.000\n",
       "seller                  0.000\n",
       "offerType               0.000\n",
       "price                   0.000\n",
       "abtest                  0.000\n",
       "vehicleType            10.190\n",
       "yearOfRegistration      0.000\n",
       "gearbox                 5.360\n",
       "powerPS                 0.000\n",
       "model                   5.516\n",
       "odometer                0.000\n",
       "monthOfRegistration     0.000\n",
       "fuelType                8.964\n",
       "brand                   0.000\n",
       "notRepairedDamage      19.658\n",
       "dateCreated             0.000\n",
       "nrOfPictures            0.000\n",
       "postalCode              0.000\n",
       "lastSeen                0.000\n",
       "dtype: float64"
      ]
     },
     "execution_count": 221,
     "metadata": {},
     "output_type": "execute_result"
    }
   ],
   "source": [
    "autos.isnull().sum()/len(autos)*100"
   ]
  },
  {
   "cell_type": "markdown",
   "metadata": {},
   "source": [
    "The dataset contains 50000 observations (each a listing) and 20 variables (each a feature of the listing). Some of the variables have missing values, but none with more than 20%. There also appears to be variables written in \"CamelCase\" (e.g. eBay, iPhone), versus the preferred python \"snake_case\" (e.g. e_bay, i_phone). One good place to start is by chaning the camelcase variable names into snakecase format, with names that are also more descriptive. "
   ]
  },
  {
   "cell_type": "markdown",
   "metadata": {},
   "source": [
    "## Tidying up the data"
   ]
  },
  {
   "cell_type": "code",
   "execution_count": 222,
   "metadata": {},
   "outputs": [
    {
     "data": {
      "text/plain": [
       "Index(['Unnamed: 0', 'date_crawled', 'name', 'seller', 'offer_type', 'price',\n",
       "       'abtest', 'vehicle_type', 'registration_year', 'gearbox', 'power_ps',\n",
       "       'model', 'odometer', 'registration_month', 'fuel_type', 'brand',\n",
       "       'unrepaired_demage', 'ad_created', 'nr_of_pictures', 'postal_code',\n",
       "       'last_seen'],\n",
       "      dtype='object')"
      ]
     },
     "execution_count": 222,
     "metadata": {},
     "output_type": "execute_result"
    }
   ],
   "source": [
    "#create dictionary\n",
    "names_dict = {\"dateCrawled\" : \"date_crawled\",\n",
    "              \"offerType\" : \"offer_type\", \n",
    "              \"vehicleType\" : \"vehicle_type\",\n",
    "              \"yearOfRegistration\" : \"registration_year\",\n",
    "              \"powerPS\" : \"power_ps\",\n",
    "             \"monthOfRegistration\" : \"registration_month\",\n",
    "              \"fuelType\" : \"fuel_type\",\n",
    "             \"notRepairedDamage\" : \"unrepaired_demage\", \n",
    "             \"dateCreated\" : \"ad_created\", \n",
    "             \"nrOfPictures\" : \"nr_of_pictures\", \n",
    "             \"postalCode\" : \"postal_code\", \n",
    "             \"lastSeen\" : \"last_seen\"}\n",
    "\n",
    "#use rename method to apply changes across all columns\n",
    "#inplace to return a new dataframe\n",
    "autos.rename(names_dict, axis = 1, inplace = True)\n",
    "#view new names\n",
    "autos.columns"
   ]
  },
  {
   "cell_type": "markdown",
   "metadata": {},
   "source": [
    "Now that we have more workable names, lets do some data exploration to see what else needs to be tidied up. "
   ]
  },
  {
   "cell_type": "markdown",
   "metadata": {},
   "source": [
    "## Exploring the dataset"
   ]
  },
  {
   "cell_type": "code",
   "execution_count": 223,
   "metadata": {},
   "outputs": [
    {
     "data": {
      "text/html": [
       "<div>\n",
       "<style scoped>\n",
       "    .dataframe tbody tr th:only-of-type {\n",
       "        vertical-align: middle;\n",
       "    }\n",
       "\n",
       "    .dataframe tbody tr th {\n",
       "        vertical-align: top;\n",
       "    }\n",
       "\n",
       "    .dataframe thead th {\n",
       "        text-align: right;\n",
       "    }\n",
       "</style>\n",
       "<table border=\"1\" class=\"dataframe\">\n",
       "  <thead>\n",
       "    <tr style=\"text-align: right;\">\n",
       "      <th></th>\n",
       "      <th>Unnamed: 0</th>\n",
       "      <th>date_crawled</th>\n",
       "      <th>name</th>\n",
       "      <th>seller</th>\n",
       "      <th>offer_type</th>\n",
       "      <th>price</th>\n",
       "      <th>abtest</th>\n",
       "      <th>vehicle_type</th>\n",
       "      <th>registration_year</th>\n",
       "      <th>gearbox</th>\n",
       "      <th>...</th>\n",
       "      <th>model</th>\n",
       "      <th>odometer</th>\n",
       "      <th>registration_month</th>\n",
       "      <th>fuel_type</th>\n",
       "      <th>brand</th>\n",
       "      <th>unrepaired_demage</th>\n",
       "      <th>ad_created</th>\n",
       "      <th>nr_of_pictures</th>\n",
       "      <th>postal_code</th>\n",
       "      <th>last_seen</th>\n",
       "    </tr>\n",
       "  </thead>\n",
       "  <tbody>\n",
       "    <tr>\n",
       "      <th>count</th>\n",
       "      <td>50000.000000</td>\n",
       "      <td>50000</td>\n",
       "      <td>50000</td>\n",
       "      <td>50000</td>\n",
       "      <td>50000</td>\n",
       "      <td>50000</td>\n",
       "      <td>50000</td>\n",
       "      <td>44905</td>\n",
       "      <td>50000.000000</td>\n",
       "      <td>47320</td>\n",
       "      <td>...</td>\n",
       "      <td>47242</td>\n",
       "      <td>50000</td>\n",
       "      <td>50000.000000</td>\n",
       "      <td>45518</td>\n",
       "      <td>50000</td>\n",
       "      <td>40171</td>\n",
       "      <td>50000</td>\n",
       "      <td>50000.0</td>\n",
       "      <td>50000.000000</td>\n",
       "      <td>50000</td>\n",
       "    </tr>\n",
       "    <tr>\n",
       "      <th>unique</th>\n",
       "      <td>NaN</td>\n",
       "      <td>48213</td>\n",
       "      <td>38754</td>\n",
       "      <td>2</td>\n",
       "      <td>2</td>\n",
       "      <td>2357</td>\n",
       "      <td>2</td>\n",
       "      <td>8</td>\n",
       "      <td>NaN</td>\n",
       "      <td>2</td>\n",
       "      <td>...</td>\n",
       "      <td>245</td>\n",
       "      <td>13</td>\n",
       "      <td>NaN</td>\n",
       "      <td>7</td>\n",
       "      <td>40</td>\n",
       "      <td>2</td>\n",
       "      <td>76</td>\n",
       "      <td>NaN</td>\n",
       "      <td>NaN</td>\n",
       "      <td>39481</td>\n",
       "    </tr>\n",
       "    <tr>\n",
       "      <th>top</th>\n",
       "      <td>NaN</td>\n",
       "      <td>2016-03-10 15:36:24</td>\n",
       "      <td>Ford_Fiesta</td>\n",
       "      <td>privat</td>\n",
       "      <td>Angebot</td>\n",
       "      <td>$0</td>\n",
       "      <td>test</td>\n",
       "      <td>limousine</td>\n",
       "      <td>NaN</td>\n",
       "      <td>manuell</td>\n",
       "      <td>...</td>\n",
       "      <td>golf</td>\n",
       "      <td>150,000km</td>\n",
       "      <td>NaN</td>\n",
       "      <td>benzin</td>\n",
       "      <td>volkswagen</td>\n",
       "      <td>nein</td>\n",
       "      <td>2016-04-03 00:00:00</td>\n",
       "      <td>NaN</td>\n",
       "      <td>NaN</td>\n",
       "      <td>2016-04-07 06:17:27</td>\n",
       "    </tr>\n",
       "    <tr>\n",
       "      <th>freq</th>\n",
       "      <td>NaN</td>\n",
       "      <td>3</td>\n",
       "      <td>78</td>\n",
       "      <td>49999</td>\n",
       "      <td>49999</td>\n",
       "      <td>1421</td>\n",
       "      <td>25756</td>\n",
       "      <td>12859</td>\n",
       "      <td>NaN</td>\n",
       "      <td>36993</td>\n",
       "      <td>...</td>\n",
       "      <td>4024</td>\n",
       "      <td>32424</td>\n",
       "      <td>NaN</td>\n",
       "      <td>30107</td>\n",
       "      <td>10687</td>\n",
       "      <td>35232</td>\n",
       "      <td>1946</td>\n",
       "      <td>NaN</td>\n",
       "      <td>NaN</td>\n",
       "      <td>8</td>\n",
       "    </tr>\n",
       "    <tr>\n",
       "      <th>mean</th>\n",
       "      <td>24999.500000</td>\n",
       "      <td>NaN</td>\n",
       "      <td>NaN</td>\n",
       "      <td>NaN</td>\n",
       "      <td>NaN</td>\n",
       "      <td>NaN</td>\n",
       "      <td>NaN</td>\n",
       "      <td>NaN</td>\n",
       "      <td>2005.073280</td>\n",
       "      <td>NaN</td>\n",
       "      <td>...</td>\n",
       "      <td>NaN</td>\n",
       "      <td>NaN</td>\n",
       "      <td>5.723360</td>\n",
       "      <td>NaN</td>\n",
       "      <td>NaN</td>\n",
       "      <td>NaN</td>\n",
       "      <td>NaN</td>\n",
       "      <td>0.0</td>\n",
       "      <td>50813.627300</td>\n",
       "      <td>NaN</td>\n",
       "    </tr>\n",
       "    <tr>\n",
       "      <th>std</th>\n",
       "      <td>14433.901067</td>\n",
       "      <td>NaN</td>\n",
       "      <td>NaN</td>\n",
       "      <td>NaN</td>\n",
       "      <td>NaN</td>\n",
       "      <td>NaN</td>\n",
       "      <td>NaN</td>\n",
       "      <td>NaN</td>\n",
       "      <td>105.712813</td>\n",
       "      <td>NaN</td>\n",
       "      <td>...</td>\n",
       "      <td>NaN</td>\n",
       "      <td>NaN</td>\n",
       "      <td>3.711984</td>\n",
       "      <td>NaN</td>\n",
       "      <td>NaN</td>\n",
       "      <td>NaN</td>\n",
       "      <td>NaN</td>\n",
       "      <td>0.0</td>\n",
       "      <td>25779.747957</td>\n",
       "      <td>NaN</td>\n",
       "    </tr>\n",
       "    <tr>\n",
       "      <th>min</th>\n",
       "      <td>0.000000</td>\n",
       "      <td>NaN</td>\n",
       "      <td>NaN</td>\n",
       "      <td>NaN</td>\n",
       "      <td>NaN</td>\n",
       "      <td>NaN</td>\n",
       "      <td>NaN</td>\n",
       "      <td>NaN</td>\n",
       "      <td>1000.000000</td>\n",
       "      <td>NaN</td>\n",
       "      <td>...</td>\n",
       "      <td>NaN</td>\n",
       "      <td>NaN</td>\n",
       "      <td>0.000000</td>\n",
       "      <td>NaN</td>\n",
       "      <td>NaN</td>\n",
       "      <td>NaN</td>\n",
       "      <td>NaN</td>\n",
       "      <td>0.0</td>\n",
       "      <td>1067.000000</td>\n",
       "      <td>NaN</td>\n",
       "    </tr>\n",
       "    <tr>\n",
       "      <th>25%</th>\n",
       "      <td>12499.750000</td>\n",
       "      <td>NaN</td>\n",
       "      <td>NaN</td>\n",
       "      <td>NaN</td>\n",
       "      <td>NaN</td>\n",
       "      <td>NaN</td>\n",
       "      <td>NaN</td>\n",
       "      <td>NaN</td>\n",
       "      <td>1999.000000</td>\n",
       "      <td>NaN</td>\n",
       "      <td>...</td>\n",
       "      <td>NaN</td>\n",
       "      <td>NaN</td>\n",
       "      <td>3.000000</td>\n",
       "      <td>NaN</td>\n",
       "      <td>NaN</td>\n",
       "      <td>NaN</td>\n",
       "      <td>NaN</td>\n",
       "      <td>0.0</td>\n",
       "      <td>30451.000000</td>\n",
       "      <td>NaN</td>\n",
       "    </tr>\n",
       "    <tr>\n",
       "      <th>50%</th>\n",
       "      <td>24999.500000</td>\n",
       "      <td>NaN</td>\n",
       "      <td>NaN</td>\n",
       "      <td>NaN</td>\n",
       "      <td>NaN</td>\n",
       "      <td>NaN</td>\n",
       "      <td>NaN</td>\n",
       "      <td>NaN</td>\n",
       "      <td>2003.000000</td>\n",
       "      <td>NaN</td>\n",
       "      <td>...</td>\n",
       "      <td>NaN</td>\n",
       "      <td>NaN</td>\n",
       "      <td>6.000000</td>\n",
       "      <td>NaN</td>\n",
       "      <td>NaN</td>\n",
       "      <td>NaN</td>\n",
       "      <td>NaN</td>\n",
       "      <td>0.0</td>\n",
       "      <td>49577.000000</td>\n",
       "      <td>NaN</td>\n",
       "    </tr>\n",
       "    <tr>\n",
       "      <th>75%</th>\n",
       "      <td>37499.250000</td>\n",
       "      <td>NaN</td>\n",
       "      <td>NaN</td>\n",
       "      <td>NaN</td>\n",
       "      <td>NaN</td>\n",
       "      <td>NaN</td>\n",
       "      <td>NaN</td>\n",
       "      <td>NaN</td>\n",
       "      <td>2008.000000</td>\n",
       "      <td>NaN</td>\n",
       "      <td>...</td>\n",
       "      <td>NaN</td>\n",
       "      <td>NaN</td>\n",
       "      <td>9.000000</td>\n",
       "      <td>NaN</td>\n",
       "      <td>NaN</td>\n",
       "      <td>NaN</td>\n",
       "      <td>NaN</td>\n",
       "      <td>0.0</td>\n",
       "      <td>71540.000000</td>\n",
       "      <td>NaN</td>\n",
       "    </tr>\n",
       "    <tr>\n",
       "      <th>max</th>\n",
       "      <td>49999.000000</td>\n",
       "      <td>NaN</td>\n",
       "      <td>NaN</td>\n",
       "      <td>NaN</td>\n",
       "      <td>NaN</td>\n",
       "      <td>NaN</td>\n",
       "      <td>NaN</td>\n",
       "      <td>NaN</td>\n",
       "      <td>9999.000000</td>\n",
       "      <td>NaN</td>\n",
       "      <td>...</td>\n",
       "      <td>NaN</td>\n",
       "      <td>NaN</td>\n",
       "      <td>12.000000</td>\n",
       "      <td>NaN</td>\n",
       "      <td>NaN</td>\n",
       "      <td>NaN</td>\n",
       "      <td>NaN</td>\n",
       "      <td>0.0</td>\n",
       "      <td>99998.000000</td>\n",
       "      <td>NaN</td>\n",
       "    </tr>\n",
       "  </tbody>\n",
       "</table>\n",
       "<p>11 rows × 21 columns</p>\n",
       "</div>"
      ],
      "text/plain": [
       "          Unnamed: 0         date_crawled         name  seller offer_type  \\\n",
       "count   50000.000000                50000        50000   50000      50000   \n",
       "unique           NaN                48213        38754       2          2   \n",
       "top              NaN  2016-03-10 15:36:24  Ford_Fiesta  privat    Angebot   \n",
       "freq             NaN                    3           78   49999      49999   \n",
       "mean    24999.500000                  NaN          NaN     NaN        NaN   \n",
       "std     14433.901067                  NaN          NaN     NaN        NaN   \n",
       "min         0.000000                  NaN          NaN     NaN        NaN   \n",
       "25%     12499.750000                  NaN          NaN     NaN        NaN   \n",
       "50%     24999.500000                  NaN          NaN     NaN        NaN   \n",
       "75%     37499.250000                  NaN          NaN     NaN        NaN   \n",
       "max     49999.000000                  NaN          NaN     NaN        NaN   \n",
       "\n",
       "        price abtest vehicle_type  registration_year  gearbox  \\\n",
       "count   50000  50000        44905       50000.000000    47320   \n",
       "unique   2357      2            8                NaN        2   \n",
       "top        $0   test    limousine                NaN  manuell   \n",
       "freq     1421  25756        12859                NaN    36993   \n",
       "mean      NaN    NaN          NaN        2005.073280      NaN   \n",
       "std       NaN    NaN          NaN         105.712813      NaN   \n",
       "min       NaN    NaN          NaN        1000.000000      NaN   \n",
       "25%       NaN    NaN          NaN        1999.000000      NaN   \n",
       "50%       NaN    NaN          NaN        2003.000000      NaN   \n",
       "75%       NaN    NaN          NaN        2008.000000      NaN   \n",
       "max       NaN    NaN          NaN        9999.000000      NaN   \n",
       "\n",
       "               ...           model   odometer registration_month  fuel_type  \\\n",
       "count          ...           47242      50000       50000.000000      45518   \n",
       "unique         ...             245         13                NaN          7   \n",
       "top            ...            golf  150,000km                NaN     benzin   \n",
       "freq           ...            4024      32424                NaN      30107   \n",
       "mean           ...             NaN        NaN           5.723360        NaN   \n",
       "std            ...             NaN        NaN           3.711984        NaN   \n",
       "min            ...             NaN        NaN           0.000000        NaN   \n",
       "25%            ...             NaN        NaN           3.000000        NaN   \n",
       "50%            ...             NaN        NaN           6.000000        NaN   \n",
       "75%            ...             NaN        NaN           9.000000        NaN   \n",
       "max            ...             NaN        NaN          12.000000        NaN   \n",
       "\n",
       "             brand unrepaired_demage           ad_created nr_of_pictures  \\\n",
       "count        50000             40171                50000        50000.0   \n",
       "unique          40                 2                   76            NaN   \n",
       "top     volkswagen              nein  2016-04-03 00:00:00            NaN   \n",
       "freq         10687             35232                 1946            NaN   \n",
       "mean           NaN               NaN                  NaN            0.0   \n",
       "std            NaN               NaN                  NaN            0.0   \n",
       "min            NaN               NaN                  NaN            0.0   \n",
       "25%            NaN               NaN                  NaN            0.0   \n",
       "50%            NaN               NaN                  NaN            0.0   \n",
       "75%            NaN               NaN                  NaN            0.0   \n",
       "max            NaN               NaN                  NaN            0.0   \n",
       "\n",
       "         postal_code            last_seen  \n",
       "count   50000.000000                50000  \n",
       "unique           NaN                39481  \n",
       "top              NaN  2016-04-07 06:17:27  \n",
       "freq             NaN                    8  \n",
       "mean    50813.627300                  NaN  \n",
       "std     25779.747957                  NaN  \n",
       "min      1067.000000                  NaN  \n",
       "25%     30451.000000                  NaN  \n",
       "50%     49577.000000                  NaN  \n",
       "75%     71540.000000                  NaN  \n",
       "max     99998.000000                  NaN  \n",
       "\n",
       "[11 rows x 21 columns]"
      ]
     },
     "execution_count": 223,
     "metadata": {},
     "output_type": "execute_result"
    }
   ],
   "source": [
    "autos.describe(include = \"all\")"
   ]
  },
  {
   "cell_type": "markdown",
   "metadata": {},
   "source": [
    "### Findings:\n",
    "\n",
    "- There are a number of text columns where all (or nearly all) of the values are the same: seller, offer_type, and nr_of_pictures. These are likely candidates to be dropped.\n",
    "- The price and odometer_km variables contain non-numeric characters. Also, the object appears to be stored as an object - probably as a string. These variables can be cleaned then coerced into a numeric dtype. \n",
    "- Since the listings were from Germany it seems likely that the values are euros, not dollars. So I will address this by changing price into price_euros, and odometers into odometer_km since Europeans use kilometers instead of miles. "
   ]
  },
  {
   "cell_type": "code",
   "execution_count": 224,
   "metadata": {},
   "outputs": [],
   "source": [
    "#removing non-numeric characters and renaming the variables\n",
    "autos[\"price\"] = autos[\"price\"].str.replace(\"$\", \"\").str.replace(\",\", \"\").astype(int)\n",
    "autos.rename({\"price\" : \"price_euro\"}, axis = 1, inplace = True)"
   ]
  },
  {
   "cell_type": "code",
   "execution_count": 225,
   "metadata": {},
   "outputs": [],
   "source": [
    "autos[\"odometer\"] = autos[\"odometer\"].str.replace(\"km\", \"\").str.replace(\",\", \"\").astype(int)\n",
    "autos.rename({\"odometer\": \"odometer_km\"}, axis = 1, inplace = True)"
   ]
  },
  {
   "cell_type": "code",
   "execution_count": 226,
   "metadata": {},
   "outputs": [
    {
     "data": {
      "text/html": [
       "<div>\n",
       "<style scoped>\n",
       "    .dataframe tbody tr th:only-of-type {\n",
       "        vertical-align: middle;\n",
       "    }\n",
       "\n",
       "    .dataframe tbody tr th {\n",
       "        vertical-align: top;\n",
       "    }\n",
       "\n",
       "    .dataframe thead th {\n",
       "        text-align: right;\n",
       "    }\n",
       "</style>\n",
       "<table border=\"1\" class=\"dataframe\">\n",
       "  <thead>\n",
       "    <tr style=\"text-align: right;\">\n",
       "      <th></th>\n",
       "      <th>odometer_km</th>\n",
       "      <th>price_euro</th>\n",
       "    </tr>\n",
       "  </thead>\n",
       "  <tbody>\n",
       "    <tr>\n",
       "      <th>0</th>\n",
       "      <td>150000</td>\n",
       "      <td>5000</td>\n",
       "    </tr>\n",
       "    <tr>\n",
       "      <th>1</th>\n",
       "      <td>150000</td>\n",
       "      <td>8500</td>\n",
       "    </tr>\n",
       "    <tr>\n",
       "      <th>2</th>\n",
       "      <td>70000</td>\n",
       "      <td>8990</td>\n",
       "    </tr>\n",
       "    <tr>\n",
       "      <th>3</th>\n",
       "      <td>70000</td>\n",
       "      <td>4350</td>\n",
       "    </tr>\n",
       "    <tr>\n",
       "      <th>4</th>\n",
       "      <td>150000</td>\n",
       "      <td>1350</td>\n",
       "    </tr>\n",
       "  </tbody>\n",
       "</table>\n",
       "</div>"
      ],
      "text/plain": [
       "   odometer_km  price_euro\n",
       "0       150000        5000\n",
       "1       150000        8500\n",
       "2        70000        8990\n",
       "3        70000        4350\n",
       "4       150000        1350"
      ]
     },
     "execution_count": 226,
     "metadata": {},
     "output_type": "execute_result"
    }
   ],
   "source": [
    "autos[[\"odometer_km\", \"price_euro\"]].head()"
   ]
  },
  {
   "cell_type": "code",
   "execution_count": 227,
   "metadata": {},
   "outputs": [],
   "source": [
    "#dropping variables\n",
    "autos.drop([\"seller\", \"offer_type\",\"nr_of_pictures\"], axis = 1, inplace = True)"
   ]
  },
  {
   "cell_type": "markdown",
   "metadata": {},
   "source": [
    "Now, I want to take a closer look into the price and odometer variables to see if I can find any outliers."
   ]
  },
  {
   "cell_type": "code",
   "execution_count": 228,
   "metadata": {},
   "outputs": [
    {
     "data": {
      "text/plain": [
       "150000    32424\n",
       "125000     5170\n",
       "100000     2169\n",
       "90000      1757\n",
       "80000      1436\n",
       "70000      1230\n",
       "60000      1164\n",
       "50000      1027\n",
       "5000        967\n",
       "40000       819\n",
       "30000       789\n",
       "20000       784\n",
       "10000       264\n",
       "Name: odometer_km, dtype: int64"
      ]
     },
     "execution_count": 228,
     "metadata": {},
     "output_type": "execute_result"
    }
   ],
   "source": [
    "autos[\"odometer_km\"].value_counts()"
   ]
  },
  {
   "cell_type": "code",
   "execution_count": 229,
   "metadata": {},
   "outputs": [
    {
     "name": "stdout",
     "output_type": "stream",
     "text": [
      "13 unique values\n",
      "count     50000.000000\n",
      "mean     125732.700000\n",
      "std       40042.211706\n",
      "min        5000.000000\n",
      "25%      125000.000000\n",
      "50%      150000.000000\n",
      "75%      150000.000000\n",
      "max      150000.000000\n",
      "Name: odometer_km, dtype: float64\n"
     ]
    }
   ],
   "source": [
    "print(str(autos[\"odometer_km\"].unique().shape[0]) + \" unique values\")\n",
    "print(autos[\"odometer_km\"].describe())"
   ]
  },
  {
   "cell_type": "code",
   "execution_count": 230,
   "metadata": {},
   "outputs": [
    {
     "data": {
      "text/plain": [
       "0       1421\n",
       "500      781\n",
       "1500     734\n",
       "2500     643\n",
       "1000     639\n",
       "1200     639\n",
       "600      531\n",
       "800      498\n",
       "3500     498\n",
       "2000     460\n",
       "999      434\n",
       "750      433\n",
       "900      420\n",
       "650      419\n",
       "850      410\n",
       "700      395\n",
       "4500     394\n",
       "300      384\n",
       "2200     382\n",
       "950      379\n",
       "Name: price_euro, dtype: int64"
      ]
     },
     "execution_count": 230,
     "metadata": {},
     "output_type": "execute_result"
    }
   ],
   "source": [
    "autos[\"price_euro\"].value_counts().head(20)"
   ]
  },
  {
   "cell_type": "code",
   "execution_count": 231,
   "metadata": {},
   "outputs": [
    {
     "name": "stdout",
     "output_type": "stream",
     "text": [
      "2357 unique values\n",
      "count    5.000000e+04\n",
      "mean     9.840044e+03\n",
      "std      4.811044e+05\n",
      "min      0.000000e+00\n",
      "25%      1.100000e+03\n",
      "50%      2.950000e+03\n",
      "75%      7.200000e+03\n",
      "max      1.000000e+08\n",
      "Name: price_euro, dtype: float64\n"
     ]
    }
   ],
   "source": [
    "print(str(autos[\"price_euro\"].unique().shape[0]) + \" unique values\")\n",
    "print(autos[\"price_euro\"].describe())"
   ]
  },
  {
   "cell_type": "markdown",
   "metadata": {},
   "source": [
    "### Findings:\n",
    "\n",
    "- The odometer variable has only rounded numbers. This probably isnt an error but a result of eBay's preset options. The website gives sellers a select number of options to choose from when listing their products.\n",
    "- Most of the cars are used with a fair amount of mileage on them.\n",
    "- A lot of cars are listed at price 0. This is mostly due to eBay being an auctioning site. Therefore, it seems probable that some of the cars captured in the dataset were intially 0 euros before bidding. But there are some suspicious values: the max is 1e8, which seems a bit too high so I'll do some more digging."
   ]
  },
  {
   "cell_type": "code",
   "execution_count": 232,
   "metadata": {},
   "outputs": [
    {
     "data": {
      "text/plain": [
       "99999999    0.00002\n",
       "27322222    0.00002\n",
       "12345678    0.00006\n",
       "11111111    0.00004\n",
       "10000000    0.00002\n",
       "3890000     0.00002\n",
       "1300000     0.00002\n",
       "1234566     0.00002\n",
       "999999      0.00004\n",
       "999990      0.00002\n",
       "350000      0.00002\n",
       "345000      0.00002\n",
       "299000      0.00002\n",
       "295000      0.00002\n",
       "265000      0.00002\n",
       "259000      0.00002\n",
       "250000      0.00002\n",
       "220000      0.00002\n",
       "198000      0.00002\n",
       "197000      0.00002\n",
       "Name: price_euro, dtype: float64"
      ]
     },
     "execution_count": 232,
     "metadata": {},
     "output_type": "execute_result"
    }
   ],
   "source": [
    "autos[\"price_euro\"].value_counts(normalize = True).sort_index(ascending = False).head(20)"
   ]
  },
  {
   "cell_type": "code",
   "execution_count": 233,
   "metadata": {},
   "outputs": [
    {
     "data": {
      "text/plain": [
       "0     0.02842\n",
       "1     0.00312\n",
       "2     0.00006\n",
       "3     0.00002\n",
       "5     0.00004\n",
       "8     0.00002\n",
       "9     0.00002\n",
       "10    0.00014\n",
       "11    0.00004\n",
       "12    0.00006\n",
       "13    0.00004\n",
       "14    0.00002\n",
       "15    0.00004\n",
       "17    0.00006\n",
       "18    0.00002\n",
       "20    0.00008\n",
       "25    0.00010\n",
       "29    0.00002\n",
       "30    0.00014\n",
       "35    0.00002\n",
       "Name: price_euro, dtype: float64"
      ]
     },
     "execution_count": 233,
     "metadata": {},
     "output_type": "execute_result"
    }
   ],
   "source": [
    "autos[\"price_euro\"].value_counts(normalize = True).sort_index(ascending = True).head(20)"
   ]
  },
  {
   "cell_type": "markdown",
   "metadata": {},
   "source": [
    "It looks like the values jump drastically from 350,000 to 100,000,000 - which likely is due to an error. Therefore, I am going to remove values greater than 350,000 euros and keep everything below it."
   ]
  },
  {
   "cell_type": "code",
   "execution_count": 234,
   "metadata": {},
   "outputs": [
    {
     "data": {
      "text/plain": [
       "count     49986.000000\n",
       "mean       5721.525167\n",
       "std        8983.617820\n",
       "min           0.000000\n",
       "25%        1100.000000\n",
       "50%        2950.000000\n",
       "75%        7200.000000\n",
       "max      350000.000000\n",
       "Name: price_euro, dtype: float64"
      ]
     },
     "execution_count": 234,
     "metadata": {},
     "output_type": "execute_result"
    }
   ],
   "source": [
    "autos = autos[autos[\"price_euro\"].between(0,351000)]\n",
    "autos[\"price_euro\"].describe()"
   ]
  },
  {
   "cell_type": "markdown",
   "metadata": {},
   "source": [
    "## Exploring the date columns\n",
    "\n",
    "There are a number of columns with date information: date_crawled, registration_month, registration_year, ad_created, and last_seen. These are a combination of dates that were crawled, and dates with meta-data information attatched to them from the crawler. The non-registration dates are stored as strings.\n",
    "\n",
    "We'll explore each of these columns to learn more about the listings."
   ]
  },
  {
   "cell_type": "code",
   "execution_count": 235,
   "metadata": {},
   "outputs": [
    {
     "data": {
      "text/html": [
       "<div>\n",
       "<style scoped>\n",
       "    .dataframe tbody tr th:only-of-type {\n",
       "        vertical-align: middle;\n",
       "    }\n",
       "\n",
       "    .dataframe tbody tr th {\n",
       "        vertical-align: top;\n",
       "    }\n",
       "\n",
       "    .dataframe thead th {\n",
       "        text-align: right;\n",
       "    }\n",
       "</style>\n",
       "<table border=\"1\" class=\"dataframe\">\n",
       "  <thead>\n",
       "    <tr style=\"text-align: right;\">\n",
       "      <th></th>\n",
       "      <th>ad_created</th>\n",
       "      <th>date_crawled</th>\n",
       "      <th>registration_year</th>\n",
       "      <th>registration_month</th>\n",
       "      <th>last_seen</th>\n",
       "    </tr>\n",
       "  </thead>\n",
       "  <tbody>\n",
       "    <tr>\n",
       "      <th>count</th>\n",
       "      <td>49986</td>\n",
       "      <td>49986</td>\n",
       "      <td>49986.000000</td>\n",
       "      <td>49986.000000</td>\n",
       "      <td>49986</td>\n",
       "    </tr>\n",
       "    <tr>\n",
       "      <th>unique</th>\n",
       "      <td>76</td>\n",
       "      <td>48200</td>\n",
       "      <td>NaN</td>\n",
       "      <td>NaN</td>\n",
       "      <td>39472</td>\n",
       "    </tr>\n",
       "    <tr>\n",
       "      <th>top</th>\n",
       "      <td>2016-04-03 00:00:00</td>\n",
       "      <td>2016-03-27 22:55:05</td>\n",
       "      <td>NaN</td>\n",
       "      <td>NaN</td>\n",
       "      <td>2016-04-07 06:17:27</td>\n",
       "    </tr>\n",
       "    <tr>\n",
       "      <th>freq</th>\n",
       "      <td>1946</td>\n",
       "      <td>3</td>\n",
       "      <td>NaN</td>\n",
       "      <td>NaN</td>\n",
       "      <td>8</td>\n",
       "    </tr>\n",
       "    <tr>\n",
       "      <th>mean</th>\n",
       "      <td>NaN</td>\n",
       "      <td>NaN</td>\n",
       "      <td>2005.075721</td>\n",
       "      <td>5.723723</td>\n",
       "      <td>NaN</td>\n",
       "    </tr>\n",
       "    <tr>\n",
       "      <th>std</th>\n",
       "      <td>NaN</td>\n",
       "      <td>NaN</td>\n",
       "      <td>105.727161</td>\n",
       "      <td>3.711839</td>\n",
       "      <td>NaN</td>\n",
       "    </tr>\n",
       "    <tr>\n",
       "      <th>min</th>\n",
       "      <td>NaN</td>\n",
       "      <td>NaN</td>\n",
       "      <td>1000.000000</td>\n",
       "      <td>0.000000</td>\n",
       "      <td>NaN</td>\n",
       "    </tr>\n",
       "    <tr>\n",
       "      <th>25%</th>\n",
       "      <td>NaN</td>\n",
       "      <td>NaN</td>\n",
       "      <td>1999.000000</td>\n",
       "      <td>3.000000</td>\n",
       "      <td>NaN</td>\n",
       "    </tr>\n",
       "    <tr>\n",
       "      <th>50%</th>\n",
       "      <td>NaN</td>\n",
       "      <td>NaN</td>\n",
       "      <td>2003.000000</td>\n",
       "      <td>6.000000</td>\n",
       "      <td>NaN</td>\n",
       "    </tr>\n",
       "    <tr>\n",
       "      <th>75%</th>\n",
       "      <td>NaN</td>\n",
       "      <td>NaN</td>\n",
       "      <td>2008.000000</td>\n",
       "      <td>9.000000</td>\n",
       "      <td>NaN</td>\n",
       "    </tr>\n",
       "    <tr>\n",
       "      <th>max</th>\n",
       "      <td>NaN</td>\n",
       "      <td>NaN</td>\n",
       "      <td>9999.000000</td>\n",
       "      <td>12.000000</td>\n",
       "      <td>NaN</td>\n",
       "    </tr>\n",
       "  </tbody>\n",
       "</table>\n",
       "</div>"
      ],
      "text/plain": [
       "                 ad_created         date_crawled  registration_year  \\\n",
       "count                 49986                49986       49986.000000   \n",
       "unique                   76                48200                NaN   \n",
       "top     2016-04-03 00:00:00  2016-03-27 22:55:05                NaN   \n",
       "freq                   1946                    3                NaN   \n",
       "mean                    NaN                  NaN        2005.075721   \n",
       "std                     NaN                  NaN         105.727161   \n",
       "min                     NaN                  NaN        1000.000000   \n",
       "25%                     NaN                  NaN        1999.000000   \n",
       "50%                     NaN                  NaN        2003.000000   \n",
       "75%                     NaN                  NaN        2008.000000   \n",
       "max                     NaN                  NaN        9999.000000   \n",
       "\n",
       "        registration_month            last_seen  \n",
       "count         49986.000000                49986  \n",
       "unique                 NaN                39472  \n",
       "top                    NaN  2016-04-07 06:17:27  \n",
       "freq                   NaN                    8  \n",
       "mean              5.723723                  NaN  \n",
       "std               3.711839                  NaN  \n",
       "min               0.000000                  NaN  \n",
       "25%               3.000000                  NaN  \n",
       "50%               6.000000                  NaN  \n",
       "75%               9.000000                  NaN  \n",
       "max              12.000000                  NaN  "
      ]
     },
     "execution_count": 235,
     "metadata": {},
     "output_type": "execute_result"
    }
   ],
   "source": [
    "autos[[\"ad_created\",\n",
    "       \"date_crawled\", \n",
    "       \"registration_year\", \n",
    "       \"registration_month\", \"last_seen\"]].describe(include = \"all\")"
   ]
  },
  {
   "cell_type": "code",
   "execution_count": 236,
   "metadata": {},
   "outputs": [
    {
     "name": "stdout",
     "output_type": "stream",
     "text": [
      "<class 'pandas.core.frame.DataFrame'>\n",
      "Int64Index: 49986 entries, 0 to 49999\n",
      "Data columns (total 5 columns):\n",
      "ad_created            49986 non-null object\n",
      "date_crawled          49986 non-null object\n",
      "registration_year     49986 non-null int64\n",
      "registration_month    49986 non-null int64\n",
      "last_seen             49986 non-null object\n",
      "dtypes: int64(2), object(3)\n",
      "memory usage: 1.7+ MB\n"
     ]
    }
   ],
   "source": [
    "autos[[\"ad_created\",\n",
    "       \"date_crawled\", \n",
    "       \"registration_year\", \n",
    "       \"registration_month\", \"last_seen\"]].info()"
   ]
  },
  {
   "cell_type": "code",
   "execution_count": 237,
   "metadata": {},
   "outputs": [
    {
     "data": {
      "text/html": [
       "<div>\n",
       "<style scoped>\n",
       "    .dataframe tbody tr th:only-of-type {\n",
       "        vertical-align: middle;\n",
       "    }\n",
       "\n",
       "    .dataframe tbody tr th {\n",
       "        vertical-align: top;\n",
       "    }\n",
       "\n",
       "    .dataframe thead th {\n",
       "        text-align: right;\n",
       "    }\n",
       "</style>\n",
       "<table border=\"1\" class=\"dataframe\">\n",
       "  <thead>\n",
       "    <tr style=\"text-align: right;\">\n",
       "      <th></th>\n",
       "      <th>ad_created</th>\n",
       "      <th>date_crawled</th>\n",
       "      <th>last_seen</th>\n",
       "    </tr>\n",
       "  </thead>\n",
       "  <tbody>\n",
       "    <tr>\n",
       "      <th>0</th>\n",
       "      <td>2016-03-26 00:00:00</td>\n",
       "      <td>2016-03-26 17:47:46</td>\n",
       "      <td>2016-04-06 06:45:54</td>\n",
       "    </tr>\n",
       "    <tr>\n",
       "      <th>1</th>\n",
       "      <td>2016-04-04 00:00:00</td>\n",
       "      <td>2016-04-04 13:38:56</td>\n",
       "      <td>2016-04-06 14:45:08</td>\n",
       "    </tr>\n",
       "    <tr>\n",
       "      <th>2</th>\n",
       "      <td>2016-03-26 00:00:00</td>\n",
       "      <td>2016-03-26 18:57:24</td>\n",
       "      <td>2016-04-06 20:15:37</td>\n",
       "    </tr>\n",
       "    <tr>\n",
       "      <th>3</th>\n",
       "      <td>2016-03-12 00:00:00</td>\n",
       "      <td>2016-03-12 16:58:10</td>\n",
       "      <td>2016-03-15 03:16:28</td>\n",
       "    </tr>\n",
       "    <tr>\n",
       "      <th>4</th>\n",
       "      <td>2016-04-01 00:00:00</td>\n",
       "      <td>2016-04-01 14:38:50</td>\n",
       "      <td>2016-04-01 14:38:50</td>\n",
       "    </tr>\n",
       "  </tbody>\n",
       "</table>\n",
       "</div>"
      ],
      "text/plain": [
       "            ad_created         date_crawled            last_seen\n",
       "0  2016-03-26 00:00:00  2016-03-26 17:47:46  2016-04-06 06:45:54\n",
       "1  2016-04-04 00:00:00  2016-04-04 13:38:56  2016-04-06 14:45:08\n",
       "2  2016-03-26 00:00:00  2016-03-26 18:57:24  2016-04-06 20:15:37\n",
       "3  2016-03-12 00:00:00  2016-03-12 16:58:10  2016-03-15 03:16:28\n",
       "4  2016-04-01 00:00:00  2016-04-01 14:38:50  2016-04-01 14:38:50"
      ]
     },
     "execution_count": 237,
     "metadata": {},
     "output_type": "execute_result"
    }
   ],
   "source": [
    "autos[[\"ad_created\",\n",
    "       \"date_crawled\", \n",
    "      \"last_seen\"]].head()"
   ]
  },
  {
   "cell_type": "markdown",
   "metadata": {},
   "source": [
    "The first ten characters of the ad_created, date_created, and last_seen variable are the year, month, and day; the rest of the characters are meta-data and will be removed."
   ]
  },
  {
   "cell_type": "code",
   "execution_count": 238,
   "metadata": {},
   "outputs": [
    {
     "data": {
      "text/plain": [
       "2015-06-11    0.000020\n",
       "2015-08-10    0.000020\n",
       "2015-09-09    0.000020\n",
       "2015-11-10    0.000020\n",
       "2015-12-05    0.000020\n",
       "2015-12-30    0.000020\n",
       "2016-01-03    0.000020\n",
       "2016-01-07    0.000020\n",
       "2016-01-10    0.000040\n",
       "2016-01-13    0.000020\n",
       "2016-01-14    0.000020\n",
       "2016-01-16    0.000020\n",
       "2016-01-22    0.000020\n",
       "2016-01-27    0.000060\n",
       "2016-01-29    0.000020\n",
       "2016-02-01    0.000020\n",
       "2016-02-02    0.000040\n",
       "2016-02-05    0.000040\n",
       "2016-02-07    0.000020\n",
       "2016-02-08    0.000020\n",
       "2016-02-09    0.000040\n",
       "2016-02-11    0.000020\n",
       "2016-02-12    0.000060\n",
       "2016-02-14    0.000040\n",
       "2016-02-16    0.000020\n",
       "2016-02-17    0.000020\n",
       "2016-02-18    0.000040\n",
       "2016-02-19    0.000060\n",
       "2016-02-20    0.000040\n",
       "2016-02-21    0.000060\n",
       "                ...   \n",
       "2016-03-09    0.033229\n",
       "2016-03-10    0.031869\n",
       "2016-03-11    0.032789\n",
       "2016-03-12    0.036610\n",
       "2016-03-13    0.016925\n",
       "2016-03-14    0.035230\n",
       "2016-03-15    0.033749\n",
       "2016-03-16    0.030008\n",
       "2016-03-17    0.031189\n",
       "2016-03-18    0.013724\n",
       "2016-03-19    0.033849\n",
       "2016-03-20    0.037871\n",
       "2016-03-21    0.037691\n",
       "2016-03-22    0.032769\n",
       "2016-03-23    0.032189\n",
       "2016-03-24    0.029088\n",
       "2016-03-25    0.031889\n",
       "2016-03-26    0.032569\n",
       "2016-03-27    0.030909\n",
       "2016-03-28    0.034970\n",
       "2016-03-29    0.034110\n",
       "2016-03-30    0.033449\n",
       "2016-03-31    0.031909\n",
       "2016-04-01    0.033809\n",
       "2016-04-02    0.035090\n",
       "2016-04-03    0.038931\n",
       "2016-04-04    0.036850\n",
       "2016-04-05    0.011843\n",
       "2016-04-06    0.003261\n",
       "2016-04-07    0.001280\n",
       "Name: ad_created, Length: 76, dtype: float64"
      ]
     },
     "execution_count": 238,
     "metadata": {},
     "output_type": "execute_result"
    }
   ],
   "source": [
    "#looking at the first 10 characters and viewing their relative frequencies\n",
    "autos[\"ad_created\"].str[:10].value_counts(normalize = True, dropna = False).sort_index(ascending = True)"
   ]
  },
  {
   "cell_type": "code",
   "execution_count": 239,
   "metadata": {},
   "outputs": [
    {
     "data": {
      "text/plain": [
       "2016-01-13    0.000020\n",
       "2016-02-01    0.000020\n",
       "2016-01-03    0.000020\n",
       "2016-01-14    0.000020\n",
       "2016-02-07    0.000020\n",
       "2016-01-07    0.000020\n",
       "2016-02-16    0.000020\n",
       "2015-08-10    0.000020\n",
       "2016-02-22    0.000020\n",
       "2016-02-08    0.000020\n",
       "2015-11-10    0.000020\n",
       "2016-01-16    0.000020\n",
       "2016-01-22    0.000020\n",
       "2016-01-29    0.000020\n",
       "2015-12-30    0.000020\n",
       "2015-12-05    0.000020\n",
       "2015-06-11    0.000020\n",
       "2016-02-11    0.000020\n",
       "2016-02-17    0.000020\n",
       "2015-09-09    0.000020\n",
       "2016-02-02    0.000040\n",
       "2016-02-20    0.000040\n",
       "2016-02-09    0.000040\n",
       "2016-02-05    0.000040\n",
       "2016-02-24    0.000040\n",
       "2016-02-26    0.000040\n",
       "2016-02-14    0.000040\n",
       "2016-01-10    0.000040\n",
       "2016-02-18    0.000040\n",
       "2016-02-12    0.000060\n",
       "                ...   \n",
       "2016-03-06    0.015124\n",
       "2016-03-13    0.016925\n",
       "2016-03-05    0.023046\n",
       "2016-03-24    0.029088\n",
       "2016-03-16    0.030008\n",
       "2016-03-27    0.030909\n",
       "2016-03-17    0.031189\n",
       "2016-03-10    0.031869\n",
       "2016-03-25    0.031889\n",
       "2016-03-31    0.031909\n",
       "2016-03-23    0.032189\n",
       "2016-03-26    0.032569\n",
       "2016-03-22    0.032769\n",
       "2016-03-11    0.032789\n",
       "2016-03-09    0.033229\n",
       "2016-03-08    0.033309\n",
       "2016-03-30    0.033449\n",
       "2016-03-15    0.033749\n",
       "2016-04-01    0.033809\n",
       "2016-03-19    0.033849\n",
       "2016-03-29    0.034110\n",
       "2016-03-07    0.034750\n",
       "2016-03-28    0.034970\n",
       "2016-04-02    0.035090\n",
       "2016-03-14    0.035230\n",
       "2016-03-12    0.036610\n",
       "2016-04-04    0.036850\n",
       "2016-03-21    0.037691\n",
       "2016-03-20    0.037871\n",
       "2016-04-03    0.038931\n",
       "Name: ad_created, Length: 76, dtype: float64"
      ]
     },
     "execution_count": 239,
     "metadata": {},
     "output_type": "execute_result"
    }
   ],
   "source": [
    "autos[\"ad_created\"].str[:10].value_counts(normalize = True, dropna = False).sort_values()"
   ]
  },
  {
   "cell_type": "markdown",
   "metadata": {},
   "source": [
    "The ads were created across a variety of dates."
   ]
  },
  {
   "cell_type": "code",
   "execution_count": 240,
   "metadata": {},
   "outputs": [
    {
     "data": {
      "text/plain": [
       "2016-03-05    0.025387\n",
       "2016-03-06    0.013944\n",
       "2016-03-07    0.035970\n",
       "2016-03-08    0.033269\n",
       "2016-03-09    0.033209\n",
       "2016-03-10    0.032129\n",
       "2016-03-11    0.032489\n",
       "2016-03-12    0.036770\n",
       "2016-03-13    0.015564\n",
       "2016-03-14    0.036630\n",
       "2016-03-15    0.033990\n",
       "2016-03-16    0.029508\n",
       "2016-03-17    0.031509\n",
       "2016-03-18    0.013064\n",
       "2016-03-19    0.034910\n",
       "2016-03-20    0.037831\n",
       "2016-03-21    0.037490\n",
       "2016-03-22    0.032909\n",
       "2016-03-23    0.032389\n",
       "2016-03-24    0.029108\n",
       "2016-03-25    0.031749\n",
       "2016-03-26    0.032489\n",
       "2016-03-27    0.031049\n",
       "2016-03-28    0.034850\n",
       "2016-03-29    0.034150\n",
       "2016-03-30    0.033629\n",
       "2016-03-31    0.031909\n",
       "2016-04-01    0.033809\n",
       "2016-04-02    0.035410\n",
       "2016-04-03    0.038691\n",
       "2016-04-04    0.036490\n",
       "2016-04-05    0.013104\n",
       "2016-04-06    0.003181\n",
       "2016-04-07    0.001420\n",
       "Name: date_crawled, dtype: float64"
      ]
     },
     "execution_count": 240,
     "metadata": {},
     "output_type": "execute_result"
    }
   ],
   "source": [
    "autos[\"date_crawled\"].str[:10].value_counts(normalize=True, dropna=False).sort_index()        "
   ]
  },
  {
   "cell_type": "code",
   "execution_count": 241,
   "metadata": {},
   "outputs": [
    {
     "data": {
      "text/plain": [
       "2016-04-07    0.001420\n",
       "2016-04-06    0.003181\n",
       "2016-03-18    0.013064\n",
       "2016-04-05    0.013104\n",
       "2016-03-06    0.013944\n",
       "2016-03-13    0.015564\n",
       "2016-03-05    0.025387\n",
       "2016-03-24    0.029108\n",
       "2016-03-16    0.029508\n",
       "2016-03-27    0.031049\n",
       "2016-03-17    0.031509\n",
       "2016-03-25    0.031749\n",
       "2016-03-31    0.031909\n",
       "2016-03-10    0.032129\n",
       "2016-03-23    0.032389\n",
       "2016-03-11    0.032489\n",
       "2016-03-26    0.032489\n",
       "2016-03-22    0.032909\n",
       "2016-03-09    0.033209\n",
       "2016-03-08    0.033269\n",
       "2016-03-30    0.033629\n",
       "2016-04-01    0.033809\n",
       "2016-03-15    0.033990\n",
       "2016-03-29    0.034150\n",
       "2016-03-28    0.034850\n",
       "2016-03-19    0.034910\n",
       "2016-04-02    0.035410\n",
       "2016-03-07    0.035970\n",
       "2016-04-04    0.036490\n",
       "2016-03-14    0.036630\n",
       "2016-03-12    0.036770\n",
       "2016-03-21    0.037490\n",
       "2016-03-20    0.037831\n",
       "2016-04-03    0.038691\n",
       "Name: date_crawled, dtype: float64"
      ]
     },
     "execution_count": 241,
     "metadata": {},
     "output_type": "execute_result"
    }
   ],
   "source": [
    "autos[\"date_crawled\"].str[:10].value_counts(normalize=True, dropna=False).sort_values()        "
   ]
  },
  {
   "cell_type": "markdown",
   "metadata": {},
   "source": [
    "The dates were crawled between March and April of 2016 with regularity."
   ]
  },
  {
   "cell_type": "code",
   "execution_count": 242,
   "metadata": {},
   "outputs": [
    {
     "data": {
      "text/plain": [
       "2016-03-05    0.001080\n",
       "2016-03-06    0.004421\n",
       "2016-03-07    0.005362\n",
       "2016-03-08    0.007582\n",
       "2016-03-09    0.009843\n",
       "2016-03-10    0.010763\n",
       "2016-03-11    0.012524\n",
       "2016-03-12    0.023807\n",
       "2016-03-13    0.008983\n",
       "2016-03-14    0.012804\n",
       "2016-03-15    0.015884\n",
       "2016-03-16    0.016445\n",
       "2016-03-17    0.027928\n",
       "2016-03-18    0.007422\n",
       "2016-03-19    0.015744\n",
       "2016-03-20    0.020706\n",
       "2016-03-21    0.020726\n",
       "2016-03-22    0.021586\n",
       "2016-03-23    0.018585\n",
       "2016-03-24    0.019565\n",
       "2016-03-25    0.019205\n",
       "2016-03-26    0.016965\n",
       "2016-03-27    0.016024\n",
       "2016-03-28    0.020846\n",
       "2016-03-29    0.022326\n",
       "2016-03-30    0.024847\n",
       "2016-03-31    0.023827\n",
       "2016-04-01    0.023106\n",
       "2016-04-02    0.024887\n",
       "2016-04-03    0.025367\n",
       "2016-04-04    0.024627\n",
       "2016-04-05    0.124275\n",
       "2016-04-06    0.220982\n",
       "2016-04-07    0.130957\n",
       "Name: last_seen, dtype: float64"
      ]
     },
     "execution_count": 242,
     "metadata": {},
     "output_type": "execute_result"
    }
   ],
   "source": [
    "autos[\"last_seen\"].str[:10].value_counts(normalize=True, dropna=False).sort_index()"
   ]
  },
  {
   "cell_type": "code",
   "execution_count": 243,
   "metadata": {},
   "outputs": [
    {
     "data": {
      "text/plain": [
       "2016-03-05    0.001080\n",
       "2016-03-06    0.004421\n",
       "2016-03-07    0.005362\n",
       "2016-03-18    0.007422\n",
       "2016-03-08    0.007582\n",
       "2016-03-13    0.008983\n",
       "2016-03-09    0.009843\n",
       "2016-03-10    0.010763\n",
       "2016-03-11    0.012524\n",
       "2016-03-14    0.012804\n",
       "2016-03-19    0.015744\n",
       "2016-03-15    0.015884\n",
       "2016-03-27    0.016024\n",
       "2016-03-16    0.016445\n",
       "2016-03-26    0.016965\n",
       "2016-03-23    0.018585\n",
       "2016-03-25    0.019205\n",
       "2016-03-24    0.019565\n",
       "2016-03-20    0.020706\n",
       "2016-03-21    0.020726\n",
       "2016-03-28    0.020846\n",
       "2016-03-22    0.021586\n",
       "2016-03-29    0.022326\n",
       "2016-04-01    0.023106\n",
       "2016-03-12    0.023807\n",
       "2016-03-31    0.023827\n",
       "2016-04-04    0.024627\n",
       "2016-03-30    0.024847\n",
       "2016-04-02    0.024887\n",
       "2016-04-03    0.025367\n",
       "2016-03-17    0.027928\n",
       "2016-04-05    0.124275\n",
       "2016-04-07    0.130957\n",
       "2016-04-06    0.220982\n",
       "Name: last_seen, dtype: float64"
      ]
     },
     "execution_count": 243,
     "metadata": {},
     "output_type": "execute_result"
    }
   ],
   "source": [
    "autos[\"last_seen\"].str[:10].value_counts(normalize=True, dropna=False).sort_values()"
   ]
  },
  {
   "cell_type": "markdown",
   "metadata": {},
   "source": [
    "Without more information its hard to extract any insights from the relative frequencies of it being last seen. One thing to notice is the large proportion of viewership during March. But like I said, without more information its hard to understand why that is."
   ]
  },
  {
   "cell_type": "code",
   "execution_count": 244,
   "metadata": {},
   "outputs": [
    {
     "data": {
      "text/plain": [
       "1000    0.000020\n",
       "1001    0.000020\n",
       "1111    0.000020\n",
       "1500    0.000020\n",
       "1800    0.000040\n",
       "1910    0.000180\n",
       "1927    0.000020\n",
       "1929    0.000020\n",
       "1931    0.000020\n",
       "1934    0.000040\n",
       "1937    0.000080\n",
       "1938    0.000020\n",
       "1939    0.000020\n",
       "1941    0.000040\n",
       "1943    0.000020\n",
       "1948    0.000020\n",
       "1950    0.000060\n",
       "1951    0.000040\n",
       "1952    0.000020\n",
       "1953    0.000020\n",
       "1954    0.000040\n",
       "1955    0.000040\n",
       "1956    0.000100\n",
       "1957    0.000040\n",
       "1958    0.000080\n",
       "1959    0.000140\n",
       "1960    0.000660\n",
       "1961    0.000120\n",
       "1962    0.000080\n",
       "1963    0.000180\n",
       "          ...   \n",
       "2001    0.054055\n",
       "2002    0.050674\n",
       "2003    0.054555\n",
       "2004    0.054755\n",
       "2005    0.060317\n",
       "2006    0.054155\n",
       "2007    0.046093\n",
       "2008    0.044632\n",
       "2009    0.041952\n",
       "2010    0.031949\n",
       "2011    0.032689\n",
       "2012    0.026467\n",
       "2013    0.016125\n",
       "2014    0.013304\n",
       "2015    0.007982\n",
       "2016    0.026327\n",
       "2017    0.029048\n",
       "2018    0.009823\n",
       "2019    0.000060\n",
       "2800    0.000020\n",
       "4100    0.000020\n",
       "4500    0.000020\n",
       "4800    0.000020\n",
       "5000    0.000080\n",
       "5911    0.000020\n",
       "6200    0.000020\n",
       "8888    0.000020\n",
       "9000    0.000040\n",
       "9996    0.000020\n",
       "9999    0.000080\n",
       "Name: registration_year, Length: 97, dtype: float64"
      ]
     },
     "execution_count": 244,
     "metadata": {},
     "output_type": "execute_result"
    }
   ],
   "source": [
    "autos[\"registration_year\"].value_counts(normalize = True, dropna = False).sort_index()"
   ]
  },
  {
   "cell_type": "markdown",
   "metadata": {},
   "source": [
    "We have some suspicious values. There are years as low 1000, and as high as 9999. These are definitely mistakes and need to be addressed. Lets take a further look."
   ]
  },
  {
   "cell_type": "code",
   "execution_count": 245,
   "metadata": {},
   "outputs": [
    {
     "data": {
      "text/plain": [
       "count    49986.000000\n",
       "mean      2005.075721\n",
       "std        105.727161\n",
       "min       1000.000000\n",
       "25%       1999.000000\n",
       "50%       2003.000000\n",
       "75%       2008.000000\n",
       "max       9999.000000\n",
       "Name: registration_year, dtype: float64"
      ]
     },
     "execution_count": 245,
     "metadata": {},
     "output_type": "execute_result"
    }
   ],
   "source": [
    "autos[\"registration_year\"].describe()"
   ]
  },
  {
   "cell_type": "markdown",
   "metadata": {},
   "source": [
    "Since the listings are no later than 2016, its impossible to have any cars with a registration year later than 2016. Anything over 2016 will be removed. As for the earliest registration years, its hard to say whether some of them go back as far as 1800. It seems more likely that the listing are within the 1900's. To confirm this I will take a look at the proportion of cars between 1900 and 2016."
   ]
  },
  {
   "cell_type": "code",
   "execution_count": 246,
   "metadata": {},
   "outputs": [
    {
     "data": {
      "text/plain": [
       "0.9605889649101749"
      ]
     },
     "execution_count": 246,
     "metadata": {},
     "output_type": "execute_result"
    }
   ],
   "source": [
    "(autos[\"registration_year\"].between(1900,2016)).sum() / autos.shape[0]"
   ]
  },
  {
   "cell_type": "markdown",
   "metadata": {},
   "source": [
    "Less than 4% of the values are before 1900 and after 2016 so I'll remove them."
   ]
  },
  {
   "cell_type": "code",
   "execution_count": 247,
   "metadata": {},
   "outputs": [
    {
     "name": "stdout",
     "output_type": "stream",
     "text": [
      "count    48016.000000\n",
      "mean      2002.806002\n",
      "std          7.306212\n",
      "min       1910.000000\n",
      "25%       1999.000000\n",
      "50%       2003.000000\n",
      "75%       2008.000000\n",
      "max       2016.000000\n",
      "Name: registration_year, dtype: float64\n",
      "2000    0.069852\n",
      "2005    0.062792\n",
      "1999    0.062438\n",
      "2004    0.057002\n",
      "2003    0.056794\n",
      "2006    0.056377\n",
      "2001    0.056273\n",
      "2002    0.052753\n",
      "1998    0.051087\n",
      "2007    0.047984\n",
      "2008    0.046464\n",
      "2009    0.043673\n",
      "1997    0.042236\n",
      "2011    0.034030\n",
      "2010    0.033260\n",
      "1996    0.030073\n",
      "2012    0.027553\n",
      "2016    0.027408\n",
      "1995    0.027324\n",
      "2013    0.016786\n",
      "Name: registration_year, dtype: float64\n"
     ]
    }
   ],
   "source": [
    "autos = autos[autos[\"registration_year\"].between(1900,2016)]\n",
    "print(autos[\"registration_year\"].describe())\n",
    "\n",
    "print(autos[\"registration_year\"].value_counts(normalize = True).head(20))"
   ]
  },
  {
   "cell_type": "markdown",
   "metadata": {},
   "source": [
    "### Findings:\n",
    "\n",
    "- Without more information its hard to extract further insights from the meta-data.\n",
    "- Most of the cars have a registration year between 1995 and 2016.\n",
    "\n",
    "Now, lets do some aggregation to make comparisons across categorical variables such as brand."
   ]
  },
  {
   "cell_type": "markdown",
   "metadata": {},
   "source": [
    "## Exploring price by brand"
   ]
  },
  {
   "cell_type": "code",
   "execution_count": 248,
   "metadata": {},
   "outputs": [
    {
     "data": {
      "text/plain": [
       "volkswagen        0.212117\n",
       "bmw               0.110026\n",
       "opel              0.108172\n",
       "mercedes_benz     0.095364\n",
       "audi              0.086409\n",
       "ford              0.069768\n",
       "renault           0.047359\n",
       "peugeot           0.029532\n",
       "fiat              0.025866\n",
       "seat              0.018181\n",
       "skoda             0.016036\n",
       "mazda             0.015141\n",
       "nissan            0.015099\n",
       "citroen           0.013912\n",
       "smart             0.013912\n",
       "toyota            0.012475\n",
       "sonstige_autos    0.010892\n",
       "hyundai           0.009851\n",
       "volvo             0.009247\n",
       "mini              0.008643\n",
       "mitsubishi        0.008143\n",
       "honda             0.007852\n",
       "kia               0.007102\n",
       "alfa_romeo        0.006623\n",
       "porsche           0.006102\n",
       "suzuki            0.005915\n",
       "chevrolet         0.005706\n",
       "chrysler          0.003665\n",
       "dacia             0.002562\n",
       "daihatsu          0.002562\n",
       "jeep              0.002249\n",
       "subaru            0.002187\n",
       "land_rover        0.002041\n",
       "saab              0.001604\n",
       "jaguar            0.001583\n",
       "trabant           0.001562\n",
       "daewoo            0.001500\n",
       "rover             0.001354\n",
       "lancia            0.001083\n",
       "lada              0.000604\n",
       "Name: brand, dtype: float64"
      ]
     },
     "execution_count": 248,
     "metadata": {},
     "output_type": "execute_result"
    }
   ],
   "source": [
    "autos[\"brand\"].value_counts(normalize=True)"
   ]
  },
  {
   "cell_type": "markdown",
   "metadata": {},
   "source": [
    "### Findings:\n",
    "\n",
    "- Out of the top 5 most frequent brands in the dataset, 4 of them are German. This makes sense since the listings are from Germany. \n",
    "- Volkswagen is the most popular brand listed - over 21% of the listings!\n",
    "\n",
    "\n",
    "Since many of the brands don't have a significant percentage of listings, we will limit our analysis to brands that are of german origin only - the top 4 brands."
   ]
  },
  {
   "cell_type": "code",
   "execution_count": 249,
   "metadata": {},
   "outputs": [
    {
     "data": {
      "text/plain": [
       "volkswagen       0.212117\n",
       "bmw              0.110026\n",
       "opel             0.108172\n",
       "mercedes_benz    0.095364\n",
       "Name: brand, dtype: float64"
      ]
     },
     "execution_count": 249,
     "metadata": {},
     "output_type": "execute_result"
    }
   ],
   "source": [
    "autos[\"brand\"].value_counts(normalize = True).head(4)"
   ]
  },
  {
   "cell_type": "code",
   "execution_count": 250,
   "metadata": {},
   "outputs": [
    {
     "data": {
      "text/plain": [
       "mercedes_benz    8485\n",
       "bmw              8102\n",
       "volkswagen       5231\n",
       "opel             2876\n",
       "dtype: int64"
      ]
     },
     "execution_count": 250,
     "metadata": {},
     "output_type": "execute_result"
    }
   ],
   "source": [
    "brands = autos[\"brand\"].value_counts(normalize = True).head(4) #only german\n",
    "\n",
    "#creating empty dictionary\n",
    "brands_dict = {}\n",
    "\n",
    "#looping\n",
    "for car in brands.index:\n",
    "    #selecting cars that match german brands\n",
    "    selected = autos[autos[\"brand\"] == car]\n",
    "    #finding mean\n",
    "    mean = selected[\"price_euro\"].mean()\n",
    "    #storing car brand as key, and mean as the value\n",
    "    brands_dict[car] = int(mean)\n",
    "\n",
    "\n",
    "mean_german_prices = pd.Series(brands_dict).sort_values(ascending = False)\n",
    "mean_german_prices"
   ]
  },
  {
   "cell_type": "markdown",
   "metadata": {},
   "source": [
    "### Findings:\n",
    "\n",
    "- Mercedes-Benz and BMW are the most expensive.\n",
    "- Opel is the cheapest of the German brands.\n",
    "- Volkswagen has the middle-ground price, probably contributing to its popularity.\n",
    "\n",
    "\n",
    "Now to explore the brands by kilometers."
   ]
  },
  {
   "cell_type": "code",
   "execution_count": 253,
   "metadata": {},
   "outputs": [
    {
     "data": {
      "text/html": [
       "<div>\n",
       "<style scoped>\n",
       "    .dataframe tbody tr th:only-of-type {\n",
       "        vertical-align: middle;\n",
       "    }\n",
       "\n",
       "    .dataframe tbody tr th {\n",
       "        vertical-align: top;\n",
       "    }\n",
       "\n",
       "    .dataframe thead th {\n",
       "        text-align: right;\n",
       "    }\n",
       "</style>\n",
       "<table border=\"1\" class=\"dataframe\">\n",
       "  <thead>\n",
       "    <tr style=\"text-align: right;\">\n",
       "      <th></th>\n",
       "      <th>mean_price</th>\n",
       "      <th>mean_km</th>\n",
       "    </tr>\n",
       "  </thead>\n",
       "  <tbody>\n",
       "    <tr>\n",
       "      <th>mercedes_benz</th>\n",
       "      <td>8485</td>\n",
       "      <td>130856</td>\n",
       "    </tr>\n",
       "    <tr>\n",
       "      <th>bmw</th>\n",
       "      <td>8102</td>\n",
       "      <td>132431</td>\n",
       "    </tr>\n",
       "    <tr>\n",
       "      <th>volkswagen</th>\n",
       "      <td>5231</td>\n",
       "      <td>128724</td>\n",
       "    </tr>\n",
       "    <tr>\n",
       "      <th>opel</th>\n",
       "      <td>2876</td>\n",
       "      <td>129223</td>\n",
       "    </tr>\n",
       "  </tbody>\n",
       "</table>\n",
       "</div>"
      ],
      "text/plain": [
       "               mean_price  mean_km\n",
       "mercedes_benz        8485   130856\n",
       "bmw                  8102   132431\n",
       "volkswagen           5231   128724\n",
       "opel                 2876   129223"
      ]
     },
     "execution_count": 253,
     "metadata": {},
     "output_type": "execute_result"
    }
   ],
   "source": [
    "km_dict = {}\n",
    "\n",
    "for car in brands.index:\n",
    "    selected = autos[autos[\"brand\"] == car]\n",
    "    mean = selected[\"odometer_km\"].mean()\n",
    "    km_dict[car] = int(mean)\n",
    "\n",
    "#creating dataframe with brand info\n",
    "brand_info = pd.DataFrame(mean_german_prices, columns = [\"mean_price\"])\n",
    "mean_km = pd.Series(km_dict).sort_values(ascending = False)\n",
    "brand_info[\"mean_km\"] = mean_km\n",
    "\n",
    "brand_info"
   ]
  },
  {
   "cell_type": "markdown",
   "metadata": {},
   "source": [
    "### Findings:\n",
    "\n",
    "- There is a slight positive trend between price and km. The highest priced German brands also have the highest mileage. This slight trend could be further explored in future analyses.\n"
   ]
  },
  {
   "cell_type": "markdown",
   "metadata": {},
   "source": [
    "## Conclusion:\n",
    "\n",
    "In this analysis we cleaned the dataset by: \n",
    "- renaming columns\n",
    "- removing non-numeric values\n",
    "- coercing dtypes\n",
    "- removing outliers\n",
    "\n",
    "After cleaning the dataset we began to explore the brands by price and kilometers. We also laid the groundwork for further exploration into the meta-data, but we'll leave that for future projects. Goodbye!"
   ]
  },
  {
   "cell_type": "markdown",
   "metadata": {},
   "source": []
  }
 ],
 "metadata": {
  "kernelspec": {
   "display_name": "Python 3",
   "language": "python",
   "name": "python3"
  },
  "language_info": {
   "codemirror_mode": {
    "name": "ipython",
    "version": 3
   },
   "file_extension": ".py",
   "mimetype": "text/x-python",
   "name": "python",
   "nbconvert_exporter": "python",
   "pygments_lexer": "ipython3",
   "version": "3.6.4"
  }
 },
 "nbformat": 4,
 "nbformat_minor": 2
}
