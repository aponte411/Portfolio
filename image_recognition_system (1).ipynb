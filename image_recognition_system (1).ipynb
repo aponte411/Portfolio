{
  "nbformat": 4,
  "nbformat_minor": 0,
  "metadata": {
    "colab": {
      "name": "image_recognition_system.ipynb",
      "version": "0.3.2",
      "provenance": [],
      "collapsed_sections": []
    },
    "kernelspec": {
      "name": "python3",
      "display_name": "Python 3"
    },
    "accelerator": "GPU"
  },
  "cells": [
    {
      "metadata": {
        "id": "1PaCCIU7oJ_f",
        "colab_type": "text"
      },
      "cell_type": "markdown",
      "source": [
        "# Building an Image Recognition System Using CNN's\n",
        "\n",
        "Versions used in this notebook."
      ]
    },
    {
      "metadata": {
        "id": "ogjAcvxrxXw9",
        "colab_type": "code",
        "outputId": "9629fc5c-cebd-4d12-f504-f7a5205d43cb",
        "colab": {
          "base_uri": "https://localhost:8080/",
          "height": 35
        }
      },
      "cell_type": "code",
      "source": [
        "import pandas as pd\n",
        "import numpy as np\n",
        "%matplotlib inline\n",
        "import matplotlib.pyplot as plt\n",
        "from keras.utils.np_utils import to_categorical\n",
        "from keras.models import Sequential\n",
        "from keras.layers import Dense, Conv2D, MaxPool2D, Flatten, Dropout\n",
        "import keras.backend as K"
      ],
      "execution_count": 0,
      "outputs": [
        {
          "output_type": "stream",
          "text": [
            "Using TensorFlow backend.\n"
          ],
          "name": "stderr"
        }
      ]
    },
    {
      "metadata": {
        "id": "hTwRxmD2yL6r",
        "colab_type": "code",
        "outputId": "21cf8dc4-1d6a-4c62-944c-13c64acac78d",
        "colab": {
          "base_uri": "https://localhost:8080/",
          "height": 54
        }
      },
      "cell_type": "code",
      "source": [
        "import keras\n",
        "print(\"Using Keras version: {}\".format(keras.__version__))\n",
        "import tensorflow\n",
        "print(\"Using Tensorflow version: {}\".format(tensorflow.__version__))"
      ],
      "execution_count": 0,
      "outputs": [
        {
          "output_type": "stream",
          "text": [
            "Using Keras version: 2.2.4\n",
            "Using Tensorflow version: 1.12.0\n"
          ],
          "name": "stdout"
        }
      ]
    },
    {
      "metadata": {
        "id": "-0QAQiluyiSR",
        "colab_type": "code",
        "outputId": "da8e360c-b52e-45ef-b5d2-d88706f93887",
        "colab": {
          "base_uri": "https://localhost:8080/",
          "height": 35
        }
      },
      "cell_type": "code",
      "source": [
        "!python -V"
      ],
      "execution_count": 0,
      "outputs": [
        {
          "output_type": "stream",
          "text": [
            "Python 3.6.7\n"
          ],
          "name": "stdout"
        }
      ]
    },
    {
      "metadata": {
        "id": "H_NnKC57zM6M",
        "colab_type": "code",
        "outputId": "24af6f97-4d63-46d9-f634-ba5cb9d1cde8",
        "colab": {
          "base_uri": "https://localhost:8080/",
          "height": 528
        }
      },
      "cell_type": "code",
      "source": [
        "from tensorflow.python.client import device_lib\n",
        "device_lib.list_local_devices()"
      ],
      "execution_count": 0,
      "outputs": [
        {
          "output_type": "execute_result",
          "data": {
            "text/plain": [
              "[name: \"/device:CPU:0\"\n",
              " device_type: \"CPU\"\n",
              " memory_limit: 268435456\n",
              " locality {\n",
              " }\n",
              " incarnation: 17596082907015155366, name: \"/device:XLA_CPU:0\"\n",
              " device_type: \"XLA_CPU\"\n",
              " memory_limit: 17179869184\n",
              " locality {\n",
              " }\n",
              " incarnation: 2348671273572910438\n",
              " physical_device_desc: \"device: XLA_CPU device\", name: \"/device:XLA_GPU:0\"\n",
              " device_type: \"XLA_GPU\"\n",
              " memory_limit: 17179869184\n",
              " locality {\n",
              " }\n",
              " incarnation: 11841475214716962622\n",
              " physical_device_desc: \"device: XLA_GPU device\", name: \"/device:GPU:0\"\n",
              " device_type: \"GPU\"\n",
              " memory_limit: 11281553818\n",
              " locality {\n",
              "   bus_id: 1\n",
              "   links {\n",
              "   }\n",
              " }\n",
              " incarnation: 13769721518229418656\n",
              " physical_device_desc: \"device: 0, name: Tesla K80, pci bus id: 0000:00:04.0, compute capability: 3.7\"]"
            ]
          },
          "metadata": {
            "tags": []
          },
          "execution_count": 4
        }
      ]
    },
    {
      "metadata": {
        "id": "HbugAAk9zor7",
        "colab_type": "text"
      },
      "cell_type": "markdown",
      "source": [
        "This notebook is using Keras version 2.2.4, Tensorflow 1.12.0 using a Google Colab GPU (Tesla K80)."
      ]
    },
    {
      "metadata": {
        "id": "VpmXtgiA0aMZ",
        "colab_type": "text"
      },
      "cell_type": "markdown",
      "source": [
        "# Introduction:\n",
        "\n",
        "Greetings! In this notebook I will walk through the process of creating an image recognition system capable of classifying hand written digits and recognizing various random objects such as airplanes, dogs, cats, and frogs! \n",
        "\n",
        "# Data\n",
        "We will be using the classic MNIST dataset and the CIFAR10 dataset. The MNIST dataset consists of of 60,000 28x28 grayscale images of the 10 digits, along with a test set of 10,000 images. CIFAR consists of 50,000 32x32 color training images, labeled over 10 categories, and 10,000 test images.\n",
        "\n",
        "# Analytic plan\n",
        "\n",
        "The process will be as follows for both part 1 (MNIST) and part 2 (CIFAR10):\n",
        "\n",
        "1. Define the problem, both as a data science task and as a business objective.\n",
        "2. Choose a measure of sucess to evaluate the performance of the image recognizer (model).\n",
        "3. Decide evaluation protocol.\n",
        "4. Prepare data.\n",
        "5. Build model and evaluate on unseen images (test data).\n",
        "6. Summarize\n",
        "\n",
        "To help give this project a real world context I'll use a hypothetical business scenario with a couple of objectives (inspired by Dataweekends, link below).\n",
        "\n",
        "https://github.com/Dataweekends/zero_to_deep_learning_video\n",
        "\n",
        "# Business scenario:\n",
        "\n",
        "I have recently been hired by a shipping company to overhaul the way they route mail, parcels and packages. The first business objective is to build an image recognition system capable of recognizing the digits in the zipcode of a package, so that it can be automatically routed to the correct location. The business stakeholders would like to automate this process using a digit recognition system. \n",
        "\n",
        "The second business objective involves the shipping companies online branch. Their online branch allows people to upload images to a website that generates and prints postcards that are later shipped to their destination. The business stakeholders would like to know what images people are loading on the site in order to provide targeted advertising on the same page. The objective is to build an image recognition system capable of recognizing a few objects that are common to postcards. "
      ]
    },
    {
      "metadata": {
        "id": "mW_XCd168-vy",
        "colab_type": "text"
      },
      "cell_type": "markdown",
      "source": [
        "### Part 1, MNIST:\n",
        "\n",
        "# 1. Defining the problem\n",
        "\n",
        "Recognizing 10 digits, and 10 objects, is primarily a multiclass classification problem. Deep learning algorithms tend to shine on image classification problems, so were going to use them for our image recognizer. They work by transforming the data into a useful representation - essentially filtering and distilling the data into some desired output (in our case a probability). And while there are a variety of neural network architectures that we could choose from, for this project we will use a convolutional neural network (CNN),  since it is known to have great sucess in the field of computer vision. \n",
        "\n",
        "CNN contain convolution layers that differ from densely connected layers (Dense). While densely connect layers learn global patterns, convolution layers learn *local patterns* using small 2D windows of the features. They tend to work well because those local patterns can then be found anywhere - allowing them better recognize images that the model wasn't trained on. They also learn what is known as *hierarchies of patterns* -  which basically means they create layers of abstractions. Combining these convolution layers with pooling and dense layers, we can distill the images down to smaller representations that are useful l for making predictions.\n",
        "\n",
        "Since CNN's take as input tensors of shape (image_height, image_width, image_channels), well have to prepare the data before we input it into the model."
      ]
    },
    {
      "metadata": {
        "id": "7NVkSoQcBfC2",
        "colab_type": "text"
      },
      "cell_type": "markdown",
      "source": [
        "# 2. Choosing a measure of sucess\n",
        "\n",
        "- loss: categorical cross entropy\n",
        "- optimizer: rmsprop or adam\n",
        "- evaluation metric: accuracy\n",
        "\n",
        "# 3. Decide evaluation protocal\n",
        "\n",
        "We will divide our data into training and testing datasets. During training we set aside 10% of the data for validation. The split is 40% training, 10% validation, 50% testing."
      ]
    },
    {
      "metadata": {
        "id": "EVVVYGscCQIy",
        "colab_type": "text"
      },
      "cell_type": "markdown",
      "source": [
        "# 4. Prepare the data\n",
        "\n",
        "First well load in the data and prepare the features for the model."
      ]
    },
    {
      "metadata": {
        "id": "3vglgjdx0ppH",
        "colab_type": "code",
        "outputId": "165daa89-d9ce-47c9-9912-57bd126efdee",
        "colab": {
          "base_uri": "https://localhost:8080/",
          "height": 54
        }
      },
      "cell_type": "code",
      "source": [
        "from keras.datasets import mnist\n",
        "\n",
        "(X_train, y_train), (X_test, y_test) = mnist.load_data()\n",
        "\n",
        "print(X_train.shape, X_test.shape)\n",
        "print(y_train.shape, y_test.shape)"
      ],
      "execution_count": 0,
      "outputs": [
        {
          "output_type": "stream",
          "text": [
            "(60000, 28, 28) (10000, 28, 28)\n",
            "(60000,) (10000,)\n"
          ],
          "name": "stdout"
        }
      ]
    },
    {
      "metadata": {
        "id": "Kq9nQyTpap27",
        "colab_type": "text"
      },
      "cell_type": "markdown",
      "source": [
        "Heres what the images look like in this dataset. Each picture has 28x28 pixel dimensions."
      ]
    },
    {
      "metadata": {
        "id": "T4V_Rbh6Zyd9",
        "colab_type": "code",
        "outputId": "8111684e-7c8d-4dfa-fdf0-8cd53e01eb28",
        "colab": {
          "base_uri": "https://localhost:8080/",
          "height": 215
        }
      },
      "cell_type": "code",
      "source": [
        "# plt.imshow(X_train[0], cmap='gray')\n",
        "plt.figure(figsize=(8,3))\n",
        "for i in range(10):\n",
        "    plt.subplot(2,5,i+1)\n",
        "    plt.imshow(X_train[i])"
      ],
      "execution_count": 0,
      "outputs": [
        {
          "output_type": "display_data",
          "data": {
            "image/png": "[encoded data removed]",
            "text/plain": [
              "<matplotlib.figure.Figure at 0x7f3bea24e7b8>"
            ]
          },
          "metadata": {
            "tags": []
          }
        }
      ]
    },
    {
      "metadata": {
        "id": "7uUapuw8V-dw",
        "colab_type": "text"
      },
      "cell_type": "markdown",
      "source": [
        "With a shape of (60000, 28, 28) and (10000, 28, 28) we'll need to first reshape the features into a 4D tensor of *Batch Dimension Nonex Height 28x Width 28x Channel 1* - not including the batch dimension since well get to that later. \n",
        "\n",
        "After reshaping, we need to convert it to a float32 and divide it by 255, making all of the values between 0-1."
      ]
    },
    {
      "metadata": {
        "id": "VHkAGS6UWkjq",
        "colab_type": "code",
        "outputId": "9210bcc3-f5d9-41e8-ba2a-a48178fc1a01",
        "colab": {
          "base_uri": "https://localhost:8080/",
          "height": 35
        }
      },
      "cell_type": "code",
      "source": [
        "X_train = X_train.reshape((60000,28,28,1))\n",
        "X_test = X_test.reshape((10000,28,28,1))\n",
        "\n",
        "X_train = X_train.astype('float32')/255\n",
        "X_test = X_test.astype('float32')/255\n",
        "\n",
        "print(X_train.shape, X_test.shape)"
      ],
      "execution_count": 0,
      "outputs": [
        {
          "output_type": "stream",
          "text": [
            "(60000, 28, 28, 1) (10000, 28, 28, 1)\n"
          ],
          "name": "stdout"
        }
      ]
    },
    {
      "metadata": {
        "id": "TaA_9ioZX1pB",
        "colab_type": "text"
      },
      "cell_type": "markdown",
      "source": [
        "Now, we need to transform the target data by one-hot-encoding it using the Keras to_categorical() function. This will create a tensor of (batch dimension, 10), giving each digit class its own column."
      ]
    },
    {
      "metadata": {
        "id": "vCA3xTVRX0Dx",
        "colab_type": "code",
        "outputId": "ffb1bf14-fb18-44c8-f3f7-70a818a82499",
        "colab": {
          "base_uri": "https://localhost:8080/",
          "height": 35
        }
      },
      "cell_type": "code",
      "source": [
        "y_train = to_categorical(y_train, 10)\n",
        "y_test = to_categorical(y_test, 10)\n",
        "\n",
        "print(y_train.shape, y_test.shape)"
      ],
      "execution_count": 0,
      "outputs": [
        {
          "output_type": "stream",
          "text": [
            "(60000, 10) (10000, 10)\n"
          ],
          "name": "stdout"
        }
      ]
    },
    {
      "metadata": {
        "id": "pvAUfRrebFsi",
        "colab_type": "text"
      },
      "cell_type": "markdown",
      "source": [
        "# 5. Model the data\n",
        "\n",
        "For the first business task - creating an image recognition system - we will create a layered CNN. The process is as follows:\n",
        "\n",
        "- Build model\n",
        "- Compile and train the model\n",
        "- Evaluate model\n",
        "\n",
        "\n",
        "### Building the Model"
      ]
    },
    {
      "metadata": {
        "id": "j-BAHvAtYvrS",
        "colab_type": "code",
        "outputId": "d38e8db8-6f1b-4ee1-db17-d91c11c14943",
        "colab": {
          "base_uri": "https://localhost:8080/",
          "height": 326
        }
      },
      "cell_type": "code",
      "source": [
        "model = Sequential()\n",
        "model.add(Conv2D(32, (3, 3), activation='relu', input_shape=(28, 28, 1)))\n",
        "model.add(MaxPool2D((2, 2)))\n",
        "model.add(Conv2D(64, (3, 3), activation='relu'))\n",
        "model.add(MaxPool2D((2, 2)))\n",
        "model.add(Conv2D(64, (3, 3), activation='relu'))\n",
        "model.summary()"
      ],
      "execution_count": 0,
      "outputs": [
        {
          "output_type": "stream",
          "text": [
            "_________________________________________________________________\n",
            "Layer (type)                 Output Shape              Param #   \n",
            "=================================================================\n",
            "conv2d_1 (Conv2D)            (None, 26, 26, 32)        320       \n",
            "_________________________________________________________________\n",
            "max_pooling2d_1 (MaxPooling2 (None, 13, 13, 32)        0         \n",
            "_________________________________________________________________\n",
            "conv2d_2 (Conv2D)            (None, 11, 11, 64)        18496     \n",
            "_________________________________________________________________\n",
            "max_pooling2d_2 (MaxPooling2 (None, 5, 5, 64)          0         \n",
            "_________________________________________________________________\n",
            "conv2d_3 (Conv2D)            (None, 3, 3, 64)          36928     \n",
            "=================================================================\n",
            "Total params: 55,744\n",
            "Trainable params: 55,744\n",
            "Non-trainable params: 0\n",
            "_________________________________________________________________\n"
          ],
          "name": "stdout"
        }
      ]
    },
    {
      "metadata": {
        "id": "lbneeXGAbsMy",
        "colab_type": "text"
      },
      "cell_type": "markdown",
      "source": [
        "The architecture is as follows:\n",
        "\n",
        "- The first Conv2D layer will take in the input tensor of shape (28, 28, 1) and then produce an output of 32 neurons with a (3, 3) kernel size. The activation function is 'relu'.\n",
        "- We then add a MaxPool2D layer with a pool size of (2,2).\n",
        "- Another Conv2D layer that takes in the 32 inputs and produces 64 outputs of shape (11, 11, 64). The activation function is 'relu'.\n",
        "- We then add another MaxPool2D layer with a (2, 2) pool size. The output is now (5, 5, 64) - the height and width dimensions are shrinking.\n",
        "- Finally, another Conv2D layer with 64 neurons that outputs a tensor of (3, 3, 64). \n",
        "- The model has 55,744 parameters.\n",
        "\n",
        "We will now feed out output tensor into a densely connected classifying network. This last part will do the actual classifying."
      ]
    },
    {
      "metadata": {
        "id": "g-pRN4DhdzaF",
        "colab_type": "code",
        "outputId": "a3bd8aff-ca1c-41fd-9110-1b23f46999e1",
        "colab": {
          "base_uri": "https://localhost:8080/",
          "height": 435
        }
      },
      "cell_type": "code",
      "source": [
        "model.add(Flatten())\n",
        "model.add(Dense(64, activation='relu'))\n",
        "model.add(Dense(10, activation='softmax'))\n",
        "model.summary()"
      ],
      "execution_count": 0,
      "outputs": [
        {
          "output_type": "stream",
          "text": [
            "_________________________________________________________________\n",
            "Layer (type)                 Output Shape              Param #   \n",
            "=================================================================\n",
            "conv2d_1 (Conv2D)            (None, 26, 26, 32)        320       \n",
            "_________________________________________________________________\n",
            "max_pooling2d_1 (MaxPooling2 (None, 13, 13, 32)        0         \n",
            "_________________________________________________________________\n",
            "conv2d_2 (Conv2D)            (None, 11, 11, 64)        18496     \n",
            "_________________________________________________________________\n",
            "max_pooling2d_2 (MaxPooling2 (None, 5, 5, 64)          0         \n",
            "_________________________________________________________________\n",
            "conv2d_3 (Conv2D)            (None, 3, 3, 64)          36928     \n",
            "_________________________________________________________________\n",
            "flatten_1 (Flatten)          (None, 576)               0         \n",
            "_________________________________________________________________\n",
            "dense_1 (Dense)              (None, 64)                36928     \n",
            "_________________________________________________________________\n",
            "dense_2 (Dense)              (None, 10)                650       \n",
            "=================================================================\n",
            "Total params: 93,322\n",
            "Trainable params: 93,322\n",
            "Non-trainable params: 0\n",
            "_________________________________________________________________\n"
          ],
          "name": "stdout"
        }
      ]
    },
    {
      "metadata": {
        "id": "5QIawYGEeY8L",
        "colab_type": "text"
      },
      "cell_type": "markdown",
      "source": [
        "After the model distilled the images down to a smaller representation (a 3D tensor), it was then proccessed into a densely connected classifying network.\n",
        "\n",
        "Notice that the output tensor is of shape (3, 3, 64). Classifiers process 1D vectors, so before we use it as input, we need to flatten it out using the Keras Flatten layer. Looking above you can see that the 3D tensor was flattened to a vector of (576,), which resulted by multiplying 3*3*64=576. This transforms the 3D tensor into a 1D vector. I decided to add a few dense layers on top to increase the complexity of the model. \n",
        "\n",
        "Since we are doing a 10-class classification, the final output layer has 10 neurons with the 'softmax' activation function. \n",
        "\n",
        "The model now has 93,322 parameters.\n",
        "\n",
        "### Compiling and Training the Model\n",
        "\n",
        "For the digit recognition task we will use the 'rmsprop' optimizer. Since we are doing a classification task we will use categorical_crossentropy as our loss function that we are trying to minimize. Our evaluation metric will be accuracy.\n",
        "\n",
        "We will train the model for 5 epochs using a batch_size of 64."
      ]
    },
    {
      "metadata": {
        "id": "OQVE8gcvd9Ax",
        "colab_type": "code",
        "outputId": "299fe6fc-029b-4e32-a1ae-9fbb2e461fe4",
        "colab": {
          "base_uri": "https://localhost:8080/",
          "height": 237
        }
      },
      "cell_type": "code",
      "source": [
        "model.compile(optimizer='rmsprop',\n",
        "              loss='categorical_crossentropy',\n",
        "              metrics=['accuracy'])\n",
        "history = model.fit(X_train, y_train, epochs=5, batch_size=64, validation_split=0.1)"
      ],
      "execution_count": 0,
      "outputs": [
        {
          "output_type": "stream",
          "text": [
            "Train on 54000 samples, validate on 6000 samples\n",
            "Epoch 1/5\n",
            "54000/54000 [==============================] - 10s 190us/step - loss: 0.1856 - acc: 0.9424 - val_loss: 0.0604 - val_acc: 0.9837\n",
            "Epoch 2/5\n",
            "54000/54000 [==============================] - 9s 167us/step - loss: 0.0496 - acc: 0.9845 - val_loss: 0.0466 - val_acc: 0.9860\n",
            "Epoch 3/5\n",
            "54000/54000 [==============================] - 9s 168us/step - loss: 0.0336 - acc: 0.9898 - val_loss: 0.0370 - val_acc: 0.9902\n",
            "Epoch 4/5\n",
            "54000/54000 [==============================] - 9s 168us/step - loss: 0.0256 - acc: 0.9919 - val_loss: 0.0404 - val_acc: 0.9887\n",
            "Epoch 5/5\n",
            "54000/54000 [==============================] - 9s 168us/step - loss: 0.0201 - acc: 0.9937 - val_loss: 0.0444 - val_acc: 0.9880\n"
          ],
          "name": "stdout"
        }
      ]
    },
    {
      "metadata": {
        "id": "icriBJ5XjnUb",
        "colab_type": "text"
      },
      "cell_type": "markdown",
      "source": [
        "Lets now visualize the results of the training. We'll create a history dictionary and store the training loss and accuracy in variables so we can plot them."
      ]
    },
    {
      "metadata": {
        "id": "Pp2szP2TjDCs",
        "colab_type": "code",
        "outputId": "232168e7-1b58-49c5-ac4a-d15be2e2997b",
        "colab": {
          "base_uri": "https://localhost:8080/",
          "height": 295
        }
      },
      "cell_type": "code",
      "source": [
        "history_dict = history.history\n",
        "loss = history_dict['loss']\n",
        "val_loss = history_dict['val_loss']\n",
        "acc = history_dict['acc']\n",
        "val_acc = history_dict['val_acc']\n",
        "\n",
        "epochs = range(1,6)\n",
        "plt.plot(epochs, loss, c='r', label='Training loss')\n",
        "plt.plot(epochs, val_loss, c='b', label='Validation loss')\n",
        "plt.title('Training and Validation loss')\n",
        "plt.xlabel('Epochs')\n",
        "plt.ylabel('Loss')\n",
        "plt.legend()\n",
        "plt.show()"
      ],
      "execution_count": 0,
      "outputs": [
        {
          "output_type": "display_data",
          "data": {
            "image/png": "[encoded data removed]",
            "text/plain": [
              "<matplotlib.figure.Figure at 0x7f3be2cb9470>"
            ]
          },
          "metadata": {
            "tags": []
          }
        }
      ]
    },
    {
      "metadata": {
        "id": "RbRsBh7ok-_r",
        "colab_type": "text"
      },
      "cell_type": "markdown",
      "source": [
        "Looking at the plot above we can see that the training loss decreases rapidly over 2 epochs and then begins slow down.  This is expected since our algorithm has learned the best parameters (or best representation) to minimize error. The validation set started, and ended, with a low loss. Lets now take a look at the accuracy."
      ]
    },
    {
      "metadata": {
        "id": "VilIWw3MkE4f",
        "colab_type": "code",
        "outputId": "5fca5cbc-58bc-4a20-eb38-32777fa44085",
        "colab": {
          "base_uri": "https://localhost:8080/",
          "height": 295
        }
      },
      "cell_type": "code",
      "source": [
        "plt.plot(epochs, acc, c='r', label='Training Accuracy')\n",
        "plt.plot(epochs, val_acc, c='b', label='Validation Accuracy')\n",
        "plt.title('Training and Validation Accuracy')\n",
        "plt.xlabel('Epochs')\n",
        "plt.ylabel('Accuracy')\n",
        "plt.legend()\n",
        "plt.show()"
      ],
      "execution_count": 0,
      "outputs": [
        {
          "output_type": "display_data",
          "data": {
            "image/png": "[encoded data removed]",
            "text/plain": [
              "<matplotlib.figure.Figure at 0x7f3be041fdd8>"
            ]
          },
          "metadata": {
            "tags": []
          }
        }
      ]
    },
    {
      "metadata": {
        "id": "Nf-vXShQmBg0",
        "colab_type": "text"
      },
      "cell_type": "markdown",
      "source": [
        "The accuracy is high for both the training and the validation data, so we see that it isnt really overfitting. We end up with an accuracy 99.2% on the validation data which is excellent.\n",
        "\n",
        "I'll  now rebuild the network from scratch \n",
        "\n",
        "\n",
        "### Evaluating the Model"
      ]
    },
    {
      "metadata": {
        "id": "lwMfFkyuna2F",
        "colab_type": "code",
        "outputId": "d9bcdec9-2903-43e6-e423-f6e975baaed6",
        "colab": {
          "base_uri": "https://localhost:8080/",
          "height": 255
        }
      },
      "cell_type": "code",
      "source": [
        "model = Sequential()\n",
        "model.add(Conv2D(32, (3, 3), activation='relu', input_shape=(28, 28, 1)))\n",
        "model.add(MaxPool2D((2, 2)))\n",
        "model.add(Conv2D(64, (3, 3), activation='relu'))\n",
        "model.add(MaxPool2D((2, 2)))\n",
        "model.add(Conv2D(64, (3, 3), activation='relu'))\n",
        "model.add(Flatten())\n",
        "model.add(Dense(64, activation='relu'))\n",
        "model.add(Dense(10, activation='softmax'))\n",
        "\n",
        "model.compile(optimizer='rmsprop',\n",
        "              loss='categorical_crossentropy',\n",
        "              metrics=['accuracy'])\n",
        "\n",
        "model.fit(X_train, y_train, epochs=5, batch_size=64, validation_split=0.1)"
      ],
      "execution_count": 0,
      "outputs": [
        {
          "output_type": "stream",
          "text": [
            "Train on 54000 samples, validate on 6000 samples\n",
            "Epoch 1/5\n",
            "54000/54000 [==============================] - 9s 173us/step - loss: 0.1908 - acc: 0.9392 - val_loss: 0.0549 - val_acc: 0.9845\n",
            "Epoch 2/5\n",
            "54000/54000 [==============================] - 9s 167us/step - loss: 0.0536 - acc: 0.9836 - val_loss: 0.0435 - val_acc: 0.9875\n",
            "Epoch 3/5\n",
            "54000/54000 [==============================] - 9s 168us/step - loss: 0.0365 - acc: 0.9888 - val_loss: 0.0332 - val_acc: 0.9893\n",
            "Epoch 4/5\n",
            "54000/54000 [==============================] - 9s 168us/step - loss: 0.0273 - acc: 0.9914 - val_loss: 0.0275 - val_acc: 0.9925\n",
            "Epoch 5/5\n",
            "54000/54000 [==============================] - 9s 167us/step - loss: 0.0206 - acc: 0.9934 - val_loss: 0.0383 - val_acc: 0.9902\n"
          ],
          "name": "stdout"
        },
        {
          "output_type": "execute_result",
          "data": {
            "text/plain": [
              "<keras.callbacks.History at 0x7f3be02aedd8>"
            ]
          },
          "metadata": {
            "tags": []
          },
          "execution_count": 14
        }
      ]
    },
    {
      "metadata": {
        "id": "oP2tQM2rl3Nf",
        "colab_type": "code",
        "outputId": "359dbcd0-ff73-4736-d9c5-64b7aee72648",
        "colab": {
          "base_uri": "https://localhost:8080/",
          "height": 72
        }
      },
      "cell_type": "code",
      "source": [
        "test_loss, test_acc = model.evaluate(X_test, y_test)\n",
        "print(\"Test loss of: {}\".format(test_loss))\n",
        "print(\"Test accuracy of: {}\".format(test_acc))"
      ],
      "execution_count": 0,
      "outputs": [
        {
          "output_type": "stream",
          "text": [
            "10000/10000 [==============================] - 1s 96us/step\n",
            "Test loss of: 0.026180292200149415\n",
            "Test accuracy of: 0.9924\n"
          ],
          "name": "stdout"
        }
      ]
    },
    {
      "metadata": {
        "id": "krI33NsToVdi",
        "colab_type": "text"
      },
      "cell_type": "markdown",
      "source": [
        "The model performed very well on the unseen data - between 99.18 and 99.40% accuracy - which is excellent.\n",
        "\n",
        "This model is now ready to recognize digits. While we could further fine tune this model, experimenting with the parameters, the model is good enough to automate the zipcode tasks with a fairly high accuracy.\n",
        "\n",
        "### Part 2, CIFAR10:\n",
        "\n",
        "Now, its time to move on to the next business objective: creating an image recognizer capable of classifying different images for postcards.\n",
        "\n",
        "For this task we will use the CIFAR10 dataset. Simlar to the last task, it is a multiclass classification problem. So we will follow the same approach. The difference is the size of the dataset and the pixel dimensions (32, 32). The dateset has 10 categories: \n",
        "- airplane\n",
        "- automobile\n",
        "- bird\n",
        "- cat\n",
        "- deer\n",
        "- dog\n",
        "- frog\n",
        "- horse\n",
        "- ship\n",
        "- truck\n",
        "\n",
        "As we did with Part 1, well load in the dataset and prepare it for modeling. Our problem was already defined earlier and we have chosen the appropiate metrics and evaluation methods."
      ]
    },
    {
      "metadata": {
        "id": "X1bCojNAmnLU",
        "colab_type": "code",
        "outputId": "5cca3b53-35f5-4b1a-da58-45baac87f1ce",
        "colab": {
          "base_uri": "https://localhost:8080/",
          "height": 54
        }
      },
      "cell_type": "code",
      "source": [
        "from keras.datasets import cifar10\n",
        "\n",
        "(X_train, y_train), (X_test, y_test) = cifar10.load_data()\n",
        "\n",
        "print(X_train.shape, X_test.shape)\n",
        "print(y_train.shape, y_test.shape)"
      ],
      "execution_count": 0,
      "outputs": [
        {
          "output_type": "stream",
          "text": [
            "(50000, 32, 32, 3) (10000, 32, 32, 3)\n",
            "(50000, 1) (10000, 1)\n"
          ],
          "name": "stdout"
        }
      ]
    },
    {
      "metadata": {
        "id": "kxMEE9wRsTAb",
        "colab_type": "text"
      },
      "cell_type": "markdown",
      "source": [
        "Heres what some of the images looks like in low resolution."
      ]
    },
    {
      "metadata": {
        "id": "6105nVoIj9En",
        "colab_type": "code",
        "outputId": "efd87acd-e3c3-4c18-d370-6a75092f9ef4",
        "colab": {
          "base_uri": "https://localhost:8080/",
          "height": 215
        }
      },
      "cell_type": "code",
      "source": [
        "plt.figure(figsize=(8,3))\n",
        "for i in range(10):\n",
        "    plt.subplot(2,5,i+1)\n",
        "    plt.imshow(X_train.reshape(-1, 32, 32, 3)[i])"
      ],
      "execution_count": 0,
      "outputs": [
        {
          "output_type": "display_data",
          "data": {
            "image/png": "[encoded data removed]",
            "text/plain": [
              "<matplotlib.figure.Figure at 0x7f3be0313710>"
            ]
          },
          "metadata": {
            "tags": []
          }
        }
      ]
    },
    {
      "metadata": {
        "id": "XrOrw0_brhWy",
        "colab_type": "text"
      },
      "cell_type": "markdown",
      "source": [
        "### Preparing the data\n",
        "\n",
        "Reshaping the training and testing features into 4D tensor with a shape of (32, 32, 3). These images are colored so they have 3 channels - red, green, blue."
      ]
    },
    {
      "metadata": {
        "id": "Z_p7jY0prXJC",
        "colab_type": "code",
        "outputId": "d2bc2abb-17e5-4c96-896d-887186be3eac",
        "colab": {
          "base_uri": "https://localhost:8080/",
          "height": 35
        }
      },
      "cell_type": "code",
      "source": [
        "X_train = X_train.reshape((50000,32,32,3))\n",
        "X_test = X_test.reshape((10000,32,32,3))\n",
        "\n",
        "X_train = X_train.astype('float32')/255\n",
        "X_test = X_test.astype('float32')/255\n",
        "\n",
        "print(X_train.shape, X_test.shape)"
      ],
      "execution_count": 0,
      "outputs": [
        {
          "output_type": "stream",
          "text": [
            "(50000, 32, 32, 3) (10000, 32, 32, 3)\n"
          ],
          "name": "stdout"
        }
      ]
    },
    {
      "metadata": {
        "id": "Cxdb1YgsslMQ",
        "colab_type": "code",
        "outputId": "403bdd0c-a64f-4a53-bfba-7c6505eb175b",
        "colab": {
          "base_uri": "https://localhost:8080/",
          "height": 35
        }
      },
      "cell_type": "code",
      "source": [
        "y_train = to_categorical(y_train, 10)\n",
        "y_test = to_categorical(y_test, 10)\n",
        "\n",
        "print(y_train.shape, y_test.shape)"
      ],
      "execution_count": 0,
      "outputs": [
        {
          "output_type": "stream",
          "text": [
            "(50000, 10) (10000, 10)\n"
          ],
          "name": "stdout"
        }
      ]
    },
    {
      "metadata": {
        "id": "HMLK26PYs1Jy",
        "colab_type": "text"
      },
      "cell_type": "markdown",
      "source": [
        "Our data is now ready for modeling. Because these images are a bit more complex than handwritten digits, were going to add more complexity to this model. Im going to start off with a deep CNN  with 3 stacked convolution layers followed by max pooling. I will also include Dropout layers to reduce overfitting. I'll also increase the number of neurons (or filters) as the layers progress. Lets see how this model performs. \n",
        "\n",
        "### Build the model"
      ]
    },
    {
      "metadata": {
        "id": "3_e1mu-7-1yV",
        "colab_type": "code",
        "outputId": "c1704181-f132-4b58-bb73-27db71fe10ff",
        "colab": {
          "base_uri": "https://localhost:8080/",
          "height": 581
        }
      },
      "cell_type": "code",
      "source": [
        "K.clear_session()\n",
        "\n",
        "model = Sequential()\n",
        "model.add(Conv2D(48, (3,3), padding='same', input_shape=(32, 32, 3), activation='relu'))\n",
        "model.add(Conv2D(48, (3,3), activation='relu'))\n",
        "model.add(MaxPool2D((2,2)))\n",
        "model.add(Dropout(0.25))\n",
        "model.add(Conv2D(96, (3,3), padding='same', activation='relu'))\n",
        "model.add(Conv2D(96, (3,3), activation='relu'))\n",
        "model.add(MaxPool2D((2,2)))\n",
        "model.add(Dropout(0.25))\n",
        "model.add(Conv2D(192, (3,3), padding='same', activation='relu'))\n",
        "model.add(Conv2D(192, (3,3), activation='relu'))\n",
        "model.add(MaxPool2D((2,2)))\n",
        "model.add(Dropout(0.25))\n",
        "model.summary()"
      ],
      "execution_count": 0,
      "outputs": [
        {
          "output_type": "stream",
          "text": [
            "_________________________________________________________________\n",
            "Layer (type)                 Output Shape              Param #   \n",
            "=================================================================\n",
            "conv2d_1 (Conv2D)            (None, 32, 32, 48)        1344      \n",
            "_________________________________________________________________\n",
            "conv2d_2 (Conv2D)            (None, 30, 30, 48)        20784     \n",
            "_________________________________________________________________\n",
            "max_pooling2d_1 (MaxPooling2 (None, 15, 15, 48)        0         \n",
            "_________________________________________________________________\n",
            "dropout_1 (Dropout)          (None, 15, 15, 48)        0         \n",
            "_________________________________________________________________\n",
            "conv2d_3 (Conv2D)            (None, 15, 15, 96)        41568     \n",
            "_________________________________________________________________\n",
            "conv2d_4 (Conv2D)            (None, 13, 13, 96)        83040     \n",
            "_________________________________________________________________\n",
            "max_pooling2d_2 (MaxPooling2 (None, 6, 6, 96)          0         \n",
            "_________________________________________________________________\n",
            "dropout_2 (Dropout)          (None, 6, 6, 96)          0         \n",
            "_________________________________________________________________\n",
            "conv2d_5 (Conv2D)            (None, 6, 6, 192)         166080    \n",
            "_________________________________________________________________\n",
            "conv2d_6 (Conv2D)            (None, 4, 4, 192)         331968    \n",
            "_________________________________________________________________\n",
            "max_pooling2d_3 (MaxPooling2 (None, 2, 2, 192)         0         \n",
            "_________________________________________________________________\n",
            "dropout_3 (Dropout)          (None, 2, 2, 192)         0         \n",
            "=================================================================\n",
            "Total params: 644,784\n",
            "Trainable params: 644,784\n",
            "Non-trainable params: 0\n",
            "_________________________________________________________________\n"
          ],
          "name": "stdout"
        }
      ]
    },
    {
      "metadata": {
        "id": "WiNDVzviw6MQ",
        "colab_type": "text"
      },
      "cell_type": "markdown",
      "source": [
        "The architecture is as follows:\n",
        "\n",
        "- 3 layers of double stacked Conv2D layers, followed by a MaxPool2D layer and a Dropout layer set at 0.25.\n",
        "- The model has 644,784 parameters. \n",
        "\n",
        "So, the logic behind this model is to increase the complexity, while at the same time trying to reduce overfitting. We'll now add these layers to a densely connected classifer. For this part I'll increase the Dropout layer to 0.5 to further reduce overfitting."
      ]
    },
    {
      "metadata": {
        "id": "2CsIyq4AwL34",
        "colab_type": "code",
        "outputId": "f65b3a4f-01f5-4aa2-8439-a40665dae512",
        "colab": {
          "base_uri": "https://localhost:8080/",
          "height": 799
        }
      },
      "cell_type": "code",
      "source": [
        "model.add(Flatten())\n",
        "model.add(Dense(512, activation='relu'))\n",
        "model.add(Dropout(0.5))\n",
        "model.add(Dense(256, activation='relu'))\n",
        "model.add(Dropout(0.5))\n",
        "model.add(Dense(10, activation='softmax'))\n",
        "model.summary()"
      ],
      "execution_count": 0,
      "outputs": [
        {
          "output_type": "stream",
          "text": [
            "_________________________________________________________________\n",
            "Layer (type)                 Output Shape              Param #   \n",
            "=================================================================\n",
            "conv2d_1 (Conv2D)            (None, 32, 32, 48)        1344      \n",
            "_________________________________________________________________\n",
            "conv2d_2 (Conv2D)            (None, 30, 30, 48)        20784     \n",
            "_________________________________________________________________\n",
            "max_pooling2d_1 (MaxPooling2 (None, 15, 15, 48)        0         \n",
            "_________________________________________________________________\n",
            "dropout_1 (Dropout)          (None, 15, 15, 48)        0         \n",
            "_________________________________________________________________\n",
            "conv2d_3 (Conv2D)            (None, 15, 15, 96)        41568     \n",
            "_________________________________________________________________\n",
            "conv2d_4 (Conv2D)            (None, 13, 13, 96)        83040     \n",
            "_________________________________________________________________\n",
            "max_pooling2d_2 (MaxPooling2 (None, 6, 6, 96)          0         \n",
            "_________________________________________________________________\n",
            "dropout_2 (Dropout)          (None, 6, 6, 96)          0         \n",
            "_________________________________________________________________\n",
            "conv2d_5 (Conv2D)            (None, 6, 6, 192)         166080    \n",
            "_________________________________________________________________\n",
            "conv2d_6 (Conv2D)            (None, 4, 4, 192)         331968    \n",
            "_________________________________________________________________\n",
            "max_pooling2d_3 (MaxPooling2 (None, 2, 2, 192)         0         \n",
            "_________________________________________________________________\n",
            "dropout_3 (Dropout)          (None, 2, 2, 192)         0         \n",
            "_________________________________________________________________\n",
            "flatten_1 (Flatten)          (None, 768)               0         \n",
            "_________________________________________________________________\n",
            "dense_1 (Dense)              (None, 512)               393728    \n",
            "_________________________________________________________________\n",
            "dropout_4 (Dropout)          (None, 512)               0         \n",
            "_________________________________________________________________\n",
            "dense_2 (Dense)              (None, 256)               131328    \n",
            "_________________________________________________________________\n",
            "dropout_5 (Dropout)          (None, 256)               0         \n",
            "_________________________________________________________________\n",
            "dense_3 (Dense)              (None, 10)                2570      \n",
            "=================================================================\n",
            "Total params: 1,172,410\n",
            "Trainable params: 1,172,410\n",
            "Non-trainable params: 0\n",
            "_________________________________________________________________\n"
          ],
          "name": "stdout"
        }
      ]
    },
    {
      "metadata": {
        "id": "zeZpWXNDzuqd",
        "colab_type": "text"
      },
      "cell_type": "markdown",
      "source": [
        "The output of first part of the network is (2, 2, 192). We'll now use this as input for a Flatten layer, which turns the 3D (or 4D if youre couting the batch dimension) tensor into a vector of shape (768,).  Those 768 inputs will then produce 512 outputs using another 'relu' activation function. That output is then put into another dense layer with 256 neurons. The final Dense layer has 10 neurons and contains the 'softmax' function. \n",
        "\n",
        "I'll now compile and train the model like we did before.\n",
        "\n",
        "### Compile and Train the Model\n",
        "\n",
        "I'll use categorical_crossentropy as the loss function, but instead of 'rmsprop' were going to use 'adam' to optimize the loss function. Im also going to increase the number of training epochs to 100 and the batch size to 128. To see how well it generalizes during training, the validation split will be 10%."
      ]
    },
    {
      "metadata": {
        "id": "Kgzff7Zgw2n1",
        "colab_type": "code",
        "outputId": "b7f7ea7b-980b-4463-aaa7-05660389fb66",
        "colab": {
          "base_uri": "https://localhost:8080/",
          "height": 3692
        }
      },
      "cell_type": "code",
      "source": [
        "model.compile(optimizer='adam',\n",
        "              loss='categorical_crossentropy',\n",
        "              metrics=['accuracy'])\n",
        "history = model.fit(X_train, y_train, epochs=100, batch_size=128, validation_split=0.1)"
      ],
      "execution_count": 0,
      "outputs": [
        {
          "output_type": "stream",
          "text": [
            "Train on 45000 samples, validate on 5000 samples\n",
            "Epoch 1/100\n",
            "45000/45000 [==============================] - 20s 434us/step - loss: 1.8904 - acc: 0.2794 - val_loss: 1.5003 - val_acc: 0.4502\n",
            "Epoch 2/100\n",
            "45000/45000 [==============================] - 18s 400us/step - loss: 1.3803 - acc: 0.4961 - val_loss: 1.1114 - val_acc: 0.5964\n",
            "Epoch 3/100\n",
            "45000/45000 [==============================] - 18s 398us/step - loss: 1.1567 - acc: 0.5869 - val_loss: 0.9656 - val_acc: 0.6540\n",
            "Epoch 4/100\n",
            "45000/45000 [==============================] - 18s 400us/step - loss: 1.0265 - acc: 0.6382 - val_loss: 0.8710 - val_acc: 0.6916\n",
            "Epoch 5/100\n",
            "45000/45000 [==============================] - 18s 404us/step - loss: 0.9277 - acc: 0.6759 - val_loss: 0.7747 - val_acc: 0.7256\n",
            "Epoch 6/100\n",
            "45000/45000 [==============================] - 18s 401us/step - loss: 0.8421 - acc: 0.7061 - val_loss: 0.7520 - val_acc: 0.7402\n",
            "Epoch 7/100\n",
            "45000/45000 [==============================] - 18s 399us/step - loss: 0.7851 - acc: 0.7308 - val_loss: 0.6562 - val_acc: 0.7734\n",
            "Epoch 8/100\n",
            "45000/45000 [==============================] - 18s 402us/step - loss: 0.7269 - acc: 0.7500 - val_loss: 0.6867 - val_acc: 0.7658\n",
            "Epoch 9/100\n",
            "45000/45000 [==============================] - 18s 402us/step - loss: 0.6956 - acc: 0.7625 - val_loss: 0.6623 - val_acc: 0.7684\n",
            "Epoch 10/100\n",
            "45000/45000 [==============================] - 18s 401us/step - loss: 0.6605 - acc: 0.7739 - val_loss: 0.6612 - val_acc: 0.7674\n",
            "Epoch 11/100\n",
            "45000/45000 [==============================] - 18s 400us/step - loss: 0.6274 - acc: 0.7862 - val_loss: 0.6671 - val_acc: 0.7704\n",
            "Epoch 12/100\n",
            "45000/45000 [==============================] - 18s 403us/step - loss: 0.6138 - acc: 0.7906 - val_loss: 0.6107 - val_acc: 0.7898\n",
            "Epoch 13/100\n",
            "45000/45000 [==============================] - 18s 397us/step - loss: 0.5816 - acc: 0.8004 - val_loss: 0.5967 - val_acc: 0.7950\n",
            "Epoch 14/100\n",
            "45000/45000 [==============================] - 18s 403us/step - loss: 0.5577 - acc: 0.8087 - val_loss: 0.5911 - val_acc: 0.7986\n",
            "Epoch 15/100\n",
            "45000/45000 [==============================] - 18s 403us/step - loss: 0.5444 - acc: 0.8153 - val_loss: 0.5941 - val_acc: 0.7976\n",
            "Epoch 16/100\n",
            "45000/45000 [==============================] - 18s 400us/step - loss: 0.5292 - acc: 0.8182 - val_loss: 0.5669 - val_acc: 0.8106\n",
            "Epoch 17/100\n",
            "45000/45000 [==============================] - 18s 400us/step - loss: 0.5091 - acc: 0.8252 - val_loss: 0.5588 - val_acc: 0.8114\n",
            "Epoch 18/100\n",
            "45000/45000 [==============================] - 18s 402us/step - loss: 0.5030 - acc: 0.8278 - val_loss: 0.5761 - val_acc: 0.8052\n",
            "Epoch 19/100\n",
            "45000/45000 [==============================] - 18s 399us/step - loss: 0.4877 - acc: 0.8311 - val_loss: 0.5879 - val_acc: 0.8042\n",
            "Epoch 20/100\n",
            "45000/45000 [==============================] - 18s 399us/step - loss: 0.4808 - acc: 0.8343 - val_loss: 0.5814 - val_acc: 0.8040\n",
            "Epoch 21/100\n",
            "45000/45000 [==============================] - 18s 403us/step - loss: 0.4669 - acc: 0.8394 - val_loss: 0.5728 - val_acc: 0.8138\n",
            "Epoch 22/100\n",
            "45000/45000 [==============================] - 18s 400us/step - loss: 0.4512 - acc: 0.8467 - val_loss: 0.5555 - val_acc: 0.8206\n",
            "Epoch 23/100\n",
            "45000/45000 [==============================] - 18s 404us/step - loss: 0.4476 - acc: 0.8473 - val_loss: 0.5867 - val_acc: 0.8110\n",
            "Epoch 24/100\n",
            "45000/45000 [==============================] - 18s 400us/step - loss: 0.4360 - acc: 0.8486 - val_loss: 0.5774 - val_acc: 0.8170\n",
            "Epoch 25/100\n",
            "45000/45000 [==============================] - 18s 401us/step - loss: 0.4267 - acc: 0.8548 - val_loss: 0.5745 - val_acc: 0.8102\n",
            "Epoch 26/100\n",
            "45000/45000 [==============================] - 18s 402us/step - loss: 0.4204 - acc: 0.8567 - val_loss: 0.5523 - val_acc: 0.8194\n",
            "Epoch 27/100\n",
            "45000/45000 [==============================] - 18s 403us/step - loss: 0.4177 - acc: 0.8588 - val_loss: 0.5775 - val_acc: 0.8122\n",
            "Epoch 28/100\n",
            "45000/45000 [==============================] - 18s 403us/step - loss: 0.4043 - acc: 0.8611 - val_loss: 0.5837 - val_acc: 0.8136\n",
            "Epoch 29/100\n",
            "45000/45000 [==============================] - 18s 402us/step - loss: 0.4009 - acc: 0.8646 - val_loss: 0.6015 - val_acc: 0.8104\n",
            "Epoch 30/100\n",
            "45000/45000 [==============================] - 18s 401us/step - loss: 0.3854 - acc: 0.8678 - val_loss: 0.5378 - val_acc: 0.8234\n",
            "Epoch 31/100\n",
            "45000/45000 [==============================] - 18s 400us/step - loss: 0.3822 - acc: 0.8716 - val_loss: 0.5824 - val_acc: 0.8098\n",
            "Epoch 32/100\n",
            "45000/45000 [==============================] - 18s 401us/step - loss: 0.3785 - acc: 0.8732 - val_loss: 0.5908 - val_acc: 0.8118\n",
            "Epoch 33/100\n",
            "45000/45000 [==============================] - 18s 402us/step - loss: 0.3777 - acc: 0.8712 - val_loss: 0.6178 - val_acc: 0.8068\n",
            "Epoch 34/100\n",
            "45000/45000 [==============================] - 18s 405us/step - loss: 0.3699 - acc: 0.8751 - val_loss: 0.5702 - val_acc: 0.8208\n",
            "Epoch 35/100\n",
            "45000/45000 [==============================] - 18s 403us/step - loss: 0.3727 - acc: 0.8732 - val_loss: 0.5708 - val_acc: 0.8262\n",
            "Epoch 36/100\n",
            "45000/45000 [==============================] - 18s 399us/step - loss: 0.3662 - acc: 0.8768 - val_loss: 0.5835 - val_acc: 0.8172\n",
            "Epoch 37/100\n",
            "45000/45000 [==============================] - 18s 397us/step - loss: 0.3612 - acc: 0.8769 - val_loss: 0.5810 - val_acc: 0.8240\n",
            "Epoch 38/100\n",
            "45000/45000 [==============================] - 18s 404us/step - loss: 0.3609 - acc: 0.8794 - val_loss: 0.5736 - val_acc: 0.8250\n",
            "Epoch 39/100\n",
            "45000/45000 [==============================] - 18s 400us/step - loss: 0.3535 - acc: 0.8786 - val_loss: 0.5846 - val_acc: 0.8162\n",
            "Epoch 40/100\n",
            "45000/45000 [==============================] - 18s 402us/step - loss: 0.3537 - acc: 0.8789 - val_loss: 0.5981 - val_acc: 0.8200\n",
            "Epoch 41/100\n",
            "45000/45000 [==============================] - 18s 402us/step - loss: 0.3450 - acc: 0.8839 - val_loss: 0.5967 - val_acc: 0.8186\n",
            "Epoch 42/100\n",
            "45000/45000 [==============================] - 18s 405us/step - loss: 0.3489 - acc: 0.8819 - val_loss: 0.5966 - val_acc: 0.8126\n",
            "Epoch 43/100\n",
            "45000/45000 [==============================] - 18s 399us/step - loss: 0.3331 - acc: 0.8866 - val_loss: 0.5667 - val_acc: 0.8302\n",
            "Epoch 44/100\n",
            "45000/45000 [==============================] - 18s 401us/step - loss: 0.3337 - acc: 0.8887 - val_loss: 0.6198 - val_acc: 0.8132\n",
            "Epoch 45/100\n",
            "45000/45000 [==============================] - 18s 402us/step - loss: 0.3312 - acc: 0.8887 - val_loss: 0.6087 - val_acc: 0.8182\n",
            "Epoch 46/100\n",
            "45000/45000 [==============================] - 18s 403us/step - loss: 0.3220 - acc: 0.8922 - val_loss: 0.5931 - val_acc: 0.8250\n",
            "Epoch 47/100\n",
            "45000/45000 [==============================] - 18s 405us/step - loss: 0.3308 - acc: 0.8897 - val_loss: 0.6037 - val_acc: 0.8158\n",
            "Epoch 48/100\n",
            "45000/45000 [==============================] - 18s 404us/step - loss: 0.3242 - acc: 0.8914 - val_loss: 0.5786 - val_acc: 0.8232\n",
            "Epoch 49/100\n",
            "45000/45000 [==============================] - 18s 400us/step - loss: 0.3110 - acc: 0.8960 - val_loss: 0.5971 - val_acc: 0.8198\n",
            "Epoch 50/100\n",
            "45000/45000 [==============================] - 18s 404us/step - loss: 0.3144 - acc: 0.8951 - val_loss: 0.5847 - val_acc: 0.8270\n",
            "Epoch 51/100\n",
            "45000/45000 [==============================] - 18s 401us/step - loss: 0.3159 - acc: 0.8943 - val_loss: 0.5778 - val_acc: 0.8268\n",
            "Epoch 52/100\n",
            "45000/45000 [==============================] - 18s 403us/step - loss: 0.3096 - acc: 0.8960 - val_loss: 0.5910 - val_acc: 0.8258\n",
            "Epoch 53/100\n",
            "45000/45000 [==============================] - 18s 401us/step - loss: 0.3069 - acc: 0.8981 - val_loss: 0.6134 - val_acc: 0.8244\n",
            "Epoch 54/100\n",
            "45000/45000 [==============================] - 18s 399us/step - loss: 0.3095 - acc: 0.8964 - val_loss: 0.5823 - val_acc: 0.8212\n",
            "Epoch 55/100\n",
            "45000/45000 [==============================] - 18s 405us/step - loss: 0.3095 - acc: 0.8963 - val_loss: 0.5876 - val_acc: 0.8298\n",
            "Epoch 56/100\n",
            "45000/45000 [==============================] - 18s 404us/step - loss: 0.3032 - acc: 0.8984 - val_loss: 0.6057 - val_acc: 0.8190\n",
            "Epoch 57/100\n",
            "45000/45000 [==============================] - 18s 402us/step - loss: 0.3004 - acc: 0.9003 - val_loss: 0.5589 - val_acc: 0.8278\n",
            "Epoch 58/100\n",
            "45000/45000 [==============================] - 18s 403us/step - loss: 0.2901 - acc: 0.9036 - val_loss: 0.6382 - val_acc: 0.8208\n",
            "Epoch 59/100\n",
            "45000/45000 [==============================] - 18s 404us/step - loss: 0.2937 - acc: 0.9025 - val_loss: 0.5841 - val_acc: 0.8306\n",
            "Epoch 60/100\n",
            "45000/45000 [==============================] - 18s 401us/step - loss: 0.2808 - acc: 0.9072 - val_loss: 0.5981 - val_acc: 0.8236\n",
            "Epoch 61/100\n",
            "45000/45000 [==============================] - 18s 404us/step - loss: 0.2855 - acc: 0.9062 - val_loss: 0.6008 - val_acc: 0.8304\n",
            "Epoch 62/100\n",
            "45000/45000 [==============================] - 18s 402us/step - loss: 0.2801 - acc: 0.9063 - val_loss: 0.5955 - val_acc: 0.8262\n",
            "Epoch 63/100\n",
            "45000/45000 [==============================] - 18s 402us/step - loss: 0.2863 - acc: 0.9045 - val_loss: 0.5940 - val_acc: 0.8320\n",
            "Epoch 64/100\n",
            "45000/45000 [==============================] - 18s 404us/step - loss: 0.2801 - acc: 0.9074 - val_loss: 0.6138 - val_acc: 0.8290\n",
            "Epoch 65/100\n",
            "45000/45000 [==============================] - 18s 403us/step - loss: 0.2756 - acc: 0.9105 - val_loss: 0.6361 - val_acc: 0.8258\n",
            "Epoch 66/100\n",
            "45000/45000 [==============================] - 18s 402us/step - loss: 0.2795 - acc: 0.9088 - val_loss: 0.6154 - val_acc: 0.8224\n",
            "Epoch 67/100\n",
            "45000/45000 [==============================] - 18s 402us/step - loss: 0.2753 - acc: 0.9082 - val_loss: 0.5959 - val_acc: 0.8264\n",
            "Epoch 68/100\n",
            "45000/45000 [==============================] - 18s 402us/step - loss: 0.2829 - acc: 0.9068 - val_loss: 0.5965 - val_acc: 0.8290\n",
            "Epoch 69/100\n",
            "45000/45000 [==============================] - 18s 403us/step - loss: 0.2716 - acc: 0.9088 - val_loss: 0.6250 - val_acc: 0.8298\n",
            "Epoch 70/100\n",
            "45000/45000 [==============================] - 18s 402us/step - loss: 0.2718 - acc: 0.9120 - val_loss: 0.6230 - val_acc: 0.8242\n",
            "Epoch 71/100\n",
            "45000/45000 [==============================] - 18s 399us/step - loss: 0.2858 - acc: 0.9068 - val_loss: 0.5924 - val_acc: 0.8310\n",
            "Epoch 72/100\n",
            "45000/45000 [==============================] - 18s 401us/step - loss: 0.2678 - acc: 0.9126 - val_loss: 0.6030 - val_acc: 0.8290\n",
            "Epoch 73/100\n",
            "45000/45000 [==============================] - 18s 402us/step - loss: 0.2699 - acc: 0.9119 - val_loss: 0.5983 - val_acc: 0.8288\n",
            "Epoch 74/100\n",
            "45000/45000 [==============================] - 18s 401us/step - loss: 0.2597 - acc: 0.9155 - val_loss: 0.6318 - val_acc: 0.8236\n",
            "Epoch 75/100\n",
            "45000/45000 [==============================] - 18s 404us/step - loss: 0.2625 - acc: 0.9158 - val_loss: 0.6138 - val_acc: 0.8316\n",
            "Epoch 76/100\n",
            "45000/45000 [==============================] - 18s 402us/step - loss: 0.2705 - acc: 0.9128 - val_loss: 0.6007 - val_acc: 0.8316\n",
            "Epoch 77/100\n",
            "45000/45000 [==============================] - 18s 404us/step - loss: 0.2656 - acc: 0.9148 - val_loss: 0.6205 - val_acc: 0.8246\n",
            "Epoch 78/100\n",
            "45000/45000 [==============================] - 18s 403us/step - loss: 0.2590 - acc: 0.9175 - val_loss: 0.6201 - val_acc: 0.8260\n",
            "Epoch 79/100\n",
            "45000/45000 [==============================] - 18s 404us/step - loss: 0.2642 - acc: 0.9143 - val_loss: 0.6013 - val_acc: 0.8270\n",
            "Epoch 80/100\n",
            "45000/45000 [==============================] - 18s 405us/step - loss: 0.2634 - acc: 0.9148 - val_loss: 0.6293 - val_acc: 0.8290\n",
            "Epoch 81/100\n",
            "45000/45000 [==============================] - 18s 403us/step - loss: 0.2620 - acc: 0.9159 - val_loss: 0.5798 - val_acc: 0.8348\n",
            "Epoch 82/100\n",
            "45000/45000 [==============================] - 18s 401us/step - loss: 0.2623 - acc: 0.9161 - val_loss: 0.6040 - val_acc: 0.8308\n",
            "Epoch 83/100\n",
            "45000/45000 [==============================] - 18s 402us/step - loss: 0.2524 - acc: 0.9184 - val_loss: 0.6014 - val_acc: 0.8296\n",
            "Epoch 84/100\n",
            "45000/45000 [==============================] - 18s 402us/step - loss: 0.2513 - acc: 0.9180 - val_loss: 0.6105 - val_acc: 0.8334\n",
            "Epoch 85/100\n",
            "45000/45000 [==============================] - 18s 405us/step - loss: 0.2604 - acc: 0.9156 - val_loss: 0.6086 - val_acc: 0.8316\n",
            "Epoch 86/100\n",
            "45000/45000 [==============================] - 18s 404us/step - loss: 0.2493 - acc: 0.9215 - val_loss: 0.6110 - val_acc: 0.8308\n",
            "Epoch 87/100\n",
            "45000/45000 [==============================] - 18s 403us/step - loss: 0.2538 - acc: 0.9184 - val_loss: 0.5934 - val_acc: 0.8342\n",
            "Epoch 88/100\n",
            "45000/45000 [==============================] - 18s 400us/step - loss: 0.2586 - acc: 0.9184 - val_loss: 0.6300 - val_acc: 0.8222\n",
            "Epoch 89/100\n",
            "45000/45000 [==============================] - 18s 401us/step - loss: 0.2587 - acc: 0.9176 - val_loss: 0.5836 - val_acc: 0.8306\n",
            "Epoch 90/100\n",
            "45000/45000 [==============================] - 18s 399us/step - loss: 0.2450 - acc: 0.9206 - val_loss: 0.6202 - val_acc: 0.8330\n",
            "Epoch 91/100\n",
            "45000/45000 [==============================] - 18s 404us/step - loss: 0.2528 - acc: 0.9202 - val_loss: 0.6360 - val_acc: 0.8300\n",
            "Epoch 92/100\n",
            "45000/45000 [==============================] - 18s 401us/step - loss: 0.2445 - acc: 0.9219 - val_loss: 0.6167 - val_acc: 0.8352\n",
            "Epoch 93/100\n",
            "45000/45000 [==============================] - 18s 400us/step - loss: 0.2400 - acc: 0.9235 - val_loss: 0.5996 - val_acc: 0.8386\n",
            "Epoch 94/100\n",
            "45000/45000 [==============================] - 18s 402us/step - loss: 0.2456 - acc: 0.9233 - val_loss: 0.6622 - val_acc: 0.8284\n",
            "Epoch 95/100\n",
            "45000/45000 [==============================] - 18s 403us/step - loss: 0.2437 - acc: 0.9248 - val_loss: 0.6188 - val_acc: 0.8342\n",
            "Epoch 96/100\n",
            "45000/45000 [==============================] - 18s 400us/step - loss: 0.2514 - acc: 0.9202 - val_loss: 0.6253 - val_acc: 0.8352\n",
            "Epoch 97/100\n",
            "45000/45000 [==============================] - 18s 403us/step - loss: 0.2484 - acc: 0.9204 - val_loss: 0.6159 - val_acc: 0.8320\n",
            "Epoch 98/100\n",
            "45000/45000 [==============================] - 18s 402us/step - loss: 0.2461 - acc: 0.9215 - val_loss: 0.6364 - val_acc: 0.8264\n",
            "Epoch 99/100\n",
            "45000/45000 [==============================] - 18s 402us/step - loss: 0.2424 - acc: 0.9252 - val_loss: 0.6012 - val_acc: 0.8272\n",
            "Epoch 100/100\n",
            "45000/45000 [==============================] - 18s 404us/step - loss: 0.2431 - acc: 0.9221 - val_loss: 0.6129 - val_acc: 0.8382\n"
          ],
          "name": "stdout"
        }
      ]
    },
    {
      "metadata": {
        "id": "HJnWbRf5WIN3",
        "colab_type": "text"
      },
      "cell_type": "markdown",
      "source": [
        "Lets visualize the results using the history object and turning it into a dictionary."
      ]
    },
    {
      "metadata": {
        "id": "Fp9s70YWVaPj",
        "colab_type": "code",
        "outputId": "8bc1906b-4fa1-4a12-f2c9-61e80342e71b",
        "colab": {
          "base_uri": "https://localhost:8080/",
          "height": 295
        }
      },
      "cell_type": "code",
      "source": [
        "history_dict2 = history.history\n",
        "loss = history_dict2['loss']\n",
        "val_loss = history_dict2['val_loss']\n",
        "acc = history_dict2['acc']\n",
        "val_acc = history_dict2['val_acc']\n",
        "\n",
        "epochs = range(1,101)\n",
        "plt.plot(epochs, loss, c='r', label='Training loss')\n",
        "plt.plot(epochs, val_loss, c='b', label='Validation loss')\n",
        "plt.title('Training and Validation loss')\n",
        "plt.xlabel('Epochs')\n",
        "plt.ylabel('Loss')\n",
        "plt.legend()\n",
        "plt.show()"
      ],
      "execution_count": 0,
      "outputs": [
        {
          "output_type": "display_data",
          "data": {
            "image/png": "[encoded data removed]",
            "text/plain": [
              "<matplotlib.figure.Figure at 0x7f3be51ca390>"
            ]
          },
          "metadata": {
            "tags": []
          }
        }
      ]
    },
    {
      "metadata": {
        "id": "hFDg8ASLWUk_",
        "colab_type": "code",
        "outputId": "30ccb544-5a2a-4b75-edea-e261fca3b4be",
        "colab": {
          "base_uri": "https://localhost:8080/",
          "height": 295
        }
      },
      "cell_type": "code",
      "source": [
        "plt.plot(epochs, acc, c='r', label='Training Accuracy')\n",
        "plt.plot(epochs, val_acc, c='b', label='Validation Accuracy')\n",
        "plt.title('Training and Validation Accuracy')\n",
        "plt.xlabel('Epochs')\n",
        "plt.ylabel('Accuracy')\n",
        "plt.legend()\n",
        "plt.show()"
      ],
      "execution_count": 0,
      "outputs": [
        {
          "output_type": "display_data",
          "data": {
            "image/png": "[encoded data removed]",
            "text/plain": [
              "<matplotlib.figure.Figure at 0x7f3be51cad68>"
            ]
          },
          "metadata": {
            "tags": []
          }
        }
      ]
    },
    {
      "metadata": {
        "id": "V9PTSzJjAEFp",
        "colab_type": "text"
      },
      "cell_type": "markdown",
      "source": [
        "Looks like our model did pretty well, 83.18% accuracy, which is good enough for an initial image recognition system. But we can also see that it begins overfitting before 20 epochs. If the stakeholders would like to achieve greater accuracy, we can improve the model by doing the following:\n",
        "\n",
        "- Change the architecture and iteratively fine tune the model.\n",
        "- Further regularize with either kernel regularizers or batch normalization.\n",
        "- Conduct data augmentation or use a pretrained convnet.\n",
        "\n",
        "\n",
        "Were going to try adding data augmentation. This works by generating more training data from existing training examples. This will ensure that the model doesnt see the exact same picture twice, allowing it to learn from more examples and therefore, generalize better on unseen data. \n",
        "\n",
        "\n",
        "### Data Augmentation\n",
        "\n",
        "I'll set up a data augmentation configuration using ImageDataGenerator, which transforms the data using a number of methods. Were going to horizontally flip the data and zoom in 20%.\n",
        "\n",
        "This time instead of saving some of the training data for validation, we'll use the testing data to evaluate our model. W We'll train for 100 epochs at a batch size of 128. When it comes to choosing the right amount of steps per epoch, practioners typically use train_length // batch_size. Using this (50000//128) we arrive at 390 steps per epoch. Lets now train and then visualize our results."
      ]
    },
    {
      "metadata": {
        "id": "iGDNDNMN-JZV",
        "colab_type": "code",
        "outputId": "a3236dac-116f-41b7-99f4-57d20b0610d8",
        "colab": {
          "base_uri": "https://localhost:8080/",
          "height": 3654
        }
      },
      "cell_type": "code",
      "source": [
        "from keras.preprocessing.image import ImageDataGenerator\n",
        "\n",
        "K.clear_session()\n",
        "\n",
        "model = Sequential()\n",
        "model.add(Conv2D(48, (3,3), padding='same', input_shape=(32, 32, 3), activation='relu'))\n",
        "model.add(Conv2D(48, (3,3), activation='relu'))\n",
        "model.add(MaxPool2D((2,2)))\n",
        "model.add(Dropout(0.25))\n",
        "model.add(Conv2D(96, (3,3), padding='same', activation='relu'))\n",
        "model.add(Conv2D(96, (3,3), activation='relu'))\n",
        "model.add(MaxPool2D((2,2)))\n",
        "model.add(Dropout(0.25))\n",
        "model.add(Conv2D(192, (3,3), padding='same', activation='relu'))\n",
        "model.add(Conv2D(192, (3,3), activation='relu'))\n",
        "model.add(MaxPool2D((2,2)))\n",
        "model.add(Dropout(0.25))\n",
        "model.add(Flatten())\n",
        "model.add(Dense(512, activation='relu'))\n",
        "model.add(Dropout(0.5))\n",
        "model.add(Dense(256, activation='relu'))\n",
        "model.add(Dropout(0.5))\n",
        "model.add(Dense(10, activation='softmax'))\n",
        "\n",
        "model.compile(optimizer='adam',\n",
        "              loss='categorical_crossentropy',\n",
        "              metrics=['accuracy'])\n",
        "\n",
        "gen = ImageDataGenerator(zoom_range=0.2,\n",
        "                         horizontal_flip=True)\n",
        "\n",
        "\n",
        "history = model.fit_generator(gen.flow(X_train, y_train, batch_size=128),\n",
        "                             steps_per_epoch=390,\n",
        "                             epochs=100,\n",
        "                             validation_data=(X_test, y_test))\n"
      ],
      "execution_count": 25,
      "outputs": [
        {
          "output_type": "stream",
          "text": [
            "Epoch 1/100\n",
            "390/390 [==============================] - 32s 82ms/step - loss: 1.9056 - acc: 0.2732 - val_loss: 1.5032 - val_acc: 0.4378\n",
            "Epoch 2/100\n",
            "390/390 [==============================] - 31s 80ms/step - loss: 1.4941 - acc: 0.4559 - val_loss: 1.2146 - val_acc: 0.5535\n",
            "Epoch 3/100\n",
            "390/390 [==============================] - 30s 78ms/step - loss: 1.2961 - acc: 0.5377 - val_loss: 1.1195 - val_acc: 0.5975\n",
            "Epoch 4/100\n",
            "390/390 [==============================] - 31s 80ms/step - loss: 1.1684 - acc: 0.5899 - val_loss: 0.9826 - val_acc: 0.6501\n",
            "Epoch 5/100\n",
            "390/390 [==============================] - 31s 79ms/step - loss: 1.0697 - acc: 0.6273 - val_loss: 0.9159 - val_acc: 0.6813\n",
            "Epoch 6/100\n",
            "390/390 [==============================] - 30s 78ms/step - loss: 0.9969 - acc: 0.6569 - val_loss: 0.8730 - val_acc: 0.7009\n",
            "Epoch 7/100\n",
            "390/390 [==============================] - 31s 80ms/step - loss: 0.9433 - acc: 0.6769 - val_loss: 0.8522 - val_acc: 0.7026\n",
            "Epoch 8/100\n",
            "390/390 [==============================] - 30s 78ms/step - loss: 0.8934 - acc: 0.6966 - val_loss: 0.8291 - val_acc: 0.7133\n",
            "Epoch 9/100\n",
            "390/390 [==============================] - 31s 80ms/step - loss: 0.8633 - acc: 0.7056 - val_loss: 0.7542 - val_acc: 0.7405\n",
            "Epoch 10/100\n",
            "390/390 [==============================] - 31s 79ms/step - loss: 0.8294 - acc: 0.7187 - val_loss: 0.7134 - val_acc: 0.7534\n",
            "Epoch 11/100\n",
            "390/390 [==============================] - 30s 78ms/step - loss: 0.8124 - acc: 0.7247 - val_loss: 0.7479 - val_acc: 0.7465\n",
            "Epoch 12/100\n",
            "390/390 [==============================] - 31s 80ms/step - loss: 0.7818 - acc: 0.7353 - val_loss: 0.7282 - val_acc: 0.7565\n",
            "Epoch 13/100\n",
            "390/390 [==============================] - 31s 78ms/step - loss: 0.7670 - acc: 0.7396 - val_loss: 0.6968 - val_acc: 0.7634\n",
            "Epoch 14/100\n",
            "390/390 [==============================] - 31s 78ms/step - loss: 0.7522 - acc: 0.7435 - val_loss: 0.7343 - val_acc: 0.7495\n",
            "Epoch 15/100\n",
            "390/390 [==============================] - 31s 80ms/step - loss: 0.7431 - acc: 0.7483 - val_loss: 0.6681 - val_acc: 0.7729\n",
            "Epoch 16/100\n",
            "390/390 [==============================] - 30s 78ms/step - loss: 0.7226 - acc: 0.7554 - val_loss: 0.6467 - val_acc: 0.7812\n",
            "Epoch 17/100\n",
            "390/390 [==============================] - 31s 80ms/step - loss: 0.7236 - acc: 0.7564 - val_loss: 0.6510 - val_acc: 0.7775\n",
            "Epoch 18/100\n",
            "390/390 [==============================] - 31s 79ms/step - loss: 0.7117 - acc: 0.7604 - val_loss: 0.6458 - val_acc: 0.7866\n",
            "Epoch 19/100\n",
            "390/390 [==============================] - 30s 78ms/step - loss: 0.7033 - acc: 0.7624 - val_loss: 0.6343 - val_acc: 0.7812\n",
            "Epoch 20/100\n",
            "390/390 [==============================] - 31s 81ms/step - loss: 0.6950 - acc: 0.7674 - val_loss: 0.6232 - val_acc: 0.7887\n",
            "Epoch 21/100\n",
            "390/390 [==============================] - 30s 78ms/step - loss: 0.6868 - acc: 0.7702 - val_loss: 0.6353 - val_acc: 0.7853\n",
            "Epoch 22/100\n",
            "390/390 [==============================] - 31s 81ms/step - loss: 0.6734 - acc: 0.7735 - val_loss: 0.6539 - val_acc: 0.7767\n",
            "Epoch 23/100\n",
            "390/390 [==============================] - 31s 79ms/step - loss: 0.6660 - acc: 0.7753 - val_loss: 0.5986 - val_acc: 0.7985\n",
            "Epoch 24/100\n",
            "390/390 [==============================] - 31s 78ms/step - loss: 0.6622 - acc: 0.7768 - val_loss: 0.6514 - val_acc: 0.7860\n",
            "Epoch 25/100\n",
            "390/390 [==============================] - 31s 80ms/step - loss: 0.6578 - acc: 0.7796 - val_loss: 0.6324 - val_acc: 0.7897\n",
            "Epoch 26/100\n",
            "390/390 [==============================] - 31s 79ms/step - loss: 0.6493 - acc: 0.7808 - val_loss: 0.5929 - val_acc: 0.8035\n",
            "Epoch 27/100\n",
            "390/390 [==============================] - 30s 78ms/step - loss: 0.6453 - acc: 0.7836 - val_loss: 0.5843 - val_acc: 0.8062\n",
            "Epoch 28/100\n",
            "390/390 [==============================] - 31s 80ms/step - loss: 0.6366 - acc: 0.7870 - val_loss: 0.5799 - val_acc: 0.8076\n",
            "Epoch 29/100\n",
            "390/390 [==============================] - 30s 78ms/step - loss: 0.6439 - acc: 0.7845 - val_loss: 0.5703 - val_acc: 0.8103\n",
            "Epoch 30/100\n",
            "390/390 [==============================] - 32s 81ms/step - loss: 0.6243 - acc: 0.7919 - val_loss: 0.5893 - val_acc: 0.8023\n",
            "Epoch 31/100\n",
            "390/390 [==============================] - 31s 78ms/step - loss: 0.6276 - acc: 0.7879 - val_loss: 0.6468 - val_acc: 0.7875\n",
            "Epoch 32/100\n",
            "390/390 [==============================] - 30s 78ms/step - loss: 0.6178 - acc: 0.7941 - val_loss: 0.5587 - val_acc: 0.8193\n",
            "Epoch 33/100\n",
            "390/390 [==============================] - 31s 80ms/step - loss: 0.6232 - acc: 0.7936 - val_loss: 0.6289 - val_acc: 0.7938\n",
            "Epoch 34/100\n",
            "390/390 [==============================] - 30s 78ms/step - loss: 0.6258 - acc: 0.7903 - val_loss: 0.5845 - val_acc: 0.8045\n",
            "Epoch 35/100\n",
            "390/390 [==============================] - 31s 80ms/step - loss: 0.6081 - acc: 0.7963 - val_loss: 0.6595 - val_acc: 0.7840\n",
            "Epoch 36/100\n",
            "390/390 [==============================] - 30s 78ms/step - loss: 0.6058 - acc: 0.7964 - val_loss: 0.5944 - val_acc: 0.8026\n",
            "Epoch 37/100\n",
            "390/390 [==============================] - 30s 77ms/step - loss: 0.6033 - acc: 0.7976 - val_loss: 0.5650 - val_acc: 0.8139\n",
            "Epoch 38/100\n",
            "390/390 [==============================] - 31s 78ms/step - loss: 0.5978 - acc: 0.7992 - val_loss: 0.5854 - val_acc: 0.8058\n",
            "Epoch 39/100\n",
            "390/390 [==============================] - 30s 77ms/step - loss: 0.5972 - acc: 0.8003 - val_loss: 0.6036 - val_acc: 0.7961\n",
            "Epoch 40/100\n",
            "390/390 [==============================] - 30s 77ms/step - loss: 0.5922 - acc: 0.8000 - val_loss: 0.5785 - val_acc: 0.8073\n",
            "Epoch 41/100\n",
            "390/390 [==============================] - 30s 78ms/step - loss: 0.5889 - acc: 0.8027 - val_loss: 0.5764 - val_acc: 0.8068\n",
            "Epoch 42/100\n",
            "390/390 [==============================] - 30s 77ms/step - loss: 0.5941 - acc: 0.8024 - val_loss: 0.5798 - val_acc: 0.8063\n",
            "Epoch 43/100\n",
            "390/390 [==============================] - 31s 79ms/step - loss: 0.5842 - acc: 0.8038 - val_loss: 0.5329 - val_acc: 0.8228\n",
            "Epoch 44/100\n",
            "390/390 [==============================] - 30s 77ms/step - loss: 0.5884 - acc: 0.8040 - val_loss: 0.5829 - val_acc: 0.8087\n",
            "Epoch 45/100\n",
            "390/390 [==============================] - 30s 77ms/step - loss: 0.5807 - acc: 0.8053 - val_loss: 0.5398 - val_acc: 0.8250\n",
            "Epoch 46/100\n",
            "390/390 [==============================] - 31s 78ms/step - loss: 0.5775 - acc: 0.8078 - val_loss: 0.5611 - val_acc: 0.8142\n",
            "Epoch 47/100\n",
            "390/390 [==============================] - 30s 77ms/step - loss: 0.5835 - acc: 0.8066 - val_loss: 0.5442 - val_acc: 0.8237\n",
            "Epoch 48/100\n",
            "390/390 [==============================] - 30s 77ms/step - loss: 0.5717 - acc: 0.8095 - val_loss: 0.5636 - val_acc: 0.8168\n",
            "Epoch 49/100\n",
            "390/390 [==============================] - 30s 78ms/step - loss: 0.5757 - acc: 0.8059 - val_loss: 0.5342 - val_acc: 0.8219\n",
            "Epoch 50/100\n",
            "390/390 [==============================] - 30s 77ms/step - loss: 0.5693 - acc: 0.8094 - val_loss: 0.5155 - val_acc: 0.8331\n",
            "Epoch 51/100\n",
            "390/390 [==============================] - 31s 79ms/step - loss: 0.5697 - acc: 0.8099 - val_loss: 0.5413 - val_acc: 0.8226\n",
            "Epoch 52/100\n",
            "390/390 [==============================] - 30s 77ms/step - loss: 0.5660 - acc: 0.8130 - val_loss: 0.5588 - val_acc: 0.8172\n",
            "Epoch 53/100\n",
            "390/390 [==============================] - 30s 77ms/step - loss: 0.5707 - acc: 0.8131 - val_loss: 0.5840 - val_acc: 0.8113\n",
            "Epoch 54/100\n",
            "390/390 [==============================] - 30s 78ms/step - loss: 0.5614 - acc: 0.8141 - val_loss: 0.5425 - val_acc: 0.8179\n",
            "Epoch 55/100\n",
            "390/390 [==============================] - 30s 77ms/step - loss: 0.5602 - acc: 0.8129 - val_loss: 0.5547 - val_acc: 0.8216\n",
            "Epoch 56/100\n",
            "390/390 [==============================] - 31s 79ms/step - loss: 0.5567 - acc: 0.8143 - val_loss: 0.5746 - val_acc: 0.8126\n",
            "Epoch 57/100\n",
            "390/390 [==============================] - 30s 77ms/step - loss: 0.5593 - acc: 0.8137 - val_loss: 0.5829 - val_acc: 0.8125\n",
            "Epoch 58/100\n",
            "390/390 [==============================] - 30s 77ms/step - loss: 0.5565 - acc: 0.8133 - val_loss: 0.5678 - val_acc: 0.8114\n",
            "Epoch 59/100\n",
            "390/390 [==============================] - 30s 78ms/step - loss: 0.5488 - acc: 0.8170 - val_loss: 0.5522 - val_acc: 0.8198\n",
            "Epoch 60/100\n",
            "390/390 [==============================] - 30s 77ms/step - loss: 0.5604 - acc: 0.8148 - val_loss: 0.5724 - val_acc: 0.8150\n",
            "Epoch 61/100\n",
            "390/390 [==============================] - 31s 79ms/step - loss: 0.5521 - acc: 0.8171 - val_loss: 0.5600 - val_acc: 0.8160\n",
            "Epoch 62/100\n",
            "390/390 [==============================] - 40s 101ms/step - loss: 0.5529 - acc: 0.8148 - val_loss: 0.5668 - val_acc: 0.8132\n",
            "Epoch 63/100\n",
            "390/390 [==============================] - 31s 80ms/step - loss: 0.5415 - acc: 0.8204 - val_loss: 0.5932 - val_acc: 0.8086\n",
            "Epoch 64/100\n",
            "390/390 [==============================] - 31s 79ms/step - loss: 0.5495 - acc: 0.8165 - val_loss: 0.5873 - val_acc: 0.8089\n",
            "Epoch 65/100\n",
            "390/390 [==============================] - 32s 81ms/step - loss: 0.5402 - acc: 0.8222 - val_loss: 0.5445 - val_acc: 0.8227\n",
            "Epoch 66/100\n",
            "390/390 [==============================] - 31s 79ms/step - loss: 0.5470 - acc: 0.8207 - val_loss: 0.5318 - val_acc: 0.8255\n",
            "Epoch 67/100\n",
            "390/390 [==============================] - 32s 81ms/step - loss: 0.5441 - acc: 0.8187 - val_loss: 0.5496 - val_acc: 0.8210\n",
            "Epoch 68/100\n",
            "390/390 [==============================] - 31s 78ms/step - loss: 0.5509 - acc: 0.8180 - val_loss: 0.5537 - val_acc: 0.8229\n",
            "Epoch 69/100\n",
            "390/390 [==============================] - 31s 81ms/step - loss: 0.5383 - acc: 0.8216 - val_loss: 0.5415 - val_acc: 0.8231\n",
            "Epoch 70/100\n",
            "390/390 [==============================] - 31s 79ms/step - loss: 0.5434 - acc: 0.8217 - val_loss: 0.5718 - val_acc: 0.8097\n",
            "Epoch 71/100\n",
            "390/390 [==============================] - 31s 79ms/step - loss: 0.5353 - acc: 0.8232 - val_loss: 0.5171 - val_acc: 0.8304\n",
            "Epoch 72/100\n",
            "390/390 [==============================] - 31s 80ms/step - loss: 0.5444 - acc: 0.8202 - val_loss: 0.5246 - val_acc: 0.8275\n",
            "Epoch 73/100\n",
            "390/390 [==============================] - 31s 79ms/step - loss: 0.5389 - acc: 0.8227 - val_loss: 0.5575 - val_acc: 0.8202\n",
            "Epoch 74/100\n",
            "390/390 [==============================] - 32s 83ms/step - loss: 0.5352 - acc: 0.8229 - val_loss: 0.5727 - val_acc: 0.8170\n",
            "Epoch 75/100\n",
            "390/390 [==============================] - 31s 80ms/step - loss: 0.5288 - acc: 0.8258 - val_loss: 0.5445 - val_acc: 0.8287\n",
            "Epoch 76/100\n",
            "390/390 [==============================] - 31s 79ms/step - loss: 0.5309 - acc: 0.8243 - val_loss: 0.5526 - val_acc: 0.8240\n",
            "Epoch 77/100\n",
            "390/390 [==============================] - 32s 81ms/step - loss: 0.5282 - acc: 0.8254 - val_loss: 0.5100 - val_acc: 0.8353\n",
            "Epoch 78/100\n",
            "390/390 [==============================] - 31s 79ms/step - loss: 0.5285 - acc: 0.8263 - val_loss: 0.5174 - val_acc: 0.8319\n",
            "Epoch 79/100\n",
            "390/390 [==============================] - 32s 82ms/step - loss: 0.5406 - acc: 0.8207 - val_loss: 0.5097 - val_acc: 0.8320\n",
            "Epoch 80/100\n",
            "390/390 [==============================] - 31s 80ms/step - loss: 0.5269 - acc: 0.8269 - val_loss: 0.5310 - val_acc: 0.8288\n",
            "Epoch 81/100\n",
            "390/390 [==============================] - 31s 79ms/step - loss: 0.5266 - acc: 0.8254 - val_loss: 0.4849 - val_acc: 0.8410\n",
            "Epoch 82/100\n",
            "390/390 [==============================] - 32s 82ms/step - loss: 0.5373 - acc: 0.8235 - val_loss: 0.5198 - val_acc: 0.8332\n",
            "Epoch 83/100\n",
            "390/390 [==============================] - 31s 79ms/step - loss: 0.5286 - acc: 0.8274 - val_loss: 0.5748 - val_acc: 0.8151\n",
            "Epoch 84/100\n",
            "390/390 [==============================] - 32s 82ms/step - loss: 0.5171 - acc: 0.8275 - val_loss: 0.5070 - val_acc: 0.8348\n",
            "Epoch 85/100\n",
            "390/390 [==============================] - 31s 79ms/step - loss: 0.5233 - acc: 0.8286 - val_loss: 0.5498 - val_acc: 0.8222\n",
            "Epoch 86/100\n",
            "390/390 [==============================] - 31s 79ms/step - loss: 0.5159 - acc: 0.8296 - val_loss: 0.4885 - val_acc: 0.8372\n",
            "Epoch 87/100\n",
            "390/390 [==============================] - 32s 81ms/step - loss: 0.5252 - acc: 0.8275 - val_loss: 0.5344 - val_acc: 0.8286\n",
            "Epoch 88/100\n",
            "390/390 [==============================] - 31s 79ms/step - loss: 0.5284 - acc: 0.8276 - val_loss: 0.6111 - val_acc: 0.8081\n",
            "Epoch 89/100\n",
            "390/390 [==============================] - 32s 82ms/step - loss: 0.5186 - acc: 0.8306 - val_loss: 0.4862 - val_acc: 0.8416\n",
            "Epoch 90/100\n",
            "390/390 [==============================] - 31s 80ms/step - loss: 0.5254 - acc: 0.8286 - val_loss: 0.5150 - val_acc: 0.8348\n",
            "Epoch 91/100\n",
            "390/390 [==============================] - 31s 79ms/step - loss: 0.5181 - acc: 0.8289 - val_loss: 0.5668 - val_acc: 0.8186\n",
            "Epoch 92/100\n",
            "390/390 [==============================] - 32s 82ms/step - loss: 0.5202 - acc: 0.8280 - val_loss: 0.5251 - val_acc: 0.8268\n",
            "Epoch 93/100\n",
            "390/390 [==============================] - 31s 80ms/step - loss: 0.5209 - acc: 0.8303 - val_loss: 0.5314 - val_acc: 0.8274\n",
            "Epoch 94/100\n",
            "390/390 [==============================] - 31s 79ms/step - loss: 0.5137 - acc: 0.8297 - val_loss: 0.5597 - val_acc: 0.8200\n",
            "Epoch 95/100\n",
            "390/390 [==============================] - 32s 81ms/step - loss: 0.5210 - acc: 0.8290 - val_loss: 0.5058 - val_acc: 0.8331\n",
            "Epoch 96/100\n",
            "390/390 [==============================] - 31s 79ms/step - loss: 0.5173 - acc: 0.8301 - val_loss: 0.5584 - val_acc: 0.8214\n",
            "Epoch 97/100\n",
            "390/390 [==============================] - 32s 82ms/step - loss: 0.5229 - acc: 0.8284 - val_loss: 0.5270 - val_acc: 0.8272\n",
            "Epoch 98/100\n",
            "390/390 [==============================] - 31s 79ms/step - loss: 0.5178 - acc: 0.8336 - val_loss: 0.5997 - val_acc: 0.8114\n",
            "Epoch 99/100\n",
            "390/390 [==============================] - 31s 81ms/step - loss: 0.5226 - acc: 0.8278 - val_loss: 0.5536 - val_acc: 0.8231\n",
            "Epoch 100/100\n",
            "390/390 [==============================] - 31s 80ms/step - loss: 0.5257 - acc: 0.8302 - val_loss: 0.5327 - val_acc: 0.8286\n"
          ],
          "name": "stdout"
        }
      ]
    },
    {
      "metadata": {
        "id": "-RNyPlQ1hW5F",
        "colab_type": "code",
        "colab": {
          "base_uri": "https://localhost:8080/",
          "height": 295
        },
        "outputId": "348c4455-4f0b-45ca-dd99-687f78fadfe1"
      },
      "cell_type": "code",
      "source": [
        "history_dict3 = history.history\n",
        "loss = history_dict3['loss']\n",
        "val_loss = history_dict3['val_loss']\n",
        "acc = history_dict3['acc']\n",
        "val_acc = history_dict3['val_acc']\n",
        "\n",
        "epochs = range(1,101)\n",
        "plt.plot(epochs, loss, c='r', label='Training loss')\n",
        "plt.plot(epochs, val_loss, c='b', label='Testing loss')\n",
        "plt.title('Training and Testing loss with Data Augmentation')\n",
        "plt.xlabel('Epochs')\n",
        "plt.ylabel('Loss')\n",
        "plt.legend()\n",
        "plt.show()"
      ],
      "execution_count": 26,
      "outputs": [
        {
          "output_type": "display_data",
          "data": {
            "image/png": "[encoded data removed]",
            "text/plain": [
              "<matplotlib.figure.Figure at 0x7f3be51ca4e0>"
            ]
          },
          "metadata": {
            "tags": []
          }
        }
      ]
    },
    {
      "metadata": {
        "id": "MR5um9ryh72W",
        "colab_type": "code",
        "colab": {
          "base_uri": "https://localhost:8080/",
          "height": 295
        },
        "outputId": "f18ec995-4217-4ab1-a46a-a10b69411dcf"
      },
      "cell_type": "code",
      "source": [
        "plt.plot(epochs, acc, c='r', label='Training Accuracy')\n",
        "plt.plot(epochs, val_acc, c='b', label='Testing Accuracy')\n",
        "plt.title('Training and Testing Accuracy with Data Augmentation')\n",
        "plt.xlabel('Epochs')\n",
        "plt.ylabel('Accuracy')\n",
        "plt.legend()\n",
        "plt.show()"
      ],
      "execution_count": 27,
      "outputs": [
        {
          "output_type": "display_data",
          "data": {
            "image/png": "[encoded data removed]",
            "text/plain": [
              "<matplotlib.figure.Figure at 0x7f3bcf7ffba8>"
            ]
          },
          "metadata": {
            "tags": []
          }
        }
      ]
    },
    {
      "metadata": {
        "id": "vNMcFUKhiGVD",
        "colab_type": "text"
      },
      "cell_type": "markdown",
      "source": [
        "Using data augmentation we were to reduce the gap between the training and the testing scores. The accuracy got up to around 83% on the testing data, which is good, but not a huge improvement from our model without data augmentation. Best thing the data augmentation did was reduce the overfitting, which means this model generalizes well on unseen data. If we were to deploy this model into production it would be good start, but it would require further work. \n",
        "\n",
        "# 6. Summarize\n",
        "\n",
        "After training several models on both MNIST and CIFAR10, we now have a model that can predict with decent accuracy, digits and random objects found on postcards. \n",
        "\n",
        "While the accuracy for the CIFAR10 dataset was lower then MNIST (which was expected), we still have a decent model that we can further fine tune before we put it into production. \n"
      ]
    },
    {
      "metadata": {
        "id": "A42JSZgbp752",
        "colab_type": "text"
      },
      "cell_type": "markdown",
      "source": [
        "\n",
        "# Conclusion\n",
        "\n",
        "Refering back to our original objective - to build an image recognition system capable of accurately classifying digits and images common to postcards - we were able to successfully accomplish both tasks. Here are some potential next steps:\n",
        "\n",
        "- Further fine tune the model by tuning the hyperparameters (number of neurons, layers, etc.)\n",
        "- More regularization.\n",
        "- Use a pretrained convnet to further increase accuracy.\n",
        "- Consider using recall, precision, or metrics to further evaluate the model. \n",
        "\n",
        "At this point in the workflow we would refine our process, thinking of ways to scale it and make it more robust,  and then finally present it to our business stakeholders. \n",
        "\n",
        "\n",
        "\n",
        "\n",
        "\n",
        "\n",
        "\n",
        "\n",
        "\n",
        "\n",
        "\n",
        "\n",
        "\n",
        "Thank you! If you have any questions, please feel free to contact me at aponted511@gmail.com"
      ]
    },
    {
      "metadata": {
        "id": "ZPoE-0iW8rm9",
        "colab_type": "code",
        "colab": {}
      },
      "cell_type": "code",
      "source": [
        ""
      ],
      "execution_count": 0,
      "outputs": []
    }
  ]
}