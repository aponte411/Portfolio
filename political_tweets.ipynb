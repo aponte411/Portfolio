{
 "cells": [
  {
   "cell_type": "code",
   "execution_count": 113,
   "metadata": {},
   "outputs": [
    {
     "data": {
      "text/html": [
       "<img src=\"https://thenypost.files.wordpress.com/2018/10/beto-cruz-polls.jpg?quality=90&strip=all&w=618&h=410&crop=1\"/>"
      ],
      "text/plain": [
       "<IPython.core.display.Image object>"
      ]
     },
     "execution_count": 113,
     "metadata": {},
     "output_type": "execute_result"
    }
   ],
   "source": [
    "from IPython.display import Image\n",
    "from IPython.core.display import HTML \n",
    "Image(url= \"https://thenypost.files.wordpress.com/2018/10/beto-cruz-polls.jpg?quality=90&strip=all&w=618&h=410&crop=1\")\n"
   ]
  },
  {
   "cell_type": "markdown",
   "metadata": {},
   "source": [
    "## Introduction:\n",
    "\n",
    "Tomorrow is election day and a lot of people - including me - are curious as to who is going to win Texas. To gain better insight into what people are thinking and who they favor, I decided to use Twitters API to get a random sample of 5000 tweets. In this notebook I will access Twitters GET statuses/sample API. Using the tweepy library and OAuth tokens to authenticate my credentials, I can then filter the stream for key words: \"Beto\", \"Beto O'Rourke\", \"Ted Cruz\", and \"Cruz\". Using a custom StreamListner class, the tweets will be stored into a file, \"politics.txt\". Afterwards, I will count up the frequencies of the keywords to see who is mentioned the most. "
   ]
  },
  {
   "cell_type": "markdown",
   "metadata": {},
   "source": [
    "## Workflow:\n",
    "\n",
    "Using the tweepy library, I will access the API and store the tweets in a file. I will then store them in a pandas dataframe, where I can then do some analysis of the keywords. At the end, I will visualize my findings to better grasp the frequencies of the keywords. "
   ]
  },
  {
   "cell_type": "code",
   "execution_count": 114,
   "metadata": {},
   "outputs": [],
   "source": [
    "# import libraries\n",
    "import tweepy, json\n",
    "\n",
    "# input your authentication credentials\n",
    "access_token = \"1058146506975444993-A6AdRlmFWJAXasn07kQrzTQLfea0bz\"\n",
    "access_token_secret = \"iVlLH9fBzXqDrrZpPrxni5YcDlq9hqvUbdQZN1EwaZLXo\"\n",
    "consumer_key = \"KENcuXIfS0HJ9kpqEIeX4jeGJ\"\n",
    "consumer_secret = \"x8Z92urBjrNk1dEjn94i45b3esUNiPltQFubfOj1vQYVUkm4JA\"\n",
    "\n",
    "# Pass OAuth details to tweepy's OAuth handler\n",
    "auth = tweepy.OAuthHandler(consumer_key, consumer_secret)\n",
    "auth.set_access_token(access_token, access_token_secret)"
   ]
  },
  {
   "cell_type": "code",
   "execution_count": 115,
   "metadata": {},
   "outputs": [],
   "source": [
    "# create StreamListener class object\n",
    "class MyStreamListener(tweepy.StreamListener):\n",
    "    def __init__(self, api=None):\n",
    "        super(MyStreamListener, self).__init__()\n",
    "        self.num_tweets = 0\n",
    "        self.file = open(\"politics.txt\", \"w\") # find 'tweets.txt'\n",
    "\n",
    "    def on_status(self, status):\n",
    "        tweet = status._json\n",
    "        self.file.write( json.dumps(tweet) + '\\n' )\n",
    "        self.num_tweets += 1\n",
    "        if self.num_tweets < 5000:\n",
    "            return True\n",
    "        else:\n",
    "            return False\n",
    "        self.file.close()\n",
    "\n",
    "    def on_error(self, status):\n",
    "        print(status)\n",
    "\n",
    "# this class will save files into \"tweet.txt\" and stop at 5000 tweets"
   ]
  },
  {
   "cell_type": "code",
   "execution_count": 116,
   "metadata": {},
   "outputs": [],
   "source": [
    "# Initialize Stream listener\n",
    "listener = MyStreamListener()\n",
    "\n",
    "# use tweepy.Stream(auth, listener)\n",
    "# Create your Stream object with authentication\n",
    "stream = tweepy.Stream(auth, listener)\n",
    "\n",
    "\n",
    "# Filter Twitter Streams to capture data by the keywords:\n",
    "# use 'track=[]'\n",
    "stream.filter(track=[\"Beto\", \"Beto O\\'Rourke\", \"Ted Cruz\", \"Cruz\"])\n"
   ]
  },
  {
   "cell_type": "code",
   "execution_count": 119,
   "metadata": {},
   "outputs": [
    {
     "name": "stdout",
     "output_type": "stream",
     "text": [
      "dict_keys(['created_at', 'id', 'id_str', 'text', 'source', 'truncated', 'in_reply_to_status_id', 'in_reply_to_status_id_str', 'in_reply_to_user_id', 'in_reply_to_user_id_str', 'in_reply_to_screen_name', 'user', 'geo', 'coordinates', 'place', 'contributors', 'retweeted_status', 'quoted_status_id', 'quoted_status_id_str', 'quoted_status', 'quoted_status_permalink', 'is_quote_status', 'quote_count', 'reply_count', 'retweet_count', 'favorite_count', 'entities', 'favorited', 'retweeted', 'filter_level', 'lang', 'timestamp_ms'])\n"
     ]
    }
   ],
   "source": [
    "import requests\n",
    "\n",
    "\n",
    "\n",
    "# String of path to file: tweets_data_path\n",
    "tweets_data_path = \"politics.txt\"\n",
    "\n",
    "# Initialize empty list to store tweets: tweets_data\n",
    "tweets_data = []\n",
    "\n",
    "# Open connection to file\n",
    "tweets_file = open(tweets_data_path, \"r\")\n",
    "\n",
    "# Read in tweets and store in list: tweets_data\n",
    "for line in tweets_file:\n",
    "    tweet = json.loads(line)\n",
    "    tweets_data.append(tweet)\n",
    "\n",
    "# Close connection to file\n",
    "tweets_file.close()\n",
    "\n",
    "# Print the keys of the first tweet dict\n",
    "print(tweets_data[0].keys())"
   ]
  },
  {
   "cell_type": "code",
   "execution_count": 120,
   "metadata": {},
   "outputs": [
    {
     "data": {
      "text/html": [
       "<div>\n",
       "<style scoped>\n",
       "    .dataframe tbody tr th:only-of-type {\n",
       "        vertical-align: middle;\n",
       "    }\n",
       "\n",
       "    .dataframe tbody tr th {\n",
       "        vertical-align: top;\n",
       "    }\n",
       "\n",
       "    .dataframe thead th {\n",
       "        text-align: right;\n",
       "    }\n",
       "</style>\n",
       "<table border=\"1\" class=\"dataframe\">\n",
       "  <thead>\n",
       "    <tr style=\"text-align: right;\">\n",
       "      <th></th>\n",
       "      <th>text</th>\n",
       "      <th>lang</th>\n",
       "      <th>created_at</th>\n",
       "      <th>timestamp_ms</th>\n",
       "    </tr>\n",
       "  </thead>\n",
       "  <tbody>\n",
       "    <tr>\n",
       "      <th>0</th>\n",
       "      <td>RT @tedcruz: Hollywood liberals all in for Bet...</td>\n",
       "      <td>en</td>\n",
       "      <td>Mon Nov 05 23:09:22 +0000 2018</td>\n",
       "      <td>1541459362244</td>\n",
       "    </tr>\n",
       "    <tr>\n",
       "      <th>1</th>\n",
       "      <td>RT @chilenasa: Cáguense un rato de la Risa con...</td>\n",
       "      <td>es</td>\n",
       "      <td>Mon Nov 05 23:09:23 +0000 2018</td>\n",
       "      <td>1541459363106</td>\n",
       "    </tr>\n",
       "    <tr>\n",
       "      <th>2</th>\n",
       "      <td>RT @SethAbramson: RETWEET if you SUPPORT Democ...</td>\n",
       "      <td>en</td>\n",
       "      <td>Mon Nov 05 23:09:23 +0000 2018</td>\n",
       "      <td>1541459363090</td>\n",
       "    </tr>\n",
       "    <tr>\n",
       "      <th>3</th>\n",
       "      <td>RT @Chinohoven: Y’all got problems with politi...</td>\n",
       "      <td>en</td>\n",
       "      <td>Mon Nov 05 23:09:23 +0000 2018</td>\n",
       "      <td>1541459363432</td>\n",
       "    </tr>\n",
       "    <tr>\n",
       "      <th>4</th>\n",
       "      <td>RT @natalietbh: Jake Gyllenhaal just endorsed ...</td>\n",
       "      <td>en</td>\n",
       "      <td>Mon Nov 05 23:09:23 +0000 2018</td>\n",
       "      <td>1541459363476</td>\n",
       "    </tr>\n",
       "  </tbody>\n",
       "</table>\n",
       "</div>"
      ],
      "text/plain": [
       "                                                text lang  \\\n",
       "0  RT @tedcruz: Hollywood liberals all in for Bet...   en   \n",
       "1  RT @chilenasa: Cáguense un rato de la Risa con...   es   \n",
       "2  RT @SethAbramson: RETWEET if you SUPPORT Democ...   en   \n",
       "3  RT @Chinohoven: Y’all got problems with politi...   en   \n",
       "4  RT @natalietbh: Jake Gyllenhaal just endorsed ...   en   \n",
       "\n",
       "                       created_at   timestamp_ms  \n",
       "0  Mon Nov 05 23:09:22 +0000 2018  1541459362244  \n",
       "1  Mon Nov 05 23:09:23 +0000 2018  1541459363106  \n",
       "2  Mon Nov 05 23:09:23 +0000 2018  1541459363090  \n",
       "3  Mon Nov 05 23:09:23 +0000 2018  1541459363432  \n",
       "4  Mon Nov 05 23:09:23 +0000 2018  1541459363476  "
      ]
     },
     "execution_count": 120,
     "metadata": {},
     "output_type": "execute_result"
    }
   ],
   "source": [
    "# import pandas\n",
    "import pandas as pd\n",
    "\n",
    "# store in dataframe\n",
    "df = pd.DataFrame(tweets_data, columns = [\"text\", \"lang\", \"created_at\", \"timestamp_ms\"])\n",
    "df.head()"
   ]
  },
  {
   "cell_type": "code",
   "execution_count": 121,
   "metadata": {},
   "outputs": [
    {
     "name": "stdout",
     "output_type": "stream",
     "text": [
      "<class 'pandas.core.frame.DataFrame'>\n",
      "RangeIndex: 4999 entries, 0 to 4998\n",
      "Data columns (total 4 columns):\n",
      "text            4999 non-null object\n",
      "lang            4999 non-null object\n",
      "created_at      4999 non-null object\n",
      "timestamp_ms    4999 non-null object\n",
      "dtypes: object(4)\n",
      "memory usage: 78.1+ KB\n"
     ]
    }
   ],
   "source": [
    "df.info()"
   ]
  },
  {
   "cell_type": "code",
   "execution_count": 122,
   "metadata": {},
   "outputs": [],
   "source": [
    "def word_in_text(word, text):\n",
    "    word = word.lower()\n",
    "    text = tweet.lower()\n",
    "    match = re.search(word, text)\n",
    "\n",
    "    if match:\n",
    "        return True\n",
    "    return False"
   ]
  },
  {
   "cell_type": "code",
   "execution_count": 123,
   "metadata": {},
   "outputs": [
    {
     "name": "stdout",
     "output_type": "stream",
     "text": [
      "Beto's mentions in tweets  2567\n",
      "Cruz' mentions in tweets  2451\n"
     ]
    }
   ],
   "source": [
    "# creating function to count how many times word appeards in text\n",
    "\n",
    "# import re to search for keywords\n",
    "import re\n",
    "\n",
    "def word_in_text(word, text):\n",
    "    word = word.lower()\n",
    "    text = text.lower()\n",
    "    match = re.search(word, text)\n",
    "    \n",
    "    if match:\n",
    "        return True\n",
    "    else:\n",
    "        return False\n",
    "# empty lists for each keyword\n",
    "[Beto, beto_orourke, ted_cruz, Cruz] = [0, 0, 0, 0]\n",
    "\n",
    "for i, v in df.iterrows():\n",
    "    Beto += word_in_text(\"Beto\", v[\"text\"])\n",
    "    beto_orourke += word_in_text(\"Beto O\\'Rourke'\", v[\"text\"])\n",
    "    ted_cruz += word_in_text(\"Ted Cruz\", v[\"text\"])\n",
    "    Cruz += word_in_text(\"Cruz\", v[\"text\"])\n",
    "    \n",
    "beto, cruz = (Beto + beto_orourke), (ted_cruz + Cruz)\n",
    "print(\"Beto's mentions in tweets \", beto)\n",
    "print(\"Cruz' mentions in tweets \", cruz)"
   ]
  },
  {
   "cell_type": "markdown",
   "metadata": {},
   "source": [
    "## Findings:\n",
    "\n",
    "- After combining the variables, Beto has a higher absolute frequency of word occurences in the random sample of tweets - 2,567.\n",
    "- Cruz had an absolute frequency of 2,451"
   ]
  },
  {
   "cell_type": "code",
   "execution_count": 124,
   "metadata": {},
   "outputs": [
    {
     "data": {
      "image/png": "[encoded data removed]",
      "text/plain": [
       "<Figure size 576x504 with 1 Axes>"
      ]
     },
     "metadata": {},
     "output_type": "display_data"
    }
   ],
   "source": [
    "# Import packages\n",
    "import matplotlib.pyplot as plt\n",
    "import seaborn as sns\n",
    "%matplotlib inline\n",
    "\n",
    "\n",
    "# Set seaborn style\n",
    "sns.set(color_codes=True)\n",
    "\n",
    "# Create a list of labels:cd\n",
    "cd = [\"Beto O\\'Rourke\", \"Ted Cruz\"]\n",
    "\n",
    "# Plot histogram\n",
    "plt.style.use('fivethirtyeight')\n",
    "plt.figure(figsize=(8,7))\n",
    "ax = sns.barplot(cd, [beto, cruz])\n",
    "ax.set(ylabel='count')\n",
    "plt.ylabel(\"Mentions in tweet\",size=18)\n",
    "plt.title(\"Amount of mentions in tweets\")\n",
    "plt.xticks(size=18)\n",
    "plt.show()"
   ]
  },
  {
   "cell_type": "markdown",
   "metadata": {},
   "source": [
    "## Conclusion:\n",
    "\n",
    "After gathering the data and analyzing it, I see that Beto has more mentions on Twitter at the moment; but that doesnt necessarily mean he is more popular. In order to verify this I would need to find more data - polls, surveys, etc. Without more data, no definitive conclusions can be made. \n",
    "\n",
    "Nevertheless, the results do have some significance. At the moment - November 5, 2018 6:19 PM -  a lot of people are talking about both Beto and Cruz. And by the amount of mentions in the Twitter sample, its definitely going to be a close race. Both Beto and Cruz are mentioned a lot of times in the random sample. If there is one conclusion we can draw from this analysis, it is that this election is important to a lot of people and its definitely on the publics mind. Make you sure you go out and vote tomorrow!"
   ]
  },
  {
   "cell_type": "code",
   "execution_count": null,
   "metadata": {},
   "outputs": [],
   "source": []
  }
 ],
 "metadata": {
  "kernelspec": {
   "display_name": "Python 3",
   "language": "python",
   "name": "python3"
  },
  "language_info": {
   "codemirror_mode": {
    "name": "ipython",
    "version": 3
   },
   "file_extension": ".py",
   "mimetype": "text/x-python",
   "name": "python",
   "nbconvert_exporter": "python",
   "pygments_lexer": "ipython3",
   "version": "3.6.4"
  }
 },
 "nbformat": 4,
 "nbformat_minor": 2
}
