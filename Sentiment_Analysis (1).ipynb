{
  "nbformat": 4,
  "nbformat_minor": 0,
  "metadata": {
    "colab": {
      "name": "Sentiment_Analysis.ipynb",
      "version": "0.3.2",
      "provenance": [],
      "collapsed_sections": []
    },
    "kernelspec": {
      "name": "python3",
      "display_name": "Python 3"
    },
    "accelerator": "GPU"
  },
  "cells": [
    {
      "metadata": {
        "id": "M_6-8X4Oh1p4",
        "colab_type": "text"
      },
      "cell_type": "markdown",
      "source": [
        "# Sentiment Analysis Using Yelp, Amazon, and IMDB Reviews\n",
        "\n",
        "\n",
        "Using Google Colab Notebook with Tesla K80 GPU. Loading in data from Google Drive. Inspired by https://realpython.com/python-keras-text-classification/\n",
        "\n"
      ]
    },
    {
      "metadata": {
        "id": "fFm1secI2XdK",
        "colab_type": "text"
      },
      "cell_type": "markdown",
      "source": [
        "# Introduction\n",
        "\n",
        "Welcome! In this notebook I am going to do sentiment analysis using reviews from Yelp, Amazon, and IMDB. Inspired by a real python blog post, I wanted to compare various machine learning models, looking to see which one worked best: shallow methods like Logistic Regression or deeper methods like a CNN.\n",
        "\n",
        "# Guiding Question:\n",
        "\n",
        "Which model works best to classify reviews as positive or negative? Logistic Regression, Naive Bayes, Random Forests, KNN, SVM, or Neural Networks?\n",
        "\n",
        "# Workflow\n",
        "\n",
        "I'll start off by trying out some of the shallow methods. The workflow is as follows:\n",
        "\n",
        " - define problem\n",
        " - choose measure of success\n",
        " - evaluation protocol\n",
        " - prepare the data\n",
        " - modeling\n",
        " - hyperparameter optimization\n",
        " - summarize\n",
        " \n",
        "The feature preprocessing for the shallow methods will be a bit different from the deeper methods, but overall the process will be the same: find the best model, then optimize it. At the end we will compare our best 2 models, choosing the one with the best performance on the testing data.\n",
        "\n"
      ]
    },
    {
      "metadata": {
        "id": "fdndj_A-bYYG",
        "colab_type": "text"
      },
      "cell_type": "markdown",
      "source": [
        "# Shallow models:\n",
        "\n",
        "### Defining the problem\n",
        "\n",
        "Were looking to classify text as either having a positive sentiment or a negative sentiment, making this a binary classification problem. \n",
        "\n",
        "### Choosing a measure of Sucess\n",
        "\n",
        "We will be looking to optimize the accuracy of our model.\n",
        "\n",
        "### Evaluation protocol\n",
        "\n",
        "Were looking to test various models, finding the optimal hyperparameters of the model for each dataset. In order to do this we'll seperate our prepared data into training and testing sets. To get a baseline score of how well our model is performing, we will train the models on the training data, and evaluate their accuracy scores on the testing data. \n",
        "\n",
        "Once we find the top model, we will try to optimize it using GridSearchCV. We will use K-Fold Cross Validation to see how well our model generalizes. \n",
        "\n",
        "### Preparing the data\n",
        "\n",
        "Since I am using a Google Colab Notebook, Ill have to load in the datasets from my Google Drive. If you want to replicate this notebook, import drive from google.colab. You'll be provided with a url that'll take you to the authorization code. Copy and paste code. The datasets were downloaded from the UCI Machine Learning Repository and unzipped into drive: \n",
        "- https://archive.ics.uci.edu/ml/datasets/Sentiment+Labelled+Sentences\n",
        "\n",
        "\n",
        "\n",
        "\n"
      ]
    },
    {
      "metadata": {
        "id": "xpqeuTQGOkgO",
        "colab_type": "code",
        "outputId": "8f1bfb78-6a3a-4243-8069-6eee6809e2d0",
        "colab": {
          "base_uri": "https://localhost:8080/",
          "height": 128
        }
      },
      "cell_type": "code",
      "source": [
        "# only necessary if you are using Google Colab\n",
        "from google.colab import drive\n",
        "drive.mount('/content/drive/')"
      ],
      "execution_count": 1,
      "outputs": [
        {
          "output_type": "stream",
          "text": [
            "Go to this URL in a browser: https://accounts.google.com/o/oauth2/auth?client_id=947318989803-6bn6qk8qdgf4n4g3pfee6491hc0brc4i.apps.googleusercontent.com&redirect_uri=urn%3Aietf%3Awg%3Aoauth%3A2.0%3Aoob&scope=email%20https%3A%2F%2Fwww.googleapis.com%2Fauth%2Fdocs.test%20https%3A%2F%2Fwww.googleapis.com%2Fauth%2Fdrive%20https%3A%2F%2Fwww.googleapis.com%2Fauth%2Fdrive.photos.readonly%20https%3A%2F%2Fwww.googleapis.com%2Fauth%2Fpeopleapi.readonly&response_type=code\n",
            "\n",
            "Enter your authorization code:\n",
            "··········\n",
            "Mounted at /content/drive/\n"
          ],
          "name": "stdout"
        }
      ]
    },
    {
      "metadata": {
        "id": "sO0aMH41ewE2",
        "colab_type": "code",
        "outputId": "cfab2779-81b2-4d62-b583-5410d06b9cba",
        "colab": {
          "base_uri": "https://localhost:8080/",
          "height": 217
        }
      },
      "cell_type": "code",
      "source": [
        "!ls \"/content/drive/My Drive/Colab Notebooks\""
      ],
      "execution_count": 2,
      "outputs": [
        {
          "output_type": "stream",
          "text": [
            " 9c9cc17e8c7ef7ef46617853377f45f5-42df26fdf7740fdb678c8c622330c8c7c8f24570.zip\n",
            " amazon_cells_labelled.txt\n",
            "'Copy of 6 Convolutional Neural Networks.ipynb'\n",
            " image_recognition_system.ipynb\n",
            " imdb_labelled.txt\n",
            " mnist_cnn.py\n",
            " sentiment_analysis.ipynb\n",
            " Titanic.csv\n",
            " Untitled0.ipynb\n",
            " Untitled1.ipynb\n",
            " yelp_labelled.txt\n"
          ],
          "name": "stdout"
        }
      ]
    },
    {
      "metadata": {
        "id": "0V1KayOCfqD7",
        "colab_type": "text"
      },
      "cell_type": "markdown",
      "source": [
        "I will create one dataframe for all of the reviews. "
      ]
    },
    {
      "metadata": {
        "id": "Q6xL2qtjfgAs",
        "colab_type": "code",
        "outputId": "7ae66ac7-0ac6-43db-a51b-14dd7817531e",
        "colab": {
          "base_uri": "https://localhost:8080/",
          "height": 181
        }
      },
      "cell_type": "code",
      "source": [
        "import pandas as pd\n",
        "\n",
        "filepath_dict = {'yelp':   '/content/drive/My Drive/Colab Notebooks/yelp_labelled.txt',\n",
        "                 'amazon': '/content/drive/My Drive/Colab Notebooks/amazon_cells_labelled.txt',\n",
        "                 'imdb':   '/content/drive/My Drive/Colab Notebooks/imdb_labelled.txt'}\n",
        "dataframes = []\n",
        "for source, path in filepath_dict.items():\n",
        "  # load into df\n",
        "  df = pd.read_csv(path, names=['sentence','label'], sep='\\t')\n",
        "  # create name column\n",
        "  df['source'] = source\n",
        "  # add to dataframes\n",
        "  dataframes.append(df)\n",
        "  \n",
        "# combine into 1 df by stacking\n",
        "df = pd.concat(dataframes)\n",
        "print(df.info())  "
      ],
      "execution_count": 3,
      "outputs": [
        {
          "output_type": "stream",
          "text": [
            "<class 'pandas.core.frame.DataFrame'>\n",
            "Int64Index: 2748 entries, 0 to 747\n",
            "Data columns (total 3 columns):\n",
            "sentence    2748 non-null object\n",
            "label       2748 non-null int64\n",
            "source      2748 non-null object\n",
            "dtypes: int64(1), object(2)\n",
            "memory usage: 85.9+ KB\n",
            "None\n"
          ],
          "name": "stdout"
        }
      ]
    },
    {
      "metadata": {
        "id": "RDlEU0LAf7QJ",
        "colab_type": "text"
      },
      "cell_type": "markdown",
      "source": [
        "This isnt a huge dataset - less than 3,000 reviews. Lets take a look at one of the sources: Yelp"
      ]
    },
    {
      "metadata": {
        "id": "QpsGqRtJy2s1",
        "colab_type": "code",
        "outputId": "f3880da8-16b2-47de-c4fb-28f4ca0d42e3",
        "colab": {
          "base_uri": "https://localhost:8080/",
          "height": 198
        }
      },
      "cell_type": "code",
      "source": [
        "df_yelp = df[df[\"source\"] == \"yelp\"]\n",
        "df_yelp.head()"
      ],
      "execution_count": 4,
      "outputs": [
        {
          "output_type": "execute_result",
          "data": {
            "text/html": [
              "<div>\n",
              "<style scoped>\n",
              "    .dataframe tbody tr th:only-of-type {\n",
              "        vertical-align: middle;\n",
              "    }\n",
              "\n",
              "    .dataframe tbody tr th {\n",
              "        vertical-align: top;\n",
              "    }\n",
              "\n",
              "    .dataframe thead th {\n",
              "        text-align: right;\n",
              "    }\n",
              "</style>\n",
              "<table border=\"1\" class=\"dataframe\">\n",
              "  <thead>\n",
              "    <tr style=\"text-align: right;\">\n",
              "      <th></th>\n",
              "      <th>sentence</th>\n",
              "      <th>label</th>\n",
              "      <th>source</th>\n",
              "    </tr>\n",
              "  </thead>\n",
              "  <tbody>\n",
              "    <tr>\n",
              "      <th>0</th>\n",
              "      <td>Wow... Loved this place.</td>\n",
              "      <td>1</td>\n",
              "      <td>yelp</td>\n",
              "    </tr>\n",
              "    <tr>\n",
              "      <th>1</th>\n",
              "      <td>Crust is not good.</td>\n",
              "      <td>0</td>\n",
              "      <td>yelp</td>\n",
              "    </tr>\n",
              "    <tr>\n",
              "      <th>2</th>\n",
              "      <td>Not tasty and the texture was just nasty.</td>\n",
              "      <td>0</td>\n",
              "      <td>yelp</td>\n",
              "    </tr>\n",
              "    <tr>\n",
              "      <th>3</th>\n",
              "      <td>Stopped by during the late May bank holiday of...</td>\n",
              "      <td>1</td>\n",
              "      <td>yelp</td>\n",
              "    </tr>\n",
              "    <tr>\n",
              "      <th>4</th>\n",
              "      <td>The selection on the menu was great and so wer...</td>\n",
              "      <td>1</td>\n",
              "      <td>yelp</td>\n",
              "    </tr>\n",
              "  </tbody>\n",
              "</table>\n",
              "</div>"
            ],
            "text/plain": [
              "                                            sentence  label source\n",
              "0                           Wow... Loved this place.      1   yelp\n",
              "1                                 Crust is not good.      0   yelp\n",
              "2          Not tasty and the texture was just nasty.      0   yelp\n",
              "3  Stopped by during the late May bank holiday of...      1   yelp\n",
              "4  The selection on the menu was great and so wer...      1   yelp"
            ]
          },
          "metadata": {
            "tags": []
          },
          "execution_count": 4
        }
      ]
    },
    {
      "metadata": {
        "id": "k9q-0ukHNLj3",
        "colab_type": "code",
        "colab": {
          "base_uri": "https://localhost:8080/",
          "height": 163
        },
        "outputId": "2a41eca3-4b96-44ed-d175-f9a5a49a8b39"
      },
      "cell_type": "code",
      "source": [
        "df_yelp.info()"
      ],
      "execution_count": 5,
      "outputs": [
        {
          "output_type": "stream",
          "text": [
            "<class 'pandas.core.frame.DataFrame'>\n",
            "Int64Index: 1000 entries, 0 to 999\n",
            "Data columns (total 3 columns):\n",
            "sentence    1000 non-null object\n",
            "label       1000 non-null int64\n",
            "source      1000 non-null object\n",
            "dtypes: int64(1), object(2)\n",
            "memory usage: 31.2+ KB\n"
          ],
          "name": "stdout"
        }
      ]
    },
    {
      "metadata": {
        "id": "_oO0ETU0gsa9",
        "colab_type": "text"
      },
      "cell_type": "markdown",
      "source": [
        "Since we want to find a general model capable of predicting whether or not a review is positive or negative, we could combine all of the datasets together and try to model them as one; or we could model each of the datasets individually.\n",
        "\n",
        "Because we dont have a lot of data, I will combine them into one dataframe. I'll shuffle the index."
      ]
    },
    {
      "metadata": {
        "id": "gxMzaWMAhLkI",
        "colab_type": "code",
        "colab": {
          "base_uri": "https://localhost:8080/",
          "height": 198
        },
        "outputId": "e25d7697-134c-4657-c919-bee2acff06a5"
      },
      "cell_type": "code",
      "source": [
        "from sklearn.utils import shuffle\n",
        "df = shuffle(df)\n",
        "df.head()\n"
      ],
      "execution_count": 6,
      "outputs": [
        {
          "output_type": "execute_result",
          "data": {
            "text/html": [
              "<div>\n",
              "<style scoped>\n",
              "    .dataframe tbody tr th:only-of-type {\n",
              "        vertical-align: middle;\n",
              "    }\n",
              "\n",
              "    .dataframe tbody tr th {\n",
              "        vertical-align: top;\n",
              "    }\n",
              "\n",
              "    .dataframe thead th {\n",
              "        text-align: right;\n",
              "    }\n",
              "</style>\n",
              "<table border=\"1\" class=\"dataframe\">\n",
              "  <thead>\n",
              "    <tr style=\"text-align: right;\">\n",
              "      <th></th>\n",
              "      <th>sentence</th>\n",
              "      <th>label</th>\n",
              "      <th>source</th>\n",
              "    </tr>\n",
              "  </thead>\n",
              "  <tbody>\n",
              "    <tr>\n",
              "      <th>85</th>\n",
              "      <td>I love the Pho and the spring rolls oh so yumm...</td>\n",
              "      <td>1</td>\n",
              "      <td>yelp</td>\n",
              "    </tr>\n",
              "    <tr>\n",
              "      <th>328</th>\n",
              "      <td>His losing his marbles so early in the proceed...</td>\n",
              "      <td>0</td>\n",
              "      <td>imdb</td>\n",
              "    </tr>\n",
              "    <tr>\n",
              "      <th>166</th>\n",
              "      <td>This place is hands-down one of the best place...</td>\n",
              "      <td>1</td>\n",
              "      <td>yelp</td>\n",
              "    </tr>\n",
              "    <tr>\n",
              "      <th>794</th>\n",
              "      <td>My brother in law who works at the mall ate he...</td>\n",
              "      <td>0</td>\n",
              "      <td>yelp</td>\n",
              "    </tr>\n",
              "    <tr>\n",
              "      <th>597</th>\n",
              "      <td>It was clear that she had the range and abilit...</td>\n",
              "      <td>1</td>\n",
              "      <td>imdb</td>\n",
              "    </tr>\n",
              "  </tbody>\n",
              "</table>\n",
              "</div>"
            ],
            "text/plain": [
              "                                              sentence  label source\n",
              "85   I love the Pho and the spring rolls oh so yumm...      1   yelp\n",
              "328  His losing his marbles so early in the proceed...      0   imdb\n",
              "166  This place is hands-down one of the best place...      1   yelp\n",
              "794  My brother in law who works at the mall ate he...      0   yelp\n",
              "597  It was clear that she had the range and abilit...      1   imdb"
            ]
          },
          "metadata": {
            "tags": []
          },
          "execution_count": 6
        }
      ]
    },
    {
      "metadata": {
        "id": "uGJP4i5ctUxf",
        "colab_type": "text"
      },
      "cell_type": "markdown",
      "source": [
        "Load in some libraries we may, or may not use"
      ]
    },
    {
      "metadata": {
        "id": "wPda5ZRxm3h_",
        "colab_type": "code",
        "outputId": "89edf050-f9ce-42d5-b40b-62d1041fe535",
        "colab": {
          "base_uri": "https://localhost:8080/",
          "height": 35
        }
      },
      "cell_type": "code",
      "source": [
        "from keras.models import Sequential\n",
        "from keras import layers\n",
        "from keras.optimizers import Adam, RMSprop\n",
        "from sklearn.linear_model import LogisticRegression\n",
        "from keras.wrappers.scikit_learn import KerasClassifier\n",
        "from sklearn.model_selection import RandomizedSearchCV\n",
        "from sklearn.model_selection import GridSearchCV\n",
        "from sklearn.model_selection import train_test_split\n",
        "from keras.preprocessing.sequence import pad_sequences\n",
        "from keras.preprocessing.text import Tokenizer\n",
        "from sklearn.svm import SVC\n",
        "from sklearn.neighbors import KNeighborsClassifier\n",
        "from sklearn.ensemble import RandomForestClassifier\n",
        "from sklearn.naive_bayes import MultinomialNB\n",
        "from sklearn.feature_extraction.text import TfidfVectorizer\n",
        "from sklearn.preprocessing import StandardScaler\n",
        "from sklearn.pipeline import make_pipeline\n",
        "from sklearn.model_selection import KFold\n",
        "import numpy as np\n",
        "import matplotlib.pyplot as plt\n",
        "import keras.backend as K\n",
        "from keras.callbacks import EarlyStopping"
      ],
      "execution_count": 7,
      "outputs": [
        {
          "output_type": "stream",
          "text": [
            "Using TensorFlow backend.\n"
          ],
          "name": "stderr"
        }
      ]
    },
    {
      "metadata": {
        "id": "PHzFZdAdXldi",
        "colab_type": "text"
      },
      "cell_type": "markdown",
      "source": [
        "### Preparing the data"
      ]
    },
    {
      "metadata": {
        "id": "5vMiYY99hdQt",
        "colab_type": "code",
        "outputId": "a89883b0-29d1-4897-ac3f-bc4441498b01",
        "colab": {
          "base_uri": "https://localhost:8080/",
          "height": 35
        }
      },
      "cell_type": "code",
      "source": [
        "X = df[\"sentence\"].values\n",
        "y = df[\"label\"].values\n",
        "X.shape, y.shape"
      ],
      "execution_count": 8,
      "outputs": [
        {
          "output_type": "execute_result",
          "data": {
            "text/plain": [
              "((2748,), (2748,))"
            ]
          },
          "metadata": {
            "tags": []
          },
          "execution_count": 8
        }
      ]
    },
    {
      "metadata": {
        "id": "-aHbklTHbnCB",
        "colab_type": "code",
        "colab": {
          "base_uri": "https://localhost:8080/",
          "height": 35
        },
        "outputId": "b1006a13-bb18-48b2-b213-39fec213b2b2"
      },
      "cell_type": "code",
      "source": [
        "X_train, X_test, y_train, y_test = train_test_split(X, y, test_size=0.3, random_state=0)\n",
        "X_train.shape, X_test.shape"
      ],
      "execution_count": 9,
      "outputs": [
        {
          "output_type": "execute_result",
          "data": {
            "text/plain": [
              "((1923,), (825,))"
            ]
          },
          "metadata": {
            "tags": []
          },
          "execution_count": 9
        }
      ]
    },
    {
      "metadata": {
        "id": "Jz8laCSGdGuU",
        "colab_type": "code",
        "colab": {
          "base_uri": "https://localhost:8080/",
          "height": 35
        },
        "outputId": "b6064ace-0286-4b8e-bb4c-d13788a5d135"
      },
      "cell_type": "code",
      "source": [
        "y_train.shape, y_test.shape"
      ],
      "execution_count": 10,
      "outputs": [
        {
          "output_type": "execute_result",
          "data": {
            "text/plain": [
              "((1923,), (825,))"
            ]
          },
          "metadata": {
            "tags": []
          },
          "execution_count": 10
        }
      ]
    },
    {
      "metadata": {
        "id": "nLurWfdWdJrG",
        "colab_type": "code",
        "colab": {
          "base_uri": "https://localhost:8080/",
          "height": 35
        },
        "outputId": "de2cb493-6240-4ce7-f11f-7a4e83bda7fb"
      },
      "cell_type": "code",
      "source": [
        "# vectorize\n",
        "vectorizer = TfidfVectorizer()\n",
        "X_train_vec = vectorizer.fit_transform(X_train)\n",
        "X_test_vec = vectorizer.transform(X_test)\n",
        "\n",
        "\n",
        "\n",
        "print(X_train_vec.shape, X_test_vec.shape)"
      ],
      "execution_count": 11,
      "outputs": [
        {
          "output_type": "stream",
          "text": [
            "(1923, 4155) (825, 4155)\n"
          ],
          "name": "stdout"
        }
      ]
    },
    {
      "metadata": {
        "id": "fUAqE8ZwpeQl",
        "colab_type": "text"
      },
      "cell_type": "markdown",
      "source": [
        "### Modeling"
      ]
    },
    {
      "metadata": {
        "id": "8Na_IIeqXzw4",
        "colab_type": "code",
        "colab": {
          "base_uri": "https://localhost:8080/",
          "height": 237
        },
        "outputId": "6061051c-d863-4a4a-d71d-ee7db1b2e6c2"
      },
      "cell_type": "code",
      "source": [
        "# models list\n",
        "models = [(\"LR\", LogisticRegression(random_state=0)),\n",
        "          (\"NB\", MultinomialNB()),\n",
        "          (\"RF\", RandomForestClassifier(random_state=0)), \n",
        "          (\"KNN\", KNeighborsClassifier()),\n",
        "         (\"SVC\", SVC(random_state=0))]\n",
        "\n",
        "# dictionary to store scores and model names\n",
        "results = {}\n",
        "\n",
        "# iterate through models list\n",
        "for name, mod in models:\n",
        "  model = mod\n",
        "  model.fit(X_train_vec, y_train)\n",
        "  score = model.score(X_test_vec, y_test)\n",
        "  results[name] = score\n",
        "  \n",
        "results"
      ],
      "execution_count": 12,
      "outputs": [
        {
          "output_type": "stream",
          "text": [
            "/usr/local/lib/python3.6/dist-packages/sklearn/linear_model/logistic.py:433: FutureWarning: Default solver will be changed to 'lbfgs' in 0.22. Specify a solver to silence this warning.\n",
            "  FutureWarning)\n",
            "/usr/local/lib/python3.6/dist-packages/sklearn/ensemble/forest.py:246: FutureWarning: The default value of n_estimators will change from 10 in version 0.20 to 100 in 0.22.\n",
            "  \"10 in version 0.20 to 100 in 0.22.\", FutureWarning)\n",
            "/usr/local/lib/python3.6/dist-packages/sklearn/svm/base.py:196: FutureWarning: The default value of gamma will change from 'auto' to 'scale' in version 0.22 to account better for unscaled features. Set gamma explicitly to 'auto' or 'scale' to avoid this warning.\n",
            "  \"avoid this warning.\", FutureWarning)\n"
          ],
          "name": "stderr"
        },
        {
          "output_type": "execute_result",
          "data": {
            "text/plain": [
              "{'KNN': 0.776969696969697,\n",
              " 'LR': 0.8303030303030303,\n",
              " 'NB': 0.8254545454545454,\n",
              " 'RF': 0.7503030303030302,\n",
              " 'SVC': 0.503030303030303}"
            ]
          },
          "metadata": {
            "tags": []
          },
          "execution_count": 12
        }
      ]
    },
    {
      "metadata": {
        "id": "SE3OR86viavX",
        "colab_type": "text"
      },
      "cell_type": "markdown",
      "source": [
        "- Logistic Regression 83.03% accuracy\n",
        "- Naive Bayes 82.54% accuracy\n",
        "\n",
        "Lets try to find the optimal model for both the Naive Bayes and the Logistic Regression.\n",
        "\n",
        "### Hyperparameter optimization"
      ]
    },
    {
      "metadata": {
        "id": "_KSAn_4Uih-L",
        "colab_type": "code",
        "outputId": "f1e2654f-a59b-4850-b6a9-c2d5e47734ff",
        "colab": {
          "base_uri": "https://localhost:8080/",
          "height": 145
        }
      },
      "cell_type": "code",
      "source": [
        "# parameter dictionary for naive bayes\n",
        "params = {\"alpha\": [0.001,0.01,0.1,1,10,100]}\n",
        "\n",
        "# instantiate model\n",
        "nb = MultinomialNB()\n",
        "\n",
        "# gridsearch with K-Fold cv\n",
        "kfold = KFold(n_splits=3, shuffle=True, random_state=0)\n",
        "\n",
        "nb_grid = GridSearchCV(nb,\n",
        "                      param_grid=params,\n",
        "                      scoring='accuracy',\n",
        "                      cv=kfold)\n",
        "nb_grid.fit(X_train_vec, y_train)\n"
      ],
      "execution_count": 13,
      "outputs": [
        {
          "output_type": "execute_result",
          "data": {
            "text/plain": [
              "GridSearchCV(cv=KFold(n_splits=3, random_state=0, shuffle=True),\n",
              "       error_score='raise-deprecating',\n",
              "       estimator=MultinomialNB(alpha=1.0, class_prior=None, fit_prior=True),\n",
              "       fit_params=None, iid='warn', n_jobs=None,\n",
              "       param_grid={'alpha': [0.001, 0.01, 0.1, 1, 10, 100]},\n",
              "       pre_dispatch='2*n_jobs', refit=True, return_train_score='warn',\n",
              "       scoring='accuracy', verbose=0)"
            ]
          },
          "metadata": {
            "tags": []
          },
          "execution_count": 13
        }
      ]
    },
    {
      "metadata": {
        "id": "sGpFiZsajdQH",
        "colab_type": "code",
        "colab": {
          "base_uri": "https://localhost:8080/",
          "height": 54
        },
        "outputId": "2a8b91b1-4b9e-440a-ad48-4cd539bdf814"
      },
      "cell_type": "code",
      "source": [
        "print(f\"Best params: {nb_grid.best_params_}\")\n",
        "print(f\"Best score: {nb_grid.best_score_}\")"
      ],
      "execution_count": 14,
      "outputs": [
        {
          "output_type": "stream",
          "text": [
            "Best params: {'alpha': 0.1}\n",
            "Best score: 0.7919916796671866\n"
          ],
          "name": "stdout"
        }
      ]
    },
    {
      "metadata": {
        "id": "tj4kEUVAuEJF",
        "colab_type": "code",
        "colab": {
          "base_uri": "https://localhost:8080/",
          "height": 35
        },
        "outputId": "35ebfb9f-c237-41dd-88b3-3a8fc2055701"
      },
      "cell_type": "code",
      "source": [
        "best_nb = nb_grid.best_estimator_\n",
        "best_nb"
      ],
      "execution_count": 15,
      "outputs": [
        {
          "output_type": "execute_result",
          "data": {
            "text/plain": [
              "MultinomialNB(alpha=0.1, class_prior=None, fit_prior=True)"
            ]
          },
          "metadata": {
            "tags": []
          },
          "execution_count": 15
        }
      ]
    },
    {
      "metadata": {
        "id": "nZILA5JFZY1P",
        "colab_type": "code",
        "colab": {
          "base_uri": "https://localhost:8080/",
          "height": 255
        },
        "outputId": "82d86ed4-70d4-4166-90f1-70c15be7bb2e"
      },
      "cell_type": "code",
      "source": [
        "# parameter dictionary for naive bayes\n",
        "params = {\"C\": [0.001,0.01,0.1,1,10,100],\n",
        "         \"penalty\": [\"l1\", \"l2\"]}\n",
        "\n",
        "# instantiate model\n",
        "lr = LogisticRegression(random_state=0)\n",
        "\n",
        "# gridsearch with K-Fold cv\n",
        "kfold = KFold(n_splits=3, shuffle=True, random_state=0)\n",
        "\n",
        "lr_grid = GridSearchCV(lr,\n",
        "                      param_grid=params,\n",
        "                      scoring='accuracy',\n",
        "                      cv=kfold)\n",
        "lr_grid.fit(X_train_vec, y_train)"
      ],
      "execution_count": 45,
      "outputs": [
        {
          "output_type": "stream",
          "text": [
            "/usr/local/lib/python3.6/dist-packages/sklearn/linear_model/logistic.py:433: FutureWarning: Default solver will be changed to 'lbfgs' in 0.22. Specify a solver to silence this warning.\n",
            "  FutureWarning)\n"
          ],
          "name": "stderr"
        },
        {
          "output_type": "execute_result",
          "data": {
            "text/plain": [
              "GridSearchCV(cv=KFold(n_splits=3, random_state=0, shuffle=True),\n",
              "       error_score='raise-deprecating',\n",
              "       estimator=LogisticRegression(C=1.0, class_weight=None, dual=False, fit_intercept=True,\n",
              "          intercept_scaling=1, max_iter=100, multi_class='warn',\n",
              "          n_jobs=None, penalty='l2', random_state=0, solver='warn',\n",
              "          tol=0.0001, verbose=0, warm_start=False),\n",
              "       fit_params=None, iid='warn', n_jobs=None,\n",
              "       param_grid={'C': [0.001, 0.01, 0.1, 1, 10, 100], 'penalty': ['l1', 'l2']},\n",
              "       pre_dispatch='2*n_jobs', refit=True, return_train_score='warn',\n",
              "       scoring='accuracy', verbose=0)"
            ]
          },
          "metadata": {
            "tags": []
          },
          "execution_count": 45
        }
      ]
    },
    {
      "metadata": {
        "id": "zBbnxAp8Zow-",
        "colab_type": "code",
        "colab": {
          "base_uri": "https://localhost:8080/",
          "height": 54
        },
        "outputId": "75cb8047-3d2b-44ec-b738-f0719b89410d"
      },
      "cell_type": "code",
      "source": [
        "print(f\"Best params: {lr_grid.best_params_}\")\n",
        "print(f\"Best score: {lr_grid.best_score_}\")"
      ],
      "execution_count": 46,
      "outputs": [
        {
          "output_type": "stream",
          "text": [
            "Best params: {'C': 10, 'penalty': 'l2'}\n",
            "Best score: 0.8070722828913156\n"
          ],
          "name": "stdout"
        }
      ]
    },
    {
      "metadata": {
        "id": "s0E8AKK4ZrLL",
        "colab_type": "code",
        "colab": {
          "base_uri": "https://localhost:8080/",
          "height": 90
        },
        "outputId": "6faff4aa-e571-4571-a778-d505f26e2903"
      },
      "cell_type": "code",
      "source": [
        "best_lr = lr_grid.best_estimator_\n",
        "best_lr"
      ],
      "execution_count": 47,
      "outputs": [
        {
          "output_type": "execute_result",
          "data": {
            "text/plain": [
              "LogisticRegression(C=10, class_weight=None, dual=False, fit_intercept=True,\n",
              "          intercept_scaling=1, max_iter=100, multi_class='warn',\n",
              "          n_jobs=None, penalty='l2', random_state=0, solver='warn',\n",
              "          tol=0.0001, verbose=0, warm_start=False)"
            ]
          },
          "metadata": {
            "tags": []
          },
          "execution_count": 47
        }
      ]
    },
    {
      "metadata": {
        "id": "nxyYPFadjPkq",
        "colab_type": "text"
      },
      "cell_type": "markdown",
      "source": [
        "Using grid search we found the best hyperparameters of the Naive Bayes to be Alpha = 0.1. The best model got an accuracy of 79.2% - not much different from before optimization. \n",
        "\n",
        "Our best Logistic Regression model used L2 regularization and had a C = 10. Its best score was 80.7%.\n",
        "\n",
        "Now lets try out some deep methods to see how they perform.\n",
        "\n",
        "\n",
        "# Deep Models:\n",
        "\n",
        "### Defining the problem\n",
        "\n",
        "Binary classification\n",
        "\n",
        "### Choosing a measure of sucess\n",
        "\n",
        "Loss function: categorical_crossentropy\n",
        "optimzers: adam, rmsprop\n",
        "metrics: accuracy\n",
        "\n",
        "### Evaluation protocol\n",
        "\n",
        "- Train 70%, test 30% for training\n",
        "- K-Fold with 3 splits during hyperparameter optimization\n",
        "\n",
        "### Preparing the data\n",
        "\n",
        "For deeper models we will want to use a dense matrix instead of a sparse matrix. To do this we will first tokenize the text into sequences, which will be padded with zeros. \n"
      ]
    },
    {
      "metadata": {
        "id": "4UrFYTQTjeCI",
        "colab_type": "code",
        "outputId": "1616ce91-d389-4c94-eedf-41d156048b0b",
        "colab": {
          "base_uri": "https://localhost:8080/",
          "height": 35
        }
      },
      "cell_type": "code",
      "source": [
        "# from earlier\n",
        "X.shape, y.shape"
      ],
      "execution_count": 16,
      "outputs": [
        {
          "output_type": "execute_result",
          "data": {
            "text/plain": [
              "((2748,), (2748,))"
            ]
          },
          "metadata": {
            "tags": []
          },
          "execution_count": 16
        }
      ]
    },
    {
      "metadata": {
        "id": "kt-Dru2izItD",
        "colab_type": "code",
        "colab": {
          "base_uri": "https://localhost:8080/",
          "height": 165
        },
        "outputId": "19fe72d6-c308-4942-90a5-1e4dfe7d58dd"
      },
      "cell_type": "code",
      "source": [
        "X"
      ],
      "execution_count": 17,
      "outputs": [
        {
          "output_type": "execute_result",
          "data": {
            "text/plain": [
              "array(['I love the Pho and the spring rolls oh so yummy you have to try.',\n",
              "       'His losing his marbles so early in the proceedings is totally implausible and unconvincing.  ',\n",
              "       'This place is hands-down one of the best places to eat in the Phoenix metro area.',\n",
              "       ...,\n",
              "       \"The building itself seems pretty neat; the bathroom is pretty trippy, but I wouldn't eat here again.\",\n",
              "       'I had strawberry tea, which was good.',\n",
              "       'T-Mobile has the best customer service anywhere.'], dtype=object)"
            ]
          },
          "metadata": {
            "tags": []
          },
          "execution_count": 17
        }
      ]
    },
    {
      "metadata": {
        "id": "YQRxKfohlaT4",
        "colab_type": "code",
        "outputId": "d7991d00-6a3f-457f-b1c5-bb50a40d7bb5",
        "colab": {
          "base_uri": "https://localhost:8080/",
          "height": 35
        }
      },
      "cell_type": "code",
      "source": [
        "X_train, X_test, y_train, y_test = train_test_split(X, y, test_size=0.3, random_state=0)\n",
        "X_train.shape, X_test.shape"
      ],
      "execution_count": 18,
      "outputs": [
        {
          "output_type": "execute_result",
          "data": {
            "text/plain": [
              "((1923,), (825,))"
            ]
          },
          "metadata": {
            "tags": []
          },
          "execution_count": 18
        }
      ]
    },
    {
      "metadata": {
        "id": "TH6eHeSylfw-",
        "colab_type": "code",
        "colab": {}
      },
      "cell_type": "code",
      "source": [
        "tokenizer = Tokenizer(num_words=5000)\n",
        "tokenizer.fit_on_texts(X_train)\n",
        "\n",
        "X_train_tk = tokenizer.texts_to_sequences(X_train)\n",
        "X_test_tk = tokenizer.texts_to_sequences(X_test)\n"
      ],
      "execution_count": 0,
      "outputs": []
    },
    {
      "metadata": {
        "id": "VQkWrXp90JYq",
        "colab_type": "text"
      },
      "cell_type": "markdown",
      "source": [
        "We set the num_words to 5,000. Now we have a vocab of 4,308 words.\n",
        "\n",
        "Lets now pad them using the pad_sequences() function. We'll set the maxlen of the sequences to 100."
      ]
    },
    {
      "metadata": {
        "id": "PnCfrNl00Itl",
        "colab_type": "code",
        "colab": {
          "base_uri": "https://localhost:8080/",
          "height": 35
        },
        "outputId": "e660ea6c-99e6-4823-b91b-418d720efd73"
      },
      "cell_type": "code",
      "source": [
        "maxlen = 100\n",
        "vocab_size = len(tokenizer.word_index) + 1\n",
        "\n",
        "\n",
        "# X_train/test_nn stands for neural networks\n",
        "# this will help me distinguish between the sparse and dense vectors\n",
        "\n",
        "X_train_nn = pad_sequences(X_train_tk, maxlen=maxlen)\n",
        "X_test_nn = pad_sequences(X_test_tk, maxlen=maxlen)\n",
        "\n",
        "X_train_nn.shape, X_test_nn.shape\n"
      ],
      "execution_count": 20,
      "outputs": [
        {
          "output_type": "execute_result",
          "data": {
            "text/plain": [
              "((1923, 100), (825, 100))"
            ]
          },
          "metadata": {
            "tags": []
          },
          "execution_count": 20
        }
      ]
    },
    {
      "metadata": {
        "id": "FRLi0suJ14tT",
        "colab_type": "text"
      },
      "cell_type": "markdown",
      "source": [
        "Our data now has 100 dimensions. Before we input into the model we need to establish some parameters for the embedding layer:\n",
        "\n",
        "\n",
        "- input_dim = vocab_size (4308)\n",
        "- output_dim = embedding_dim (50) or batch_size\n",
        "- input_length= maxlen (100)\n",
        "\n",
        "### Modeling\n",
        "\n",
        "This part will be a little different from the earlier models. Instead of using a set of different models and finding the best one, well try a few different architectures from scratch. Once we find a solid network architecture that gives us decent accuracy, we can then try to optimize it.\n",
        "\n",
        "\n",
        "Lets start with a convolutional neural network. Ill try out a smaller convolutional network first, then one with more layers."
      ]
    },
    {
      "metadata": {
        "id": "s7MpljaB139O",
        "colab_type": "code",
        "colab": {
          "base_uri": "https://localhost:8080/",
          "height": 326
        },
        "outputId": "0f9ccc71-0309-4749-ef28-14ee779daf3d"
      },
      "cell_type": "code",
      "source": [
        "# build model_a: CNN\n",
        "embedding_dim = 50\n",
        "K.clear_session()\n",
        "\n",
        "model_a = Sequential()\n",
        "model_a.add(layers.Embedding(vocab_size, embedding_dim, input_length=maxlen))\n",
        "model_a.add(layers.Conv1D(32, 5, activation='relu'))\n",
        "model_a.add(layers.GlobalMaxPooling1D())\n",
        "model_a.add(layers.Dense(10, activation='relu'))\n",
        "model_a.add(layers.Dense(1, activation='sigmoid'))\n",
        "\n",
        "# compile\n",
        "model_a.compile(optimizer='rmsprop',\n",
        "             loss='binary_crossentropy',\n",
        "             metrics=['accuracy'])\n",
        "model_a.summary()"
      ],
      "execution_count": 21,
      "outputs": [
        {
          "output_type": "stream",
          "text": [
            "_________________________________________________________________\n",
            "Layer (type)                 Output Shape              Param #   \n",
            "=================================================================\n",
            "embedding_1 (Embedding)      (None, 100, 50)           212200    \n",
            "_________________________________________________________________\n",
            "conv1d_1 (Conv1D)            (None, 96, 32)            8032      \n",
            "_________________________________________________________________\n",
            "global_max_pooling1d_1 (Glob (None, 32)                0         \n",
            "_________________________________________________________________\n",
            "dense_1 (Dense)              (None, 10)                330       \n",
            "_________________________________________________________________\n",
            "dense_2 (Dense)              (None, 1)                 11        \n",
            "=================================================================\n",
            "Total params: 220,573\n",
            "Trainable params: 220,573\n",
            "Non-trainable params: 0\n",
            "_________________________________________________________________\n"
          ],
          "name": "stdout"
        }
      ]
    },
    {
      "metadata": {
        "id": "lY-oGmXe7RDB",
        "colab_type": "code",
        "colab": {
          "base_uri": "https://localhost:8080/",
          "height": 419
        },
        "outputId": "44cb6035-5fbe-408c-b1bc-0786516e019f"
      },
      "cell_type": "code",
      "source": [
        "# train model and store history to visualize\n",
        "history_a = model_a.fit(X_train_nn, y_train,\n",
        "                   epochs=10,\n",
        "                   batch_size=10,\n",
        "                   validation_split=0.1)"
      ],
      "execution_count": 22,
      "outputs": [
        {
          "output_type": "stream",
          "text": [
            "Train on 1730 samples, validate on 193 samples\n",
            "Epoch 1/10\n",
            "1730/1730 [==============================] - 6s 3ms/step - loss: 0.6762 - acc: 0.5954 - val_loss: 0.6383 - val_acc: 0.6839\n",
            "Epoch 2/10\n",
            "1730/1730 [==============================] - 1s 735us/step - loss: 0.5080 - acc: 0.8168 - val_loss: 0.4915 - val_acc: 0.7927\n",
            "Epoch 3/10\n",
            "1730/1730 [==============================] - 1s 744us/step - loss: 0.3244 - acc: 0.8931 - val_loss: 0.4567 - val_acc: 0.8031\n",
            "Epoch 4/10\n",
            "1730/1730 [==============================] - 1s 717us/step - loss: 0.2105 - acc: 0.9295 - val_loss: 0.4454 - val_acc: 0.8187\n",
            "Epoch 5/10\n",
            "1730/1730 [==============================] - 1s 717us/step - loss: 0.1449 - acc: 0.9526 - val_loss: 0.4676 - val_acc: 0.8342\n",
            "Epoch 6/10\n",
            "1730/1730 [==============================] - 1s 703us/step - loss: 0.0990 - acc: 0.9705 - val_loss: 0.4717 - val_acc: 0.8238\n",
            "Epoch 7/10\n",
            "1730/1730 [==============================] - 1s 718us/step - loss: 0.0710 - acc: 0.9803 - val_loss: 0.5105 - val_acc: 0.8342\n",
            "Epoch 8/10\n",
            "1730/1730 [==============================] - 1s 707us/step - loss: 0.0472 - acc: 0.9879 - val_loss: 0.5459 - val_acc: 0.8290\n",
            "Epoch 9/10\n",
            "1730/1730 [==============================] - 1s 707us/step - loss: 0.0325 - acc: 0.9925 - val_loss: 0.6092 - val_acc: 0.8342\n",
            "Epoch 10/10\n",
            "1730/1730 [==============================] - 1s 712us/step - loss: 0.0215 - acc: 0.9948 - val_loss: 0.6668 - val_acc: 0.8187\n"
          ],
          "name": "stdout"
        }
      ]
    },
    {
      "metadata": {
        "id": "OGKg1tAd8GoD",
        "colab_type": "code",
        "colab": {
          "base_uri": "https://localhost:8080/",
          "height": 376
        },
        "outputId": "c1ce7583-9633-4bc0-9bda-da6884f6ab19"
      },
      "cell_type": "code",
      "source": [
        "history_dict_a = history_a.history\n",
        "loss = history_dict_a['loss']\n",
        "val_loss = history_dict_a['val_loss']\n",
        "acc = history_dict_a['acc']\n",
        "val_acc = history_dict_a['val_acc']\n",
        "\n",
        "epochs = range(1,11)\n",
        "plt.plot(epochs, loss, c='r', label='Training loss')\n",
        "plt.plot(epochs, val_loss, c='b', label='Validation loss')\n",
        "plt.title('Model A Training and Validation loss')\n",
        "plt.xlabel('Epochs')\n",
        "plt.ylabel('Loss')\n",
        "plt.legend()\n",
        "plt.show()"
      ],
      "execution_count": 23,
      "outputs": [
        {
          "output_type": "display_data",
          "data": {
            "image/png": "[encoded data removed]",
            "text/plain": [
              "<matplotlib.figure.Figure at 0x7f4f825bd470>"
            ]
          },
          "metadata": {
            "tags": []
          }
        }
      ]
    },
    {
      "metadata": {
        "id": "Wv2BjhRK8TzK",
        "colab_type": "code",
        "colab": {
          "base_uri": "https://localhost:8080/",
          "height": 376
        },
        "outputId": "1835ab36-9737-4725-96e8-535396d6fa7c"
      },
      "cell_type": "code",
      "source": [
        "plt.plot(epochs, acc, c='r', label='Training Accuracy')\n",
        "plt.plot(epochs, val_acc, c='b', label='Validation Accuracy')\n",
        "plt.title('Model A Training and Validation Accuracy')\n",
        "plt.xlabel('Epochs')\n",
        "plt.ylabel('Accuracy')\n",
        "plt.legend()\n",
        "plt.show()"
      ],
      "execution_count": 24,
      "outputs": [
        {
          "output_type": "display_data",
          "data": {
            "image/png": "[encoded data removed]",
            "text/plain": [
              "<matplotlib.figure.Figure at 0x7f4f825b5cc0>"
            ]
          },
          "metadata": {
            "tags": []
          }
        }
      ]
    },
    {
      "metadata": {
        "id": "HtduCdgGut36",
        "colab_type": "text"
      },
      "cell_type": "markdown",
      "source": [
        "Lets now try a deeper model."
      ]
    },
    {
      "metadata": {
        "id": "Q2q9Ncjw4hKO",
        "colab_type": "code",
        "colab": {
          "base_uri": "https://localhost:8080/",
          "height": 583
        },
        "outputId": "2cfbb136-162f-48fa-e4e0-93ea9ee69751"
      },
      "cell_type": "code",
      "source": [
        "K.clear_session()\n",
        "model_a2 = Sequential()\n",
        "model_a2.add(layers.Embedding(vocab_size, 32))\n",
        "model_a2.add(layers.Conv1D(32, 5, activation='relu'))\n",
        "model_a2.add(layers.MaxPooling1D())\n",
        "model_a2.add(layers.Conv1D(32, 5, activation='relu'))\n",
        "model_a2.add(layers.GlobalMaxPooling1D())\n",
        "model_a2.add(layers.Dense(10, activation='relu'))\n",
        "model_a2.add(layers.Dropout(0.25))\n",
        "model_a2.add(layers.Dense(1, activation='sigmoid'))\n",
        "\n",
        "# early stopping to help with overfitting\n",
        "early_stop = EarlyStopping(monitor='val_acc', patience=5, verbose=1)\n",
        "\n",
        "# compile\n",
        "model_a2.compile(optimizer='rmsprop',\n",
        "             loss='binary_crossentropy',\n",
        "             metrics=['accuracy'])\n",
        "history_a2 = model_a2.fit(X_train_nn, y_train,\n",
        "                   epochs=20,\n",
        "                   batch_size=10,\n",
        "                   validation_split=0.1,\n",
        "                   callbacks=[early_stop])"
      ],
      "execution_count": 25,
      "outputs": [
        {
          "output_type": "stream",
          "text": [
            "Train on 1730 samples, validate on 193 samples\n",
            "Epoch 1/20\n",
            "1730/1730 [==============================] - 2s 1ms/step - loss: 0.6913 - acc: 0.5185 - val_loss: 0.6911 - val_acc: 0.5181\n",
            "Epoch 2/20\n",
            "1730/1730 [==============================] - 2s 872us/step - loss: 0.5955 - acc: 0.7289 - val_loss: 0.5413 - val_acc: 0.7565\n",
            "Epoch 3/20\n",
            "1730/1730 [==============================] - 1s 866us/step - loss: 0.3772 - acc: 0.8549 - val_loss: 0.5009 - val_acc: 0.7927\n",
            "Epoch 4/20\n",
            "1730/1730 [==============================] - 2s 867us/step - loss: 0.2601 - acc: 0.9069 - val_loss: 0.5139 - val_acc: 0.8083\n",
            "Epoch 5/20\n",
            "1730/1730 [==============================] - 2s 872us/step - loss: 0.1855 - acc: 0.9364 - val_loss: 0.5866 - val_acc: 0.8135\n",
            "Epoch 6/20\n",
            "1730/1730 [==============================] - 1s 865us/step - loss: 0.1319 - acc: 0.9578 - val_loss: 0.7013 - val_acc: 0.7927\n",
            "Epoch 7/20\n",
            "1730/1730 [==============================] - 2s 878us/step - loss: 0.0959 - acc: 0.9769 - val_loss: 0.7334 - val_acc: 0.8187\n",
            "Epoch 8/20\n",
            "1730/1730 [==============================] - 1s 861us/step - loss: 0.0746 - acc: 0.9786 - val_loss: 0.8364 - val_acc: 0.8290\n",
            "Epoch 9/20\n",
            "1730/1730 [==============================] - 1s 859us/step - loss: 0.0583 - acc: 0.9861 - val_loss: 0.9646 - val_acc: 0.8342\n",
            "Epoch 10/20\n",
            "1730/1730 [==============================] - 1s 860us/step - loss: 0.0430 - acc: 0.9884 - val_loss: 1.1110 - val_acc: 0.8187\n",
            "Epoch 11/20\n",
            "1730/1730 [==============================] - 2s 878us/step - loss: 0.0340 - acc: 0.9936 - val_loss: 1.2288 - val_acc: 0.8135\n",
            "Epoch 12/20\n",
            "1730/1730 [==============================] - 1s 862us/step - loss: 0.0282 - acc: 0.9931 - val_loss: 1.3755 - val_acc: 0.8083\n",
            "Epoch 13/20\n",
            "1730/1730 [==============================] - 2s 884us/step - loss: 0.0304 - acc: 0.9954 - val_loss: 1.5595 - val_acc: 0.8083\n",
            "Epoch 14/20\n",
            "1730/1730 [==============================] - 1s 848us/step - loss: 0.0287 - acc: 0.9913 - val_loss: 1.6956 - val_acc: 0.8187\n",
            "Epoch 00014: early stopping\n"
          ],
          "name": "stdout"
        }
      ]
    },
    {
      "metadata": {
        "id": "1gnrB_wF4iT2",
        "colab_type": "code",
        "colab": {
          "base_uri": "https://localhost:8080/",
          "height": 376
        },
        "outputId": "7a410551-f9bf-42ad-faa2-ade34788094a"
      },
      "cell_type": "code",
      "source": [
        "history_dict_a2 = history_a2.history\n",
        "loss = history_dict_a2['loss']\n",
        "val_loss = history_dict_a2['val_loss']\n",
        "acc = history_dict_a2['acc']\n",
        "val_acc = history_dict_a2['val_acc']\n",
        "\n",
        "epochs = range(1,15)\n",
        "plt.plot(epochs, loss, c='r', label='Training loss')\n",
        "plt.plot(epochs, val_loss, c='b', label='Validation loss')\n",
        "plt.title('Model A2 Training and Validation loss')\n",
        "plt.xlabel('Epochs')\n",
        "plt.ylabel('Loss')\n",
        "plt.legend()\n",
        "plt.show()"
      ],
      "execution_count": 26,
      "outputs": [
        {
          "output_type": "display_data",
          "data": {
            "image/png": "[encoded data removed]",
            "text/plain": [
              "<matplotlib.figure.Figure at 0x7f4f804e8cf8>"
            ]
          },
          "metadata": {
            "tags": []
          }
        }
      ]
    },
    {
      "metadata": {
        "id": "kxTBTUfh4iqg",
        "colab_type": "code",
        "colab": {
          "base_uri": "https://localhost:8080/",
          "height": 376
        },
        "outputId": "80e58aa4-906b-49cc-cd88-65bd64656b70"
      },
      "cell_type": "code",
      "source": [
        "plt.plot(epochs, acc, c='r', label='Training Accuracy')\n",
        "plt.plot(epochs, val_acc, c='b', label='Validation Accuracy')\n",
        "plt.title('Model A2 Training and Validation Accuracy')\n",
        "plt.xlabel('Epochs')\n",
        "plt.ylabel('Accuracy')\n",
        "plt.legend()\n",
        "plt.show()"
      ],
      "execution_count": 27,
      "outputs": [
        {
          "output_type": "display_data",
          "data": {
            "image/png": "[encoded data removed]",
            "text/plain": [
              "<matplotlib.figure.Figure at 0x7f4f893fe5f8>"
            ]
          },
          "metadata": {
            "tags": []
          }
        }
      ]
    },
    {
      "metadata": {
        "id": "U0FgKmXr7NjP",
        "colab_type": "text"
      },
      "cell_type": "markdown",
      "source": [
        "Both Model A and Model A2 got up to 83.42%. They both beat the Logistic Regression model."
      ]
    },
    {
      "metadata": {
        "id": "eVkQ0AQA-P4Q",
        "colab_type": "text"
      },
      "cell_type": "markdown",
      "source": [
        "Now, lets try a different type of architecture: RNN's.\n",
        "\n",
        "Well try using both LSTM and bidirectional LSTMs. For LSTM's, I'll try one with one LSTM layer (Model B) and another with stacked LSTM's layers (Model C). Model D will employ bidirectional LSTM's."
      ]
    },
    {
      "metadata": {
        "id": "aabfvv5i9Bhu",
        "colab_type": "code",
        "colab": {
          "base_uri": "https://localhost:8080/",
          "height": 290
        },
        "outputId": "96f07766-3483-41c7-e04b-efa7bc28449e"
      },
      "cell_type": "code",
      "source": [
        "K.clear_session()\n",
        "# model b: LSTM\n",
        "model_b = Sequential()\n",
        "model_b.add(layers.Embedding(vocab_size, 50))\n",
        "model_b.add(layers.LSTM(64))\n",
        "model_b.add(layers.Dense(10, activation='relu'))\n",
        "model_b.add(layers.Dense(1, activation='sigmoid'))\n",
        "\n",
        "# compile\n",
        "model_b.compile(optimizer='rmsprop',\n",
        "             loss='binary_crossentropy',\n",
        "             metrics=['accuracy'])\n",
        "model_b.summary()"
      ],
      "execution_count": 28,
      "outputs": [
        {
          "output_type": "stream",
          "text": [
            "_________________________________________________________________\n",
            "Layer (type)                 Output Shape              Param #   \n",
            "=================================================================\n",
            "embedding_1 (Embedding)      (None, None, 50)          212200    \n",
            "_________________________________________________________________\n",
            "lstm_1 (LSTM)                (None, 64)                29440     \n",
            "_________________________________________________________________\n",
            "dense_1 (Dense)              (None, 10)                650       \n",
            "_________________________________________________________________\n",
            "dense_2 (Dense)              (None, 1)                 11        \n",
            "=================================================================\n",
            "Total params: 242,301\n",
            "Trainable params: 242,301\n",
            "Non-trainable params: 0\n",
            "_________________________________________________________________\n"
          ],
          "name": "stdout"
        }
      ]
    },
    {
      "metadata": {
        "id": "GlKeECNlAnmW",
        "colab_type": "code",
        "colab": {
          "base_uri": "https://localhost:8080/",
          "height": 419
        },
        "outputId": "5cd736e5-8849-440d-a182-e33689776b5d"
      },
      "cell_type": "code",
      "source": [
        "history_b = model_b.fit(X_train_nn, y_train,\n",
        "                   epochs=10,\n",
        "                   batch_size=10,\n",
        "                   validation_split=0.1)"
      ],
      "execution_count": 29,
      "outputs": [
        {
          "output_type": "stream",
          "text": [
            "Train on 1730 samples, validate on 193 samples\n",
            "Epoch 1/10\n",
            "1730/1730 [==============================] - 45s 26ms/step - loss: 0.6619 - acc: 0.5913 - val_loss: 0.5830 - val_acc: 0.7047\n",
            "Epoch 2/10\n",
            "1730/1730 [==============================] - 44s 26ms/step - loss: 0.4475 - acc: 0.8162 - val_loss: 0.4867 - val_acc: 0.7979\n",
            "Epoch 3/10\n",
            "1730/1730 [==============================] - 45s 26ms/step - loss: 0.2955 - acc: 0.8884 - val_loss: 0.4583 - val_acc: 0.7772\n",
            "Epoch 4/10\n",
            "1730/1730 [==============================] - 44s 25ms/step - loss: 0.2591 - acc: 0.9185 - val_loss: 0.4872 - val_acc: 0.7927\n",
            "Epoch 5/10\n",
            "1730/1730 [==============================] - 44s 25ms/step - loss: 0.1794 - acc: 0.9416 - val_loss: 0.5462 - val_acc: 0.8031\n",
            "Epoch 6/10\n",
            "1730/1730 [==============================] - 44s 26ms/step - loss: 0.1394 - acc: 0.9566 - val_loss: 0.5315 - val_acc: 0.8135\n",
            "Epoch 7/10\n",
            "1730/1730 [==============================] - 43s 25ms/step - loss: 0.1255 - acc: 0.9595 - val_loss: 0.5763 - val_acc: 0.8187\n",
            "Epoch 8/10\n",
            "1730/1730 [==============================] - 43s 25ms/step - loss: 0.0872 - acc: 0.9717 - val_loss: 0.6503 - val_acc: 0.8238\n",
            "Epoch 9/10\n",
            "1730/1730 [==============================] - 43s 25ms/step - loss: 0.0677 - acc: 0.9803 - val_loss: 0.6729 - val_acc: 0.8187\n",
            "Epoch 10/10\n",
            "1730/1730 [==============================] - 44s 25ms/step - loss: 0.0622 - acc: 0.9832 - val_loss: 0.7123 - val_acc: 0.8187\n"
          ],
          "name": "stdout"
        }
      ]
    },
    {
      "metadata": {
        "id": "hDdLCv8ACDl7",
        "colab_type": "code",
        "colab": {
          "base_uri": "https://localhost:8080/",
          "height": 376
        },
        "outputId": "6c977c09-a564-4f7a-e152-4f6750d6d0ac"
      },
      "cell_type": "code",
      "source": [
        "history_dict_b = history_b.history\n",
        "loss = history_dict_b['loss']\n",
        "val_loss = history_dict_b['val_loss']\n",
        "acc = history_dict_b['acc']\n",
        "val_acc = history_dict_b['val_acc']\n",
        "\n",
        "epochs = range(1,11)\n",
        "plt.plot(epochs, loss, c='r', label='Training loss')\n",
        "plt.plot(epochs, val_loss, c='b', label='Validation loss')\n",
        "plt.title('Model B Training and Validation loss')\n",
        "plt.xlabel('Epochs')\n",
        "plt.ylabel('Loss')\n",
        "plt.legend()\n",
        "plt.show()"
      ],
      "execution_count": 30,
      "outputs": [
        {
          "output_type": "display_data",
          "data": {
            "image/png": "[encoded data removed]",
            "text/plain": [
              "<matplotlib.figure.Figure at 0x7f4f6a32d6d8>"
            ]
          },
          "metadata": {
            "tags": []
          }
        }
      ]
    },
    {
      "metadata": {
        "id": "24axaDWWCQCJ",
        "colab_type": "code",
        "colab": {
          "base_uri": "https://localhost:8080/",
          "height": 376
        },
        "outputId": "ee2006b3-1d56-498b-a6cf-bd7824dce645"
      },
      "cell_type": "code",
      "source": [
        "plt.plot(epochs, acc, c='r', label='Training Accuracy')\n",
        "plt.plot(epochs, val_acc, c='b', label='Validation Accuracy')\n",
        "plt.title('Model B Training and Validation Accuracy')\n",
        "plt.xlabel('Epochs')\n",
        "plt.ylabel('Accuracy')\n",
        "plt.legend()\n",
        "plt.show()"
      ],
      "execution_count": 31,
      "outputs": [
        {
          "output_type": "display_data",
          "data": {
            "image/png": "[encoded data removed]",
            "text/plain": [
              "<matplotlib.figure.Figure at 0x7f4f80519710>"
            ]
          },
          "metadata": {
            "tags": []
          }
        }
      ]
    },
    {
      "metadata": {
        "id": "HcgF1GW4CToZ",
        "colab_type": "text"
      },
      "cell_type": "markdown",
      "source": [
        "Our model achieved an accuracy of about 82.38% but it began overfitting around 2 epochs. \n",
        "\n",
        "Now for Model C a stacked LSTM model and then Model D a bidirectional LSTM.\n",
        "\n",
        "This time I will implement early stopping to help fight overfitting - also it helps speed up the process."
      ]
    },
    {
      "metadata": {
        "id": "NwJhrUwqnN9F",
        "colab_type": "code",
        "colab": {
          "base_uri": "https://localhost:8080/",
          "height": 326
        },
        "outputId": "35fb6d0b-575d-429f-d7fc-6b05f4cd040a"
      },
      "cell_type": "code",
      "source": [
        "K.clear_session()\n",
        "# model c: stacked LSTM\n",
        "model_c = Sequential()\n",
        "model_c.add(layers.Embedding(vocab_size, 50))\n",
        "model_c.add(layers.LSTM(32, return_sequences=True))\n",
        "model_c.add(layers.LSTM(16))\n",
        "model_c.add(layers.Dense(10, activation='relu'))\n",
        "model_c.add(layers.Dense(1, activation='sigmoid'))\n",
        "\n",
        "# compile\n",
        "model_c.compile(optimizer='rmsprop',\n",
        "             loss='binary_crossentropy',\n",
        "             metrics=['accuracy'])\n",
        "\n",
        "# early stopping to help with overfitting\n",
        "early_stop = EarlyStopping(monitor='val_acc', patience=5, verbose=1)\n",
        "model_c.summary()"
      ],
      "execution_count": 32,
      "outputs": [
        {
          "output_type": "stream",
          "text": [
            "_________________________________________________________________\n",
            "Layer (type)                 Output Shape              Param #   \n",
            "=================================================================\n",
            "embedding_1 (Embedding)      (None, None, 50)          212200    \n",
            "_________________________________________________________________\n",
            "lstm_1 (LSTM)                (None, None, 32)          10624     \n",
            "_________________________________________________________________\n",
            "lstm_2 (LSTM)                (None, 16)                3136      \n",
            "_________________________________________________________________\n",
            "dense_1 (Dense)              (None, 10)                170       \n",
            "_________________________________________________________________\n",
            "dense_2 (Dense)              (None, 1)                 11        \n",
            "=================================================================\n",
            "Total params: 226,141\n",
            "Trainable params: 226,141\n",
            "Non-trainable params: 0\n",
            "_________________________________________________________________\n"
          ],
          "name": "stdout"
        }
      ]
    },
    {
      "metadata": {
        "id": "rTnrs6-2qvWa",
        "colab_type": "code",
        "colab": {
          "base_uri": "https://localhost:8080/",
          "height": 419
        },
        "outputId": "77aec523-a161-4cf4-95a5-be4039e3ec39"
      },
      "cell_type": "code",
      "source": [
        "history_c = model_c.fit(X_train_nn, y_train,\n",
        "                   epochs=10,\n",
        "                   batch_size=10,\n",
        "                   validation_split=0.1,\n",
        "                   callbacks=[early_stop])"
      ],
      "execution_count": 33,
      "outputs": [
        {
          "output_type": "stream",
          "text": [
            "Train on 1730 samples, validate on 193 samples\n",
            "Epoch 1/10\n",
            "1730/1730 [==============================] - 85s 49ms/step - loss: 0.6770 - acc: 0.5699 - val_loss: 0.6427 - val_acc: 0.6321\n",
            "Epoch 2/10\n",
            "1730/1730 [==============================] - 85s 49ms/step - loss: 0.4875 - acc: 0.7850 - val_loss: 0.4889 - val_acc: 0.7358\n",
            "Epoch 3/10\n",
            "1730/1730 [==============================] - 84s 49ms/step - loss: 0.3093 - acc: 0.8803 - val_loss: 0.4540 - val_acc: 0.7824\n",
            "Epoch 4/10\n",
            "1730/1730 [==============================] - 85s 49ms/step - loss: 0.2171 - acc: 0.9254 - val_loss: 0.4799 - val_acc: 0.7927\n",
            "Epoch 5/10\n",
            "1730/1730 [==============================] - 85s 49ms/step - loss: 0.1680 - acc: 0.9462 - val_loss: 0.5210 - val_acc: 0.7979\n",
            "Epoch 6/10\n",
            "1730/1730 [==============================] - 84s 48ms/step - loss: 0.1392 - acc: 0.9590 - val_loss: 0.5325 - val_acc: 0.7979\n",
            "Epoch 7/10\n",
            "1730/1730 [==============================] - 84s 48ms/step - loss: 0.1158 - acc: 0.9636 - val_loss: 0.5346 - val_acc: 0.8031\n",
            "Epoch 8/10\n",
            "1730/1730 [==============================] - 83s 48ms/step - loss: 0.0983 - acc: 0.9676 - val_loss: 0.5907 - val_acc: 0.8342\n",
            "Epoch 9/10\n",
            "1730/1730 [==============================] - 85s 49ms/step - loss: 0.0915 - acc: 0.9786 - val_loss: 0.6229 - val_acc: 0.8031\n",
            "Epoch 10/10\n",
            "1730/1730 [==============================] - 83s 48ms/step - loss: 0.0802 - acc: 0.9769 - val_loss: 0.6727 - val_acc: 0.8290\n"
          ],
          "name": "stdout"
        }
      ]
    },
    {
      "metadata": {
        "id": "tH8lt_jvvTIm",
        "colab_type": "code",
        "colab": {
          "base_uri": "https://localhost:8080/",
          "height": 376
        },
        "outputId": "63e73a5f-2946-47aa-d89b-85ceff5558cb"
      },
      "cell_type": "code",
      "source": [
        "history_dict_c = history_c.history\n",
        "loss = history_dict_c['loss']\n",
        "val_loss = history_dict_c['val_loss']\n",
        "acc = history_dict_c['acc']\n",
        "val_acc = history_dict_c['val_acc']\n",
        "\n",
        "epochs = range(1,11)\n",
        "plt.plot(epochs, loss, c='r', label='Training loss')\n",
        "plt.plot(epochs, val_loss, c='b', label='Validation loss')\n",
        "plt.title('Model C Training and Validation loss')\n",
        "plt.xlabel('Epochs')\n",
        "plt.ylabel('Loss')\n",
        "plt.legend()\n",
        "plt.show()"
      ],
      "execution_count": 34,
      "outputs": [
        {
          "output_type": "display_data",
          "data": {
            "image/png": "[encoded data removed]",
            "text/plain": [
              "<matplotlib.figure.Figure at 0x7f4f66599160>"
            ]
          },
          "metadata": {
            "tags": []
          }
        }
      ]
    },
    {
      "metadata": {
        "id": "ZHlsrCzHvgiN",
        "colab_type": "code",
        "colab": {
          "base_uri": "https://localhost:8080/",
          "height": 376
        },
        "outputId": "4719c56b-648d-45ea-c8a7-e5b2b012a5f9"
      },
      "cell_type": "code",
      "source": [
        "plt.plot(epochs, acc, c='r', label='Training Accuracy')\n",
        "plt.plot(epochs, val_acc, c='b', label='Validation Accuracy')\n",
        "plt.title('Model C Training and Validation Accuracy')\n",
        "plt.xlabel('Epochs')\n",
        "plt.ylabel('Accuracy')\n",
        "plt.legend()\n",
        "plt.show()"
      ],
      "execution_count": 35,
      "outputs": [
        {
          "output_type": "display_data",
          "data": {
            "image/png": "[encoded data removed]",
            "text/plain": [
              "<matplotlib.figure.Figure at 0x7f4f665947f0>"
            ]
          },
          "metadata": {
            "tags": []
          }
        }
      ]
    },
    {
      "metadata": {
        "id": "5d1W1M3CvG20",
        "colab_type": "text"
      },
      "cell_type": "markdown",
      "source": [
        "The stacked LSTM model got up to 83.43% accuracy. Now lets try a Bidirectional LSTM.\n"
      ]
    },
    {
      "metadata": {
        "id": "8OvPvrZzCy2I",
        "colab_type": "code",
        "colab": {
          "base_uri": "https://localhost:8080/",
          "height": 290
        },
        "outputId": "ee0f177a-1dd0-48af-bd98-591e408ce4fc"
      },
      "cell_type": "code",
      "source": [
        "# bidirectional LSTM\n",
        "K.clear_session()\n",
        "\n",
        "model_d = Sequential()\n",
        "model_d.add(layers.Embedding(vocab_size, 50))\n",
        "model_d.add(layers.Bidirectional(layers.LSTM(64)))\n",
        "model_d.add(layers.Dense(10, activation='relu'))\n",
        "model_d.add(layers.Dense(1, activation='sigmoid'))\n",
        "\n",
        "# compile\n",
        "model_d.compile(optimizer='rmsprop',\n",
        "             loss='binary_crossentropy',\n",
        "             metrics=['accuracy'])\n",
        "\n",
        "early_stop = EarlyStopping(monitor='val_acc', patience=5, verbose=1)\n",
        "model_d.summary()"
      ],
      "execution_count": 36,
      "outputs": [
        {
          "output_type": "stream",
          "text": [
            "_________________________________________________________________\n",
            "Layer (type)                 Output Shape              Param #   \n",
            "=================================================================\n",
            "embedding_1 (Embedding)      (None, None, 50)          212200    \n",
            "_________________________________________________________________\n",
            "bidirectional_1 (Bidirection (None, 128)               58880     \n",
            "_________________________________________________________________\n",
            "dense_1 (Dense)              (None, 10)                1290      \n",
            "_________________________________________________________________\n",
            "dense_2 (Dense)              (None, 1)                 11        \n",
            "=================================================================\n",
            "Total params: 272,381\n",
            "Trainable params: 272,381\n",
            "Non-trainable params: 0\n",
            "_________________________________________________________________\n"
          ],
          "name": "stdout"
        }
      ]
    },
    {
      "metadata": {
        "id": "x83VS5iVDKEP",
        "colab_type": "code",
        "colab": {
          "base_uri": "https://localhost:8080/",
          "height": 419
        },
        "outputId": "34a06448-30ee-4751-c974-cd86a8f5b6f4"
      },
      "cell_type": "code",
      "source": [
        "history_d = model_d.fit(X_train_nn, y_train,\n",
        "                   epochs=10,\n",
        "                   batch_size=10,\n",
        "                   validation_split=0.1,\n",
        "                   callbacks=[early_stop])"
      ],
      "execution_count": 37,
      "outputs": [
        {
          "output_type": "stream",
          "text": [
            "Train on 1730 samples, validate on 193 samples\n",
            "Epoch 1/10\n",
            "1730/1730 [==============================] - 84s 49ms/step - loss: 0.6916 - acc: 0.5867 - val_loss: 0.5664 - val_acc: 0.7098\n",
            "Epoch 2/10\n",
            "1730/1730 [==============================] - 81s 47ms/step - loss: 0.4870 - acc: 0.8081 - val_loss: 0.4638 - val_acc: 0.7979\n",
            "Epoch 3/10\n",
            "1730/1730 [==============================] - 82s 48ms/step - loss: 0.2703 - acc: 0.9017 - val_loss: 0.4607 - val_acc: 0.8031\n",
            "Epoch 4/10\n",
            "1730/1730 [==============================] - 81s 47ms/step - loss: 0.2391 - acc: 0.9335 - val_loss: 0.5362 - val_acc: 0.8238\n",
            "Epoch 5/10\n",
            "1730/1730 [==============================] - 82s 47ms/step - loss: 0.1621 - acc: 0.9439 - val_loss: 0.4907 - val_acc: 0.7927\n",
            "Epoch 6/10\n",
            "1730/1730 [==============================] - 81s 47ms/step - loss: 0.1394 - acc: 0.9578 - val_loss: 0.5392 - val_acc: 0.8031\n",
            "Epoch 7/10\n",
            "1730/1730 [==============================] - 82s 47ms/step - loss: 0.1256 - acc: 0.9607 - val_loss: 0.6081 - val_acc: 0.8238\n",
            "Epoch 8/10\n",
            "1730/1730 [==============================] - 80s 47ms/step - loss: 0.0908 - acc: 0.9757 - val_loss: 0.6731 - val_acc: 0.8083\n",
            "Epoch 9/10\n",
            "1730/1730 [==============================] - 81s 47ms/step - loss: 0.0748 - acc: 0.9751 - val_loss: 0.6417 - val_acc: 0.8290\n",
            "Epoch 10/10\n",
            "1730/1730 [==============================] - 83s 48ms/step - loss: 0.0627 - acc: 0.9815 - val_loss: 0.8245 - val_acc: 0.8135\n"
          ],
          "name": "stdout"
        }
      ]
    },
    {
      "metadata": {
        "id": "cHqJb5BZDRGu",
        "colab_type": "code",
        "colab": {
          "base_uri": "https://localhost:8080/",
          "height": 376
        },
        "outputId": "541937ca-d6ed-4911-da9b-f07c7509370f"
      },
      "cell_type": "code",
      "source": [
        "history_dict_d = history_d.history\n",
        "loss = history_dict_d['loss']\n",
        "val_loss = history_dict_d['val_loss']\n",
        "acc = history_dict_d['acc']\n",
        "val_acc = history_dict_d['val_acc']\n",
        "\n",
        "epochs = range(1,11)\n",
        "plt.plot(epochs, loss, c='r', label='Training loss')\n",
        "plt.plot(epochs, val_loss, c='b', label='Validation loss')\n",
        "plt.title('Model D Training and Validation loss')\n",
        "plt.xlabel('Epochs')\n",
        "plt.ylabel('Loss')\n",
        "plt.legend()\n",
        "plt.show()"
      ],
      "execution_count": 38,
      "outputs": [
        {
          "output_type": "display_data",
          "data": {
            "image/png": "[encoded data removed]",
            "text/plain": [
              "<matplotlib.figure.Figure at 0x7f4f61f717b8>"
            ]
          },
          "metadata": {
            "tags": []
          }
        }
      ]
    },
    {
      "metadata": {
        "id": "LTkA04iiDRU7",
        "colab_type": "code",
        "colab": {
          "base_uri": "https://localhost:8080/",
          "height": 376
        },
        "outputId": "dda811c1-48bf-4f64-d13e-60f2dc85097e"
      },
      "cell_type": "code",
      "source": [
        "plt.plot(epochs, acc, c='r', label='Training Accuracy')\n",
        "plt.plot(epochs, val_acc, c='b', label='Validation Accuracy')\n",
        "plt.title('Model D Training and Validation Accuracy')\n",
        "plt.xlabel('Epochs')\n",
        "plt.ylabel('Accuracy')\n",
        "plt.legend()\n",
        "plt.show()"
      ],
      "execution_count": 39,
      "outputs": [
        {
          "output_type": "display_data",
          "data": {
            "image/png": "[encoded data removed]",
            "text/plain": [
              "<matplotlib.figure.Figure at 0x7f4f61f54d68>"
            ]
          },
          "metadata": {
            "tags": []
          }
        }
      ]
    },
    {
      "metadata": {
        "id": "qhcfA1V7F2ub",
        "colab_type": "text"
      },
      "cell_type": "markdown",
      "source": [
        "### Summary\n",
        "\n",
        "Out of all of our deep models, Models A and A2 (CNN architecture) had the highest validation accuracies\n",
        "\n",
        "This tells us that adding complexity isnt necessarily making better predictions. To finish up this project well not try optimizing our best models. As of now, the CNN models had the best validation accuracy, so we will try to optimize both Model A and A2 using randomized grid search. It takes a while, so wait a bit to see the results. "
      ]
    },
    {
      "metadata": {
        "id": "4gPCNb1flquI",
        "colab_type": "text"
      },
      "cell_type": "markdown",
      "source": [
        "\n",
        "\n",
        "### Hyperparameter optimization\n",
        "\n",
        "In order to use grid search we have to wrap our model in a sklearn wrapper using KerasClassifier. We also need to a build a function that builds the model for us. That function will then be passed into the KerasClassifier function, which is then input to the grid search function."
      ]
    },
    {
      "metadata": {
        "id": "NS6lWv-kw13U",
        "colab_type": "code",
        "colab": {}
      },
      "cell_type": "code",
      "source": [
        "# build function for model A\n",
        "def build_model_a(num_filters, \n",
        "                kernel_size, \n",
        "                vocab_size, \n",
        "                embedding_dim, \n",
        "                lr):\n",
        "  model = Sequential()\n",
        "  model.add(layers.Embedding(vocab_size, embedding_dim))\n",
        "  model.add(layers.Conv1D(num_filters, embedding_dim, activation='relu'))\n",
        "  model.add(layers.GlobalMaxPooling1D())\n",
        "  model.add(layers.Dense(10, activation='relu'))\n",
        "  model.add(layers.Dense(1, activation='sigmoid'))\n",
        "  \n",
        "  model.compile(optimizer=RMSprop(lr=lr),\n",
        "             loss='binary_crossentropy',\n",
        "             metrics=['accuracy'])\n",
        "  return model"
      ],
      "execution_count": 0,
      "outputs": []
    },
    {
      "metadata": {
        "id": "ynzcThSVdFyS",
        "colab_type": "code",
        "colab": {}
      },
      "cell_type": "code",
      "source": [
        "# set up parameter grid for A\n",
        "param_grid_a = dict(num_filters=[32, 64, 128],\n",
        "                  kernel_size=[3, 5, 7],\n",
        "                  vocab_size=[5000], \n",
        "                  embedding_dim=[32,48,50],\n",
        "                  lr=[0.0001, 0.001, 0.01, 0.10])"
      ],
      "execution_count": 0,
      "outputs": []
    },
    {
      "metadata": {
        "id": "7oBz-CoDdG8l",
        "colab_type": "code",
        "colab": {
          "base_uri": "https://localhost:8080/",
          "height": 128
        },
        "outputId": "8d10fa27-8c4d-458b-8c9b-1f7d84595dfa"
      },
      "cell_type": "code",
      "source": [
        "# grid search for model A\n",
        "cnn = KerasClassifier(build_fn=build_model_a,\n",
        "                            epochs=10, batch_size=10,\n",
        "                            verbose=False)\n",
        "grid2 = RandomizedSearchCV(estimator=cnn,\n",
        "                           param_distributions=param_grid_a,\n",
        "                           cv=kfold,\n",
        "                           verbose=1,\n",
        "                           scoring='accuracy',\n",
        "                          n_iter=10,\n",
        "                          n_jobs=-1)\n",
        "grid_result2 = grid2.fit(X_train_nn, y_train)"
      ],
      "execution_count": 55,
      "outputs": [
        {
          "output_type": "stream",
          "text": [
            "Fitting 3 folds for each of 10 candidates, totalling 30 fits\n"
          ],
          "name": "stdout"
        },
        {
          "output_type": "stream",
          "text": [
            "[Parallel(n_jobs=-1)]: Using backend LokyBackend with 2 concurrent workers.\n",
            "/usr/local/lib/python3.6/dist-packages/sklearn/externals/joblib/externals/loky/process_executor.py:706: UserWarning: A worker stopped while some jobs were given to the executor. This can be caused by a too short worker timeout or by a memory leak.\n",
            "  \"timeout or by a memory leak.\", UserWarning\n",
            "[Parallel(n_jobs=-1)]: Done  30 out of  30 | elapsed:  4.7min finished\n"
          ],
          "name": "stderr"
        }
      ]
    },
    {
      "metadata": {
        "id": "qCzsJ-6mef_c",
        "colab_type": "code",
        "colab": {
          "base_uri": "https://localhost:8080/",
          "height": 108
        },
        "outputId": "3aeabc54-8154-4712-c574-2ecfc8b998e2"
      },
      "cell_type": "code",
      "source": [
        "grid_result2.best_params_"
      ],
      "execution_count": 57,
      "outputs": [
        {
          "output_type": "execute_result",
          "data": {
            "text/plain": [
              "{'embedding_dim': 32,\n",
              " 'kernel_size': 3,\n",
              " 'lr': 0.001,\n",
              " 'num_filters': 32,\n",
              " 'vocab_size': 5000}"
            ]
          },
          "metadata": {
            "tags": []
          },
          "execution_count": 57
        }
      ]
    },
    {
      "metadata": {
        "id": "V2wEoz5ne0v6",
        "colab_type": "code",
        "colab": {
          "base_uri": "https://localhost:8080/",
          "height": 35
        },
        "outputId": "98de8dee-8ee4-4b29-aab6-63063449f3aa"
      },
      "cell_type": "code",
      "source": [
        "grid_result2.best_score_"
      ],
      "execution_count": 58,
      "outputs": [
        {
          "output_type": "execute_result",
          "data": {
            "text/plain": [
              "0.8049921996879875"
            ]
          },
          "metadata": {
            "tags": []
          },
          "execution_count": 58
        }
      ]
    },
    {
      "metadata": {
        "id": "koPQrpe_fPLm",
        "colab_type": "code",
        "colab": {}
      },
      "cell_type": "code",
      "source": [
        "# build function for model A2\n",
        "def build_model_a2(num_filters, \n",
        "                kernel_size, \n",
        "                vocab_size, \n",
        "                embedding_dim, \n",
        "                lr):\n",
        "  model = Sequential()\n",
        "  model.add(layers.Embedding(vocab_size, embedding_dim))\n",
        "  model.add(layers.Conv1D(num_filters, kernel_size, activation='relu'))\n",
        "  model.add(layers.MaxPooling1D())\n",
        "  model.add(layers.Conv1D(num_filters, kernel_size, activation='relu'))\n",
        "  model.add(layers.GlobalMaxPooling1D())\n",
        "  model.add(layers.Dense(10, activation='relu'))\n",
        "  model.add(layers.Dropout(0.25))\n",
        "  model.add(layers.Dense(1, activation='sigmoid'))\n",
        "  \n",
        "  model.compile(optimizer=RMSprop(lr=lr),\n",
        "             loss='binary_crossentropy',\n",
        "             metrics=['accuracy'])\n",
        "  return model\n"
      ],
      "execution_count": 0,
      "outputs": []
    },
    {
      "metadata": {
        "id": "D4UddnetfPTn",
        "colab_type": "code",
        "colab": {}
      },
      "cell_type": "code",
      "source": [
        "# set up parameter grid for A2\n",
        "param_grid_a2 = dict(num_filters=[32, 64, 128],\n",
        "                  kernel_size=[3, 5, 7],\n",
        "                  vocab_size=[5000], \n",
        "                  embedding_dim=[32,48,50],\n",
        "                  lr=[0.0001, 0.001, 0.01, 0.10])"
      ],
      "execution_count": 0,
      "outputs": []
    },
    {
      "metadata": {
        "id": "FIx9SuYlfPYh",
        "colab_type": "code",
        "colab": {
          "base_uri": "https://localhost:8080/",
          "height": 128
        },
        "outputId": "7f479db0-dd81-4925-ac8d-f8430def41fd"
      },
      "cell_type": "code",
      "source": [
        "# grid search for model A\n",
        "cnn2 = KerasClassifier(build_fn=build_model_a2,\n",
        "                            epochs=10, batch_size=10,\n",
        "                            verbose=False)\n",
        "grid3 = RandomizedSearchCV(estimator=cnn2,\n",
        "                           param_distributions=param_grid_a2,\n",
        "                           cv=kfold,\n",
        "                           verbose=1,\n",
        "                           scoring='accuracy',\n",
        "                          n_iter=10,\n",
        "                          n_jobs=-1)\n",
        "grid_result3 = grid3.fit(X_train_nn, y_train)"
      ],
      "execution_count": 62,
      "outputs": [
        {
          "output_type": "stream",
          "text": [
            "Fitting 3 folds for each of 10 candidates, totalling 30 fits\n"
          ],
          "name": "stdout"
        },
        {
          "output_type": "stream",
          "text": [
            "[Parallel(n_jobs=-1)]: Using backend LokyBackend with 2 concurrent workers.\n",
            "/usr/local/lib/python3.6/dist-packages/sklearn/externals/joblib/externals/loky/process_executor.py:706: UserWarning: A worker stopped while some jobs were given to the executor. This can be caused by a too short worker timeout or by a memory leak.\n",
            "  \"timeout or by a memory leak.\", UserWarning\n",
            "[Parallel(n_jobs=-1)]: Done  30 out of  30 | elapsed:  5.4min finished\n"
          ],
          "name": "stderr"
        }
      ]
    },
    {
      "metadata": {
        "id": "p49XkEbQfPdX",
        "colab_type": "code",
        "colab": {
          "base_uri": "https://localhost:8080/",
          "height": 108
        },
        "outputId": "c06b17cf-e1b0-4faf-a83f-d6ce02702d9f"
      },
      "cell_type": "code",
      "source": [
        "grid_result3.best_params_"
      ],
      "execution_count": 63,
      "outputs": [
        {
          "output_type": "execute_result",
          "data": {
            "text/plain": [
              "{'embedding_dim': 50,\n",
              " 'kernel_size': 3,\n",
              " 'lr': 0.001,\n",
              " 'num_filters': 32,\n",
              " 'vocab_size': 5000}"
            ]
          },
          "metadata": {
            "tags": []
          },
          "execution_count": 63
        }
      ]
    },
    {
      "metadata": {
        "id": "PTa51iGygreF",
        "colab_type": "code",
        "colab": {
          "base_uri": "https://localhost:8080/",
          "height": 35
        },
        "outputId": "1e12d85f-8baf-4727-ec1c-7ed766bf797d"
      },
      "cell_type": "code",
      "source": [
        "grid_result3.best_score_"
      ],
      "execution_count": 64,
      "outputs": [
        {
          "output_type": "execute_result",
          "data": {
            "text/plain": [
              "0.7997919916796672"
            ]
          },
          "metadata": {
            "tags": []
          },
          "execution_count": 64
        }
      ]
    },
    {
      "metadata": {
        "id": "OpFxHfOAheXi",
        "colab_type": "text"
      },
      "cell_type": "markdown",
      "source": [
        "# Best Models \n",
        "\n",
        "- Logistic Regression with a best validation accuracy of 83.03%\n",
        "- CNN with 1 convolutional layer with a best validation accuracy of 83.42%\n",
        "- CNN with 2 convolutional layers with a best validation accuracy of 83.42%\n",
        "\n",
        "\n",
        "The deep models got the highest the accuracies, but not by much and also required a lot of computational power, "
      ]
    },
    {
      "metadata": {
        "id": "Zd1nMAsnhdvZ",
        "colab_type": "code",
        "colab": {
          "base_uri": "https://localhost:8080/",
          "height": 90
        },
        "outputId": "32411cf6-1f38-4a86-d857-7a242d7c77e9"
      },
      "cell_type": "code",
      "source": [
        "best_lr"
      ],
      "execution_count": 65,
      "outputs": [
        {
          "output_type": "execute_result",
          "data": {
            "text/plain": [
              "LogisticRegression(C=10, class_weight=None, dual=False, fit_intercept=True,\n",
              "          intercept_scaling=1, max_iter=100, multi_class='warn',\n",
              "          n_jobs=None, penalty='l2', random_state=0, solver='warn',\n",
              "          tol=0.0001, verbose=0, warm_start=False)"
            ]
          },
          "metadata": {
            "tags": []
          },
          "execution_count": 65
        }
      ]
    },
    {
      "metadata": {
        "id": "L7P5IFVZhpEG",
        "colab_type": "code",
        "colab": {
          "base_uri": "https://localhost:8080/",
          "height": 108
        },
        "outputId": "fa97d4aa-3257-457f-f060-f4a707de7ab4"
      },
      "cell_type": "code",
      "source": [
        "grid_result2.best_params_\n"
      ],
      "execution_count": 68,
      "outputs": [
        {
          "output_type": "execute_result",
          "data": {
            "text/plain": [
              "{'embedding_dim': 32,\n",
              " 'kernel_size': 3,\n",
              " 'lr': 0.001,\n",
              " 'num_filters': 32,\n",
              " 'vocab_size': 5000}"
            ]
          },
          "metadata": {
            "tags": []
          },
          "execution_count": 68
        }
      ]
    },
    {
      "metadata": {
        "id": "KRgEEhxJhrTv",
        "colab_type": "code",
        "colab": {
          "base_uri": "https://localhost:8080/",
          "height": 108
        },
        "outputId": "cc9e5d94-3703-4995-ae21-a6b32d7369d3"
      },
      "cell_type": "code",
      "source": [
        "grid_result3.best_params_"
      ],
      "execution_count": 70,
      "outputs": [
        {
          "output_type": "execute_result",
          "data": {
            "text/plain": [
              "{'embedding_dim': 50,\n",
              " 'kernel_size': 3,\n",
              " 'lr': 0.001,\n",
              " 'num_filters': 32,\n",
              " 'vocab_size': 5000}"
            ]
          },
          "metadata": {
            "tags": []
          },
          "execution_count": 70
        }
      ]
    },
    {
      "metadata": {
        "id": "-8SDN8MQnf6p",
        "colab_type": "text"
      },
      "cell_type": "markdown",
      "source": [
        "# Final Evaluation of Both Shallow and Deep Models\n",
        "\n",
        "Lets now construct our final models and evaluate them on the test set. From our deeper models well go with Model A - using the hyperparameters found during the randomized grid search. Well then do the same for our best logistic regression model. "
      ]
    },
    {
      "metadata": {
        "id": "b3wkK7GInenB",
        "colab_type": "code",
        "colab": {
          "base_uri": "https://localhost:8080/",
          "height": 326
        },
        "outputId": "74a2d1fe-850c-43e2-8ead-690b19f4d784"
      },
      "cell_type": "code",
      "source": [
        "# build final CNN and evaluate\n",
        "K.clear_session()\n",
        "\n",
        "final_model = Sequential()\n",
        "final_model.add(layers.Embedding(5000, 32, input_length=maxlen))\n",
        "final_model.add(layers.Conv1D(32, 3, activation='relu'))\n",
        "final_model.add(layers.GlobalMaxPooling1D())\n",
        "final_model.add(layers.Dense(10, activation='relu'))\n",
        "final_model.add(layers.Dense(1, activation='sigmoid'))\n",
        "\n",
        "# compile\n",
        "final_model.compile(optimizer=RMSprop(lr=0.001),\n",
        "             loss='binary_crossentropy',\n",
        "             metrics=['accuracy'])\n",
        "final_model.summary()"
      ],
      "execution_count": 78,
      "outputs": [
        {
          "output_type": "stream",
          "text": [
            "_________________________________________________________________\n",
            "Layer (type)                 Output Shape              Param #   \n",
            "=================================================================\n",
            "embedding_1 (Embedding)      (None, 100, 32)           160000    \n",
            "_________________________________________________________________\n",
            "conv1d_1 (Conv1D)            (None, 98, 32)            3104      \n",
            "_________________________________________________________________\n",
            "global_max_pooling1d_1 (Glob (None, 32)                0         \n",
            "_________________________________________________________________\n",
            "dense_1 (Dense)              (None, 10)                330       \n",
            "_________________________________________________________________\n",
            "dense_2 (Dense)              (None, 1)                 11        \n",
            "=================================================================\n",
            "Total params: 163,445\n",
            "Trainable params: 163,445\n",
            "Non-trainable params: 0\n",
            "_________________________________________________________________\n"
          ],
          "name": "stdout"
        }
      ]
    },
    {
      "metadata": {
        "id": "tWOmHCCshtLn",
        "colab_type": "code",
        "colab": {
          "base_uri": "https://localhost:8080/",
          "height": 581
        },
        "outputId": "674b66cb-b53c-4476-ab5f-de37ed1dd195"
      },
      "cell_type": "code",
      "source": [
        "final_model.fit(X_train_nn, y_train, epochs=15, batch_size=15)"
      ],
      "execution_count": 80,
      "outputs": [
        {
          "output_type": "stream",
          "text": [
            "Epoch 1/15\n",
            "1923/1923 [==============================] - 1s 494us/step - loss: 0.0499 - acc: 0.9844\n",
            "Epoch 2/15\n",
            "1923/1923 [==============================] - 1s 437us/step - loss: 0.0396 - acc: 0.9860\n",
            "Epoch 3/15\n",
            "1923/1923 [==============================] - 1s 462us/step - loss: 0.0285 - acc: 0.9912\n",
            "Epoch 4/15\n",
            "1923/1923 [==============================] - 1s 523us/step - loss: 0.0211 - acc: 0.9953\n",
            "Epoch 5/15\n",
            "1923/1923 [==============================] - 1s 518us/step - loss: 0.0153 - acc: 0.9984\n",
            "Epoch 6/15\n",
            "1923/1923 [==============================] - 1s 519us/step - loss: 0.0115 - acc: 0.9979\n",
            "Epoch 7/15\n",
            "1923/1923 [==============================] - 1s 511us/step - loss: 0.0086 - acc: 0.9990\n",
            "Epoch 8/15\n",
            "1923/1923 [==============================] - 1s 514us/step - loss: 0.0072 - acc: 0.9990\n",
            "Epoch 9/15\n",
            "1923/1923 [==============================] - 1s 521us/step - loss: 0.0066 - acc: 0.9990\n",
            "Epoch 10/15\n",
            "1923/1923 [==============================] - 1s 518us/step - loss: 0.0045 - acc: 0.9995\n",
            "Epoch 11/15\n",
            "1923/1923 [==============================] - 1s 518us/step - loss: 0.0043 - acc: 0.9995\n",
            "Epoch 12/15\n",
            "1923/1923 [==============================] - 1s 523us/step - loss: 0.0034 - acc: 0.9995\n",
            "Epoch 13/15\n",
            "1923/1923 [==============================] - 1s 518us/step - loss: 0.0037 - acc: 0.9995\n",
            "Epoch 14/15\n",
            "1923/1923 [==============================] - 1s 523us/step - loss: 0.0035 - acc: 0.9995\n",
            "Epoch 15/15\n",
            "1923/1923 [==============================] - 1s 521us/step - loss: 0.0022 - acc: 0.9995\n"
          ],
          "name": "stdout"
        },
        {
          "output_type": "execute_result",
          "data": {
            "text/plain": [
              "<keras.callbacks.History at 0x7f4f5daf2128>"
            ]
          },
          "metadata": {
            "tags": []
          },
          "execution_count": 80
        }
      ]
    },
    {
      "metadata": {
        "id": "wIse6Po2qNiG",
        "colab_type": "code",
        "colab": {
          "base_uri": "https://localhost:8080/",
          "height": 72
        },
        "outputId": "364d2cd8-2f4c-4204-a93b-4128aff101a5"
      },
      "cell_type": "code",
      "source": [
        "test_loss, test_acc = final_model.evaluate(X_test_nn, y_test)\n",
        "print('Test loss:', test_loss)\n",
        "print('Test accuracy:', test_acc)"
      ],
      "execution_count": 81,
      "outputs": [
        {
          "output_type": "stream",
          "text": [
            "825/825 [==============================] - 0s 120us/step\n",
            "Test loss: 1.2017212315761683\n",
            "Test accuracy: 0.8012121204173926\n"
          ],
          "name": "stdout"
        }
      ]
    },
    {
      "metadata": {
        "id": "4oRdJislqucQ",
        "colab_type": "code",
        "colab": {
          "base_uri": "https://localhost:8080/",
          "height": 35
        },
        "outputId": "19e444fb-2a9b-4894-c25d-9fe70781786a"
      },
      "cell_type": "code",
      "source": [
        "# best logistic regression final evaluation\n",
        "best_lr.score(X_test_vec, y_test)"
      ],
      "execution_count": 82,
      "outputs": [
        {
          "output_type": "execute_result",
          "data": {
            "text/plain": [
              "0.8303030303030303"
            ]
          },
          "metadata": {
            "tags": []
          },
          "execution_count": 82
        }
      ]
    },
    {
      "metadata": {
        "id": "0jvLQ6-msZUP",
        "colab_type": "text"
      },
      "cell_type": "markdown",
      "source": [
        "# Final Summary\n",
        "\n",
        "Our best model ended up being a simple Logistic Regression with some regularization. While our score isn't that great, its a decent starting point. Something also to consider is the amount of data we used. With more data, the neural networks could have performed better. And we could also continue to experiment, trying different deep architectures, and maybe some other shallow models - e.g. XGBoost - but for the sake of this notebook we will not proceed any further.\n",
        "\n",
        "If you have questions, please feel free to contact me at:\n",
        "aponted511@gmail.com\n",
        "\n",
        "Thank you!"
      ]
    },
    {
      "metadata": {
        "id": "R1kcN8uNtAMx",
        "colab_type": "code",
        "colab": {}
      },
      "cell_type": "code",
      "source": [
        ""
      ],
      "execution_count": 0,
      "outputs": []
    }
  ]
}